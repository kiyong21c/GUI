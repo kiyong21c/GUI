{
  "cells": [
    {
      "cell_type": "markdown",
      "metadata": {
        "id": "view-in-github",
        "colab_type": "text"
      },
      "source": [
        "<a href=\"https://colab.research.google.com/github/kiyong21c/nadocoding/blob/master/20211217_crawling%2Bmatplotlib.ipynb\" target=\"_parent\"><img src=\"https://colab.research.google.com/assets/colab-badge.svg\" alt=\"Open In Colab\"/></a>"
      ]
    },
    {
      "cell_type": "code",
      "source": [
        "import pandas as pd\n",
        "import numpy as np\n",
        "import matplotlib.pyplot as plt\n",
        "import seaborn as sns\n",
        "import urllib.request #웹에 접근하기 위한 모듈\n",
        "from bs4 import BeautifulSoup as bs "
      ],
      "metadata": {
        "id": "NMvNWo-XvvFP"
      },
      "execution_count": 75,
      "outputs": []
    },
    {
      "cell_type": "code",
      "source": [
        "def get_font_family():\n",
        "    \"\"\"\n",
        "    시스템 환경에 따른 기본 폰트명을 반환하는 함수\n",
        "    \"\"\"\n",
        "    import platform\n",
        "    system_name = platform.system()\n",
        "    # colab 사용자는 system_name이 'Linux'로 확인\n",
        "\n",
        "    if system_name == \"Darwin\" :\n",
        "        font_family = \"AppleGothic\"\n",
        "    elif system_name == \"Windows\":\n",
        "        font_family = \"Malgun Gothic\"\n",
        "    else:\n",
        "    # Linux\n",
        "        !apt-get install fonts-nanum -qq  > /dev/null\n",
        "        !fc-cache -fv\n",
        "\n",
        "        import matplotlib as mpl\n",
        "        mpl.font_manager._rebuild()\n",
        "        findfont = mpl.font_manager.fontManager.findfont\n",
        "        mpl.font_manager.findfont = findfont\n",
        "        mpl.backends.backend_agg.findfont = findfont\n",
        "        \n",
        "        font_family = \"NanumBarunGothic\"\n",
        "    return font_family\n",
        "\n",
        "plt.rc(\"font\", family=get_font_family())"
      ],
      "metadata": {
        "colab": {
          "base_uri": "https://localhost:8080/"
        },
        "id": "-FNUoHMK2gQ9",
        "outputId": "71683604-2319-43df-9cef-6478cd0a960b"
      },
      "execution_count": 77,
      "outputs": [
        {
          "output_type": "stream",
          "name": "stdout",
          "text": [
            "/usr/share/fonts: caching, new cache contents: 0 fonts, 1 dirs\n",
            "/usr/share/fonts/truetype: caching, new cache contents: 0 fonts, 3 dirs\n",
            "/usr/share/fonts/truetype/humor-sans: caching, new cache contents: 1 fonts, 0 dirs\n",
            "/usr/share/fonts/truetype/liberation: caching, new cache contents: 16 fonts, 0 dirs\n",
            "/usr/share/fonts/truetype/nanum: caching, new cache contents: 10 fonts, 0 dirs\n",
            "/usr/local/share/fonts: caching, new cache contents: 0 fonts, 0 dirs\n",
            "/root/.local/share/fonts: skipping, no such directory\n",
            "/root/.fonts: skipping, no such directory\n",
            "/var/cache/fontconfig: cleaning cache directory\n",
            "/root/.cache/fontconfig: not cleaning non-existent cache directory\n",
            "/root/.fontconfig: not cleaning non-existent cache directory\n",
            "fc-cache: succeeded\n"
          ]
        }
      ]
    },
    {
      "cell_type": "code",
      "source": [
        "url = 'https://finance.naver.com/item/main.nhn?code=035720'\n",
        "table_df_list = pd.read_html(url, encoding='euc-kr')    # 한글이 깨짐. utf-8도 깨짐. 그래서 'euc-kr'로 설정함  \n",
        "\n",
        "# for table in table_df_list:\n",
        "#   print(table)\n",
        "#   print(\"--------------------다음 테이블-------------------\")\n",
        "table_df = table_df_list[4]\n",
        "table_df"
      ],
      "metadata": {
        "colab": {
          "base_uri": "https://localhost:8080/",
          "height": 467
        },
        "id": "Fk3NJwyMxbTf",
        "outputId": "6acf8d44-3051-46c2-fd32-891d10def8db"
      },
      "execution_count": 78,
      "outputs": [
        {
          "output_type": "execute_result",
          "data": {
            "text/html": [
              "\n",
              "  <div id=\"df-a1a1d18d-9f2c-4550-a305-2b2c64b16276\">\n",
              "    <div class=\"colab-df-container\">\n",
              "      <div>\n",
              "<style scoped>\n",
              "    .dataframe tbody tr th:only-of-type {\n",
              "        vertical-align: middle;\n",
              "    }\n",
              "\n",
              "    .dataframe tbody tr th {\n",
              "        vertical-align: top;\n",
              "    }\n",
              "\n",
              "    .dataframe thead th {\n",
              "        text-align: right;\n",
              "    }\n",
              "</style>\n",
              "<table border=\"1\" class=\"dataframe\">\n",
              "  <thead>\n",
              "    <tr style=\"text-align: right;\">\n",
              "      <th></th>\n",
              "      <th>종목명</th>\n",
              "      <th>카카오*035720</th>\n",
              "      <th>NAVER*035420</th>\n",
              "      <th>아프리카TV*067160</th>\n",
              "      <th>자이언트스텝*289220</th>\n",
              "      <th>키다리스튜디오*020120</th>\n",
              "    </tr>\n",
              "  </thead>\n",
              "  <tbody>\n",
              "    <tr>\n",
              "      <th>0</th>\n",
              "      <td>현재가</td>\n",
              "      <td>118000</td>\n",
              "      <td>384500</td>\n",
              "      <td>192400</td>\n",
              "      <td>127100</td>\n",
              "      <td>15050</td>\n",
              "    </tr>\n",
              "    <tr>\n",
              "      <th>1</th>\n",
              "      <td>전일대비</td>\n",
              "      <td>하향  1,500</td>\n",
              "      <td>하향  3,000</td>\n",
              "      <td>하향  8,100</td>\n",
              "      <td>하향  3,300</td>\n",
              "      <td>상향  100</td>\n",
              "    </tr>\n",
              "    <tr>\n",
              "      <th>2</th>\n",
              "      <td>등락률</td>\n",
              "      <td>하향  -1.26%</td>\n",
              "      <td>하향  -0.77%</td>\n",
              "      <td>하향  -4.04%</td>\n",
              "      <td>하향  -2.53%</td>\n",
              "      <td>상향  +0.67%</td>\n",
              "    </tr>\n",
              "    <tr>\n",
              "      <th>3</th>\n",
              "      <td>시가총액(억)</td>\n",
              "      <td>526026</td>\n",
              "      <td>631592</td>\n",
              "      <td>22115</td>\n",
              "      <td>12272</td>\n",
              "      <td>5017</td>\n",
              "    </tr>\n",
              "    <tr>\n",
              "      <th>4</th>\n",
              "      <td>외국인비율(%)</td>\n",
              "      <td>30.92</td>\n",
              "      <td>56.37</td>\n",
              "      <td>51.51</td>\n",
              "      <td>3.54</td>\n",
              "      <td>1.47</td>\n",
              "    </tr>\n",
              "    <tr>\n",
              "      <th>5</th>\n",
              "      <td>매출액(억)</td>\n",
              "      <td>17408</td>\n",
              "      <td>17273</td>\n",
              "      <td>711</td>\n",
              "      <td>85</td>\n",
              "      <td>347</td>\n",
              "    </tr>\n",
              "    <tr>\n",
              "      <th>6</th>\n",
              "      <td>영업이익(억)</td>\n",
              "      <td>1682</td>\n",
              "      <td>3498</td>\n",
              "      <td>231</td>\n",
              "      <td>-5</td>\n",
              "      <td>35</td>\n",
              "    </tr>\n",
              "    <tr>\n",
              "      <th>7</th>\n",
              "      <td>조정영업이익(억)</td>\n",
              "      <td>1682</td>\n",
              "      <td>3498</td>\n",
              "      <td>231</td>\n",
              "      <td>-5</td>\n",
              "      <td>35</td>\n",
              "    </tr>\n",
              "    <tr>\n",
              "      <th>8</th>\n",
              "      <td>영업이익증가율(%)</td>\n",
              "      <td>3.42</td>\n",
              "      <td>4.21</td>\n",
              "      <td>7.35</td>\n",
              "      <td>61.09</td>\n",
              "      <td>91.31</td>\n",
              "    </tr>\n",
              "    <tr>\n",
              "      <th>9</th>\n",
              "      <td>당기순이익(억)</td>\n",
              "      <td>8663</td>\n",
              "      <td>3227</td>\n",
              "      <td>197</td>\n",
              "      <td>-4</td>\n",
              "      <td>37</td>\n",
              "    </tr>\n",
              "    <tr>\n",
              "      <th>10</th>\n",
              "      <td>주당순이익(원)</td>\n",
              "      <td>1751.60</td>\n",
              "      <td>2020.61</td>\n",
              "      <td>1718.53</td>\n",
              "      <td>-44.33</td>\n",
              "      <td>111.71</td>\n",
              "    </tr>\n",
              "    <tr>\n",
              "      <th>11</th>\n",
              "      <td>ROE(%)</td>\n",
              "      <td>14.84</td>\n",
              "      <td>109.92</td>\n",
              "      <td>39.03</td>\n",
              "      <td>-7.85</td>\n",
              "      <td>5.51</td>\n",
              "    </tr>\n",
              "    <tr>\n",
              "      <th>12</th>\n",
              "      <td>PER(%)</td>\n",
              "      <td>46.46</td>\n",
              "      <td>3.81</td>\n",
              "      <td>34.60</td>\n",
              "      <td>-655.15</td>\n",
              "      <td>64.32</td>\n",
              "    </tr>\n",
              "    <tr>\n",
              "      <th>13</th>\n",
              "      <td>PBR(배)</td>\n",
              "      <td>5.82</td>\n",
              "      <td>2.42</td>\n",
              "      <td>10.99</td>\n",
              "      <td>41.56</td>\n",
              "      <td>2.46</td>\n",
              "    </tr>\n",
              "  </tbody>\n",
              "</table>\n",
              "</div>\n",
              "      <button class=\"colab-df-convert\" onclick=\"convertToInteractive('df-a1a1d18d-9f2c-4550-a305-2b2c64b16276')\"\n",
              "              title=\"Convert this dataframe to an interactive table.\"\n",
              "              style=\"display:none;\">\n",
              "        \n",
              "  <svg xmlns=\"http://www.w3.org/2000/svg\" height=\"24px\"viewBox=\"0 0 24 24\"\n",
              "       width=\"24px\">\n",
              "    <path d=\"M0 0h24v24H0V0z\" fill=\"none\"/>\n",
              "    <path d=\"M18.56 5.44l.94 2.06.94-2.06 2.06-.94-2.06-.94-.94-2.06-.94 2.06-2.06.94zm-11 1L8.5 8.5l.94-2.06 2.06-.94-2.06-.94L8.5 2.5l-.94 2.06-2.06.94zm10 10l.94 2.06.94-2.06 2.06-.94-2.06-.94-.94-2.06-.94 2.06-2.06.94z\"/><path d=\"M17.41 7.96l-1.37-1.37c-.4-.4-.92-.59-1.43-.59-.52 0-1.04.2-1.43.59L10.3 9.45l-7.72 7.72c-.78.78-.78 2.05 0 2.83L4 21.41c.39.39.9.59 1.41.59.51 0 1.02-.2 1.41-.59l7.78-7.78 2.81-2.81c.8-.78.8-2.07 0-2.86zM5.41 20L4 18.59l7.72-7.72 1.47 1.35L5.41 20z\"/>\n",
              "  </svg>\n",
              "      </button>\n",
              "      \n",
              "  <style>\n",
              "    .colab-df-container {\n",
              "      display:flex;\n",
              "      flex-wrap:wrap;\n",
              "      gap: 12px;\n",
              "    }\n",
              "\n",
              "    .colab-df-convert {\n",
              "      background-color: #E8F0FE;\n",
              "      border: none;\n",
              "      border-radius: 50%;\n",
              "      cursor: pointer;\n",
              "      display: none;\n",
              "      fill: #1967D2;\n",
              "      height: 32px;\n",
              "      padding: 0 0 0 0;\n",
              "      width: 32px;\n",
              "    }\n",
              "\n",
              "    .colab-df-convert:hover {\n",
              "      background-color: #E2EBFA;\n",
              "      box-shadow: 0px 1px 2px rgba(60, 64, 67, 0.3), 0px 1px 3px 1px rgba(60, 64, 67, 0.15);\n",
              "      fill: #174EA6;\n",
              "    }\n",
              "\n",
              "    [theme=dark] .colab-df-convert {\n",
              "      background-color: #3B4455;\n",
              "      fill: #D2E3FC;\n",
              "    }\n",
              "\n",
              "    [theme=dark] .colab-df-convert:hover {\n",
              "      background-color: #434B5C;\n",
              "      box-shadow: 0px 1px 3px 1px rgba(0, 0, 0, 0.15);\n",
              "      filter: drop-shadow(0px 1px 2px rgba(0, 0, 0, 0.3));\n",
              "      fill: #FFFFFF;\n",
              "    }\n",
              "  </style>\n",
              "\n",
              "      <script>\n",
              "        const buttonEl =\n",
              "          document.querySelector('#df-a1a1d18d-9f2c-4550-a305-2b2c64b16276 button.colab-df-convert');\n",
              "        buttonEl.style.display =\n",
              "          google.colab.kernel.accessAllowed ? 'block' : 'none';\n",
              "\n",
              "        async function convertToInteractive(key) {\n",
              "          const element = document.querySelector('#df-a1a1d18d-9f2c-4550-a305-2b2c64b16276');\n",
              "          const dataTable =\n",
              "            await google.colab.kernel.invokeFunction('convertToInteractive',\n",
              "                                                     [key], {});\n",
              "          if (!dataTable) return;\n",
              "\n",
              "          const docLinkHtml = 'Like what you see? Visit the ' +\n",
              "            '<a target=\"_blank\" href=https://colab.research.google.com/notebooks/data_table.ipynb>data table notebook</a>'\n",
              "            + ' to learn more about interactive tables.';\n",
              "          element.innerHTML = '';\n",
              "          dataTable['output_type'] = 'display_data';\n",
              "          await google.colab.output.renderOutput(dataTable, element);\n",
              "          const docLink = document.createElement('div');\n",
              "          docLink.innerHTML = docLinkHtml;\n",
              "          element.appendChild(docLink);\n",
              "        }\n",
              "      </script>\n",
              "    </div>\n",
              "  </div>\n",
              "  "
            ],
            "text/plain": [
              "           종목명  카카오*035720  ... 자이언트스텝*289220 키다리스튜디오*020120\n",
              "0          현재가      118000  ...        127100          15050\n",
              "1         전일대비   하향  1,500  ...     하향  3,300        상향  100\n",
              "2          등락률  하향  -1.26%  ...    하향  -2.53%     상향  +0.67%\n",
              "3      시가총액(억)      526026  ...         12272           5017\n",
              "4     외국인비율(%)       30.92  ...          3.54           1.47\n",
              "5       매출액(억)       17408  ...            85            347\n",
              "6      영업이익(억)        1682  ...            -5             35\n",
              "7    조정영업이익(억)        1682  ...            -5             35\n",
              "8   영업이익증가율(%)        3.42  ...         61.09          91.31\n",
              "9     당기순이익(억)        8663  ...            -4             37\n",
              "10    주당순이익(원)     1751.60  ...        -44.33         111.71\n",
              "11      ROE(%)       14.84  ...         -7.85           5.51\n",
              "12      PER(%)       46.46  ...       -655.15          64.32\n",
              "13      PBR(배)        5.82  ...         41.56           2.46\n",
              "\n",
              "[14 rows x 6 columns]"
            ]
          },
          "metadata": {},
          "execution_count": 78
        }
      ]
    },
    {
      "cell_type": "code",
      "source": [
        "new_xticks = table_df.columns[1:].str[0] + '*' + table_df.columns[1:].str[2:-7]\n",
        "list(new_xticks)"
      ],
      "metadata": {
        "colab": {
          "base_uri": "https://localhost:8080/"
        },
        "id": "Y25ABlPn8KoZ",
        "outputId": "e96b6347-dd19-481b-9894-fb7faf076cbe"
      },
      "execution_count": 213,
      "outputs": [
        {
          "output_type": "execute_result",
          "data": {
            "text/plain": [
              "['카*오', 'N*VER', '아*리카TV', '자*언트스텝', '키*리스튜디오']"
            ]
          },
          "metadata": {},
          "execution_count": 213
        }
      ]
    },
    {
      "cell_type": "code",
      "source": [
        "fig, ax = plt.subplots(figsize=(10, 5))\n",
        "\n",
        "output = ax.bar(new_xticks, table_df.iloc[3, 1:].astype('int'), label = '매출액', color='#ff812d')\n",
        "ax.set_ylabel('매출액')\n",
        "ax.set_ylim(0, 700000)\n",
        "# ax.axis()\n",
        "# ax.yaxis.set_visible(False)\n",
        "# ax.set_yticks([])\n",
        "ax.grid(True, axis='y', alpha=0.5)\n",
        "\n",
        "maxval = max(table_df.iloc[3, 1:].astype('int'))\n",
        "\n",
        "for idx, val in enumerate(table_df.iloc[3, 1:].astype('int')):\n",
        "  if val == maxval:\n",
        "    ax.text(new_xticks[idx], val+9000, format(val, ',')+'억', ha='center', fontsize=13, fontweight='bold')\n",
        "  else:\n",
        "    ax.text(new_xticks[idx], val+9000, format(val, ',')+'억', ha='center', fontsize=13)\n",
        "\n",
        "ax2 = ax.twinx()\n",
        "profit = ax2.plot(new_xticks, table_df.iloc[6, 1:].astype('int'), label = '영업이익', color='#ffd100', marker='o', ms='15', mec='w', markeredgewidth=3 ,lw=5)\n",
        "ax2.set_ylim(-1000,5000)\n",
        "ax2.set_ylabel('매출액')\n",
        "ax2.set_yticks([-1000, 0, 5000])\n",
        "ax2.axis('off')\n",
        "\n",
        "maxval = max(table_df.iloc[6, 1:].astype('int'))\n",
        "\n",
        "for idx, val in enumerate(table_df.iloc[6, 1:].astype('int')):\n",
        "  if val == maxval:\n",
        "    ax2.text(new_xticks[idx], val+300, format(val, ',')+'억', ha='center', fontsize=13, fontweight=\"bold\")\n",
        "  else:\n",
        "    ax2.text(new_xticks[idx], val+300, format(val, ',')+'억', ha='center', fontsize=13)\n",
        "\n",
        "\n",
        "lines, labels = ax.get_legend_handles_labels()\n",
        "lines2, labels2 = ax2.get_legend_handles_labels()\n",
        "ax2.legend(lines + lines2, labels + labels2, loc=0)\n",
        "\n"
      ],
      "metadata": {
        "colab": {
          "base_uri": "https://localhost:8080/",
          "height": 340
        },
        "id": "V-Qv4lc5yqzl",
        "outputId": "46bda9ca-62db-4216-cb17-6b2319be94a8"
      },
      "execution_count": 233,
      "outputs": [
        {
          "output_type": "execute_result",
          "data": {
            "text/plain": [
              "<matplotlib.legend.Legend at 0x7fd4f87dadd0>"
            ]
          },
          "metadata": {},
          "execution_count": 233
        },
        {
          "output_type": "display_data",
          "data": {
            "image/png": "[encoded data removed]",
            "text/plain": [
              "<Figure size 720x360 with 2 Axes>"
            ]
          },
          "metadata": {
            "needs_background": "light"
          }
        }
      ]
    },
    {
      "cell_type": "code",
      "source": [
        "table_df.co[0]"
      ],
      "metadata": {
        "colab": {
          "base_uri": "https://localhost:8080/"
        },
        "id": "N3KU4zZ40x_-",
        "outputId": "4d932d97-4c1d-4514-f504-a6b8ea1cd2da"
      },
      "execution_count": 81,
      "outputs": [
        {
          "output_type": "execute_result",
          "data": {
            "text/plain": [
              "Index(['카카오*035720', 'NAVER*035420', '아프리카TV*067160', '자이언트스텝*289220',\n",
              "       '키다리스튜디오*020120'],\n",
              "      dtype='object')"
            ]
          },
          "metadata": {},
          "execution_count": 81
        }
      ]
    },
    {
      "cell_type": "code",
      "source": [
        "table_df.columns[1:].str[:-7]"
      ],
      "metadata": {
        "colab": {
          "base_uri": "https://localhost:8080/"
        },
        "id": "zNiSADkc2Htg",
        "outputId": "7d29148d-089b-4637-bd84-30e073bfe578"
      },
      "execution_count": 87,
      "outputs": [
        {
          "output_type": "execute_result",
          "data": {
            "text/plain": [
              "Index(['카카오', 'NAVER', '아프리카TV', '자이언트스텝', '키다리스튜디오'], dtype='object')"
            ]
          },
          "metadata": {},
          "execution_count": 87
        }
      ]
    },
    {
      "cell_type": "code",
      "source": [
        "table_df.iloc[3, 1:].astype('int')"
      ],
      "metadata": {
        "colab": {
          "base_uri": "https://localhost:8080/"
        },
        "id": "XgbCWdcx2zQb",
        "outputId": "945605d9-02af-4d3a-9048-cf34249afd43"
      },
      "execution_count": 94,
      "outputs": [
        {
          "output_type": "execute_result",
          "data": {
            "text/plain": [
              "카카오*035720        526026\n",
              "NAVER*035420      631592\n",
              "아프리카TV*067160      22115\n",
              "자이언트스텝*289220      12272\n",
              "키다리스튜디오*020120      5017\n",
              "Name: 3, dtype: int64"
            ]
          },
          "metadata": {},
          "execution_count": 94
        }
      ]
    },
    {
      "cell_type": "code",
      "source": [
        "type(val)"
      ],
      "metadata": {
        "colab": {
          "base_uri": "https://localhost:8080/"
        },
        "id": "zyvWAqBp4FgA",
        "outputId": "f5a1ac7a-e585-4a06-b7a4-fd657f1e0f6e"
      },
      "execution_count": 134,
      "outputs": [
        {
          "output_type": "execute_result",
          "data": {
            "text/plain": [
              "int"
            ]
          },
          "metadata": {},
          "execution_count": 134
        }
      ]
    },
    {
      "cell_type": "code",
      "source": [
        ""
      ],
      "metadata": {
        "id": "hXOf7j3QHkk1"
      },
      "execution_count": null,
      "outputs": []
    }
  ],
  "metadata": {
    "colab": {
      "collapsed_sections": [],
      "name": "Colaboratory에 오신 것을 환영합니다",
      "toc_visible": true,
      "provenance": [],
      "include_colab_link": true
    },
    "kernelspec": {
      "display_name": "Python 3",
      "name": "python3"
    }
  },
  "nbformat": 4,
  "nbformat_minor": 0
}