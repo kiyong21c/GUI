{
  "cells": [
    {
      "cell_type": "markdown",
      "metadata": {
        "id": "view-in-github",
        "colab_type": "text"
      },
      "source": [
        "<a href=\"https://colab.research.google.com/github/kiyong21c/nadocoding/blob/master/20220105_crawling_movie_imgsave%2Bdataframe.ipynb\" target=\"_parent\"><img src=\"https://colab.research.google.com/assets/colab-badge.svg\" alt=\"Open In Colab\"/></a>"
      ]
    },
    {
      "cell_type": "code",
      "source": [
        "import requests\n",
        "from bs4 import BeautifulSoup as bs"
      ],
      "metadata": {
        "id": "jksJrV56o_yc"
      },
      "execution_count": 1,
      "outputs": []
    },
    {
      "cell_type": "code",
      "source": [
        "year = input()\n",
        "url = \"https://search.daum.net/search?nil_suggest=btn&w=tot&DA=SBC&q={}%EC%98%81%ED%99%94\".format(year)\n",
        "res = requests.get(url)\n",
        "soup = bs(res.text, 'lxml')"
      ],
      "metadata": {
        "colab": {
          "base_uri": "https://localhost:8080/"
        },
        "id": "MGgHImnipAzg",
        "outputId": "9e24be8f-d027-4982-f3dd-9ed36769ab75"
      },
      "execution_count": 3,
      "outputs": [
        {
          "name": "stdout",
          "output_type": "stream",
          "text": [
            "2020\n"
          ]
        }
      ]
    },
    {
      "cell_type": "code",
      "source": [
        "soup"
      ],
      "metadata": {
        "id": "J3Tl6CMvp4CT"
      },
      "execution_count": null,
      "outputs": []
    },
    {
      "cell_type": "code",
      "source": [
        "soup.select('li.item')"
      ],
      "metadata": {
        "id": "99641p1op84C"
      },
      "execution_count": null,
      "outputs": []
    },
    {
      "cell_type": "code",
      "source": [
        "soup.select('li.item')[0].p.get_text()"
      ],
      "metadata": {
        "colab": {
          "base_uri": "https://localhost:8080/",
          "height": 34
        },
        "id": "McyiNpJiqkUn",
        "outputId": "54bef888-2bb0-4a54-ff2b-d04df34fdb77"
      },
      "execution_count": 11,
      "outputs": [
        {
          "output_type": "execute_result",
          "data": {
            "application/vnd.google.colaboratory.intrinsic+json": {
              "type": "string"
            },
            "text/plain": [
              "'다만 악에서 ..'"
            ]
          },
          "metadata": {},
          "execution_count": 11
        }
      ]
    },
    {
      "cell_type": "code",
      "source": [
        "soup.select('li.item')[0]"
      ],
      "metadata": {
        "colab": {
          "base_uri": "https://localhost:8080/"
        },
        "id": "MPaGDACKrDL4",
        "outputId": "a355f54b-9298-428c-e656-ffe15e60d8a4"
      },
      "execution_count": 16,
      "outputs": [
        {
          "output_type": "execute_result",
          "data": {
            "text/plain": [
              "<li class=\"item \" onmouseout=\"C.smok.fn.mouseEnter(C.smok.v._smokResultListOut(event, this)); return false;\" onmouseover=\"C.smok.fn.mouseEnter(C.smok.v._smokResultListOver(event, this));\"> <a class=\"toolTipTrigger\" href=\"?w=tot&amp;q=%EB%8B%A4%EB%A7%8C%20%EC%95%85%EC%97%90%EC%84%9C%20%EA%B5%AC%ED%95%98%EC%86%8C%EC%84%9C&amp;DA=KDR&amp;rtmaxcoll=EM1&amp;scckey=MV||127897\" onclick='smartLog(this,\"s=TO&amp;a=FSYX&amp;pg=1&amp;r=1&amp;p=7&amp;d=127897&amp;rc=14&amp;dc=KDR&amp;at=link\",event);'> <img alt=\"이미지\" height=\"120\" onerror=\"C.smok.v._jsSmokImgError(this);\" src=\"https://search1.daumcdn.net/thumb/P100x122.q70/?fname=https%3A%2F%2Ft1.daumcdn.net%2Fmovie%2Fc15a793c35cd41c32c27188faba84211a9185fa0\" width=\"94\"/><p onclick='smartLog(this,\"s=TO&amp;a=FSYX&amp;pg=1&amp;r=1&amp;p=8&amp;d=127897&amp;rc=14&amp;dc=KDR&amp;at=func\",event);'>다만 악에서 ..</p> </a> <div class=\"smokResultToolTip\"><div class=\"tooltipTit\"><a href=\"?w=tot&amp;q=%EB%8B%A4%EB%A7%8C%20%EC%95%85%EC%97%90%EC%84%9C%20%EA%B5%AC%ED%95%98%EC%86%8C%EC%84%9C&amp;DA=KDR&amp;rtmaxcoll=EM1&amp;scckey=MV||127897\" onclick='smartLog(this,\"s=TO&amp;a=FSYX&amp;pg=1&amp;r=1&amp;p=8&amp;d=127897&amp;rc=14&amp;dc=KDR&amp;at=link\",event);'>다만 악에서 구하소서</a></div><div class=\"desc\"><ul><li>제작 : 한국, 2020</li><li>평점 : 6.8</li><li>개봉 : 2020-08-05</li></ul></div><span class=\"bullet\"></span></div> </li>"
            ]
          },
          "metadata": {},
          "execution_count": 16
        }
      ]
    },
    {
      "cell_type": "code",
      "source": [
        "soup.select('li.item')[0].img['src']"
      ],
      "metadata": {
        "colab": {
          "base_uri": "https://localhost:8080/",
          "height": 34
        },
        "id": "Xt6DmxbBrNr1",
        "outputId": "b7e0ebc1-2498-41c7-ae06-c91dbe7853fc"
      },
      "execution_count": 17,
      "outputs": [
        {
          "output_type": "execute_result",
          "data": {
            "application/vnd.google.colaboratory.intrinsic+json": {
              "type": "string"
            },
            "text/plain": [
              "'https://search1.daumcdn.net/thumb/P100x122.q70/?fname=https%3A%2F%2Ft1.daumcdn.net%2Fmovie%2Fc15a793c35cd41c32c27188faba84211a9185fa0'"
            ]
          },
          "metadata": {},
          "execution_count": 17
        }
      ]
    },
    {
      "cell_type": "code",
      "source": [
        "for idx, item in enumerate(soup.select('li.item')):\n",
        "  title = item.p.get_text()\n",
        "  img_url = item.img['src']\n",
        "  print(title)\n",
        "  print(img_url)\n",
        "  print(\"---------------\")"
      ],
      "metadata": {
        "colab": {
          "base_uri": "https://localhost:8080/"
        },
        "id": "rVtYLIV4rcgL",
        "outputId": "b7f7c716-f538-44ba-b402-73fae9fb7556"
      },
      "execution_count": 20,
      "outputs": [
        {
          "output_type": "stream",
          "name": "stdout",
          "text": [
            "다만 악에서 ..\n",
            "https://search1.daumcdn.net/thumb/P100x122.q70/?fname=https%3A%2F%2Ft1.daumcdn.net%2Fmovie%2Fc15a793c35cd41c32c27188faba84211a9185fa0\n",
            "---------------\n",
            "어디갔어, 버..\n",
            "https://search1.daumcdn.net/thumb/P100x122.q70/?fname=https%3A%2F%2Ft1.daumcdn.net%2Fmovie%2F19db449f9b821e2753eb1ba7a43de4926a5ad162\n",
            "---------------\n",
            "범죄해결 특수..\n",
            "https://search1.daumcdn.net/thumb/P100x122.q70/?fname=https%3A%2F%2Ft1.daumcdn.net%2Fmovie%2F771d437d292da3d3d5e775103bc48d803dd308a7\n",
            "---------------\n",
            "도굴\n",
            "https://search1.daumcdn.net/thumb/P100x122.q70/?fname=https%3A%2F%2Ft1.daumcdn.net%2Fmovie%2F99a4d42206a028764e86c5bff8cf0021db985223\n",
            "---------------\n",
            "담보\n",
            "https://search1.daumcdn.net/thumb/P100x122.q70/?fname=https%3A%2F%2Ft1.daumcdn.net%2Fmovie%2F0c2466f6f09ff51b8dee1c1a039aadb0d4adf991\n",
            "---------------\n",
            "엠마\n",
            "https://search1.daumcdn.net/thumb/P100x122.q70/?fname=https%3A%2F%2Ft1.daumcdn.net%2Fmovie%2Fmovie-private%2F252188941d6ce247f7f98b957e7c96511e331631\n",
            "---------------\n",
            "해치지않아\n",
            "https://search1.daumcdn.net/thumb/P100x122.q70/?fname=http%3A%2F%2Ft1.daumcdn.net%2Fmovie%2F0c338815e70f4fd7a4a3567f9d3abb0e1579055467364\n",
            "---------------\n",
            "레벨 16\n",
            "https://search1.daumcdn.net/thumb/P100x122.q70/?fname=https%3A%2F%2Ft1.daumcdn.net%2Fmovie%2F37027fea0709edbdf302330e485604510112b5bd\n",
            "---------------\n",
            "공수도\n",
            "https://search1.daumcdn.net/thumb/P100x122.q70/?fname=https%3A%2F%2Ft1.daumcdn.net%2Fmovie%2Fdong-test%2F50927b5d249e8723d5f8fc363386447883d1fd07\n",
            "---------------\n",
            "반도\n",
            "https://search1.daumcdn.net/thumb/P100x122.q70/?fname=https%3A%2F%2Ft1.daumcdn.net%2Fmovie%2F389d6e403d8ee48c419c7b16908919103e2c2670\n",
            "---------------\n",
            "레이니 데이 ..\n",
            "https://search1.daumcdn.net/thumb/P100x122.q70/?fname=https%3A%2F%2Ft1.daumcdn.net%2Fmovie%2Fcd6cbdd6bf320d231bdc4a42116be5cd5732a255\n",
            "---------------\n",
            "체이싱\n",
            "https://search1.daumcdn.net/thumb/P100x122.q70/?fname=https%3A%2F%2Ft1.daumcdn.net%2Fmovie%2Ffa7ff78deeb4bc180939c00eb513ae36c4847fdf\n",
            "---------------\n",
            "애비규환\n",
            "https://search1.daumcdn.net/thumb/P100x122.q70/?fname=https%3A%2F%2Ft1.daumcdn.net%2Fmovie%2Ff490fc528acf183463eab11ccffe4d1e710fd6db\n",
            "---------------\n",
            "삼진그룹 영어..\n",
            "https://search1.daumcdn.net/thumb/P100x122.q70/?fname=https%3A%2F%2Ft1.daumcdn.net%2Fmovie%2F9509f8790818777a727c53216cef5c35c60c844c\n",
            "---------------\n"
          ]
        }
      ]
    },
    {
      "cell_type": "code",
      "source": [
        "for idx, item in enumerate(soup.select('li.item')):\n",
        "  title = item.p.get_text()\n",
        "  img_url = item.img['src']\n",
        "  res_img = requests.get(img_url)\n",
        "  # print(res_img.content)"
      ],
      "metadata": {
        "id": "DtuZpCNqsYng"
      },
      "execution_count": null,
      "outputs": []
    },
    {
      "cell_type": "code",
      "source": [
        "for idx, item in enumerate(soup.select('li.item')):\n",
        "  title = item.p.get_text()\n",
        "  img_url = item.img['src']\n",
        "  res_img = requests.get(img_url)\n",
        "  img = res_img.content\n",
        "\n",
        "  with open(\"movie_{}_{}_{}.jpg\".format(year, idx+1, title), \"wb\") as f :\n",
        "    f.write(img)  # image_res가 가지고 있는 content를 파일로 쓰기\n",
        "\n",
        "  if idx >= 4:  \n",
        "    break"
      ],
      "metadata": {
        "id": "MgFn9KcZtLU0"
      },
      "execution_count": 24,
      "outputs": []
    },
    {
      "cell_type": "code",
      "source": [
        "# 총 정리 #\n",
        "# 1. 연도를 입력받아 상위 5개 영화 이미지 저장 하기\n",
        "\n",
        "import requests\n",
        "from bs4 import BeautifulSoup as bs\n",
        "\n",
        "year = input()\n",
        "url = \"https://search.daum.net/search?nil_suggest=btn&w=tot&DA=SBC&q={}%EC%98%81%ED%99%94\".format(year)\n",
        "res = requests.get(url)\n",
        "soup = bs(res.text, 'lxml')\n",
        "\n",
        "for idx, item in enumerate(soup.select('li.item')): # li태그는 주로 리스트 항목들, select('태그.클래스') 리스트로 반환되므로 for문 활용\n",
        "  title = item.p.get_text() # p태그 선택, get_text()로 텍스트 반환\n",
        "  img_url = item.img['src'] # img태그의 'src' 속성 선택시 .img['src']\n",
        "  res_img = requests.get(img_url) # img의 주소로 get요청\n",
        "  img = res_img.content # 요청받은 값의 content는 유니코드형식의 문자\n",
        "\n",
        "  with open(\"movie_{}_{}_{}.jpg\".format(year, idx+1, title), \"wb\") as f :\n",
        "    f.write(img)  # image_res가 가지고 있는 content를 파일로 쓰기\n",
        "\n",
        "  if idx >= 4:  \n",
        "    break"
      ],
      "metadata": {
        "colab": {
          "base_uri": "https://localhost:8080/"
        },
        "id": "en9e55SmuC_1",
        "outputId": "a2ffe63a-e502-485a-90c2-9c0b540c2ad2"
      },
      "execution_count": 25,
      "outputs": [
        {
          "name": "stdout",
          "output_type": "stream",
          "text": [
            "2021\n"
          ]
        }
      ]
    },
    {
      "cell_type": "code",
      "source": [
        "import requests\n",
        "from bs4 import BeautifulSoup as bs\n",
        "\n",
        "year = input()\n",
        "url = \"https://search.daum.net/search?nil_suggest=btn&w=tot&DA=SBC&q={}%EC%98%81%ED%99%94\".format(year)\n",
        "res = requests.get(url)\n",
        "soup = bs(res.text, 'lxml')\n"
      ],
      "metadata": {
        "colab": {
          "base_uri": "https://localhost:8080/"
        },
        "id": "F3x6BwDyvCUf",
        "outputId": "599a7060-901f-49c0-e7e6-11e9b88573a4"
      },
      "execution_count": 26,
      "outputs": [
        {
          "name": "stdout",
          "output_type": "stream",
          "text": [
            "2022\n"
          ]
        }
      ]
    },
    {
      "cell_type": "code",
      "source": [
        "soup.select('li.item div.desc') # li 각각을 써야 하는데 한번에 나올때는 next_sibling  함수X"
      ],
      "metadata": {
        "colab": {
          "base_uri": "https://localhost:8080/"
        },
        "id": "lgArt65i01Ko",
        "outputId": "36c22c33-c0e6-4ad4-a719-79ec124fc8de"
      },
      "execution_count": 27,
      "outputs": [
        {
          "output_type": "execute_result",
          "data": {
            "text/plain": [
              "[<div class=\"desc\"><ul><li>제작 : 한국, 2020</li><li>평점 : 8.5</li><li>개봉 : 2022-01-05</li></ul></div>,\n",
              " <div class=\"desc\"><ul><li>제작 : 한국, 2020</li><li>평점 : 8.9</li><li>개봉 : 2022-01-12</li></ul></div>,\n",
              " <div class=\"desc\"><ul><li>제작 : 독일, 미국, 2021</li><li>평점 : 4.6</li><li>개봉 : 2022-01-00</li></ul></div>,\n",
              " <div class=\"desc\"><ul><li>제작 : 미국, 2021</li><li>평점 : 10.0</li><li>개봉 : 2022-01-05</li></ul></div>,\n",
              " <div class=\"desc\"><ul><li>제작 : 한국, 2021</li><li>평점 : 6.5</li><li>개봉 : 2022-01-26</li></ul></div>,\n",
              " <div class=\"desc\"><ul><li>제작 : 미국, 2021</li><li>평점 : 7.0</li><li>개봉 : 2022-01-12</li></ul></div>,\n",
              " <div class=\"desc\"><ul><li>제작 : 한국, 2021</li><li>평점 : 8.1</li><li>개봉 : 2022-01-26</li></ul></div>,\n",
              " <div class=\"desc\"><ul><li>제작 : 미국, 캐나다, 2021</li><li>평점 : 10.0</li><li>개봉 : 2022-01-12</li></ul></div>,\n",
              " <div class=\"desc\"><ul><li>제작 : 영국, 2021</li><li>평점 : 7.7</li><li>개봉 : 2022-01-10</li></ul></div>,\n",
              " <div class=\"desc\"><ul><li>제작 : 프랑스, 독일, 2021</li><li>평점 : 10.0</li><li>개봉 : 2022-01-13</li></ul></div>,\n",
              " <div class=\"desc\"><ul><li>제작 : 미국, 2022</li><li>평점 : 8.2</li><li>개봉 : 2022-03-00</li></ul></div>,\n",
              " <div class=\"desc\"><ul><li>제작 : 미국, 2021</li><li>평점 : 8.5</li><li>개봉 : 2022-01-00</li></ul></div>,\n",
              " <div class=\"desc\"><ul><li>제작 : 대만, 1983</li><li>평점 : 10.0</li><li>개봉 : 2022-01-06</li></ul></div>,\n",
              " <div class=\"desc\"><ul><li>제작 : 미국, 영국, 2022</li><li>평점 : 9.3</li><li>개봉 : 2022-02-09</li></ul></div>]"
            ]
          },
          "metadata": {},
          "execution_count": 27
        }
      ]
    },
    {
      "cell_type": "code",
      "source": [
        "soup.select('li.item div.desc')[0].li.get_text()"
      ],
      "metadata": {
        "colab": {
          "base_uri": "https://localhost:8080/",
          "height": 34
        },
        "id": "N76dmdJq1ErS",
        "outputId": "1d851d78-ba5a-4566-9f02-31205c951114"
      },
      "execution_count": 56,
      "outputs": [
        {
          "output_type": "execute_result",
          "data": {
            "application/vnd.google.colaboratory.intrinsic+json": {
              "type": "string"
            },
            "text/plain": [
              "'제작 : 한국, 2020'"
            ]
          },
          "metadata": {},
          "execution_count": 56
        }
      ]
    },
    {
      "cell_type": "code",
      "source": [
        "soup.select('li.item div.desc')[0].li.get_text()[5:-6]"
      ],
      "metadata": {
        "colab": {
          "base_uri": "https://localhost:8080/",
          "height": 34
        },
        "id": "RFr-jf6E1kwQ",
        "outputId": "9fd3f35c-4cb4-4e0d-f52a-7986f1c48579"
      },
      "execution_count": 63,
      "outputs": [
        {
          "output_type": "execute_result",
          "data": {
            "application/vnd.google.colaboratory.intrinsic+json": {
              "type": "string"
            },
            "text/plain": [
              "'한국'"
            ]
          },
          "metadata": {},
          "execution_count": 63
        }
      ]
    },
    {
      "cell_type": "code",
      "source": [
        "soup.select('li.item div.desc')[0].li.next_sibling.get_text()"
      ],
      "metadata": {
        "colab": {
          "base_uri": "https://localhost:8080/",
          "height": 34
        },
        "id": "GJ1Arc4A3TL3",
        "outputId": "13caa195-19eb-425e-e9db-661cbd756929"
      },
      "execution_count": 57,
      "outputs": [
        {
          "output_type": "execute_result",
          "data": {
            "application/vnd.google.colaboratory.intrinsic+json": {
              "type": "string"
            },
            "text/plain": [
              "'평점 : 8.5'"
            ]
          },
          "metadata": {},
          "execution_count": 57
        }
      ]
    },
    {
      "cell_type": "code",
      "source": [
        "soup.select('li.item div.desc')[0].li.next_sibling.get_text()[5:]"
      ],
      "metadata": {
        "colab": {
          "base_uri": "https://localhost:8080/",
          "height": 34
        },
        "id": "h-Qz0Rdf-896",
        "outputId": "b2e87314-671d-4999-c098-419a28e37c15"
      },
      "execution_count": 65,
      "outputs": [
        {
          "output_type": "execute_result",
          "data": {
            "application/vnd.google.colaboratory.intrinsic+json": {
              "type": "string"
            },
            "text/plain": [
              "'6.8'"
            ]
          },
          "metadata": {},
          "execution_count": 65
        }
      ]
    },
    {
      "cell_type": "code",
      "source": [
        "soup.select('li.item div.desc')[0].li.next_sibling.next_sibling.get_text()[5:]"
      ],
      "metadata": {
        "colab": {
          "base_uri": "https://localhost:8080/",
          "height": 34
        },
        "id": "gvld43dr5t7W",
        "outputId": "8191b5c9-9661-4190-b5df-5fe9cd417554"
      },
      "execution_count": 66,
      "outputs": [
        {
          "output_type": "execute_result",
          "data": {
            "application/vnd.google.colaboratory.intrinsic+json": {
              "type": "string"
            },
            "text/plain": [
              "'2020-08-05'"
            ]
          },
          "metadata": {},
          "execution_count": 66
        }
      ]
    },
    {
      "cell_type": "code",
      "source": [
        "soup.select('li.item)"
      ],
      "metadata": {
        "id": "8sNFdD0O8y1-"
      },
      "execution_count": null,
      "outputs": []
    },
    {
      "cell_type": "code",
      "source": [
        "import requests\n",
        "from bs4 import BeautifulSoup as bs\n",
        "import pandas as pd\n",
        "\n",
        "year = input()\n",
        "url = \"https://search.daum.net/search?nil_suggest=btn&w=tot&DA=SBC&q={}%EC%98%81%ED%99%94\".format(year)\n",
        "res = requests.get(url)\n",
        "soup = bs(res.text, 'lxml')\n",
        "\n",
        "title = []\n",
        "nation = []\n",
        "rate = []\n",
        "date = []\n",
        "for idx, movie in enumerate(soup.select('li.item div.tooltipTit')): # li.item 까지는 동일 하므로 for문을 나눌필요 없다.\n",
        "  title.append(movie.a.get_text())\n",
        "\n",
        "for idx, movie in enumerate(soup.select('li.item div.desc')): # li.item 까지는 동일 하므로 for문을 나눌필요 없다.\n",
        "  nation.append(movie.li.get_text()[5:-6])\n",
        "  rate.append(movie.li.next_sibling.get_text()[5:])\n",
        "  date.append(movie.li.next_sibling.next_sibling.get_text()[5:])\n",
        "\n",
        "df = pd.DataFrame({'제목':title, '국가':nation, '평점':rate, '개봉일':date})\n",
        "df"
      ],
      "metadata": {
        "colab": {
          "base_uri": "https://localhost:8080/",
          "height": 484
        },
        "id": "5qgXXrMr7mXf",
        "outputId": "3b302966-0c3b-43df-cd80-26803f6aef53"
      },
      "execution_count": 67,
      "outputs": [
        {
          "name": "stdout",
          "output_type": "stream",
          "text": [
            "2020\n"
          ]
        },
        {
          "output_type": "execute_result",
          "data": {
            "text/html": [
              "\n",
              "  <div id=\"df-bb646404-5a35-486b-aac4-ecc83586a0ef\">\n",
              "    <div class=\"colab-df-container\">\n",
              "      <div>\n",
              "<style scoped>\n",
              "    .dataframe tbody tr th:only-of-type {\n",
              "        vertical-align: middle;\n",
              "    }\n",
              "\n",
              "    .dataframe tbody tr th {\n",
              "        vertical-align: top;\n",
              "    }\n",
              "\n",
              "    .dataframe thead th {\n",
              "        text-align: right;\n",
              "    }\n",
              "</style>\n",
              "<table border=\"1\" class=\"dataframe\">\n",
              "  <thead>\n",
              "    <tr style=\"text-align: right;\">\n",
              "      <th></th>\n",
              "      <th>제목</th>\n",
              "      <th>국가</th>\n",
              "      <th>평점</th>\n",
              "      <th>개봉일</th>\n",
              "    </tr>\n",
              "  </thead>\n",
              "  <tbody>\n",
              "    <tr>\n",
              "      <th>0</th>\n",
              "      <td>다만 악에서 구하소서</td>\n",
              "      <td>한국</td>\n",
              "      <td>6.8</td>\n",
              "      <td>2020-08-05</td>\n",
              "    </tr>\n",
              "    <tr>\n",
              "      <th>1</th>\n",
              "      <td>어디갔어, 버나뎃</td>\n",
              "      <td>미국</td>\n",
              "      <td>7.8</td>\n",
              "      <td>2020-10-08</td>\n",
              "    </tr>\n",
              "    <tr>\n",
              "      <th>2</th>\n",
              "      <td>범죄해결 특수반</td>\n",
              "      <td>한국</td>\n",
              "      <td>2.8</td>\n",
              "      <td>2020-05-28</td>\n",
              "    </tr>\n",
              "    <tr>\n",
              "      <th>3</th>\n",
              "      <td>도굴</td>\n",
              "      <td>한국</td>\n",
              "      <td>6.9</td>\n",
              "      <td>2020-11-04</td>\n",
              "    </tr>\n",
              "    <tr>\n",
              "      <th>4</th>\n",
              "      <td>담보</td>\n",
              "      <td>한국</td>\n",
              "      <td>8.5</td>\n",
              "      <td>2020-09-29</td>\n",
              "    </tr>\n",
              "    <tr>\n",
              "      <th>5</th>\n",
              "      <td>엠마</td>\n",
              "      <td>영국</td>\n",
              "      <td>7.0</td>\n",
              "      <td>2020-02-27</td>\n",
              "    </tr>\n",
              "    <tr>\n",
              "      <th>6</th>\n",
              "      <td>해치지않아</td>\n",
              "      <td>한국</td>\n",
              "      <td>6.4</td>\n",
              "      <td>2020-01-15</td>\n",
              "    </tr>\n",
              "    <tr>\n",
              "      <th>7</th>\n",
              "      <td>레벨 16</td>\n",
              "      <td>캐나다</td>\n",
              "      <td>6.3</td>\n",
              "      <td>2020-12-10</td>\n",
              "    </tr>\n",
              "    <tr>\n",
              "      <th>8</th>\n",
              "      <td>공수도</td>\n",
              "      <td>한국</td>\n",
              "      <td>7.8</td>\n",
              "      <td>2020-04-09</td>\n",
              "    </tr>\n",
              "    <tr>\n",
              "      <th>9</th>\n",
              "      <td>반도</td>\n",
              "      <td>한국</td>\n",
              "      <td>5.3</td>\n",
              "      <td>2020-07-15</td>\n",
              "    </tr>\n",
              "    <tr>\n",
              "      <th>10</th>\n",
              "      <td>레이니 데이 인 뉴욕</td>\n",
              "      <td>미국</td>\n",
              "      <td>6.5</td>\n",
              "      <td>2020-05-06</td>\n",
              "    </tr>\n",
              "    <tr>\n",
              "      <th>11</th>\n",
              "      <td>체이싱</td>\n",
              "      <td>러시아</td>\n",
              "      <td>1.0</td>\n",
              "      <td>2020-04-23</td>\n",
              "    </tr>\n",
              "    <tr>\n",
              "      <th>12</th>\n",
              "      <td>애비규환</td>\n",
              "      <td>한국</td>\n",
              "      <td>6.2</td>\n",
              "      <td>2020-11-12</td>\n",
              "    </tr>\n",
              "    <tr>\n",
              "      <th>13</th>\n",
              "      <td>삼진그룹 영어토익반</td>\n",
              "      <td>한국</td>\n",
              "      <td>8.3</td>\n",
              "      <td>2020-10-21</td>\n",
              "    </tr>\n",
              "  </tbody>\n",
              "</table>\n",
              "</div>\n",
              "      <button class=\"colab-df-convert\" onclick=\"convertToInteractive('df-bb646404-5a35-486b-aac4-ecc83586a0ef')\"\n",
              "              title=\"Convert this dataframe to an interactive table.\"\n",
              "              style=\"display:none;\">\n",
              "        \n",
              "  <svg xmlns=\"http://www.w3.org/2000/svg\" height=\"24px\"viewBox=\"0 0 24 24\"\n",
              "       width=\"24px\">\n",
              "    <path d=\"M0 0h24v24H0V0z\" fill=\"none\"/>\n",
              "    <path d=\"M18.56 5.44l.94 2.06.94-2.06 2.06-.94-2.06-.94-.94-2.06-.94 2.06-2.06.94zm-11 1L8.5 8.5l.94-2.06 2.06-.94-2.06-.94L8.5 2.5l-.94 2.06-2.06.94zm10 10l.94 2.06.94-2.06 2.06-.94-2.06-.94-.94-2.06-.94 2.06-2.06.94z\"/><path d=\"M17.41 7.96l-1.37-1.37c-.4-.4-.92-.59-1.43-.59-.52 0-1.04.2-1.43.59L10.3 9.45l-7.72 7.72c-.78.78-.78 2.05 0 2.83L4 21.41c.39.39.9.59 1.41.59.51 0 1.02-.2 1.41-.59l7.78-7.78 2.81-2.81c.8-.78.8-2.07 0-2.86zM5.41 20L4 18.59l7.72-7.72 1.47 1.35L5.41 20z\"/>\n",
              "  </svg>\n",
              "      </button>\n",
              "      \n",
              "  <style>\n",
              "    .colab-df-container {\n",
              "      display:flex;\n",
              "      flex-wrap:wrap;\n",
              "      gap: 12px;\n",
              "    }\n",
              "\n",
              "    .colab-df-convert {\n",
              "      background-color: #E8F0FE;\n",
              "      border: none;\n",
              "      border-radius: 50%;\n",
              "      cursor: pointer;\n",
              "      display: none;\n",
              "      fill: #1967D2;\n",
              "      height: 32px;\n",
              "      padding: 0 0 0 0;\n",
              "      width: 32px;\n",
              "    }\n",
              "\n",
              "    .colab-df-convert:hover {\n",
              "      background-color: #E2EBFA;\n",
              "      box-shadow: 0px 1px 2px rgba(60, 64, 67, 0.3), 0px 1px 3px 1px rgba(60, 64, 67, 0.15);\n",
              "      fill: #174EA6;\n",
              "    }\n",
              "\n",
              "    [theme=dark] .colab-df-convert {\n",
              "      background-color: #3B4455;\n",
              "      fill: #D2E3FC;\n",
              "    }\n",
              "\n",
              "    [theme=dark] .colab-df-convert:hover {\n",
              "      background-color: #434B5C;\n",
              "      box-shadow: 0px 1px 3px 1px rgba(0, 0, 0, 0.15);\n",
              "      filter: drop-shadow(0px 1px 2px rgba(0, 0, 0, 0.3));\n",
              "      fill: #FFFFFF;\n",
              "    }\n",
              "  </style>\n",
              "\n",
              "      <script>\n",
              "        const buttonEl =\n",
              "          document.querySelector('#df-bb646404-5a35-486b-aac4-ecc83586a0ef button.colab-df-convert');\n",
              "        buttonEl.style.display =\n",
              "          google.colab.kernel.accessAllowed ? 'block' : 'none';\n",
              "\n",
              "        async function convertToInteractive(key) {\n",
              "          const element = document.querySelector('#df-bb646404-5a35-486b-aac4-ecc83586a0ef');\n",
              "          const dataTable =\n",
              "            await google.colab.kernel.invokeFunction('convertToInteractive',\n",
              "                                                     [key], {});\n",
              "          if (!dataTable) return;\n",
              "\n",
              "          const docLinkHtml = 'Like what you see? Visit the ' +\n",
              "            '<a target=\"_blank\" href=https://colab.research.google.com/notebooks/data_table.ipynb>data table notebook</a>'\n",
              "            + ' to learn more about interactive tables.';\n",
              "          element.innerHTML = '';\n",
              "          dataTable['output_type'] = 'display_data';\n",
              "          await google.colab.output.renderOutput(dataTable, element);\n",
              "          const docLink = document.createElement('div');\n",
              "          docLink.innerHTML = docLinkHtml;\n",
              "          element.appendChild(docLink);\n",
              "        }\n",
              "      </script>\n",
              "    </div>\n",
              "  </div>\n",
              "  "
            ],
            "text/plain": [
              "             제목   국가   평점         개봉일\n",
              "0   다만 악에서 구하소서   한국  6.8  2020-08-05\n",
              "1     어디갔어, 버나뎃   미국  7.8  2020-10-08\n",
              "2      범죄해결 특수반   한국  2.8  2020-05-28\n",
              "3            도굴   한국  6.9  2020-11-04\n",
              "4            담보   한국  8.5  2020-09-29\n",
              "5            엠마   영국  7.0  2020-02-27\n",
              "6         해치지않아   한국  6.4  2020-01-15\n",
              "7         레벨 16  캐나다  6.3  2020-12-10\n",
              "8           공수도   한국  7.8  2020-04-09\n",
              "9            반도   한국  5.3  2020-07-15\n",
              "10  레이니 데이 인 뉴욕   미국  6.5  2020-05-06\n",
              "11          체이싱  러시아  1.0  2020-04-23\n",
              "12         애비규환   한국  6.2  2020-11-12\n",
              "13   삼진그룹 영어토익반   한국  8.3  2020-10-21"
            ]
          },
          "metadata": {},
          "execution_count": 67
        }
      ]
    },
    {
      "cell_type": "code",
      "source": [
        "# 총 정리 #\n",
        "# 2. 연도를 입력받아 영화정보 데이터 프레임 만들기\n",
        "\n",
        "import requests\n",
        "from bs4 import BeautifulSoup as bs\n",
        "import pandas as pd\n",
        "\n",
        "year = input()\n",
        "url = \"https://search.daum.net/search?nil_suggest=btn&w=tot&DA=SBC&q={}%EC%98%81%ED%99%94\".format(year)\n",
        "res = requests.get(url)\n",
        "soup = bs(res.text, 'lxml')\n",
        "\n",
        "# 미리 빈리스트로 초기화\n",
        "title = []\n",
        "nation = []\n",
        "rate = []\n",
        "date = []\n",
        "\n",
        "# for idx, movie in enumerate(soup.select('li.item div.tooltipTit')): # for문 중복을 피하자\n",
        "for idx, movie in enumerate(soup.select('li.item')):\n",
        "  title.append(movie.select_one('div.tooltipTit').a.get_text())\n",
        "\n",
        "# for idx, movie in enumerate(soup.select('li.item div.desc')):\n",
        "  nation.append(movie.select_one('div.desc').li.get_text()[5:-6])\n",
        "  rate.append(movie.select_one('div.desc').li.next_sibling.get_text()[5:])\n",
        "  date.append(movie.select_one('div.desc').li.next_sibling.next_sibling.get_text()[5:])\n",
        "\n",
        "df = pd.DataFrame({'제목':title, '국가':nation, '평점':rate, '개봉일':date})\n",
        "df"
      ],
      "metadata": {
        "colab": {
          "base_uri": "https://localhost:8080/",
          "height": 484
        },
        "id": "y9UgGqaS9vYk",
        "outputId": "8bf9f643-5c9a-4352-fe57-61c11c324e29"
      },
      "execution_count": 69,
      "outputs": [
        {
          "name": "stdout",
          "output_type": "stream",
          "text": [
            "2020\n"
          ]
        },
        {
          "output_type": "execute_result",
          "data": {
            "text/html": [
              "\n",
              "  <div id=\"df-bf4109e6-d833-4278-9565-42340939ff86\">\n",
              "    <div class=\"colab-df-container\">\n",
              "      <div>\n",
              "<style scoped>\n",
              "    .dataframe tbody tr th:only-of-type {\n",
              "        vertical-align: middle;\n",
              "    }\n",
              "\n",
              "    .dataframe tbody tr th {\n",
              "        vertical-align: top;\n",
              "    }\n",
              "\n",
              "    .dataframe thead th {\n",
              "        text-align: right;\n",
              "    }\n",
              "</style>\n",
              "<table border=\"1\" class=\"dataframe\">\n",
              "  <thead>\n",
              "    <tr style=\"text-align: right;\">\n",
              "      <th></th>\n",
              "      <th>제목</th>\n",
              "      <th>국가</th>\n",
              "      <th>평점</th>\n",
              "      <th>개봉일</th>\n",
              "    </tr>\n",
              "  </thead>\n",
              "  <tbody>\n",
              "    <tr>\n",
              "      <th>0</th>\n",
              "      <td>범죄해결 특수반</td>\n",
              "      <td>한국</td>\n",
              "      <td>2.8</td>\n",
              "      <td>2020-05-28</td>\n",
              "    </tr>\n",
              "    <tr>\n",
              "      <th>1</th>\n",
              "      <td>어디갔어, 버나뎃</td>\n",
              "      <td>미국</td>\n",
              "      <td>7.8</td>\n",
              "      <td>2020-10-08</td>\n",
              "    </tr>\n",
              "    <tr>\n",
              "      <th>2</th>\n",
              "      <td>다만 악에서 구하소서</td>\n",
              "      <td>한국</td>\n",
              "      <td>6.8</td>\n",
              "      <td>2020-08-05</td>\n",
              "    </tr>\n",
              "    <tr>\n",
              "      <th>3</th>\n",
              "      <td>도굴</td>\n",
              "      <td>한국</td>\n",
              "      <td>6.9</td>\n",
              "      <td>2020-11-04</td>\n",
              "    </tr>\n",
              "    <tr>\n",
              "      <th>4</th>\n",
              "      <td>담보</td>\n",
              "      <td>한국</td>\n",
              "      <td>8.5</td>\n",
              "      <td>2020-09-29</td>\n",
              "    </tr>\n",
              "    <tr>\n",
              "      <th>5</th>\n",
              "      <td>레벨 16</td>\n",
              "      <td>캐나다</td>\n",
              "      <td>6.3</td>\n",
              "      <td>2020-12-10</td>\n",
              "    </tr>\n",
              "    <tr>\n",
              "      <th>6</th>\n",
              "      <td>해치지않아</td>\n",
              "      <td>한국</td>\n",
              "      <td>6.4</td>\n",
              "      <td>2020-01-15</td>\n",
              "    </tr>\n",
              "    <tr>\n",
              "      <th>7</th>\n",
              "      <td>엠마</td>\n",
              "      <td>영국</td>\n",
              "      <td>7.0</td>\n",
              "      <td>2020-02-27</td>\n",
              "    </tr>\n",
              "    <tr>\n",
              "      <th>8</th>\n",
              "      <td>공수도</td>\n",
              "      <td>한국</td>\n",
              "      <td>7.8</td>\n",
              "      <td>2020-04-09</td>\n",
              "    </tr>\n",
              "    <tr>\n",
              "      <th>9</th>\n",
              "      <td>반도</td>\n",
              "      <td>한국</td>\n",
              "      <td>5.3</td>\n",
              "      <td>2020-07-15</td>\n",
              "    </tr>\n",
              "    <tr>\n",
              "      <th>10</th>\n",
              "      <td>레이니 데이 인 뉴욕</td>\n",
              "      <td>미국</td>\n",
              "      <td>6.5</td>\n",
              "      <td>2020-05-06</td>\n",
              "    </tr>\n",
              "    <tr>\n",
              "      <th>11</th>\n",
              "      <td>애비규환</td>\n",
              "      <td>한국</td>\n",
              "      <td>6.2</td>\n",
              "      <td>2020-11-12</td>\n",
              "    </tr>\n",
              "    <tr>\n",
              "      <th>12</th>\n",
              "      <td>체이싱</td>\n",
              "      <td>러시아</td>\n",
              "      <td>1.0</td>\n",
              "      <td>2020-04-23</td>\n",
              "    </tr>\n",
              "    <tr>\n",
              "      <th>13</th>\n",
              "      <td>테슬라</td>\n",
              "      <td>미국</td>\n",
              "      <td>5.5</td>\n",
              "      <td>2020-10-28</td>\n",
              "    </tr>\n",
              "  </tbody>\n",
              "</table>\n",
              "</div>\n",
              "      <button class=\"colab-df-convert\" onclick=\"convertToInteractive('df-bf4109e6-d833-4278-9565-42340939ff86')\"\n",
              "              title=\"Convert this dataframe to an interactive table.\"\n",
              "              style=\"display:none;\">\n",
              "        \n",
              "  <svg xmlns=\"http://www.w3.org/2000/svg\" height=\"24px\"viewBox=\"0 0 24 24\"\n",
              "       width=\"24px\">\n",
              "    <path d=\"M0 0h24v24H0V0z\" fill=\"none\"/>\n",
              "    <path d=\"M18.56 5.44l.94 2.06.94-2.06 2.06-.94-2.06-.94-.94-2.06-.94 2.06-2.06.94zm-11 1L8.5 8.5l.94-2.06 2.06-.94-2.06-.94L8.5 2.5l-.94 2.06-2.06.94zm10 10l.94 2.06.94-2.06 2.06-.94-2.06-.94-.94-2.06-.94 2.06-2.06.94z\"/><path d=\"M17.41 7.96l-1.37-1.37c-.4-.4-.92-.59-1.43-.59-.52 0-1.04.2-1.43.59L10.3 9.45l-7.72 7.72c-.78.78-.78 2.05 0 2.83L4 21.41c.39.39.9.59 1.41.59.51 0 1.02-.2 1.41-.59l7.78-7.78 2.81-2.81c.8-.78.8-2.07 0-2.86zM5.41 20L4 18.59l7.72-7.72 1.47 1.35L5.41 20z\"/>\n",
              "  </svg>\n",
              "      </button>\n",
              "      \n",
              "  <style>\n",
              "    .colab-df-container {\n",
              "      display:flex;\n",
              "      flex-wrap:wrap;\n",
              "      gap: 12px;\n",
              "    }\n",
              "\n",
              "    .colab-df-convert {\n",
              "      background-color: #E8F0FE;\n",
              "      border: none;\n",
              "      border-radius: 50%;\n",
              "      cursor: pointer;\n",
              "      display: none;\n",
              "      fill: #1967D2;\n",
              "      height: 32px;\n",
              "      padding: 0 0 0 0;\n",
              "      width: 32px;\n",
              "    }\n",
              "\n",
              "    .colab-df-convert:hover {\n",
              "      background-color: #E2EBFA;\n",
              "      box-shadow: 0px 1px 2px rgba(60, 64, 67, 0.3), 0px 1px 3px 1px rgba(60, 64, 67, 0.15);\n",
              "      fill: #174EA6;\n",
              "    }\n",
              "\n",
              "    [theme=dark] .colab-df-convert {\n",
              "      background-color: #3B4455;\n",
              "      fill: #D2E3FC;\n",
              "    }\n",
              "\n",
              "    [theme=dark] .colab-df-convert:hover {\n",
              "      background-color: #434B5C;\n",
              "      box-shadow: 0px 1px 3px 1px rgba(0, 0, 0, 0.15);\n",
              "      filter: drop-shadow(0px 1px 2px rgba(0, 0, 0, 0.3));\n",
              "      fill: #FFFFFF;\n",
              "    }\n",
              "  </style>\n",
              "\n",
              "      <script>\n",
              "        const buttonEl =\n",
              "          document.querySelector('#df-bf4109e6-d833-4278-9565-42340939ff86 button.colab-df-convert');\n",
              "        buttonEl.style.display =\n",
              "          google.colab.kernel.accessAllowed ? 'block' : 'none';\n",
              "\n",
              "        async function convertToInteractive(key) {\n",
              "          const element = document.querySelector('#df-bf4109e6-d833-4278-9565-42340939ff86');\n",
              "          const dataTable =\n",
              "            await google.colab.kernel.invokeFunction('convertToInteractive',\n",
              "                                                     [key], {});\n",
              "          if (!dataTable) return;\n",
              "\n",
              "          const docLinkHtml = 'Like what you see? Visit the ' +\n",
              "            '<a target=\"_blank\" href=https://colab.research.google.com/notebooks/data_table.ipynb>data table notebook</a>'\n",
              "            + ' to learn more about interactive tables.';\n",
              "          element.innerHTML = '';\n",
              "          dataTable['output_type'] = 'display_data';\n",
              "          await google.colab.output.renderOutput(dataTable, element);\n",
              "          const docLink = document.createElement('div');\n",
              "          docLink.innerHTML = docLinkHtml;\n",
              "          element.appendChild(docLink);\n",
              "        }\n",
              "      </script>\n",
              "    </div>\n",
              "  </div>\n",
              "  "
            ],
            "text/plain": [
              "             제목   국가   평점         개봉일\n",
              "0      범죄해결 특수반   한국  2.8  2020-05-28\n",
              "1     어디갔어, 버나뎃   미국  7.8  2020-10-08\n",
              "2   다만 악에서 구하소서   한국  6.8  2020-08-05\n",
              "3            도굴   한국  6.9  2020-11-04\n",
              "4            담보   한국  8.5  2020-09-29\n",
              "5         레벨 16  캐나다  6.3  2020-12-10\n",
              "6         해치지않아   한국  6.4  2020-01-15\n",
              "7            엠마   영국  7.0  2020-02-27\n",
              "8           공수도   한국  7.8  2020-04-09\n",
              "9            반도   한국  5.3  2020-07-15\n",
              "10  레이니 데이 인 뉴욕   미국  6.5  2020-05-06\n",
              "11         애비규환   한국  6.2  2020-11-12\n",
              "12          체이싱  러시아  1.0  2020-04-23\n",
              "13          테슬라   미국  5.5  2020-10-28"
            ]
          },
          "metadata": {},
          "execution_count": 69
        }
      ]
    }
  ],
  "metadata": {
    "colab": {
      "collapsed_sections": [],
      "name": "Colaboratory에 오신 것을 환영합니다",
      "provenance": [],
      "include_colab_link": true
    },
    "kernelspec": {
      "display_name": "Python 3",
      "name": "python3"
    }
  },
  "nbformat": 4,
  "nbformat_minor": 0
}