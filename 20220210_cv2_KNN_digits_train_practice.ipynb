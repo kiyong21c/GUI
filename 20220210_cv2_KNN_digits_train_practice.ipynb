{
  "cells": [
    {
      "cell_type": "markdown",
      "metadata": {
        "id": "view-in-github",
        "colab_type": "text"
      },
      "source": [
        "<a href=\"https://colab.research.google.com/github/kiyong21c/nadocoding/blob/master/20220210_cv2_KNN_digits_train_practice.ipynb\" target=\"_parent\"><img src=\"https://colab.research.google.com/assets/colab-badge.svg\" alt=\"Open In Colab\"/></a>"
      ]
    },
    {
      "cell_type": "code",
      "source": [
        "from google.colab import drive\n",
        "drive.mount('/content/drive')"
      ],
      "metadata": {
        "id": "uBeWlCn1Mwwa",
        "outputId": "99a11fb5-44ed-4775-9926-82fb79ef1a5b",
        "colab": {
          "base_uri": "https://localhost:8080/"
        }
      },
      "execution_count": 4,
      "outputs": [
        {
          "output_type": "stream",
          "name": "stdout",
          "text": [
            "Mounted at /content/drive\n"
          ]
        }
      ]
    },
    {
      "cell_type": "markdown",
      "source": [
        "# 이미지 합성"
      ],
      "metadata": {
        "id": "zzISvJVQUXcg"
      }
    },
    {
      "cell_type": "code",
      "source": [
        "from google.colab.patches import cv2_imshow # cv2.imshow()는 코랩에서 작동 안함\n",
        "import cv2\n",
        "import pandas as pd\n",
        "import numpy as np\n",
        "import matplotlib.pylab as plt\n",
        "\n",
        "img1 = cv2.imread('/content/drive/MyDrive/Colab Notebooks/plant.jpg')\n",
        "img2 = cv2.imread('/content/drive/MyDrive/Colab Notebooks/poker.jpg')\n",
        "img1 = cv2.resize(img1, (640,509)) # 사이즈를 맞춰줌 (가로, 세로)\n",
        "print(img1.shape) # (509, 640, 3) = (세로범위, 가로범위, RGB) = (rows, cols, channels)\n",
        "print(img2.shape)\n",
        "\n",
        "\n",
        "mix = cv2.addWeighted(img1, float(0.5), img2, float(0.5), 0)\n",
        "cv2_imshow(mix)"
      ],
      "metadata": {
        "id": "Q0V6erL-FaeJ"
      },
      "execution_count": null,
      "outputs": []
    },
    {
      "cell_type": "code",
      "source": [
        "from google.colab.patches import cv2_imshow # cv2.imshow()는 코랩에서 작동 안함\n",
        "import cv2\n",
        "import pandas as pd\n",
        "import numpy as np\n",
        "import matplotlib.pylab as plt\n",
        "\n",
        "img = cv2.imread('/content/drive/MyDrive/Colab Notebooks/digits.png')\n",
        "gray = cv2.cvtColor(img, cv2.COLOR_BGR2GRAY)\n",
        "gray_resize = cv2.resize(gray, (2000, 1000))\n",
        "\n",
        "cells = [np.hsplit(row, 100) for row in np.vsplit(gray_resize, 50)] # [[0, ..., 99], [2row], [3row], ..., [50row]]\n",
        "\n",
        "img = np.array(cells) # 리스트 -> 2차월 배열(array) : [[], [], [], ..., []]\n",
        "\n",
        "\n",
        "# img.shape # (50, 100, 20, 20) : 50 X 100 배열, 배열의 각 요소는 20 X 20\n",
        "# img.size # 2,000,000 : 50 X 100 X (20 X 20)\n",
        "# img[0, 0] # 배열의 첫번째 요소(좌상단)도 역시 20X20의 2차월 배열[[0, ..., 19], [2row], [3row], ..., [20row]]\n",
        "\n",
        "train = img[:,:50] # 50X100 X(20X20) 크기의 이미지를 가로 앞쪽 50크기로 가져옴\n",
        "train.shape # (50, 50, 20, 20)\n",
        "# 이러한 배열은 cv2_imshow() 불가, 2 or 3차원 배열이 아니기 때문\n",
        "\n",
        "# train.reshape(-1, 20).shape # (50000, 20) \n",
        "# cv2_imshow(train.reshape(-1, 20)) # 글자하나의 가로폭크기로 전부 세로로 배치\n",
        "# reshape(세로:유동적, 가로:20) 후 cv2_imshow() 가능 # 참고사이트 : https://rfriend.tistory.com/345\n",
        "\n",
        "# 왜 가로(d)를 400크기? : tran/test의 shape이 (N, d) 일때, train_labels가 (N, 1) # 참고사이트 : https://deep-learning-study.tistory.com/286\n",
        "# 따라서, N값을 맞출것을 고려하여 d값 선정\n",
        "# 총 5000/2의 글자들 중 글자하나(20X20)를 (1X400)으로 길게 늘어뜨리고, 이에 맞는 세로(N)를 유동적(-1)으로 갖게함(N=2500)\n",
        "train = train.reshape(-1, 400).astype(np.float32) # shape (N=2500, d=400)\n",
        "test = img[:, 50:].reshape(-1, 400).astype(np.float32)\n",
        "\n",
        "\n",
        "# 0 부터 9까지 라벨링 / train, test 라벨 생성\n",
        "k = np.arange(10)\n",
        "train_labels = np.repeat(k,250) # array([0, 0, 0, ..., 9, 9, 9]) : k의 각요소를 250번씩 반복\n",
        "# 왜 250번이냐? : train/test를 나눴기 때문에 각 숫자당 250번씩만 씀\n",
        "# 따라서, 0-9까지 10개의 숫자를 250번씩 할당하므로 N=2500 -> (2500, 1)\n",
        "# 따라서, train/test의 shape도 (N, d)로 맞추어야 KNN 알고리즘의 knn.train() 적용가능\n",
        "\n",
        "train_labels = train_labels[:, np.newaxis] # shape (N=2500, d=1)\n",
        "test_labels = train_labels.copy()\n",
        "\n",
        "# KNN 알고리즘 객체 생성\n",
        "knn = cv2.ml.KNearest_create()\n",
        "# KNN 알고리즘 학습\n",
        "knn.train(train, cv2.ml.ROW_SAMPLE, train_labels)\n",
        "# (2500, 400), layout: 학습 데이터 배치 방법, (2500, 1)\n",
        "ret, result, neighbors, dist = knn.findNearest(test, k=5)\n",
        "\n",
        "result # shape (2500, 1), # size 2500\n",
        "# k값으로 이웃값을 찾은 결과 배열\n",
        "\n",
        "matches = result == test_labels # 일치하면 True\n",
        "mismatches = result != test_labels\n",
        "correct = np.count_nonzero(matches) # 2294 : nonzero를 카운트 = True를 카운트\n",
        "\n",
        "accuracy = correct*100.0/result.size\n",
        "print(accuracy) # 91.76 : 인식 성공율\n",
        "\n",
        "np.savez('knn_data.npz',train=train, train_labels=train_labels, test=test, test_labels=test_labels) # savez() : 여러배열을 저장, .npz 배열 저장 확장자\n",
        "\n",
        "with np.load('knn_data.npz') as data: # with로 열면 .close() 필요없음\n",
        "    print(data.files) # ['train', 'train_labels']\n",
        "    train = data['train']\n",
        "    test = data['test']\n",
        "    train_labels = data['train_labels']\n",
        "    test_labels = data['test_labels']\n",
        "\n",
        "    # 불일치한(False) test 배열을 train 배열에 추가 : mismatches를 for문을 통해서 추가해야할듯!!!\n",
        "    # mismatches를 한덩어리로 해서 안됬나???\n",
        "    # for mismatch in mismatches: \n",
        "    train_add = test[np.where(mismatches), :].reshape(-1, 400) # train에 추가할 데이터(불일치한 test 배열)\n",
        "    train_labels_add = test_labels = train_labels[np.where(mismatches), :].reshape(-1, 1) # train_labels에 추가할 데이터(불일치한 test배열의 인덱스에 해당하는 train_labels)\n",
        "    print(train_add.shape)\n",
        "    print(train_labels_add.shape)\n",
        "\n",
        "    train = np.append(train, train_add, axis=0)\n",
        "    train_labels = np.append(train_labels, train_labels_add, axis=0)\n",
        "    print(train.shape) # (2912, 400) 기존데이터 2500rows에 불일치했던 test 배열의 412rows를 append\n",
        "    print(train_labels.shape) # (2912, 1) 2500 + 412 = 2912\n",
        "\n",
        "    # KNN 알고리즘 객체 생성\n",
        "    knn = cv2.ml.KNearest_create()\n",
        "    # KNN 알고리즘 학습\n",
        "    knn.train(train, cv2.ml.ROW_SAMPLE, train_labels)\n",
        "    # (2500, 400), layout: 학습 데이터 배치 방법, (2500, 1)\n",
        "    ret, result, neighbors, dist = knn.findNearest(test, k=5)\n",
        "\n",
        "    result # shape (2500, 1), # size 2500\n",
        "    # k값으로 이웃값을 찾은 결과 배열\n",
        "\n",
        "    matches = result == test_labels # 일치하면 True\n",
        "    mismatches = result != test_labels\n",
        "    correct = np.count_nonzero(matches) # 2294 : nonzero를 카운트 = True를 카운트\n",
        "    print(correct)\n",
        "\n",
        "    accuracy = correct*100.0/result.size\n",
        "    print(accuracy) # 91.76 : 인식 성공율\n",
        "\n"
      ],
      "metadata": {
        "id": "aei1y6_U-TKZ",
        "outputId": "f29bc462-7c33-4839-adec-1b4957d78e85",
        "colab": {
          "base_uri": "https://localhost:8080/"
        }
      },
      "execution_count": 57,
      "outputs": [
        {
          "output_type": "stream",
          "name": "stdout",
          "text": [
            "91.76\n",
            "['train', 'train_labels', 'test', 'test_labels']\n",
            "(412, 400)\n",
            "(412, 1)\n",
            "(2912, 400)\n",
            "(2912, 1)\n",
            "0\n",
            "0.0\n"
          ]
        },
        {
          "output_type": "stream",
          "name": "stderr",
          "text": [
            "/usr/local/lib/python3.7/dist-packages/ipykernel_launcher.py:92: DeprecationWarning: elementwise comparison failed; this will raise an error in the future.\n",
            "/usr/local/lib/python3.7/dist-packages/ipykernel_launcher.py:93: DeprecationWarning: elementwise comparison failed; this will raise an error in the future.\n"
          ]
        }
      ]
    },
    {
      "cell_type": "code",
      "source": [
        ""
      ],
      "metadata": {
        "id": "DWdJFMmpBlws"
      },
      "execution_count": null,
      "outputs": []
    }
  ],
  "metadata": {
    "colab": {
      "collapsed_sections": [],
      "name": "Colaboratory에 오신 것을 환영합니다",
      "provenance": [],
      "include_colab_link": true
    },
    "kernelspec": {
      "display_name": "Python 3",
      "name": "python3"
    }
  },
  "nbformat": 4,
  "nbformat_minor": 0
}