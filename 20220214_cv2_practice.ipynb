{
  "cells": [
    {
      "cell_type": "markdown",
      "metadata": {
        "id": "view-in-github",
        "colab_type": "text"
      },
      "source": [
        "<a href=\"https://colab.research.google.com/github/kiyong21c/nadocoding/blob/master/20220214_cv2_practice.ipynb\" target=\"_parent\"><img src=\"https://colab.research.google.com/assets/colab-badge.svg\" alt=\"Open In Colab\"/></a>"
      ]
    },
    {
      "cell_type": "code",
      "source": [
        "from google.colab import drive\n",
        "drive.mount('/content/drive')"
      ],
      "metadata": {
        "id": "GV9m5iskS3b0",
        "outputId": "49fa0be2-9f26-451e-cbe7-1ab6f41d26e1",
        "colab": {
          "base_uri": "https://localhost:8080/"
        }
      },
      "execution_count": 1,
      "outputs": [
        {
          "output_type": "stream",
          "name": "stdout",
          "text": [
            "Mounted at /content/drive\n"
          ]
        }
      ]
    },
    {
      "cell_type": "code",
      "source": [
        "from google.colab.patches import cv2_imshow # cv2.imshow()는 코랩에서 작동 안함\n",
        "import cv2\n",
        "import pandas as pd\n",
        "import numpy as np\n",
        "import matplotlib.pylab as plt\n",
        "\n",
        "img = cv2.imread('/content/drive/MyDrive/Colab Notebooks/digits.png')\n",
        "\n",
        "print(img.shape) # (1000, 2000, 3)\n",
        "\n",
        "gray = cv2.cvtColor(img, cv2.COLOR_BGR2GRAY)\n",
        "\n",
        "print(gray.shape) # (1000, 2000), 흑백으로 바뀌면서 채널이 사라짐\n",
        "\n",
        "cells = [np.hsplit(row, 100) for row in np.vsplit(img, 50)] # (1000, 2000, 3) 배열을 (50, 100)로 자르면 하나의 요소에 (20, 20) 배열이 들어가게됨\n",
        "img_cells = np.array(cells)\n",
        "# cells는 list 타입이므로 array 형식으로 변경\n",
        "\n",
        "print(img_cells.shape) # (50, 100, 20, 20, 3)\n",
        "# 세로50, 가로 100크기, 하나의 요소가 20x20 크기, 3개의 채널"
      ],
      "metadata": {
        "id": "VeZf08boZxjJ",
        "colab": {
          "base_uri": "https://localhost:8080/"
        },
        "outputId": "223b1a88-f77c-4108-83e7-c8a70a32778a"
      },
      "execution_count": 8,
      "outputs": [
        {
          "output_type": "stream",
          "name": "stdout",
          "text": [
            "(1000, 2000, 3)\n",
            "(1000, 2000)\n",
            "(50, 100, 20, 20, 3)\n"
          ]
        }
      ]
    },
    {
      "cell_type": "code",
      "source": [
        "from google.colab.patches import cv2_imshow # cv2.imshow()는 코랩에서 작동 안함\n",
        "import cv2\n",
        "import pandas as pd\n",
        "import numpy as np\n",
        "import matplotlib.pylab as plt\n",
        "import random\n",
        "\n",
        "arr = np.random.randint(20, size=(3,5))\n",
        "arr\n"
      ],
      "metadata": {
        "id": "J5pj5TxJE0sY",
        "outputId": "91fb0ae7-93d5-44b5-e949-01ef59b46804",
        "colab": {
          "base_uri": "https://localhost:8080/"
        }
      },
      "execution_count": 16,
      "outputs": [
        {
          "output_type": "execute_result",
          "data": {
            "text/plain": [
              "array([[10,  4,  5, 11,  3],\n",
              "       [ 2,  4,  3, 10,  1],\n",
              "       [13, 12,  1, 17, 18]])"
            ]
          },
          "metadata": {},
          "execution_count": 16
        }
      ]
    },
    {
      "cell_type": "code",
      "source": [
        "from google.colab.patches import cv2_imshow # cv2.imshow()는 코랩에서 작동 안함\n",
        "import cv2\n",
        "import pandas as pd\n",
        "import numpy as np\n",
        "import matplotlib.pylab as plt\n",
        "\n",
        "img = cv2.imread('/content/drive/MyDrive/Colab Notebooks/digits.png', cv2.IMREAD_GRAYSCALE)\n",
        "h, w = img.shape # (세로, 가로)\n",
        "\n",
        "cells = [np.hsplit(row, 100) for row in np.vsplit(img, 50)]\n",
        "type(cells) # list\n"
      ],
      "metadata": {
        "id": "FpXDKmoCF-q2",
        "outputId": "561a6c91-5f62-492e-ec57-3d8e6b9a9b9d",
        "colab": {
          "base_uri": "https://localhost:8080/"
        }
      },
      "execution_count": 23,
      "outputs": [
        {
          "output_type": "execute_result",
          "data": {
            "text/plain": [
              "list"
            ]
          },
          "metadata": {},
          "execution_count": 23
        }
      ]
    },
    {
      "cell_type": "code",
      "source": [
        ""
      ],
      "metadata": {
        "id": "bt_rs5r0HdOE"
      },
      "execution_count": null,
      "outputs": []
    }
  ],
  "metadata": {
    "colab": {
      "collapsed_sections": [],
      "name": "Colaboratory에 오신 것을 환영합니다",
      "provenance": [],
      "include_colab_link": true
    },
    "kernelspec": {
      "display_name": "Python 3",
      "name": "python3"
    }
  },
  "nbformat": 4,
  "nbformat_minor": 0
}