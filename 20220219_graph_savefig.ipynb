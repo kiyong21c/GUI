{
  "cells": [
    {
      "cell_type": "markdown",
      "metadata": {
        "id": "view-in-github",
        "colab_type": "text"
      },
      "source": [
        "<a href=\"https://colab.research.google.com/github/kiyong21c/nadocoding/blob/master/20220219_graph_savefig.ipynb\" target=\"_parent\"><img src=\"https://colab.research.google.com/assets/colab-badge.svg\" alt=\"Open In Colab\"/></a>"
      ]
    },
    {
      "cell_type": "code",
      "source": [
        "import pandas as pd\n",
        "import matplotlib.pyplot as plt\n",
        "\n",
        "fig, ax =plt.subplots(1,1)\n",
        "data=[[1,2,3],\n",
        "      [5,6,7],\n",
        "      [8,9,10]]\n",
        "column_labels=[\"Column 1\", \"Column 2\", \"Column 3\"]\n",
        "df=pd.DataFrame(data,columns=column_labels)\n",
        "ax.bar(column_labels, data[0])\n",
        "ax.bar(column_labels, data[1], bottom=data[0])\n",
        "ax.bar(column_labels, data[2], bottom=data[1])\n",
        "\n",
        "ax.axis('tight')\n",
        "ax.spines['bottom'].set_visible(False)\n",
        "ax.set_xticks([])\n",
        "# ax.axis('off')\n",
        "\n",
        "ax.table(cellText=df.values,\n",
        "        cellLoc = \"center\",\n",
        "        colLabels=df.columns,\n",
        "        rowLabels=[\"A\",\"B\",\"C\"],\n",
        "        rowColours =[\"yellow\"] * 3,  \n",
        "        rowLoc = \"center\",\n",
        "        colColours =[\"yellow\"] * 3,\n",
        "        colLoc = \"center\",\n",
        "        loc=\"bottom\")\n",
        "fig.show() # ok\n",
        "plt.show() # ok\n",
        "# ax.show() # error"
      ],
      "metadata": {
        "colab": {
          "base_uri": "https://localhost:8080/",
          "height": 296
        },
        "id": "-cfuBpjXberW",
        "outputId": "028426a8-57e7-4e9c-fcc2-1b57e8b57aca"
      },
      "execution_count": 81,
      "outputs": [
        {
          "output_type": "display_data",
          "data": {
            "image/png": "[encoded data removed]",
            "text/plain": [
              "<Figure size 432x288 with 1 Axes>"
            ]
          },
          "metadata": {
            "needs_background": "light"
          }
        }
      ]
    },
    {
      "cell_type": "code",
      "source": [
        "df.values # plt.table() 인자로 cellText = 배열 형태"
      ],
      "metadata": {
        "colab": {
          "base_uri": "https://localhost:8080/"
        },
        "id": "btxh45lcbfKP",
        "outputId": "ffa5f634-489b-4e2d-de59-30089b2b9643"
      },
      "execution_count": 73,
      "outputs": [
        {
          "output_type": "execute_result",
          "data": {
            "text/plain": [
              "array([[ 1,  2,  3],\n",
              "       [ 5,  6,  7],\n",
              "       [ 8,  9, 10]])"
            ]
          },
          "metadata": {},
          "execution_count": 73
        }
      ]
    },
    {
      "cell_type": "code",
      "source": [
        "fig.savefig('savefig_facecolor.png', facecolor='#eeeeee') # 그래프 나옴"
      ],
      "metadata": {
        "id": "uM9Pce0BkwJa"
      },
      "execution_count": 84,
      "outputs": []
    },
    {
      "cell_type": "code",
      "source": [
        "plt.savefig('savefig_facecolor.png', facecolor='#eeeeee') # 그래프 없음"
      ],
      "metadata": {
        "id": "0CrO4yZPl0J9",
        "outputId": "03138451-c9a1-4039-af91-8cd0eec4cc6d",
        "colab": {
          "base_uri": "https://localhost:8080/",
          "height": 35
        }
      },
      "execution_count": 83,
      "outputs": [
        {
          "output_type": "display_data",
          "data": {
            "text/plain": [
              "<Figure size 432x288 with 0 Axes>"
            ]
          },
          "metadata": {}
        }
      ]
    }
  ],
  "metadata": {
    "colab": {
      "collapsed_sections": [],
      "name": "Colaboratory에 오신 것을 환영합니다",
      "provenance": [],
      "include_colab_link": true
    },
    "kernelspec": {
      "display_name": "Python 3",
      "name": "python3"
    }
  },
  "nbformat": 4,
  "nbformat_minor": 0
}