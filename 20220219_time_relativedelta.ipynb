{
  "cells": [
    {
      "cell_type": "markdown",
      "metadata": {
        "id": "view-in-github",
        "colab_type": "text"
      },
      "source": [
        "<a href=\"https://colab.research.google.com/github/kiyong21c/nadocoding/blob/master/20220219_time_relativedelta.ipynb\" target=\"_parent\"><img src=\"https://colab.research.google.com/assets/colab-badge.svg\" alt=\"Open In Colab\"/></a>"
      ]
    },
    {
      "cell_type": "code",
      "source": [
        "import time # 데이터 처리시간 측정을 위해\n",
        "import pandas as pd\n",
        "from datetime import datetime, timedelta\n",
        "\n",
        "now = datetime.now()\n",
        "now"
      ],
      "metadata": {
        "id": "eiqFgWpRRnUa",
        "outputId": "60ad2c28-2d3e-427e-852f-8f5ea326aba1",
        "colab": {
          "base_uri": "https://localhost:8080/"
        }
      },
      "execution_count": 14,
      "outputs": [
        {
          "output_type": "execute_result",
          "data": {
            "text/plain": [
              "datetime.datetime(2022, 2, 19, 4, 50, 45, 237145)"
            ]
          },
          "metadata": {},
          "execution_count": 14
        }
      ]
    },
    {
      "cell_type": "code",
      "source": [
        "datetime.now() # datetime.datetime(2022, 2, 19, 4, 42, 12, 832831)\n",
        "datetime.today() # datetime.datetime(2022, 2, 19, 4, 45, 58, 819395)"
      ],
      "metadata": {
        "id": "DVVtGUMSSaJX",
        "outputId": "daacfbfc-3fb7-4f98-d88d-460ec8905245",
        "colab": {
          "base_uri": "https://localhost:8080/"
        }
      },
      "execution_count": 8,
      "outputs": [
        {
          "output_type": "execute_result",
          "data": {
            "text/plain": [
              "datetime.datetime(2022, 2, 19, 4, 45, 58, 819395)"
            ]
          },
          "metadata": {},
          "execution_count": 8
        }
      ]
    },
    {
      "cell_type": "markdown",
      "source": [
        "# 데이터 연산 속도 비교\n",
        "> 1. 변수를 별도로 만들고 변수를 대입하여 연산\n",
        "> 2. 변수를 별도로 만들지 않고 바로 대입하여 연산\n",
        "> 2번의 속도가 빠르다.\n"
      ],
      "metadata": {
        "id": "MtgWymWCUkvH"
      }
    },
    {
      "cell_type": "code",
      "source": [
        "now = datetime.now().strftime(\"%Y-%m-%d\")\n",
        "now # '2022-02-19' 문자열형태"
      ],
      "metadata": {
        "id": "Yb7Q_yivTU32",
        "outputId": "05708c7d-6736-4c2c-8c86-32ef05379b44",
        "colab": {
          "base_uri": "https://localhost:8080/",
          "height": 36
        }
      },
      "execution_count": 15,
      "outputs": [
        {
          "output_type": "execute_result",
          "data": {
            "application/vnd.google.colaboratory.intrinsic+json": {
              "type": "string"
            },
            "text/plain": [
              "'2022-02-19'"
            ]
          },
          "metadata": {},
          "execution_count": 15
        }
      ]
    },
    {
      "cell_type": "code",
      "source": [
        "# 1. 변수를 변도로 만든 후 사용\n",
        "t1 = time.time()\n",
        "dt = pd.date_range(now, periods=12, freq='MS') # 인자로 들어가는 now는 datetime/문자열 형태 상관 없음\n",
        "t2 = time.time()\n",
        "print(t2-t1)\n",
        "dt"
      ],
      "metadata": {
        "id": "wfEeQ60DRwzI",
        "outputId": "f5ef0ea9-d9c7-4136-e5cc-91228f9bec40",
        "colab": {
          "base_uri": "https://localhost:8080/"
        }
      },
      "execution_count": 18,
      "outputs": [
        {
          "output_type": "stream",
          "name": "stdout",
          "text": [
            "0.0006937980651855469\n"
          ]
        },
        {
          "output_type": "execute_result",
          "data": {
            "text/plain": [
              "DatetimeIndex(['2022-03-01', '2022-04-01', '2022-05-01', '2022-06-01',\n",
              "               '2022-07-01', '2022-08-01', '2022-09-01', '2022-10-01',\n",
              "               '2022-11-01', '2022-12-01', '2023-01-01', '2023-02-01'],\n",
              "              dtype='datetime64[ns]', freq='MS')"
            ]
          },
          "metadata": {},
          "execution_count": 18
        }
      ]
    },
    {
      "cell_type": "code",
      "source": [
        "# 2. 변수를 직접 넣어 사용\n",
        "t1 = time.time()\n",
        "dt = pd.date_range(datetime.now().strftime(\"%Y-%m-%d\"), periods=12, freq='MS') # 인자로 들어가는 now는 datetime/문자열 형태 상관 없음\n",
        "t2 = time.time()\n",
        "print(t2-t1)\n",
        "dt"
      ],
      "metadata": {
        "id": "7RRgcOy7ThPQ",
        "outputId": "a228b999-d25e-40ef-95cf-366254cc6a61",
        "colab": {
          "base_uri": "https://localhost:8080/"
        }
      },
      "execution_count": 17,
      "outputs": [
        {
          "output_type": "stream",
          "name": "stdout",
          "text": [
            "0.0004892349243164062\n"
          ]
        },
        {
          "output_type": "execute_result",
          "data": {
            "text/plain": [
              "DatetimeIndex(['2022-03-01', '2022-04-01', '2022-05-01', '2022-06-01',\n",
              "               '2022-07-01', '2022-08-01', '2022-09-01', '2022-10-01',\n",
              "               '2022-11-01', '2022-12-01', '2023-01-01', '2023-02-01'],\n",
              "              dtype='datetime64[ns]', freq='MS')"
            ]
          },
          "metadata": {},
          "execution_count": 17
        }
      ]
    },
    {
      "cell_type": "markdown",
      "source": [
        "# datetime 타입과 strftime으로 만들어진 문자열 데이터의 연산속도 비교\n",
        "> 유의미한 차이 없다"
      ],
      "metadata": {
        "id": "mbqFJZwxVDsT"
      }
    },
    {
      "cell_type": "code",
      "source": [
        "# 1. strftime 문자열 데이터\n",
        "t1 = time.time()\n",
        "dt = pd.date_range(now, periods=12, freq='MS') # 인자로 들어가는 now는 datetime/문자열 형태 상관 없음\n",
        "t2 = time.time()\n",
        "print(t2-t1)\n",
        "dt"
      ],
      "metadata": {
        "id": "Up_RvvRCUeyb",
        "outputId": "e14e5a7f-7d8c-4b93-9939-e7ace8922a68",
        "colab": {
          "base_uri": "https://localhost:8080/"
        }
      },
      "execution_count": 27,
      "outputs": [
        {
          "output_type": "stream",
          "name": "stdout",
          "text": [
            "0.0004322528839111328\n"
          ]
        },
        {
          "output_type": "execute_result",
          "data": {
            "text/plain": [
              "DatetimeIndex(['2022-03-01', '2022-04-01', '2022-05-01', '2022-06-01',\n",
              "               '2022-07-01', '2022-08-01', '2022-09-01', '2022-10-01',\n",
              "               '2022-11-01', '2022-12-01', '2023-01-01', '2023-02-01'],\n",
              "              dtype='datetime64[ns]', freq='MS')"
            ]
          },
          "metadata": {},
          "execution_count": 27
        }
      ]
    },
    {
      "cell_type": "code",
      "source": [
        "# 1. strftime 문자열 데이터\n",
        "t1 = time.time()\n",
        "dt = pd.date_range(datetime.now(), periods=12, freq='MS') # 인자로 들어가는 now는 datetime/문자열 형태 상관 없음\n",
        "t2 = time.time()\n",
        "print(t2-t1)\n",
        "dt"
      ],
      "metadata": {
        "id": "1sEKg2niVn5F",
        "outputId": "7b9abe7d-6321-4fda-bda2-564d14e2c317",
        "colab": {
          "base_uri": "https://localhost:8080/"
        }
      },
      "execution_count": 28,
      "outputs": [
        {
          "output_type": "stream",
          "name": "stdout",
          "text": [
            "0.0006854534149169922\n"
          ]
        },
        {
          "output_type": "execute_result",
          "data": {
            "text/plain": [
              "DatetimeIndex(['2022-03-01 04:57:50.977588', '2022-04-01 04:57:50.977588',\n",
              "               '2022-05-01 04:57:50.977588', '2022-06-01 04:57:50.977588',\n",
              "               '2022-07-01 04:57:50.977588', '2022-08-01 04:57:50.977588',\n",
              "               '2022-09-01 04:57:50.977588', '2022-10-01 04:57:50.977588',\n",
              "               '2022-11-01 04:57:50.977588', '2022-12-01 04:57:50.977588',\n",
              "               '2023-01-01 04:57:50.977588', '2023-02-01 04:57:50.977588'],\n",
              "              dtype='datetime64[ns]', freq='MS')"
            ]
          },
          "metadata": {},
          "execution_count": 28
        }
      ]
    },
    {
      "cell_type": "code",
      "source": [
        "now = datetime.now().strftime(\"%Y-%m-%d\")\n",
        "now # '2022-02-19' 문자열형태"
      ],
      "metadata": {
        "id": "pgMXoY3YVumP",
        "outputId": "f84dbb78-4fcf-404e-c73c-505c73fd60ea",
        "colab": {
          "base_uri": "https://localhost:8080/",
          "height": 36
        }
      },
      "execution_count": 29,
      "outputs": [
        {
          "output_type": "execute_result",
          "data": {
            "application/vnd.google.colaboratory.intrinsic+json": {
              "type": "string"
            },
            "text/plain": [
              "'2022-02-19'"
            ]
          },
          "metadata": {},
          "execution_count": 29
        }
      ]
    },
    {
      "cell_type": "code",
      "source": [
        "pd.date_range(now, periods=13, freq='MS') + timedelta(days=14) # timedelta()는 years, months계산 불가"
      ],
      "metadata": {
        "id": "rdHwN7t9WKXG",
        "outputId": "72aace90-4fb5-41d8-b72b-250e831a3228",
        "colab": {
          "base_uri": "https://localhost:8080/"
        }
      },
      "execution_count": 40,
      "outputs": [
        {
          "output_type": "execute_result",
          "data": {
            "text/plain": [
              "DatetimeIndex(['2022-03-15', '2022-04-15', '2022-05-15', '2022-06-15',\n",
              "               '2022-07-15', '2022-08-15', '2022-09-15', '2022-10-15',\n",
              "               '2022-11-15', '2022-12-15', '2023-01-15', '2023-02-15',\n",
              "               '2023-03-15'],\n",
              "              dtype='datetime64[ns]', freq=None)"
            ]
          },
          "metadata": {},
          "execution_count": 40
        }
      ]
    },
    {
      "cell_type": "code",
      "source": [
        "from dateutil.relativedelta import relativedelta\n",
        "\n",
        "now_m = datetime.now().month # 현재월 : 2\n",
        "# pd.date_range(now, periods=13, freq='MS') + timedelta(days=14) - relativedelta(months=now_m+1)\n",
        "# relativedelta() 함수는 리스트 계산 불가 → 반복문 사용\n",
        "dt = []\n",
        "for i in pd.date_range(now, periods=13, freq='MS') + timedelta(days=14):\n",
        "    dt.append(i - relativedelta(months=now_m+1))\n",
        "dt"
      ],
      "metadata": {
        "id": "JIyioEx2W2KG",
        "outputId": "1d83a90b-11b2-4979-f60d-949606b8832c",
        "colab": {
          "base_uri": "https://localhost:8080/"
        }
      },
      "execution_count": 48,
      "outputs": [
        {
          "output_type": "execute_result",
          "data": {
            "text/plain": [
              "[Timestamp('2021-12-15 00:00:00'),\n",
              " Timestamp('2022-01-15 00:00:00'),\n",
              " Timestamp('2022-02-15 00:00:00'),\n",
              " Timestamp('2022-03-15 00:00:00'),\n",
              " Timestamp('2022-04-15 00:00:00'),\n",
              " Timestamp('2022-05-15 00:00:00'),\n",
              " Timestamp('2022-06-15 00:00:00'),\n",
              " Timestamp('2022-07-15 00:00:00'),\n",
              " Timestamp('2022-08-15 00:00:00'),\n",
              " Timestamp('2022-09-15 00:00:00'),\n",
              " Timestamp('2022-10-15 00:00:00'),\n",
              " Timestamp('2022-11-15 00:00:00'),\n",
              " Timestamp('2022-12-15 00:00:00')]"
            ]
          },
          "metadata": {},
          "execution_count": 48
        }
      ]
    },
    {
      "cell_type": "code",
      "source": [
        "pd.DataFrame({'dt':dt})"
      ],
      "metadata": {
        "id": "acMmJ1i9XLm5",
        "outputId": "3a9f8259-0263-4420-f118-e53e78efb2e0",
        "colab": {
          "base_uri": "https://localhost:8080/",
          "height": 457
        }
      },
      "execution_count": 44,
      "outputs": [
        {
          "output_type": "execute_result",
          "data": {
            "text/html": [
              "\n",
              "  <div id=\"df-6286d39f-499b-449f-8193-c11881b1c466\">\n",
              "    <div class=\"colab-df-container\">\n",
              "      <div>\n",
              "<style scoped>\n",
              "    .dataframe tbody tr th:only-of-type {\n",
              "        vertical-align: middle;\n",
              "    }\n",
              "\n",
              "    .dataframe tbody tr th {\n",
              "        vertical-align: top;\n",
              "    }\n",
              "\n",
              "    .dataframe thead th {\n",
              "        text-align: right;\n",
              "    }\n",
              "</style>\n",
              "<table border=\"1\" class=\"dataframe\">\n",
              "  <thead>\n",
              "    <tr style=\"text-align: right;\">\n",
              "      <th></th>\n",
              "      <th>dt</th>\n",
              "    </tr>\n",
              "  </thead>\n",
              "  <tbody>\n",
              "    <tr>\n",
              "      <th>0</th>\n",
              "      <td>2022-01-15</td>\n",
              "    </tr>\n",
              "    <tr>\n",
              "      <th>1</th>\n",
              "      <td>2022-02-15</td>\n",
              "    </tr>\n",
              "    <tr>\n",
              "      <th>2</th>\n",
              "      <td>2022-03-15</td>\n",
              "    </tr>\n",
              "    <tr>\n",
              "      <th>3</th>\n",
              "      <td>2022-04-15</td>\n",
              "    </tr>\n",
              "    <tr>\n",
              "      <th>4</th>\n",
              "      <td>2022-05-15</td>\n",
              "    </tr>\n",
              "    <tr>\n",
              "      <th>5</th>\n",
              "      <td>2022-06-15</td>\n",
              "    </tr>\n",
              "    <tr>\n",
              "      <th>6</th>\n",
              "      <td>2022-07-15</td>\n",
              "    </tr>\n",
              "    <tr>\n",
              "      <th>7</th>\n",
              "      <td>2022-08-15</td>\n",
              "    </tr>\n",
              "    <tr>\n",
              "      <th>8</th>\n",
              "      <td>2022-09-15</td>\n",
              "    </tr>\n",
              "    <tr>\n",
              "      <th>9</th>\n",
              "      <td>2022-10-15</td>\n",
              "    </tr>\n",
              "    <tr>\n",
              "      <th>10</th>\n",
              "      <td>2022-11-15</td>\n",
              "    </tr>\n",
              "    <tr>\n",
              "      <th>11</th>\n",
              "      <td>2022-12-15</td>\n",
              "    </tr>\n",
              "    <tr>\n",
              "      <th>12</th>\n",
              "      <td>2023-01-15</td>\n",
              "    </tr>\n",
              "  </tbody>\n",
              "</table>\n",
              "</div>\n",
              "      <button class=\"colab-df-convert\" onclick=\"convertToInteractive('df-6286d39f-499b-449f-8193-c11881b1c466')\"\n",
              "              title=\"Convert this dataframe to an interactive table.\"\n",
              "              style=\"display:none;\">\n",
              "        \n",
              "  <svg xmlns=\"http://www.w3.org/2000/svg\" height=\"24px\"viewBox=\"0 0 24 24\"\n",
              "       width=\"24px\">\n",
              "    <path d=\"M0 0h24v24H0V0z\" fill=\"none\"/>\n",
              "    <path d=\"M18.56 5.44l.94 2.06.94-2.06 2.06-.94-2.06-.94-.94-2.06-.94 2.06-2.06.94zm-11 1L8.5 8.5l.94-2.06 2.06-.94-2.06-.94L8.5 2.5l-.94 2.06-2.06.94zm10 10l.94 2.06.94-2.06 2.06-.94-2.06-.94-.94-2.06-.94 2.06-2.06.94z\"/><path d=\"M17.41 7.96l-1.37-1.37c-.4-.4-.92-.59-1.43-.59-.52 0-1.04.2-1.43.59L10.3 9.45l-7.72 7.72c-.78.78-.78 2.05 0 2.83L4 21.41c.39.39.9.59 1.41.59.51 0 1.02-.2 1.41-.59l7.78-7.78 2.81-2.81c.8-.78.8-2.07 0-2.86zM5.41 20L4 18.59l7.72-7.72 1.47 1.35L5.41 20z\"/>\n",
              "  </svg>\n",
              "      </button>\n",
              "      \n",
              "  <style>\n",
              "    .colab-df-container {\n",
              "      display:flex;\n",
              "      flex-wrap:wrap;\n",
              "      gap: 12px;\n",
              "    }\n",
              "\n",
              "    .colab-df-convert {\n",
              "      background-color: #E8F0FE;\n",
              "      border: none;\n",
              "      border-radius: 50%;\n",
              "      cursor: pointer;\n",
              "      display: none;\n",
              "      fill: #1967D2;\n",
              "      height: 32px;\n",
              "      padding: 0 0 0 0;\n",
              "      width: 32px;\n",
              "    }\n",
              "\n",
              "    .colab-df-convert:hover {\n",
              "      background-color: #E2EBFA;\n",
              "      box-shadow: 0px 1px 2px rgba(60, 64, 67, 0.3), 0px 1px 3px 1px rgba(60, 64, 67, 0.15);\n",
              "      fill: #174EA6;\n",
              "    }\n",
              "\n",
              "    [theme=dark] .colab-df-convert {\n",
              "      background-color: #3B4455;\n",
              "      fill: #D2E3FC;\n",
              "    }\n",
              "\n",
              "    [theme=dark] .colab-df-convert:hover {\n",
              "      background-color: #434B5C;\n",
              "      box-shadow: 0px 1px 3px 1px rgba(0, 0, 0, 0.15);\n",
              "      filter: drop-shadow(0px 1px 2px rgba(0, 0, 0, 0.3));\n",
              "      fill: #FFFFFF;\n",
              "    }\n",
              "  </style>\n",
              "\n",
              "      <script>\n",
              "        const buttonEl =\n",
              "          document.querySelector('#df-6286d39f-499b-449f-8193-c11881b1c466 button.colab-df-convert');\n",
              "        buttonEl.style.display =\n",
              "          google.colab.kernel.accessAllowed ? 'block' : 'none';\n",
              "\n",
              "        async function convertToInteractive(key) {\n",
              "          const element = document.querySelector('#df-6286d39f-499b-449f-8193-c11881b1c466');\n",
              "          const dataTable =\n",
              "            await google.colab.kernel.invokeFunction('convertToInteractive',\n",
              "                                                     [key], {});\n",
              "          if (!dataTable) return;\n",
              "\n",
              "          const docLinkHtml = 'Like what you see? Visit the ' +\n",
              "            '<a target=\"_blank\" href=https://colab.research.google.com/notebooks/data_table.ipynb>data table notebook</a>'\n",
              "            + ' to learn more about interactive tables.';\n",
              "          element.innerHTML = '';\n",
              "          dataTable['output_type'] = 'display_data';\n",
              "          await google.colab.output.renderOutput(dataTable, element);\n",
              "          const docLink = document.createElement('div');\n",
              "          docLink.innerHTML = docLinkHtml;\n",
              "          element.appendChild(docLink);\n",
              "        }\n",
              "      </script>\n",
              "    </div>\n",
              "  </div>\n",
              "  "
            ],
            "text/plain": [
              "           dt\n",
              "0  2022-01-15\n",
              "1  2022-02-15\n",
              "2  2022-03-15\n",
              "3  2022-04-15\n",
              "4  2022-05-15\n",
              "5  2022-06-15\n",
              "6  2022-07-15\n",
              "7  2022-08-15\n",
              "8  2022-09-15\n",
              "9  2022-10-15\n",
              "10 2022-11-15\n",
              "11 2022-12-15\n",
              "12 2023-01-15"
            ]
          },
          "metadata": {},
          "execution_count": 44
        }
      ]
    },
    {
      "cell_type": "code",
      "source": [
        ""
      ],
      "metadata": {
        "id": "Is_70aOFZlZP"
      },
      "execution_count": null,
      "outputs": []
    }
  ],
  "metadata": {
    "colab": {
      "collapsed_sections": [],
      "name": "Colaboratory에 오신 것을 환영합니다",
      "provenance": [],
      "include_colab_link": true
    },
    "kernelspec": {
      "display_name": "Python 3",
      "name": "python3"
    }
  },
  "nbformat": 4,
  "nbformat_minor": 0
}