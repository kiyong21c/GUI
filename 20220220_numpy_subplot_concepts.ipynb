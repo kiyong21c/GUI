{
  "cells": [
    {
      "cell_type": "markdown",
      "metadata": {
        "id": "view-in-github",
        "colab_type": "text"
      },
      "source": [
        "<a href=\"https://colab.research.google.com/github/kiyong21c/nadocoding/blob/master/20220220_numpy_subplot_concepts.ipynb\" target=\"_parent\"><img src=\"https://colab.research.google.com/assets/colab-badge.svg\" alt=\"Open In Colab\"/></a>"
      ]
    },
    {
      "cell_type": "code",
      "source": [
        "import cv2"
      ],
      "metadata": {
        "id": "yhnmPpSuIq4f"
      },
      "execution_count": 2,
      "outputs": []
    },
    {
      "cell_type": "code",
      "source": [
        "key = cv2.waitKey(0) & "
      ],
      "metadata": {
        "id": "4iHiJSxaIr3r"
      },
      "execution_count": null,
      "outputs": []
    },
    {
      "cell_type": "code",
      "source": [
        "from google.colab import drive\n",
        "drive.mount('/content/drive')"
      ],
      "metadata": {
        "id": "qO6DsP_dJD0X",
        "outputId": "689b103f-c5f3-4b55-94d0-6eb24bbad03e",
        "colab": {
          "base_uri": "https://localhost:8080/"
        }
      },
      "execution_count": 3,
      "outputs": [
        {
          "output_type": "stream",
          "name": "stdout",
          "text": [
            "Mounted at /content/drive\n"
          ]
        }
      ]
    },
    {
      "cell_type": "code",
      "source": [
        "import numpy as np\n",
        "\n",
        "\n",
        "f = np.zeros((2,3))\n",
        "f"
      ],
      "metadata": {
        "id": "Syiw3w1ALfue",
        "outputId": "1ef9fc8d-6563-42b9-e5ab-ebf2d9e580d5",
        "colab": {
          "base_uri": "https://localhost:8080/"
        }
      },
      "execution_count": 6,
      "outputs": [
        {
          "output_type": "execute_result",
          "data": {
            "text/plain": [
              "array([[0., 0., 0.],\n",
              "       [0., 0., 0.]])"
            ]
          },
          "metadata": {},
          "execution_count": 6
        }
      ]
    },
    {
      "cell_type": "code",
      "source": [
        "# 아래 5가지 출력 값이 모두 같다\n",
        "f.reshape((6)) # (6,)\n",
        "f.reshape((-1)) # (6,)\n",
        "f.reshape((6,)) # (,6) : 오류\n",
        "np.ravel(f)\n",
        "f.ravel()"
      ],
      "metadata": {
        "id": "Ytcl157JLic6",
        "outputId": "e4d230fb-7698-4da7-f95a-42f04ef0c246",
        "colab": {
          "base_uri": "https://localhost:8080/"
        }
      },
      "execution_count": 13,
      "outputs": [
        {
          "output_type": "execute_result",
          "data": {
            "text/plain": [
              "array([0., 0., 0., 0., 0., 0.])"
            ]
          },
          "metadata": {},
          "execution_count": 13
        }
      ]
    },
    {
      "cell_type": "code",
      "source": [
        "data = np.arange(12).reshape(4,3)\n",
        "data"
      ],
      "metadata": {
        "id": "f8np-F8mOcjF",
        "outputId": "369f98d1-c412-4941-c224-8d578e02d858",
        "colab": {
          "base_uri": "https://localhost:8080/"
        }
      },
      "execution_count": 17,
      "outputs": [
        {
          "output_type": "execute_result",
          "data": {
            "text/plain": [
              "array([[ 0,  1,  2],\n",
              "       [ 3,  4,  5],\n",
              "       [ 6,  7,  8],\n",
              "       [ 9, 10, 11]])"
            ]
          },
          "metadata": {},
          "execution_count": 17
        }
      ]
    },
    {
      "cell_type": "code",
      "source": [
        "data_split = np.split(data, 2, 0) # hsplit, vsplit으로 하면 축지정 필요 없음"
      ],
      "metadata": {
        "id": "U9gGfJXeOi-7"
      },
      "execution_count": 23,
      "outputs": []
    },
    {
      "cell_type": "code",
      "source": [
        "np.array(data_split) # split() 리스트 형태로 반환"
      ],
      "metadata": {
        "id": "PIH0DQRNOwpK",
        "outputId": "dcf60838-8e70-4310-97b0-347163320f5b",
        "colab": {
          "base_uri": "https://localhost:8080/"
        }
      },
      "execution_count": 26,
      "outputs": [
        {
          "output_type": "execute_result",
          "data": {
            "text/plain": [
              "array([[[ 0,  1,  2],\n",
              "        [ 3,  4,  5]],\n",
              "\n",
              "       [[ 6,  7,  8],\n",
              "        [ 9, 10, 11]]])"
            ]
          },
          "metadata": {},
          "execution_count": 26
        }
      ]
    },
    {
      "cell_type": "code",
      "source": [
        "data_vsplit = np.vsplit(data, 2)"
      ],
      "metadata": {
        "id": "1v-yP6K7PE7-"
      },
      "execution_count": 35,
      "outputs": []
    },
    {
      "cell_type": "code",
      "source": [
        "np.array(data_vsplit)"
      ],
      "metadata": {
        "id": "qJIZB9QwPeuT",
        "outputId": "13e2a298-05c9-4dc8-ddbe-eba000a7a516",
        "colab": {
          "base_uri": "https://localhost:8080/"
        }
      },
      "execution_count": 36,
      "outputs": [
        {
          "output_type": "execute_result",
          "data": {
            "text/plain": [
              "array([[[ 0,  1,  2],\n",
              "        [ 3,  4,  5]],\n",
              "\n",
              "       [[ 6,  7,  8],\n",
              "        [ 9, 10, 11]]])"
            ]
          },
          "metadata": {},
          "execution_count": 36
        }
      ]
    },
    {
      "cell_type": "code",
      "source": [
        "np.where(data>5) # 배열에서 조건에해당하는 인덱스를 튜플(x, y)로 반환 : ([x1, x2, x3, ...], [y1, y2, y3, ...])"
      ],
      "metadata": {
        "id": "-FeVcE93P3LQ",
        "outputId": "fb7415ee-97b9-44d8-d1bc-18bead3986cc",
        "colab": {
          "base_uri": "https://localhost:8080/"
        }
      },
      "execution_count": 37,
      "outputs": [
        {
          "output_type": "execute_result",
          "data": {
            "text/plain": [
              "(array([2, 2, 2, 3, 3, 3]), array([0, 1, 2, 0, 1, 2]))"
            ]
          },
          "metadata": {},
          "execution_count": 37
        }
      ]
    },
    {
      "cell_type": "code",
      "source": [
        "condition = np.where(data>5)\n",
        "np.stack((condition[0], condition[1]), 1) # 2차원 배열 : [[x1, y1], [x2, y2], ...]"
      ],
      "metadata": {
        "id": "5j3rOax5SKkv",
        "outputId": "c36c6972-eed8-4083-ed94-902eaed310c2",
        "colab": {
          "base_uri": "https://localhost:8080/"
        }
      },
      "execution_count": 45,
      "outputs": [
        {
          "output_type": "execute_result",
          "data": {
            "text/plain": [
              "array([[2, 0],\n",
              "       [2, 1],\n",
              "       [2, 2],\n",
              "       [3, 0],\n",
              "       [3, 1],\n",
              "       [3, 2]])"
            ]
          },
          "metadata": {},
          "execution_count": 45
        }
      ]
    },
    {
      "cell_type": "code",
      "source": [
        "data[condition] = 1 # where로 만든 조건을 적용"
      ],
      "metadata": {
        "id": "Zwa_jaTLSgtI"
      },
      "execution_count": 48,
      "outputs": []
    },
    {
      "cell_type": "code",
      "source": [
        "data"
      ],
      "metadata": {
        "id": "mv_Wbjx_Tv8R",
        "outputId": "1bcf890c-c4d6-4a14-a4f1-79b43644e546",
        "colab": {
          "base_uri": "https://localhost:8080/"
        }
      },
      "execution_count": 49,
      "outputs": [
        {
          "output_type": "execute_result",
          "data": {
            "text/plain": [
              "array([[0, 1, 2],\n",
              "       [3, 4, 5],\n",
              "       [1, 1, 1],\n",
              "       [1, 1, 1]])"
            ]
          },
          "metadata": {},
          "execution_count": 49
        }
      ]
    },
    {
      "cell_type": "code",
      "source": [
        "np.where(data>5, 2, data) # 배열에서 조건에 해당하면 2, 그렇지 않으면 data 원래값"
      ],
      "metadata": {
        "id": "rxyfokCrT97m",
        "outputId": "e79efcb4-f6bb-4dce-d752-24e043685bf5",
        "colab": {
          "base_uri": "https://localhost:8080/"
        }
      },
      "execution_count": 52,
      "outputs": [
        {
          "output_type": "execute_result",
          "data": {
            "text/plain": [
              "array([[0, 1, 2],\n",
              "       [3, 4, 5],\n",
              "       [1, 1, 1],\n",
              "       [1, 1, 1]])"
            ]
          },
          "metadata": {},
          "execution_count": 52
        }
      ]
    },
    {
      "cell_type": "code",
      "source": [
        "a = np.arange(12).reshape(3,4)\n",
        "a"
      ],
      "metadata": {
        "id": "tF1uy50HUImt",
        "outputId": "0e29edc7-db0f-476e-d63b-8c7430bd60ca",
        "colab": {
          "base_uri": "https://localhost:8080/"
        }
      },
      "execution_count": 54,
      "outputs": [
        {
          "output_type": "execute_result",
          "data": {
            "text/plain": [
              "array([[ 0,  1,  2,  3],\n",
              "       [ 4,  5,  6,  7],\n",
              "       [ 8,  9, 10, 11]])"
            ]
          },
          "metadata": {},
          "execution_count": 54
        }
      ]
    },
    {
      "cell_type": "markdown",
      "source": [
        "# shape(3,4)\n",
        "> 높이/height, Rows = 3\n",
        "\n",
        "> 폭/widht, columns = 4"
      ],
      "metadata": {
        "id": "shvb0oX8WI0Z"
      }
    },
    {
      "cell_type": "code",
      "source": [
        "np.sum(a, 0) # axis=0 기준으로 계산, shape(axis=0, axis=1, axis=2, ...)"
      ],
      "metadata": {
        "id": "8suAx2udU9va",
        "outputId": "42a6c126-8cd7-4a46-ac5e-a115370086bc",
        "colab": {
          "base_uri": "https://localhost:8080/"
        }
      },
      "execution_count": 55,
      "outputs": [
        {
          "output_type": "execute_result",
          "data": {
            "text/plain": [
              "array([12, 15, 18, 21])"
            ]
          },
          "metadata": {},
          "execution_count": 55
        }
      ]
    },
    {
      "cell_type": "code",
      "source": [
        "np.min(a)"
      ],
      "metadata": {
        "id": "N0_qV5EaVA3_",
        "outputId": "aec04d69-861e-49a9-e003-76e341f5e756",
        "colab": {
          "base_uri": "https://localhost:8080/"
        }
      },
      "execution_count": 56,
      "outputs": [
        {
          "output_type": "execute_result",
          "data": {
            "text/plain": [
              "0"
            ]
          },
          "metadata": {},
          "execution_count": 56
        }
      ]
    },
    {
      "cell_type": "code",
      "source": [
        "np.min(a, 0) # axis=0 기준으로 가장 작은 값들"
      ],
      "metadata": {
        "id": "HUbLUjPVVvw-",
        "outputId": "3c4e59c4-f425-43bf-bbc2-b320b515c0db",
        "colab": {
          "base_uri": "https://localhost:8080/"
        }
      },
      "execution_count": 57,
      "outputs": [
        {
          "output_type": "execute_result",
          "data": {
            "text/plain": [
              "array([0, 1, 2, 3])"
            ]
          },
          "metadata": {},
          "execution_count": 57
        }
      ]
    },
    {
      "cell_type": "code",
      "source": [
        "np.min(a, 1) # axis=1 기준으로 가장 작은 값들"
      ],
      "metadata": {
        "id": "P6tjh3NxVxNX",
        "outputId": "a1238b94-3305-48e8-a712-68796d30ad9b",
        "colab": {
          "base_uri": "https://localhost:8080/"
        }
      },
      "execution_count": 58,
      "outputs": [
        {
          "output_type": "execute_result",
          "data": {
            "text/plain": [
              "array([0, 4, 8])"
            ]
          },
          "metadata": {},
          "execution_count": 58
        }
      ]
    },
    {
      "cell_type": "code",
      "source": [
        "name = \"RGB\"\n",
        "name[::-1]"
      ],
      "metadata": {
        "id": "j6sId2IqVyP1",
        "outputId": "caa34ab3-c55b-46d6-8f44-64b90c75abe0",
        "colab": {
          "base_uri": "https://localhost:8080/",
          "height": 36
        }
      },
      "execution_count": 63,
      "outputs": [
        {
          "output_type": "execute_result",
          "data": {
            "application/vnd.google.colaboratory.intrinsic+json": {
              "type": "string"
            },
            "text/plain": [
              "'BGR'"
            ]
          },
          "metadata": {},
          "execution_count": 63
        }
      ]
    },
    {
      "cell_type": "markdown",
      "source": [
        "# subplot, add_subplot, subplots 구분"
      ],
      "metadata": {
        "id": "_ISdQTESZF9b"
      }
    },
    {
      "cell_type": "markdown",
      "source": [
        "## 1. 별도의 캔버스 생성 없이 :  subplot()"
      ],
      "metadata": {
        "id": "uFUTkW1kZS2Z"
      }
    },
    {
      "cell_type": "code",
      "source": [
        "import matplotlib.pyplot as plt\n",
        "import numpy as np\n",
        "\n",
        "x = np.arange(10)\n",
        "plt.subplot(2,2,1) # 캔버스 생성, 캔버스에 축 생성, 축에 plot하는 객체지향적 방식이 아닌 함수형 프로그래밍에 가깝다\n",
        "plt.plot(x, x**2)\n",
        "# 다음 subplot()이 선언되기 전까지 plot()을 꾸밀 수 있다\n",
        "\n",
        "plt.subplot(2,2,4)\n",
        "plt.plot(x, x)"
      ],
      "metadata": {
        "id": "OgQMT9zSXeI_",
        "outputId": "2562d8e6-e45d-4650-f023-156350a50ade",
        "colab": {
          "base_uri": "https://localhost:8080/",
          "height": 283
        }
      },
      "execution_count": 77,
      "outputs": [
        {
          "output_type": "execute_result",
          "data": {
            "text/plain": [
              "[<matplotlib.lines.Line2D at 0x7f1ac37b7850>]"
            ]
          },
          "metadata": {},
          "execution_count": 77
        },
        {
          "output_type": "display_data",
          "data": {
            "image/png": "[encoded data removed]",
            "text/plain": [
              "<Figure size 432x288 with 2 Axes>"
            ]
          },
          "metadata": {
            "needs_background": "light"
          }
        }
      ]
    },
    {
      "cell_type": "markdown",
      "source": [
        "## 2. 캔버스 생성 → add_subplot()으로 축 선언 → 축에 plot"
      ],
      "metadata": {
        "id": "oYPGIjZUZeDe"
      }
    },
    {
      "cell_type": "code",
      "source": [
        "import matplotlib.pyplot as plt\n",
        "import numpy as np\n",
        "\n",
        "fig = plt.figure() # 캔버스 생성\n",
        "ax1 = fig.add_subplot(2,2,1) # 캔버스에 subplot 축(ax) 추가 \n",
        "ax1.plot(x, x**2) # 축에 plot\n",
        "\n",
        "ax4 = fig.add_subplot(2,2,4)\n",
        "ax4.plot(x, x)"
      ],
      "metadata": {
        "id": "JdU6PfYqXvxg",
        "outputId": "578d3669-bb03-4789-82c4-2ebb8ed384dd",
        "colab": {
          "base_uri": "https://localhost:8080/",
          "height": 283
        }
      },
      "execution_count": 73,
      "outputs": [
        {
          "output_type": "execute_result",
          "data": {
            "text/plain": [
              "[<matplotlib.lines.Line2D at 0x7f1ac3c68690>]"
            ]
          },
          "metadata": {},
          "execution_count": 73
        },
        {
          "output_type": "display_data",
          "data": {
            "image/png": "[encoded data removed]",
            "text/plain": [
              "<Figure size 432x288 with 2 Axes>"
            ]
          },
          "metadata": {
            "needs_background": "light"
          }
        }
      ]
    },
    {
      "cell_type": "markdown",
      "source": [
        "## 3. 캔버스+축 생성 : subplots() → 이미 만들어진 축에 plot (빈축 있을 수 있음)"
      ],
      "metadata": {
        "id": "WyPlbOJycqFe"
      }
    },
    {
      "cell_type": "code",
      "source": [
        "import matplotlib.pyplot as plt\n",
        "import numpy as np\n",
        "\n",
        "fig, axs = plt.subplots(2, 2) # 캔버스, 축 생성(미리 빈축을 다만들어 놓음)\n",
        "axs[0,0].plot(x, x**2)\n",
        "axs[1,1].plot(x, x)"
      ],
      "metadata": {
        "id": "2SNOVQ9XYlfo",
        "outputId": "a2c15642-c42f-41ee-af32-54642a11999a",
        "colab": {
          "base_uri": "https://localhost:8080/",
          "height": 287
        }
      },
      "execution_count": 76,
      "outputs": [
        {
          "output_type": "execute_result",
          "data": {
            "text/plain": [
              "[<matplotlib.lines.Line2D at 0x7f1ac38ba410>]"
            ]
          },
          "metadata": {},
          "execution_count": 76
        },
        {
          "output_type": "display_data",
          "data": {
            "image/png": "[encoded data removed]",
            "text/plain": [
              "<Figure size 432x288 with 4 Axes>"
            ]
          },
          "metadata": {
            "needs_background": "light"
          }
        }
      ]
    }
  ],
  "metadata": {
    "colab": {
      "collapsed_sections": [],
      "name": "Colaboratory에 오신 것을 환영합니다",
      "provenance": [],
      "include_colab_link": true
    },
    "kernelspec": {
      "display_name": "Python 3",
      "name": "python3"
    }
  },
  "nbformat": 4,
  "nbformat_minor": 0
}