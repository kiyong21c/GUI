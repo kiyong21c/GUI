{
  "cells": [
    {
      "cell_type": "code",
      "source": [
        "from google.colab import drive\n",
        "drive.mount('/content/drive')"
      ],
      "metadata": {
        "colab": {
          "base_uri": "https://localhost:8080/"
        },
        "id": "m2B6tFIf2cUB",
        "outputId": "13ff2133-27c1-4cd1-cabd-0bb529d1872b"
      },
      "execution_count": 4,
      "outputs": [
        {
          "output_type": "stream",
          "name": "stdout",
          "text": [
            "Mounted at /content/drive\n"
          ]
        }
      ]
    },
    {
      "cell_type": "code",
      "source": [
        "import cv2\n",
        "import numpy as np\n",
        "import matplotlib.pyplot as plt\n",
        "\n",
        "img = cv2.imread('/content/drive/MyDrive/Colab Notebooks/shapes.png')\n",
        "img2 = img.copy()\n",
        "\n",
        "img_gray = cv2.cvtColor(img, cv2.COLOR_BGR2GRAY)\n",
        "\n",
        "_, imthres = cv2.threshold(img_gray, 127, 255, cv2.THRESH_BINARY_INV) # 배경/전경을 반전\n",
        "# findContoures함수를 사용하려면 \"검정 배경\"에 \"흰색 전경\"으로 표현된 바이너리 이미지를 전달해야함\n",
        "\n",
        "# 가장 바깥쪽 컨투어의 모든 좌표 반환\n",
        "contour, hierarchy = cv2.findContours(imthres, cv2.RETR_EXTERNAL, cv2.CHAIN_APPROX_NONE)\n",
        "\n",
        "# 가장 바깥쪽 컨투어의 꼭지점 좌표만 반환\n",
        "contour2, hierarchy = cv2.findContours(imthres, cv2.RETR_EXTERNAL, cv2.CHAIN_APPROX_SIMPLE)\n",
        "\n",
        "# contour, contour2 각각 리스트 형태이며 리스트의 길이는 도형의 수와 같다\n",
        "print('도형의 개수: {}({})'.format(len(contour), len(contour2)))\n",
        "\n",
        "cv2.drawContours(img, contour, -1, (0,255,0), 4)\n",
        "cv2.drawContours(img2, contour2, -1, (0,255,0), 4)\n",
        "# 꼭지점 좌표를 연결해도 선처럼 나온다\n",
        "\n",
        "imgs = {\"img\":img, \"img2\":img2}\n",
        "for i, (k, v) in enumerate(imgs.items()):\n",
        "    plt.subplot(1,2,i+1)\n",
        "    plt.imshow(v)"
      ],
      "metadata": {
        "colab": {
          "base_uri": "https://localhost:8080/",
          "height": 124
        },
        "id": "Bym0w-evzYMv",
        "outputId": "0cf0319d-1031-42e3-ebe0-d5d4a718bd97"
      },
      "execution_count": 18,
      "outputs": [
        {
          "output_type": "stream",
          "name": "stdout",
          "text": [
            "도형의 개수: 3(3)\n"
          ]
        },
        {
          "output_type": "display_data",
          "data": {
            "image/png": "[encoded data removed]",
            "text/plain": [
              "<Figure size 432x288 with 2 Axes>"
            ]
          },
          "metadata": {
            "needs_background": "light"
          }
        }
      ]
    },
    {
      "cell_type": "code",
      "source": [
        ""
      ],
      "metadata": {
        "id": "9K-4vWpH3d1S"
      },
      "execution_count": null,
      "outputs": []
    }
  ],
  "metadata": {
    "colab": {
      "collapsed_sections": [],
      "name": "Colaboratory에 오신 것을 환영합니다",
      "provenance": []
    },
    "kernelspec": {
      "display_name": "Python 3",
      "name": "python3"
    }
  },
  "nbformat": 4,
  "nbformat_minor": 0
}