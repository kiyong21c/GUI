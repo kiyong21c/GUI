{
  "cells": [
    {
      "cell_type": "markdown",
      "metadata": {
        "id": "view-in-github",
        "colab_type": "text"
      },
      "source": [
        "<a href=\"https://colab.research.google.com/github/kiyong21c/nadocoding/blob/master/20220223_contours_minrectangle.ipynb\" target=\"_parent\"><img src=\"https://colab.research.google.com/assets/colab-badge.svg\" alt=\"Open In Colab\"/></a>"
      ]
    },
    {
      "cell_type": "code",
      "source": [
        "from google.colab import drive\n",
        "drive.mount('/content/drive')"
      ],
      "metadata": {
        "colab": {
          "base_uri": "https://localhost:8080/"
        },
        "id": "m2B6tFIf2cUB",
        "outputId": "06fc8348-21e2-4828-9c91-f6992179de03"
      },
      "execution_count": 2,
      "outputs": [
        {
          "output_type": "stream",
          "name": "stdout",
          "text": [
            "Mounted at /content/drive\n"
          ]
        }
      ]
    },
    {
      "cell_type": "code",
      "source": [
        "import cv2\n",
        "import numpy as np\n",
        "import matplotlib.pyplot as plt\n",
        "\n",
        "img = cv2.imread('/content/drive/MyDrive/Colab Notebooks/shapes.png')\n",
        "img2 = img.copy()\n",
        "\n",
        "img_gray = cv2.cvtColor(img, cv2.COLOR_BGR2GRAY)\n",
        "\n",
        "_, imthres = cv2.threshold(img_gray, 127, 255, cv2.THRESH_BINARY_INV) # 배경/전경을 반전\n",
        "# findContoures함수를 사용하려면 \"검정 배경\"에 \"흰색 전경\"으로 표현된 바이너리 이미지를 전달해야함\n",
        "\n",
        "# 가장 바깥쪽 컨투어의 모든 좌표 반환\n",
        "contour, hierarchy = cv2.findContours(imthres, cv2.RETR_EXTERNAL, cv2.CHAIN_APPROX_NONE)\n",
        "\n",
        "# 가장 바깥쪽 컨투어의 꼭지점 좌표만 반환\n",
        "contour2, hierarchy = cv2.findContours(imthres, cv2.RETR_EXTERNAL, cv2.CHAIN_APPROX_SIMPLE)\n",
        "\n",
        "# contour, contour2 각각 리스트 형태이며 리스트의 길이는 도형의 수와 같다\n",
        "print('도형의 개수: {}({})'.format(len(contour), len(contour2)))\n",
        "\n",
        "cv2.drawContours(img, contour, -1, (0,255,0), 4)\n",
        "cv2.drawContours(img2, contour2, -1, (0,255,0), 4)\n",
        "# 꼭지점 좌표를 연결해도 선처럼 나온다\n",
        "\n",
        "imgs = {\"img\":img, \"img2\":img2}\n",
        "for i, (k, v) in enumerate(imgs.items()):\n",
        "    plt.subplot(1,2,i+1)\n",
        "    plt.imshow(v)"
      ],
      "metadata": {
        "colab": {
          "base_uri": "https://localhost:8080/",
          "height": 124
        },
        "id": "Bym0w-evzYMv",
        "outputId": "0cf0319d-1031-42e3-ebe0-d5d4a718bd97"
      },
      "execution_count": 18,
      "outputs": [
        {
          "output_type": "stream",
          "name": "stdout",
          "text": [
            "도형의 개수: 3(3)\n"
          ]
        },
        {
          "output_type": "display_data",
          "data": {
            "image/png": "[encoded data removed]",
            "text/plain": [
              "<Figure size 432x288 with 2 Axes>"
            ]
          },
          "metadata": {
            "needs_background": "light"
          }
        }
      ]
    },
    {
      "cell_type": "markdown",
      "source": [
        "# 모든 컨투어와 hierarchy"
      ],
      "metadata": {
        "id": "pd29_-X4bphY"
      }
    },
    {
      "cell_type": "code",
      "source": [
        "import cv2\n",
        "import numpy as np\n",
        "import matplotlib.pyplot as plt\n",
        "\n",
        "img = cv2.imread('/content/drive/MyDrive/Colab Notebooks/shapes_donut.png')\n",
        "img2 = img.copy()\n",
        "\n",
        "img_gray = cv2.cvtColor(img, cv2.COLOR_BGR2GRAY) # \n",
        "_, imthres = cv2.threshold(img_gray, 127, 255, cv2.THRESH_BINARY_INV)\n",
        "# 배경이 검정, 전경이 흰색으로 하는것이 좋다.\n",
        "\n",
        "contours, hierarchy = cv2.findContours(imthres, cv2.RETR_TREE, cv2.CHAIN_APPROX_SIMPLE)\n",
        "print('도형의 개수 :', len(contours))\n",
        "print('계층 구조')\n",
        "print(hierarchy)\n",
        "for i, c in enumerate(contours):\n",
        "    # 랜덤한 color \n",
        "    color = [int(i) for i in np.random.randint(0, 255, 3)]\n",
        "    cv2.drawContours(img2, contours, i, color, 3) # i : 그림을 그릴 컨투어의 인덱스번호\n",
        "    # 그릴컨투어(contours : 6개)의 i번째 컨투어\n",
        "    cv2.putText(img2, str(i), tuple(c[0][0]), cv2.FONT_HERSHEY_PLAIN, 2, (0,0,255))\n",
        "\n",
        "imgs = {\"img\":img, \"img_gray\":img_gray, \"imthres\":imthres, \"RETR_TREE\":img2}\n",
        "plt.figure(figsize=(20, 10))\n",
        "for i, (k, v) in enumerate(imgs.items()):\n",
        "    plt.subplot(1, len(imgs), i+1)\n",
        "    plt.title(k)\n",
        "    plt.imshow(v, cmap='gray')"
      ],
      "metadata": {
        "colab": {
          "base_uri": "https://localhost:8080/",
          "height": 282
        },
        "id": "9K-4vWpH3d1S",
        "outputId": "455d0a30-1832-4fb0-ff02-f24350c4314a"
      },
      "execution_count": 78,
      "outputs": [
        {
          "output_type": "stream",
          "name": "stdout",
          "text": [
            "도형의 개수 : 6\n",
            "계층 구조\n",
            "[[[ 2 -1  1 -1]\n",
            "  [-1 -1 -1  0]\n",
            "  [ 4  0  3 -1]\n",
            "  [-1 -1 -1  2]\n",
            "  [-1  2  5 -1]\n",
            "  [-1 -1 -1  4]]]\n"
          ]
        },
        {
          "output_type": "display_data",
          "data": {
            "image/png": "[encoded data removed]",
            "text/plain": [
              "<Figure size 1440x720 with 4 Axes>"
            ]
          },
          "metadata": {
            "needs_background": "light"
          }
        }
      ]
    },
    {
      "cell_type": "code",
      "source": [
        "np.random.randint(0,255,3) # 0부터 254까지, 3개를 배열로 : (3, )\n",
        "[int(i) for i in np.random.randint(0,255, 3)] # 3개의 랜덤 값을 반복문으로 리스트에 담는다"
      ],
      "metadata": {
        "id": "zocgwnfWRnBT",
        "outputId": "23318406-7bcd-4bf8-879d-1162557aba87",
        "colab": {
          "base_uri": "https://localhost:8080/"
        }
      },
      "execution_count": 26,
      "outputs": [
        {
          "output_type": "execute_result",
          "data": {
            "text/plain": [
              "[11, 165, 234]"
            ]
          },
          "metadata": {},
          "execution_count": 26
        }
      ]
    },
    {
      "cell_type": "code",
      "source": [
        "for cont in contours: # contours 6개를 순회\n",
        "    print(cont[0]) # 각 contour[0]의 좌표가 [[x y]] 형태\n",
        "\n",
        "for cont in contours:\n",
        "    print(cont[0][0]) # 각 contour[0][0] 좌표가 [x y] 형태\n",
        "\n",
        "for cont in contours:    \n",
        "    print(tuple(cont[0][0])) # 각 contour[0][0]의 좌표가 (x, y) 형태 : 좌표로 사용가능"
      ],
      "metadata": {
        "id": "jw8g9CApUGHL",
        "outputId": "be9bb508-4b4c-4963-d318-46eb63853b0e",
        "colab": {
          "base_uri": "https://localhost:8080/"
        }
      },
      "execution_count": 51,
      "outputs": [
        {
          "output_type": "stream",
          "name": "stdout",
          "text": [
            "[[76 20]]\n",
            "[[75 57]]\n",
            "[[336  19]]\n",
            "[[337  48]]\n",
            "[[151  19]]\n",
            "[[176  48]]\n",
            "[76 20]\n",
            "[75 57]\n",
            "[336  19]\n",
            "[337  48]\n",
            "[151  19]\n",
            "[176  48]\n",
            "(76, 20)\n",
            "(75, 57)\n",
            "(336, 19)\n",
            "(337, 48)\n",
            "(151, 19)\n",
            "(176, 48)\n"
          ]
        }
      ]
    },
    {
      "cell_type": "markdown",
      "source": [
        "# hierarchy 계층구조\n",
        "> columns = 다음, 이전, 자식, 부모\n",
        "\n",
        "> 부모 인덱스가 -1 이면 없다는 의미 = 최외곽 컨투어 "
      ],
      "metadata": {
        "id": "7Z5xUunhaDpV"
      }
    },
    {
      "cell_type": "code",
      "source": [
        "hierarchy[0]"
      ],
      "metadata": {
        "id": "zYo_QO18ZHOn",
        "outputId": "edea161c-f839-4d7f-c5fc-41dec133dde9",
        "colab": {
          "base_uri": "https://localhost:8080/"
        }
      },
      "execution_count": 67,
      "outputs": [
        {
          "output_type": "execute_result",
          "data": {
            "text/plain": [
              "array([[ 2, -1,  1, -1],\n",
              "       [-1, -1, -1,  0],\n",
              "       [ 4,  0,  3, -1],\n",
              "       [-1, -1, -1,  2],\n",
              "       [-1,  2,  5, -1],\n",
              "       [-1, -1, -1,  4]], dtype=int32)"
            ]
          },
          "metadata": {},
          "execution_count": 67
        }
      ]
    },
    {
      "cell_type": "code",
      "source": [
        "import pandas as pd\n",
        "df = pd.DataFrame(hierarchy[0], columns=['다음','이전','자식','부모'])\n",
        "df"
      ],
      "metadata": {
        "id": "hJCbyO4OVty2",
        "outputId": "a5ac4122-11e2-4bb3-92c8-896975dc3a55",
        "colab": {
          "base_uri": "https://localhost:8080/",
          "height": 237
        }
      },
      "execution_count": 71,
      "outputs": [
        {
          "output_type": "execute_result",
          "data": {
            "text/html": [
              "\n",
              "  <div id=\"df-28755d6d-b628-4669-a67b-93390d49f862\">\n",
              "    <div class=\"colab-df-container\">\n",
              "      <div>\n",
              "<style scoped>\n",
              "    .dataframe tbody tr th:only-of-type {\n",
              "        vertical-align: middle;\n",
              "    }\n",
              "\n",
              "    .dataframe tbody tr th {\n",
              "        vertical-align: top;\n",
              "    }\n",
              "\n",
              "    .dataframe thead th {\n",
              "        text-align: right;\n",
              "    }\n",
              "</style>\n",
              "<table border=\"1\" class=\"dataframe\">\n",
              "  <thead>\n",
              "    <tr style=\"text-align: right;\">\n",
              "      <th></th>\n",
              "      <th>다음</th>\n",
              "      <th>이전</th>\n",
              "      <th>자식</th>\n",
              "      <th>부모</th>\n",
              "    </tr>\n",
              "  </thead>\n",
              "  <tbody>\n",
              "    <tr>\n",
              "      <th>0</th>\n",
              "      <td>2</td>\n",
              "      <td>-1</td>\n",
              "      <td>1</td>\n",
              "      <td>-1</td>\n",
              "    </tr>\n",
              "    <tr>\n",
              "      <th>1</th>\n",
              "      <td>-1</td>\n",
              "      <td>-1</td>\n",
              "      <td>-1</td>\n",
              "      <td>0</td>\n",
              "    </tr>\n",
              "    <tr>\n",
              "      <th>2</th>\n",
              "      <td>4</td>\n",
              "      <td>0</td>\n",
              "      <td>3</td>\n",
              "      <td>-1</td>\n",
              "    </tr>\n",
              "    <tr>\n",
              "      <th>3</th>\n",
              "      <td>-1</td>\n",
              "      <td>-1</td>\n",
              "      <td>-1</td>\n",
              "      <td>2</td>\n",
              "    </tr>\n",
              "    <tr>\n",
              "      <th>4</th>\n",
              "      <td>-1</td>\n",
              "      <td>2</td>\n",
              "      <td>5</td>\n",
              "      <td>-1</td>\n",
              "    </tr>\n",
              "    <tr>\n",
              "      <th>5</th>\n",
              "      <td>-1</td>\n",
              "      <td>-1</td>\n",
              "      <td>-1</td>\n",
              "      <td>4</td>\n",
              "    </tr>\n",
              "  </tbody>\n",
              "</table>\n",
              "</div>\n",
              "      <button class=\"colab-df-convert\" onclick=\"convertToInteractive('df-28755d6d-b628-4669-a67b-93390d49f862')\"\n",
              "              title=\"Convert this dataframe to an interactive table.\"\n",
              "              style=\"display:none;\">\n",
              "        \n",
              "  <svg xmlns=\"http://www.w3.org/2000/svg\" height=\"24px\"viewBox=\"0 0 24 24\"\n",
              "       width=\"24px\">\n",
              "    <path d=\"M0 0h24v24H0V0z\" fill=\"none\"/>\n",
              "    <path d=\"M18.56 5.44l.94 2.06.94-2.06 2.06-.94-2.06-.94-.94-2.06-.94 2.06-2.06.94zm-11 1L8.5 8.5l.94-2.06 2.06-.94-2.06-.94L8.5 2.5l-.94 2.06-2.06.94zm10 10l.94 2.06.94-2.06 2.06-.94-2.06-.94-.94-2.06-.94 2.06-2.06.94z\"/><path d=\"M17.41 7.96l-1.37-1.37c-.4-.4-.92-.59-1.43-.59-.52 0-1.04.2-1.43.59L10.3 9.45l-7.72 7.72c-.78.78-.78 2.05 0 2.83L4 21.41c.39.39.9.59 1.41.59.51 0 1.02-.2 1.41-.59l7.78-7.78 2.81-2.81c.8-.78.8-2.07 0-2.86zM5.41 20L4 18.59l7.72-7.72 1.47 1.35L5.41 20z\"/>\n",
              "  </svg>\n",
              "      </button>\n",
              "      \n",
              "  <style>\n",
              "    .colab-df-container {\n",
              "      display:flex;\n",
              "      flex-wrap:wrap;\n",
              "      gap: 12px;\n",
              "    }\n",
              "\n",
              "    .colab-df-convert {\n",
              "      background-color: #E8F0FE;\n",
              "      border: none;\n",
              "      border-radius: 50%;\n",
              "      cursor: pointer;\n",
              "      display: none;\n",
              "      fill: #1967D2;\n",
              "      height: 32px;\n",
              "      padding: 0 0 0 0;\n",
              "      width: 32px;\n",
              "    }\n",
              "\n",
              "    .colab-df-convert:hover {\n",
              "      background-color: #E2EBFA;\n",
              "      box-shadow: 0px 1px 2px rgba(60, 64, 67, 0.3), 0px 1px 3px 1px rgba(60, 64, 67, 0.15);\n",
              "      fill: #174EA6;\n",
              "    }\n",
              "\n",
              "    [theme=dark] .colab-df-convert {\n",
              "      background-color: #3B4455;\n",
              "      fill: #D2E3FC;\n",
              "    }\n",
              "\n",
              "    [theme=dark] .colab-df-convert:hover {\n",
              "      background-color: #434B5C;\n",
              "      box-shadow: 0px 1px 3px 1px rgba(0, 0, 0, 0.15);\n",
              "      filter: drop-shadow(0px 1px 2px rgba(0, 0, 0, 0.3));\n",
              "      fill: #FFFFFF;\n",
              "    }\n",
              "  </style>\n",
              "\n",
              "      <script>\n",
              "        const buttonEl =\n",
              "          document.querySelector('#df-28755d6d-b628-4669-a67b-93390d49f862 button.colab-df-convert');\n",
              "        buttonEl.style.display =\n",
              "          google.colab.kernel.accessAllowed ? 'block' : 'none';\n",
              "\n",
              "        async function convertToInteractive(key) {\n",
              "          const element = document.querySelector('#df-28755d6d-b628-4669-a67b-93390d49f862');\n",
              "          const dataTable =\n",
              "            await google.colab.kernel.invokeFunction('convertToInteractive',\n",
              "                                                     [key], {});\n",
              "          if (!dataTable) return;\n",
              "\n",
              "          const docLinkHtml = 'Like what you see? Visit the ' +\n",
              "            '<a target=\"_blank\" href=https://colab.research.google.com/notebooks/data_table.ipynb>data table notebook</a>'\n",
              "            + ' to learn more about interactive tables.';\n",
              "          element.innerHTML = '';\n",
              "          dataTable['output_type'] = 'display_data';\n",
              "          await google.colab.output.renderOutput(dataTable, element);\n",
              "          const docLink = document.createElement('div');\n",
              "          docLink.innerHTML = docLinkHtml;\n",
              "          element.appendChild(docLink);\n",
              "        }\n",
              "      </script>\n",
              "    </div>\n",
              "  </div>\n",
              "  "
            ],
            "text/plain": [
              "   다음  이전  자식  부모\n",
              "0   2  -1   1  -1\n",
              "1  -1  -1  -1   0\n",
              "2   4   0   3  -1\n",
              "3  -1  -1  -1   2\n",
              "4  -1   2   5  -1\n",
              "5  -1  -1  -1   4"
            ]
          },
          "metadata": {},
          "execution_count": 71
        }
      ]
    },
    {
      "cell_type": "markdown",
      "source": [
        "# 컨투어를 감싸는 도형"
      ],
      "metadata": {
        "id": "U1DSIcIrdmg-"
      }
    },
    {
      "cell_type": "code",
      "source": [
        "import cv2\n",
        "import numpy as np\n",
        "\n",
        "img = cv2.imread('/content/drive/MyDrive/Colab Notebooks/lightning.png')\n",
        "\n",
        "img_gray = cv2.cvtColor(img, cv2.COLOR_BGR2GRAY)\n",
        "\n",
        "_, imthres = cv2.threshold(img_gray, 127, 255, cv2.THRESH_BINARY_INV)\n",
        "\n",
        "contours, hierarchy = cv2.findContours(imthres, cv2.RETR_EXTERNAL, cv2.CHAIN_APPROX_SIMPLE) # 컨투어의 꼭지점 좌표필요\n",
        "\n",
        "contour = contours[0] # findContours()로 반환된 contours는 [[[x y], [x, y], ...,[x, y]]] 좌표로 활용하기 위해서는 contours[0] \n",
        "# drawContour()함수로 사용되는 파라미터 contour는 그대로 써주면 되지만, 좌표를 얻을때는 contours[0] 주의\n",
        "\n",
        "# 감싸는 사각형\n",
        "x, y, w, h = cv2.boundingRect(contour) # 좌표를 얻기위해 사용되는 contour\n",
        "cv2.rectangle(img, (x,y), (x+w, y+h), (0,0,0), 3)\n",
        "\n",
        "# 최소한의 사각형\n",
        "rect = cv2.minAreaRect(contour) # (중심점의 x좌표, 중심점의 y좌표, 각도)\n",
        "box = cv2.boxPoints(rect) # 4개의 꼭지점 좌표로 변환 : (4,2) shape의 배열\n",
        "box = np.int0(box) # 정수로 변환\n",
        "cv2.drawContours(img, [box], -1, (0,255,0), 3) # [0]이용하여 좌표로 변환된 contour를, 다시 [] 리스트를 씌워줌\n",
        "\n",
        "imgs = {\"img\":img}\n",
        "plt.figure(figsize=(10, 5))\n",
        "for i, (k, v) in enumerate(imgs.items()):\n",
        "    plt.subplot(1, len(imgs), i+1)\n",
        "    plt.title(k)\n",
        "    plt.imshow(v, cmap='gray')"
      ],
      "metadata": {
        "id": "WOD0o9E-dqGa",
        "outputId": "1f9a7529-a54f-48e1-c40e-8c59aaa0eeec",
        "colab": {
          "base_uri": "https://localhost:8080/",
          "height": 354
        }
      },
      "execution_count": 118,
      "outputs": [
        {
          "output_type": "stream",
          "name": "stdout",
          "text": [
            "(4, 2)\n"
          ]
        },
        {
          "output_type": "display_data",
          "data": {
            "image/png": "[encoded data removed]",
            "text/plain": [
              "<Figure size 720x360 with 1 Axes>"
            ]
          },
          "metadata": {
            "needs_background": "light"
          }
        }
      ]
    },
    {
      "cell_type": "code",
      "source": [
        "# len(contours[0])\n",
        "contours # 리스트 형태, 값 1개 : [[[x1, y2], [], [], ...,[x332, y332]]]\n",
        "contours[0] # 리스트 형태, 값 332개 [[x1, y2], [], [], ...,[x332, y332]] "
      ],
      "metadata": {
        "id": "1OTvN-aHeDxn",
        "outputId": "d2df840d-f4cf-489f-c8f5-9041d3f077de",
        "colab": {
          "base_uri": "https://localhost:8080/"
        }
      },
      "execution_count": 105,
      "outputs": [
        {
          "output_type": "execute_result",
          "data": {
            "text/plain": [
              "332"
            ]
          },
          "metadata": {},
          "execution_count": 105
        }
      ]
    },
    {
      "cell_type": "code",
      "source": [
        "rect = cv2.minAreaRect(contour) # (중심점의 x좌표, 중심점의 y좌표, 각도)\n",
        "box = cv2.boxPoints(rect)\n",
        "box"
      ],
      "metadata": {
        "id": "yKEqKvwDiC0i",
        "outputId": "4d721435-07cd-4ed6-b7d5-2b1d886b5cd2",
        "colab": {
          "base_uri": "https://localhost:8080/"
        }
      },
      "execution_count": 117,
      "outputs": [
        {
          "output_type": "execute_result",
          "data": {
            "text/plain": [
              "array([[219.09561 , 241.46503 ],\n",
              "       [ 84.92163 ,  81.90679 ],\n",
              "       [136.7897  ,  38.290466],\n",
              "       [270.96368 , 197.8487  ]], dtype=float32)"
            ]
          },
          "metadata": {},
          "execution_count": 117
        }
      ]
    },
    {
      "cell_type": "code",
      "source": [
        ""
      ],
      "metadata": {
        "id": "Ve7voMwxnu44"
      },
      "execution_count": null,
      "outputs": []
    }
  ],
  "metadata": {
    "colab": {
      "collapsed_sections": [],
      "name": "Colaboratory에 오신 것을 환영합니다",
      "provenance": [],
      "include_colab_link": true
    },
    "kernelspec": {
      "display_name": "Python 3",
      "name": "python3"
    }
  },
  "nbformat": 4,
  "nbformat_minor": 0
}