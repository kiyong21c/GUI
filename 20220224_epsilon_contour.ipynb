{
  "cells": [
    {
      "cell_type": "markdown",
      "metadata": {
        "id": "view-in-github",
        "colab_type": "text"
      },
      "source": [
        "<a href=\"https://colab.research.google.com/github/kiyong21c/nadocoding/blob/master/20220224_epsilon_contour.ipynb\" target=\"_parent\"><img src=\"https://colab.research.google.com/assets/colab-badge.svg\" alt=\"Open In Colab\"/></a>"
      ]
    },
    {
      "cell_type": "code",
      "source": [
        "from google.colab import drive\n",
        "drive.mount('/content/drive')"
      ],
      "metadata": {
        "id": "ZtQJ3ZUA8S4N",
        "outputId": "056e12cf-4061-43b8-fc8d-3d9cac339fa3",
        "colab": {
          "base_uri": "https://localhost:8080/"
        }
      },
      "execution_count": 1,
      "outputs": [
        {
          "output_type": "stream",
          "name": "stdout",
          "text": [
            "Mounted at /content/drive\n"
          ]
        }
      ]
    },
    {
      "cell_type": "code",
      "source": [
        "import cv2\n",
        "import numpy as np\n",
        "import matplotlib.pyplot as plt\n",
        "\n",
        "img = cv2.imread('/content/drive/MyDrive/Colab Notebooks/bad_rect.png')\n",
        "img2 = img.copy()\n",
        "\n",
        "img_gray = cv2.cvtColor(img, cv2.COLOR_BGR2GRAY)\n",
        "_, thres = cv2.threshold(img_gray, 127, 255, cv2.THRESH_BINARY)\n",
        "\n",
        "contours, hierarchy = cv2.findContours(thres, cv2.RETR_EXTERNAL, cv2.CHAIN_APPROX_SIMPLE)\n",
        "\n",
        "contour = contours[0] # contours는 좌표값이 하나 들어있는 \"리스트\"\n",
        "len(contours) # 1개의 형태 : [(x, y)]\n",
        "len(contour) # 297개의 꼭지점 좌표 : [[x, y], [], []]\n",
        "# contour.shape : (297, 1, 2)\n",
        "\n",
        "cv2.arcLength(contour, True) # contour의 꼭지점 좌표를 잇는 길이 : 컨투어의 길이\n",
        "\n",
        "epsilon = 0.05 * cv2.arcLength(contour, True) # 컨투어 길이의 오차설정(5%)\n",
        "\n",
        "approx = cv2.approxPolyDP(contour, epsilon, True) # 근사 컨투어 좌표\n",
        "\n",
        "cv2.drawContours(img, [contour], -1, (0,255,0), 3)\n",
        "# drawContours에 파라미터로 들어가는 컨투어 형식 유의(좌표가 아닌 리스트형태)\n",
        "cv2.drawContours(img2, [approx], -1, (0,255,0), 3)\n",
        "# drawContours에 img를 다시 쓰게 되면 앞서 그린 컨투어에 덧씌워져 그려짐\n",
        "\n",
        "imgs = {\"img\":img, \"img2\":img2}\n",
        "plt.figure(figsize=(10, 5))\n",
        "for i, (k, v) in enumerate(imgs.items()):\n",
        "    plt.subplot(1, len(imgs), i+1)\n",
        "    plt.title(k)\n",
        "    plt.imshow(v, cmap='gray')\n"
      ],
      "metadata": {
        "id": "Db96ouCb8QdU",
        "outputId": "f75dd197-194a-40ca-a2b8-31c45a097699",
        "colab": {
          "base_uri": "https://localhost:8080/",
          "height": 210
        }
      },
      "execution_count": 45,
      "outputs": [
        {
          "output_type": "display_data",
          "data": {
            "image/png": "[encoded data removed]",
            "text/plain": [
              "<Figure size 720x360 with 2 Axes>"
            ]
          },
          "metadata": {
            "needs_background": "light"
          }
        }
      ]
    },
    {
      "cell_type": "code",
      "source": [
        "type(contours)"
      ],
      "metadata": {
        "id": "MrxU7Yuo9qY_",
        "outputId": "417305ea-fd50-40ca-e38a-006a4348f61c",
        "colab": {
          "base_uri": "https://localhost:8080/"
        }
      },
      "execution_count": 3,
      "outputs": [
        {
          "output_type": "execute_result",
          "data": {
            "text/plain": [
              "list"
            ]
          },
          "metadata": {},
          "execution_count": 3
        }
      ]
    }
  ],
  "metadata": {
    "colab": {
      "collapsed_sections": [],
      "name": "Colaboratory에 오신 것을 환영합니다",
      "provenance": [],
      "include_colab_link": true
    },
    "kernelspec": {
      "display_name": "Python 3",
      "name": "python3"
    }
  },
  "nbformat": 4,
  "nbformat_minor": 0
}