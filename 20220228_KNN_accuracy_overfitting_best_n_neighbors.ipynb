{
  "cells": [
    {
      "cell_type": "markdown",
      "metadata": {
        "id": "view-in-github",
        "colab_type": "text"
      },
      "source": [
        "<a href=\"https://colab.research.google.com/github/kiyong21c/nadocoding/blob/master/20220228_KNN_accuracy_overfitting_best_n_neighbors.ipynb\" target=\"_parent\"><img src=\"https://colab.research.google.com/assets/colab-badge.svg\" alt=\"Open In Colab\"/></a>"
      ]
    },
    {
      "cell_type": "code",
      "source": [
        "import matplotlib.pyplot as plt\n",
        "from mpl_toolkits.mplot3d import Axes3D\n",
        "from sklearn import datasets\n",
        "from sklearn.decomposition import PCA\n",
        "import numpy as np\n",
        "\n",
        "from sklearn.neighbors import KNeighborsClassifier\n",
        "from sklearn.model_selection import train_test_split, cross_val_score"
      ],
      "metadata": {
        "id": "Z2Hmjjf6sP5i"
      },
      "execution_count": 2,
      "outputs": []
    },
    {
      "cell_type": "code",
      "source": [
        "iris = datasets.load_iris()\n",
        "X = iris.data[:, :2] # length, width 컬럼만 가져오자 : data\n",
        "y = iris.target # 레이블 : target"
      ],
      "metadata": {
        "id": "NpTCY42Et0E0"
      },
      "execution_count": 3,
      "outputs": []
    },
    {
      "cell_type": "code",
      "source": [
        "x_train, x_test, y_train, y_test = train_test_split(X, y, random_state=30)\n",
        "# test_size = 0.25(default)\n",
        "# shuffle = True(default)\n",
        "# stratify = None(default) : target으로 지정시 class비율을 train/validation에 유지"
      ],
      "metadata": {
        "id": "IfzqfHXmtXlr"
      },
      "execution_count": 4,
      "outputs": []
    },
    {
      "cell_type": "markdown",
      "source": [
        "### 1. 정확도 직접 구하기(prediction==y_valid)"
      ],
      "metadata": {
        "id": "RtaIjEJJyIKX"
      }
    },
    {
      "cell_type": "code",
      "source": [
        "clf = KNeighborsClassifier() # 모델 정의\n",
        "clf.fit(x_train, y_train) # 학습 : 데이터와 레이블 매칭(fit)\n",
        "prediction = clf.predict(x_test) # 학습된 데이터/레이블에 검증데이터(x_test) 넣어서 어떤레이블이 나오는지 보자\n",
        "prediction"
      ],
      "metadata": {
        "id": "40fFt0dCuJRn",
        "outputId": "baa5dbab-2c61-40e2-e5a7-4f2b40957574",
        "colab": {
          "base_uri": "https://localhost:8080/"
        }
      },
      "execution_count": 5,
      "outputs": [
        {
          "output_type": "execute_result",
          "data": {
            "text/plain": [
              "array([0, 0, 0, 1, 1, 1, 2, 1, 2, 2, 0, 2, 1, 1, 0, 1, 0, 0, 0, 2, 2, 0,\n",
              "       0, 0, 2, 2, 1, 2, 0, 2, 1, 1, 1, 1, 2, 1, 1, 2])"
            ]
          },
          "metadata": {},
          "execution_count": 5
        }
      ]
    },
    {
      "cell_type": "code",
      "source": [
        "prediction == y_test"
      ],
      "metadata": {
        "id": "TxVXJs8mvv_w",
        "outputId": "ae21e014-3dd1-46fd-b2b1-f82a1502d2e4",
        "colab": {
          "base_uri": "https://localhost:8080/"
        }
      },
      "execution_count": 6,
      "outputs": [
        {
          "output_type": "execute_result",
          "data": {
            "text/plain": [
              "array([ True,  True,  True, False,  True,  True,  True, False, False,\n",
              "        True,  True,  True,  True,  True,  True,  True,  True,  True,\n",
              "        True, False,  True,  True,  True,  True,  True,  True,  True,\n",
              "        True,  True, False, False,  True, False, False,  True, False,\n",
              "        True,  True])"
            ]
          },
          "metadata": {},
          "execution_count": 6
        }
      ]
    },
    {
      "cell_type": "code",
      "source": [
        "(prediction == y_test).mean() # 76.3%"
      ],
      "metadata": {
        "id": "zpVTRYFqwqcf",
        "outputId": "c9c30381-20dd-48dd-c9a4-8b6e73deb4ee",
        "colab": {
          "base_uri": "https://localhost:8080/"
        }
      },
      "execution_count": 7,
      "outputs": [
        {
          "output_type": "execute_result",
          "data": {
            "text/plain": [
              "0.7631578947368421"
            ]
          },
          "metadata": {},
          "execution_count": 7
        }
      ]
    },
    {
      "cell_type": "markdown",
      "source": [
        "### 2. 정확도 score 메소드로 구하기(KNeighborsClassifier.score())"
      ],
      "metadata": {
        "id": "_FtZFv_byS5T"
      }
    },
    {
      "cell_type": "code",
      "source": [
        "clf.score(x_test, y_test) # clf.fit()을 통해 이미 학습되어 있는 상태에서 clf.score()"
      ],
      "metadata": {
        "id": "_0u-OAFxwwOr",
        "outputId": "c3356f18-61e0-487d-a560-06fe58556383",
        "colab": {
          "base_uri": "https://localhost:8080/"
        }
      },
      "execution_count": 8,
      "outputs": [
        {
          "output_type": "execute_result",
          "data": {
            "text/plain": [
              "0.7631578947368421"
            ]
          },
          "metadata": {},
          "execution_count": 8
        }
      ]
    },
    {
      "cell_type": "markdown",
      "source": [
        "# overfitting 여부 확인"
      ],
      "metadata": {
        "id": "ebwuFRKIykOp"
      }
    },
    {
      "cell_type": "code",
      "source": [
        "print(\"학습데이터의 정확도    : {0:.3f}\".format(clf.score(x_train, y_train)))\n",
        "print(\"검증데이터의 정확도    : {0:.3f}\".format((prediction==y_test).mean()))\n",
        "# 학습된 데이터/레이블에 똑같은 학습데이터를 넣어도 100% 정확도가 안나오네...\n",
        "# KNN에 따라 바운더리가 형성되며, 과적합(Overfitting)인 경우 : 학습데이터 Accuracy > 검증데이터 Accuracy"
      ],
      "metadata": {
        "id": "Z678SBLsxLa5",
        "outputId": "44b1a856-9f93-4cf2-cf9c-49481027b368",
        "colab": {
          "base_uri": "https://localhost:8080/"
        }
      },
      "execution_count": 9,
      "outputs": [
        {
          "output_type": "stream",
          "name": "stdout",
          "text": [
            "학습데이터의 정확도    : 0.830\n",
            "검증데이터의 정확도    : 0.763\n"
          ]
        }
      ]
    },
    {
      "cell_type": "markdown",
      "source": [
        "n_neighbors개수가 적은경우 결정경계 복잡 : Overfitting\n",
        "\n",
        "n_neighbors개수가 많은경우 결정경계 단순 : underfitting"
      ],
      "metadata": {
        "id": "wrVO5sQeexfQ"
      }
    },
    {
      "cell_type": "code",
      "source": [
        "train_acc = []\n",
        "test_acc = []\n",
        "\n",
        "for n in range(1, 15):\n",
        "    clf = KNeighborsClassifier(n_jobs=-1, n_neighbors=n) # 1.모델 정의\n",
        "    clf.fit(x_train, y_train) # 2.모델 학습(학습할데이터, 학습할데이터의레이블)\n",
        "    prediction = clf.predict(x_test) # 모델 검증(검증할데이터) → 학습된 데이터에 따라 예상되는 레이블\n",
        "    train_acc.append(clf.score(x_train, y_train)) # 함수로 정확도 확인(데이터, 레이블)\n",
        "    test_acc.append((prediction==y_test).mean())"
      ],
      "metadata": {
        "id": "8ue7zbeVzalr"
      },
      "execution_count": 11,
      "outputs": []
    },
    {
      "cell_type": "code",
      "source": [
        "plt.figure(figsize=(10,5))\n",
        "plt.plot(range(1, 15), train_acc, label='TRAIN set')\n",
        "plt.plot(range(1, 15), test_acc, label='TEST set')\n",
        "plt.xlabel(\"n_neighbors\")\n",
        "plt.ylabel(\"accuracy\")\n",
        "plt.xticks(np.arange(0, 16, step=1)) # plt(x=)에 따라 임의의 간격으로 표시된 x축의 ticks를 직접설정\n",
        "plt.legend() # plt(label=) 에 표현된 레이블을 범례로 표시"
      ],
      "metadata": {
        "id": "l748afU7gyUU",
        "outputId": "6f306e4d-828f-4d45-c945-ebc984f64cd9",
        "colab": {
          "base_uri": "https://localhost:8080/",
          "height": 353
        }
      },
      "execution_count": 15,
      "outputs": [
        {
          "output_type": "execute_result",
          "data": {
            "text/plain": [
              "<matplotlib.legend.Legend at 0x7fb1abd39c50>"
            ]
          },
          "metadata": {},
          "execution_count": 15
        },
        {
          "output_type": "display_data",
          "data": {
            "image/png": "[encoded data removed]",
            "text/plain": [
              "<Figure size 720x360 with 1 Axes>"
            ]
          },
          "metadata": {
            "needs_background": "light"
          }
        }
      ]
    },
    {
      "cell_type": "markdown",
      "source": [
        "n_neighbors가 11인경우 test set의 정확도가 가장 높게 나왔음. 따라서 n_neighbors=11이 최적값\n",
        "\n",
        "train set의 정확도가 가장 높다고 좋은것이 아니다.\n",
        "과적합의 가능성이 높기 때문"
      ],
      "metadata": {
        "id": "foAQbhhIiDYF"
      }
    }
  ],
  "metadata": {
    "colab": {
      "collapsed_sections": [],
      "name": "Colaboratory에 오신 것을 환영합니다",
      "provenance": [],
      "include_colab_link": true
    },
    "kernelspec": {
      "display_name": "Python 3",
      "name": "python3"
    }
  },
  "nbformat": 4,
  "nbformat_minor": 0
}