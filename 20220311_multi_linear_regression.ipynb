{
  "cells": [
    {
      "cell_type": "markdown",
      "metadata": {
        "id": "view-in-github",
        "colab_type": "text"
      },
      "source": [
        "<a href=\"https://colab.research.google.com/github/kiyong21c/nadocoding/blob/master/20220311_multi_linear_regression.ipynb\" target=\"_parent\"><img src=\"https://colab.research.google.com/assets/colab-badge.svg\" alt=\"Open In Colab\"/></a>"
      ]
    },
    {
      "cell_type": "code",
      "source": [
        "from google.colab import drive\n",
        "drive.mount('/content/drive')"
      ],
      "metadata": {
        "id": "0fntr06GM3ac",
        "outputId": "a5812d81-36fe-46ff-eb36-08f03fd7ec2a",
        "colab": {
          "base_uri": "https://localhost:8080/"
        }
      },
      "execution_count": 35,
      "outputs": [
        {
          "output_type": "stream",
          "name": "stdout",
          "text": [
            "Drive already mounted at /content/drive; to attempt to forcibly remount, call drive.mount(\"/content/drive\", force_remount=True).\n"
          ]
        }
      ]
    },
    {
      "cell_type": "markdown",
      "source": [
        "# 선형회귀(Linear Regression)\n",
        "https://colab.research.google.com/notebooks/intro.ipynb#scrollTo=SNcckOe_M-Rz"
      ],
      "metadata": {
        "id": "SNcckOe_M-Rz"
      }
    },
    {
      "cell_type": "code",
      "source": [
        "from sklearn.linear_model import LinearRegression # 머신러닝 라이브러리\n",
        "\n",
        "# line_fitter = LinearRegression() # 모델생성\n",
        "# line_fitter.fit(X, y) # X, y 데이터 학습\n",
        "# 기울기 : line_fitter.coef_\n",
        "# 절편 : line_fitter.intercept_\n",
        "# y_predicted = line_fitter.predict(X) # 새로운 X값으로 y값을 예측\n",
        "# loss가 최소(기울기가 최소)인 b값이 나올때 까지 얼마나 반복 : num_iterations\n",
        "# 얼마나 꼼꼼히 학습할지 : learning_rate\n",
        "# 사이킷런의 단순선형회귀에서는 [최소제곱법] 사용 : num_iteration, learning_rate 필요하지 않음"
      ],
      "metadata": {
        "id": "ds1776-rM8SG"
      },
      "execution_count": 36,
      "outputs": []
    },
    {
      "cell_type": "code",
      "source": [
        "from sklearn.linear_model import LinearRegression # 머신러닝 라이브러리\n",
        "import pandas as pd\n",
        "import numpy as np\n",
        "import matplotlib.pyplot as plt\n",
        "\n",
        "df = pd.read_csv('/content/drive/MyDrive/Colab Notebooks/student_info.csv')\n",
        "df"
      ],
      "metadata": {
        "id": "YPEAAxipOLCz",
        "outputId": "a6d28f84-1e84-4d97-9490-de12f79625e3",
        "colab": {
          "base_uri": "https://localhost:8080/",
          "height": 419
        }
      },
      "execution_count": 37,
      "outputs": [
        {
          "output_type": "execute_result",
          "data": {
            "text/html": [
              "\n",
              "  <div id=\"df-e5870b8f-4fc2-4621-a1e7-fcc46c0aedc9\">\n",
              "    <div class=\"colab-df-container\">\n",
              "      <div>\n",
              "<style scoped>\n",
              "    .dataframe tbody tr th:only-of-type {\n",
              "        vertical-align: middle;\n",
              "    }\n",
              "\n",
              "    .dataframe tbody tr th {\n",
              "        vertical-align: top;\n",
              "    }\n",
              "\n",
              "    .dataframe thead th {\n",
              "        text-align: right;\n",
              "    }\n",
              "</style>\n",
              "<table border=\"1\" class=\"dataframe\">\n",
              "  <thead>\n",
              "    <tr style=\"text-align: right;\">\n",
              "      <th></th>\n",
              "      <th>no</th>\n",
              "      <th>gender</th>\n",
              "      <th>weight_kg</th>\n",
              "      <th>height_cm</th>\n",
              "    </tr>\n",
              "  </thead>\n",
              "  <tbody>\n",
              "    <tr>\n",
              "      <th>0</th>\n",
              "      <td>1</td>\n",
              "      <td>m</td>\n",
              "      <td>98</td>\n",
              "      <td>198</td>\n",
              "    </tr>\n",
              "    <tr>\n",
              "      <th>1</th>\n",
              "      <td>2</td>\n",
              "      <td>m</td>\n",
              "      <td>77</td>\n",
              "      <td>170</td>\n",
              "    </tr>\n",
              "    <tr>\n",
              "      <th>2</th>\n",
              "      <td>3</td>\n",
              "      <td>m</td>\n",
              "      <td>70</td>\n",
              "      <td>170</td>\n",
              "    </tr>\n",
              "    <tr>\n",
              "      <th>3</th>\n",
              "      <td>4</td>\n",
              "      <td>m</td>\n",
              "      <td>90</td>\n",
              "      <td>198</td>\n",
              "    </tr>\n",
              "    <tr>\n",
              "      <th>4</th>\n",
              "      <td>5</td>\n",
              "      <td>m</td>\n",
              "      <td>71</td>\n",
              "      <td>170</td>\n",
              "    </tr>\n",
              "    <tr>\n",
              "      <th>...</th>\n",
              "      <td>...</td>\n",
              "      <td>...</td>\n",
              "      <td>...</td>\n",
              "      <td>...</td>\n",
              "    </tr>\n",
              "    <tr>\n",
              "      <th>85</th>\n",
              "      <td>88</td>\n",
              "      <td>f</td>\n",
              "      <td>100</td>\n",
              "      <td>190</td>\n",
              "    </tr>\n",
              "    <tr>\n",
              "      <th>86</th>\n",
              "      <td>89</td>\n",
              "      <td>f</td>\n",
              "      <td>54</td>\n",
              "      <td>163</td>\n",
              "    </tr>\n",
              "    <tr>\n",
              "      <th>87</th>\n",
              "      <td>90</td>\n",
              "      <td>f</td>\n",
              "      <td>57</td>\n",
              "      <td>161</td>\n",
              "    </tr>\n",
              "    <tr>\n",
              "      <th>88</th>\n",
              "      <td>91</td>\n",
              "      <td>f</td>\n",
              "      <td>101</td>\n",
              "      <td>198</td>\n",
              "    </tr>\n",
              "    <tr>\n",
              "      <th>89</th>\n",
              "      <td>92</td>\n",
              "      <td>f</td>\n",
              "      <td>110</td>\n",
              "      <td>190</td>\n",
              "    </tr>\n",
              "  </tbody>\n",
              "</table>\n",
              "<p>90 rows × 4 columns</p>\n",
              "</div>\n",
              "      <button class=\"colab-df-convert\" onclick=\"convertToInteractive('df-e5870b8f-4fc2-4621-a1e7-fcc46c0aedc9')\"\n",
              "              title=\"Convert this dataframe to an interactive table.\"\n",
              "              style=\"display:none;\">\n",
              "        \n",
              "  <svg xmlns=\"http://www.w3.org/2000/svg\" height=\"24px\"viewBox=\"0 0 24 24\"\n",
              "       width=\"24px\">\n",
              "    <path d=\"M0 0h24v24H0V0z\" fill=\"none\"/>\n",
              "    <path d=\"M18.56 5.44l.94 2.06.94-2.06 2.06-.94-2.06-.94-.94-2.06-.94 2.06-2.06.94zm-11 1L8.5 8.5l.94-2.06 2.06-.94-2.06-.94L8.5 2.5l-.94 2.06-2.06.94zm10 10l.94 2.06.94-2.06 2.06-.94-2.06-.94-.94-2.06-.94 2.06-2.06.94z\"/><path d=\"M17.41 7.96l-1.37-1.37c-.4-.4-.92-.59-1.43-.59-.52 0-1.04.2-1.43.59L10.3 9.45l-7.72 7.72c-.78.78-.78 2.05 0 2.83L4 21.41c.39.39.9.59 1.41.59.51 0 1.02-.2 1.41-.59l7.78-7.78 2.81-2.81c.8-.78.8-2.07 0-2.86zM5.41 20L4 18.59l7.72-7.72 1.47 1.35L5.41 20z\"/>\n",
              "  </svg>\n",
              "      </button>\n",
              "      \n",
              "  <style>\n",
              "    .colab-df-container {\n",
              "      display:flex;\n",
              "      flex-wrap:wrap;\n",
              "      gap: 12px;\n",
              "    }\n",
              "\n",
              "    .colab-df-convert {\n",
              "      background-color: #E8F0FE;\n",
              "      border: none;\n",
              "      border-radius: 50%;\n",
              "      cursor: pointer;\n",
              "      display: none;\n",
              "      fill: #1967D2;\n",
              "      height: 32px;\n",
              "      padding: 0 0 0 0;\n",
              "      width: 32px;\n",
              "    }\n",
              "\n",
              "    .colab-df-convert:hover {\n",
              "      background-color: #E2EBFA;\n",
              "      box-shadow: 0px 1px 2px rgba(60, 64, 67, 0.3), 0px 1px 3px 1px rgba(60, 64, 67, 0.15);\n",
              "      fill: #174EA6;\n",
              "    }\n",
              "\n",
              "    [theme=dark] .colab-df-convert {\n",
              "      background-color: #3B4455;\n",
              "      fill: #D2E3FC;\n",
              "    }\n",
              "\n",
              "    [theme=dark] .colab-df-convert:hover {\n",
              "      background-color: #434B5C;\n",
              "      box-shadow: 0px 1px 3px 1px rgba(0, 0, 0, 0.15);\n",
              "      filter: drop-shadow(0px 1px 2px rgba(0, 0, 0, 0.3));\n",
              "      fill: #FFFFFF;\n",
              "    }\n",
              "  </style>\n",
              "\n",
              "      <script>\n",
              "        const buttonEl =\n",
              "          document.querySelector('#df-e5870b8f-4fc2-4621-a1e7-fcc46c0aedc9 button.colab-df-convert');\n",
              "        buttonEl.style.display =\n",
              "          google.colab.kernel.accessAllowed ? 'block' : 'none';\n",
              "\n",
              "        async function convertToInteractive(key) {\n",
              "          const element = document.querySelector('#df-e5870b8f-4fc2-4621-a1e7-fcc46c0aedc9');\n",
              "          const dataTable =\n",
              "            await google.colab.kernel.invokeFunction('convertToInteractive',\n",
              "                                                     [key], {});\n",
              "          if (!dataTable) return;\n",
              "\n",
              "          const docLinkHtml = 'Like what you see? Visit the ' +\n",
              "            '<a target=\"_blank\" href=https://colab.research.google.com/notebooks/data_table.ipynb>data table notebook</a>'\n",
              "            + ' to learn more about interactive tables.';\n",
              "          element.innerHTML = '';\n",
              "          dataTable['output_type'] = 'display_data';\n",
              "          await google.colab.output.renderOutput(dataTable, element);\n",
              "          const docLink = document.createElement('div');\n",
              "          docLink.innerHTML = docLinkHtml;\n",
              "          element.appendChild(docLink);\n",
              "        }\n",
              "      </script>\n",
              "    </div>\n",
              "  </div>\n",
              "  "
            ],
            "text/plain": [
              "    no gender  weight_kg  height_cm\n",
              "0    1      m         98        198\n",
              "1    2      m         77        170\n",
              "2    3      m         70        170\n",
              "3    4      m         90        198\n",
              "4    5      m         71        170\n",
              "..  ..    ...        ...        ...\n",
              "85  88      f        100        190\n",
              "86  89      f         54        163\n",
              "87  90      f         57        161\n",
              "88  91      f        101        198\n",
              "89  92      f        110        190\n",
              "\n",
              "[90 rows x 4 columns]"
            ]
          },
          "metadata": {},
          "execution_count": 37
        }
      ]
    },
    {
      "cell_type": "code",
      "source": [
        "X = df['height_cm']\n",
        "y = df['weight_kg']\n",
        "plt.plot(X, y, 'o')\n",
        "plt.show()"
      ],
      "metadata": {
        "id": "LXOelLjwOu0x",
        "outputId": "d222c159-6484-4a53-afb1-94d3704f6d32",
        "colab": {
          "base_uri": "https://localhost:8080/",
          "height": 265
        }
      },
      "execution_count": 38,
      "outputs": [
        {
          "output_type": "display_data",
          "data": {
            "image/png": "[encoded data removed]",
            "text/plain": [
              "<Figure size 432x288 with 1 Axes>"
            ]
          },
          "metadata": {
            "needs_background": "light"
          }
        }
      ]
    },
    {
      "cell_type": "code",
      "source": [
        "X.values"
      ],
      "metadata": {
        "id": "HumcFMT2PlsA",
        "outputId": "069046a2-02b6-4500-9a8d-430f04078aee",
        "colab": {
          "base_uri": "https://localhost:8080/"
        }
      },
      "execution_count": 39,
      "outputs": [
        {
          "output_type": "execute_result",
          "data": {
            "text/plain": [
              "array([198, 170, 170, 198, 170, 165, 193, 142, 137, 155, 165, 147, 170,\n",
              "       140, 165, 132, 137, 165, 165, 180, 168, 142, 193, 165, 142, 165,\n",
              "       137, 165, 160, 160, 165, 165, 165, 163, 170, 165, 155, 165, 165,\n",
              "       160, 163, 135, 165, 142, 193, 171, 162, 198, 190, 163, 150, 168,\n",
              "       168, 193, 170, 163, 198, 190, 163, 160, 168, 168, 193, 160, 162,\n",
              "       198, 190, 163, 166, 168, 168, 193, 152, 163, 156, 168, 168, 193,\n",
              "       160, 152, 198, 190, 163, 168, 198, 190, 163, 161, 198, 190])"
            ]
          },
          "metadata": {},
          "execution_count": 39
        }
      ]
    },
    {
      "cell_type": "code",
      "source": [
        "print(X.values.shape) # (90, )\n",
        "print(X.values.ndim) # 1차원\n",
        "print(y.values.shape) # 1차원"
      ],
      "metadata": {
        "id": "pKQSgV7uPwRt",
        "outputId": "3413b880-5e70-477a-ff6f-af424a2d527f",
        "colab": {
          "base_uri": "https://localhost:8080/"
        }
      },
      "execution_count": 40,
      "outputs": [
        {
          "output_type": "stream",
          "name": "stdout",
          "text": [
            "(90,)\n",
            "1\n",
            "(90,)\n"
          ]
        }
      ]
    },
    {
      "cell_type": "code",
      "source": [
        "X.values.reshape(-1,1) # 2차원 배열로 변환\n",
        "print(X.values.reshape(-1,1).shape)"
      ],
      "metadata": {
        "id": "JUzE29JYQCsH",
        "outputId": "ee6b4e51-96a1-4db7-e3f4-f1f11cf5a667",
        "colab": {
          "base_uri": "https://localhost:8080/"
        }
      },
      "execution_count": 41,
      "outputs": [
        {
          "output_type": "stream",
          "name": "stdout",
          "text": [
            "(90, 1)\n"
          ]
        }
      ]
    },
    {
      "cell_type": "code",
      "source": [
        "line_fitter = LinearRegression() # 선형회귀모델 생성\n",
        "line_fitter.fit(X.values.reshape(-1,1), y) # 모델 학습"
      ],
      "metadata": {
        "id": "zZEFzM5oO1DM",
        "outputId": "cf351877-a1d2-472b-fb3e-77903daa4028",
        "colab": {
          "base_uri": "https://localhost:8080/"
        }
      },
      "execution_count": 42,
      "outputs": [
        {
          "output_type": "execute_result",
          "data": {
            "text/plain": [
              "LinearRegression()"
            ]
          },
          "metadata": {},
          "execution_count": 42
        }
      ]
    },
    {
      "cell_type": "code",
      "source": [
        "line_fitter.predict([[170]]) # 키가 170인 사람을 예측해보면 → 70.8526..."
      ],
      "metadata": {
        "id": "TfDdlzN1RHIz",
        "outputId": "5a41049b-6c43-4415-de86-a0e2575d5066",
        "colab": {
          "base_uri": "https://localhost:8080/"
        }
      },
      "execution_count": 43,
      "outputs": [
        {
          "output_type": "execute_result",
          "data": {
            "text/plain": [
              "array([70.8526996])"
            ]
          },
          "metadata": {},
          "execution_count": 43
        }
      ]
    },
    {
      "cell_type": "code",
      "source": [
        "line_fitter.coef_ # 기울기"
      ],
      "metadata": {
        "id": "tjvNbLPFRO6L",
        "outputId": "d9bc637e-f041-4daf-94d6-4f5ecb94d596",
        "colab": {
          "base_uri": "https://localhost:8080/"
        }
      },
      "execution_count": 44,
      "outputs": [
        {
          "output_type": "execute_result",
          "data": {
            "text/plain": [
              "array([0.2246605])"
            ]
          },
          "metadata": {},
          "execution_count": 44
        }
      ]
    },
    {
      "cell_type": "code",
      "source": [
        "line_fitter.intercept_ # 절편"
      ],
      "metadata": {
        "id": "t4-Z-RxURc8M",
        "outputId": "087f2db5-532a-464f-d902-ef1880801426",
        "colab": {
          "base_uri": "https://localhost:8080/"
        }
      },
      "execution_count": 45,
      "outputs": [
        {
          "output_type": "execute_result",
          "data": {
            "text/plain": [
              "32.66041436237762"
            ]
          },
          "metadata": {},
          "execution_count": 45
        }
      ]
    },
    {
      "cell_type": "code",
      "source": [
        "plt.plot(X, y, 'o')\n",
        "plt.show()"
      ],
      "metadata": {
        "id": "6Mhk3m4dRjld",
        "outputId": "504ba894-0fc9-4e45-f3b9-e97259ecd563",
        "colab": {
          "base_uri": "https://localhost:8080/",
          "height": 265
        }
      },
      "execution_count": 46,
      "outputs": [
        {
          "output_type": "display_data",
          "data": {
            "image/png": "[encoded data removed]",
            "text/plain": [
              "<Figure size 432x288 with 1 Axes>"
            ]
          },
          "metadata": {
            "needs_background": "light"
          }
        }
      ]
    },
    {
      "cell_type": "code",
      "source": [
        "plt.plot(X, y, 'o')\n",
        "plt.plot(X, line_fitter.predict(X.values.reshape(-1,1))) # 기존X값으로 y를 예측하게 한 그래프\n",
        "plt.show()"
      ],
      "metadata": {
        "id": "mw5nYg8JR3Y-",
        "outputId": "ca4ca4a1-b723-4c5c-9bd3-9a69b6552f66",
        "colab": {
          "base_uri": "https://localhost:8080/",
          "height": 265
        }
      },
      "execution_count": 47,
      "outputs": [
        {
          "output_type": "display_data",
          "data": {
            "image/png": "[encoded data removed]",
            "text/plain": [
              "<Figure size 432x288 with 1 Axes>"
            ]
          },
          "metadata": {
            "needs_background": "light"
          }
        }
      ]
    },
    {
      "cell_type": "markdown",
      "source": [
        "# 다중선형회귀(Multiple Linear Regression)\n",
        " > - 몸무게를 예측하는데 필요한 변수가 X하나만은 아닐 것\n",
        " > - 여러가지의 변수 X를 고려하는것이 다중선형 회귀\n",
        "\n",
        "Y = b + m1x1 + m2x2 + ... \n",
        "\n",
        "x변수 두개가 넘어가면 인간의 인지능력으로 시각화 불가능"
      ],
      "metadata": {
        "id": "8Jl9yvC6TKlR"
      }
    },
    {
      "cell_type": "code",
      "source": [
        "import pandas as pd\n",
        "\n",
        "df = pd.read_csv('/content/drive/MyDrive/Colab Notebooks/manhattan.csv.txt')\n",
        "df.head() # rent: 임대료를 예측하는것이 목표"
      ],
      "metadata": {
        "id": "p56Pg5IrSByu",
        "outputId": "ef56d1bd-e016-4b07-98e5-9ee6d8445327",
        "colab": {
          "base_uri": "https://localhost:8080/",
          "height": 319
        }
      },
      "execution_count": 48,
      "outputs": [
        {
          "output_type": "execute_result",
          "data": {
            "text/html": [
              "\n",
              "  <div id=\"df-520f0b3f-7ed7-45ce-b014-03dcbe76da8c\">\n",
              "    <div class=\"colab-df-container\">\n",
              "      <div>\n",
              "<style scoped>\n",
              "    .dataframe tbody tr th:only-of-type {\n",
              "        vertical-align: middle;\n",
              "    }\n",
              "\n",
              "    .dataframe tbody tr th {\n",
              "        vertical-align: top;\n",
              "    }\n",
              "\n",
              "    .dataframe thead th {\n",
              "        text-align: right;\n",
              "    }\n",
              "</style>\n",
              "<table border=\"1\" class=\"dataframe\">\n",
              "  <thead>\n",
              "    <tr style=\"text-align: right;\">\n",
              "      <th></th>\n",
              "      <th>rental_id</th>\n",
              "      <th>rent</th>\n",
              "      <th>bedrooms</th>\n",
              "      <th>bathrooms</th>\n",
              "      <th>size_sqft</th>\n",
              "      <th>min_to_subway</th>\n",
              "      <th>floor</th>\n",
              "      <th>building_age_yrs</th>\n",
              "      <th>no_fee</th>\n",
              "      <th>has_roofdeck</th>\n",
              "      <th>has_washer_dryer</th>\n",
              "      <th>has_doorman</th>\n",
              "      <th>has_elevator</th>\n",
              "      <th>has_dishwasher</th>\n",
              "      <th>has_patio</th>\n",
              "      <th>has_gym</th>\n",
              "      <th>neighborhood</th>\n",
              "      <th>borough</th>\n",
              "    </tr>\n",
              "  </thead>\n",
              "  <tbody>\n",
              "    <tr>\n",
              "      <th>0</th>\n",
              "      <td>1545</td>\n",
              "      <td>2550</td>\n",
              "      <td>0.0</td>\n",
              "      <td>1</td>\n",
              "      <td>480</td>\n",
              "      <td>9</td>\n",
              "      <td>2.0</td>\n",
              "      <td>17</td>\n",
              "      <td>1</td>\n",
              "      <td>1</td>\n",
              "      <td>0</td>\n",
              "      <td>0</td>\n",
              "      <td>1</td>\n",
              "      <td>1</td>\n",
              "      <td>0</td>\n",
              "      <td>1</td>\n",
              "      <td>Upper East Side</td>\n",
              "      <td>Manhattan</td>\n",
              "    </tr>\n",
              "    <tr>\n",
              "      <th>1</th>\n",
              "      <td>2472</td>\n",
              "      <td>11500</td>\n",
              "      <td>2.0</td>\n",
              "      <td>2</td>\n",
              "      <td>2000</td>\n",
              "      <td>4</td>\n",
              "      <td>1.0</td>\n",
              "      <td>96</td>\n",
              "      <td>0</td>\n",
              "      <td>0</td>\n",
              "      <td>0</td>\n",
              "      <td>0</td>\n",
              "      <td>0</td>\n",
              "      <td>0</td>\n",
              "      <td>0</td>\n",
              "      <td>0</td>\n",
              "      <td>Greenwich Village</td>\n",
              "      <td>Manhattan</td>\n",
              "    </tr>\n",
              "    <tr>\n",
              "      <th>2</th>\n",
              "      <td>2919</td>\n",
              "      <td>4500</td>\n",
              "      <td>1.0</td>\n",
              "      <td>1</td>\n",
              "      <td>916</td>\n",
              "      <td>2</td>\n",
              "      <td>51.0</td>\n",
              "      <td>29</td>\n",
              "      <td>0</td>\n",
              "      <td>1</td>\n",
              "      <td>0</td>\n",
              "      <td>1</td>\n",
              "      <td>1</td>\n",
              "      <td>1</td>\n",
              "      <td>0</td>\n",
              "      <td>0</td>\n",
              "      <td>Midtown</td>\n",
              "      <td>Manhattan</td>\n",
              "    </tr>\n",
              "    <tr>\n",
              "      <th>3</th>\n",
              "      <td>2790</td>\n",
              "      <td>4795</td>\n",
              "      <td>1.0</td>\n",
              "      <td>1</td>\n",
              "      <td>975</td>\n",
              "      <td>3</td>\n",
              "      <td>8.0</td>\n",
              "      <td>31</td>\n",
              "      <td>0</td>\n",
              "      <td>0</td>\n",
              "      <td>0</td>\n",
              "      <td>1</td>\n",
              "      <td>1</td>\n",
              "      <td>1</td>\n",
              "      <td>0</td>\n",
              "      <td>1</td>\n",
              "      <td>Greenwich Village</td>\n",
              "      <td>Manhattan</td>\n",
              "    </tr>\n",
              "    <tr>\n",
              "      <th>4</th>\n",
              "      <td>3946</td>\n",
              "      <td>17500</td>\n",
              "      <td>2.0</td>\n",
              "      <td>2</td>\n",
              "      <td>4800</td>\n",
              "      <td>3</td>\n",
              "      <td>4.0</td>\n",
              "      <td>136</td>\n",
              "      <td>0</td>\n",
              "      <td>0</td>\n",
              "      <td>0</td>\n",
              "      <td>1</td>\n",
              "      <td>1</td>\n",
              "      <td>1</td>\n",
              "      <td>0</td>\n",
              "      <td>1</td>\n",
              "      <td>Soho</td>\n",
              "      <td>Manhattan</td>\n",
              "    </tr>\n",
              "  </tbody>\n",
              "</table>\n",
              "</div>\n",
              "      <button class=\"colab-df-convert\" onclick=\"convertToInteractive('df-520f0b3f-7ed7-45ce-b014-03dcbe76da8c')\"\n",
              "              title=\"Convert this dataframe to an interactive table.\"\n",
              "              style=\"display:none;\">\n",
              "        \n",
              "  <svg xmlns=\"http://www.w3.org/2000/svg\" height=\"24px\"viewBox=\"0 0 24 24\"\n",
              "       width=\"24px\">\n",
              "    <path d=\"M0 0h24v24H0V0z\" fill=\"none\"/>\n",
              "    <path d=\"M18.56 5.44l.94 2.06.94-2.06 2.06-.94-2.06-.94-.94-2.06-.94 2.06-2.06.94zm-11 1L8.5 8.5l.94-2.06 2.06-.94-2.06-.94L8.5 2.5l-.94 2.06-2.06.94zm10 10l.94 2.06.94-2.06 2.06-.94-2.06-.94-.94-2.06-.94 2.06-2.06.94z\"/><path d=\"M17.41 7.96l-1.37-1.37c-.4-.4-.92-.59-1.43-.59-.52 0-1.04.2-1.43.59L10.3 9.45l-7.72 7.72c-.78.78-.78 2.05 0 2.83L4 21.41c.39.39.9.59 1.41.59.51 0 1.02-.2 1.41-.59l7.78-7.78 2.81-2.81c.8-.78.8-2.07 0-2.86zM5.41 20L4 18.59l7.72-7.72 1.47 1.35L5.41 20z\"/>\n",
              "  </svg>\n",
              "      </button>\n",
              "      \n",
              "  <style>\n",
              "    .colab-df-container {\n",
              "      display:flex;\n",
              "      flex-wrap:wrap;\n",
              "      gap: 12px;\n",
              "    }\n",
              "\n",
              "    .colab-df-convert {\n",
              "      background-color: #E8F0FE;\n",
              "      border: none;\n",
              "      border-radius: 50%;\n",
              "      cursor: pointer;\n",
              "      display: none;\n",
              "      fill: #1967D2;\n",
              "      height: 32px;\n",
              "      padding: 0 0 0 0;\n",
              "      width: 32px;\n",
              "    }\n",
              "\n",
              "    .colab-df-convert:hover {\n",
              "      background-color: #E2EBFA;\n",
              "      box-shadow: 0px 1px 2px rgba(60, 64, 67, 0.3), 0px 1px 3px 1px rgba(60, 64, 67, 0.15);\n",
              "      fill: #174EA6;\n",
              "    }\n",
              "\n",
              "    [theme=dark] .colab-df-convert {\n",
              "      background-color: #3B4455;\n",
              "      fill: #D2E3FC;\n",
              "    }\n",
              "\n",
              "    [theme=dark] .colab-df-convert:hover {\n",
              "      background-color: #434B5C;\n",
              "      box-shadow: 0px 1px 3px 1px rgba(0, 0, 0, 0.15);\n",
              "      filter: drop-shadow(0px 1px 2px rgba(0, 0, 0, 0.3));\n",
              "      fill: #FFFFFF;\n",
              "    }\n",
              "  </style>\n",
              "\n",
              "      <script>\n",
              "        const buttonEl =\n",
              "          document.querySelector('#df-520f0b3f-7ed7-45ce-b014-03dcbe76da8c button.colab-df-convert');\n",
              "        buttonEl.style.display =\n",
              "          google.colab.kernel.accessAllowed ? 'block' : 'none';\n",
              "\n",
              "        async function convertToInteractive(key) {\n",
              "          const element = document.querySelector('#df-520f0b3f-7ed7-45ce-b014-03dcbe76da8c');\n",
              "          const dataTable =\n",
              "            await google.colab.kernel.invokeFunction('convertToInteractive',\n",
              "                                                     [key], {});\n",
              "          if (!dataTable) return;\n",
              "\n",
              "          const docLinkHtml = 'Like what you see? Visit the ' +\n",
              "            '<a target=\"_blank\" href=https://colab.research.google.com/notebooks/data_table.ipynb>data table notebook</a>'\n",
              "            + ' to learn more about interactive tables.';\n",
              "          element.innerHTML = '';\n",
              "          dataTable['output_type'] = 'display_data';\n",
              "          await google.colab.output.renderOutput(dataTable, element);\n",
              "          const docLink = document.createElement('div');\n",
              "          docLink.innerHTML = docLinkHtml;\n",
              "          element.appendChild(docLink);\n",
              "        }\n",
              "      </script>\n",
              "    </div>\n",
              "  </div>\n",
              "  "
            ],
            "text/plain": [
              "   rental_id   rent  bedrooms  bathrooms  size_sqft  min_to_subway  floor  \\\n",
              "0       1545   2550       0.0          1        480              9    2.0   \n",
              "1       2472  11500       2.0          2       2000              4    1.0   \n",
              "2       2919   4500       1.0          1        916              2   51.0   \n",
              "3       2790   4795       1.0          1        975              3    8.0   \n",
              "4       3946  17500       2.0          2       4800              3    4.0   \n",
              "\n",
              "   building_age_yrs  no_fee  has_roofdeck  has_washer_dryer  has_doorman  \\\n",
              "0                17       1             1                 0            0   \n",
              "1                96       0             0                 0            0   \n",
              "2                29       0             1                 0            1   \n",
              "3                31       0             0                 0            1   \n",
              "4               136       0             0                 0            1   \n",
              "\n",
              "   has_elevator  has_dishwasher  has_patio  has_gym       neighborhood  \\\n",
              "0             1               1          0        1    Upper East Side   \n",
              "1             0               0          0        0  Greenwich Village   \n",
              "2             1               1          0        0            Midtown   \n",
              "3             1               1          0        1  Greenwich Village   \n",
              "4             1               1          0        1               Soho   \n",
              "\n",
              "     borough  \n",
              "0  Manhattan  \n",
              "1  Manhattan  \n",
              "2  Manhattan  \n",
              "3  Manhattan  \n",
              "4  Manhattan  "
            ]
          },
          "metadata": {},
          "execution_count": 48
        }
      ]
    },
    {
      "cell_type": "code",
      "source": [
        "df.columns # 임대료에 영향을 미칠것 같은 X 변수들"
      ],
      "metadata": {
        "id": "WTV8sOo-UycU",
        "outputId": "8470316a-bca8-4714-a3b1-d2096015e93f",
        "colab": {
          "base_uri": "https://localhost:8080/"
        }
      },
      "execution_count": 49,
      "outputs": [
        {
          "output_type": "execute_result",
          "data": {
            "text/plain": [
              "Index(['rental_id', 'rent', 'bedrooms', 'bathrooms', 'size_sqft',\n",
              "       'min_to_subway', 'floor', 'building_age_yrs', 'no_fee', 'has_roofdeck',\n",
              "       'has_washer_dryer', 'has_doorman', 'has_elevator', 'has_dishwasher',\n",
              "       'has_patio', 'has_gym', 'neighborhood', 'borough'],\n",
              "      dtype='object')"
            ]
          },
          "metadata": {},
          "execution_count": 49
        }
      ]
    },
    {
      "cell_type": "markdown",
      "source": [
        "### 데이터 세트 분리하기(Traning & Test)\n",
        "\n",
        "가지고 있는 데이터를 모두 사용해서 다중선형회귀 모델을 만들수 있지만 생성한 모델이 잘 예측하는지 테스트 해보기 위해 학습(train) 데이터와 시험(test)데이터를 분리한다.\n",
        "\n",
        "(모든 데이터에 주택 임대료\"rent\" 정답이 있으니, 시험 데이터를 예측 모델에 넣어서 실제 정답을 잘 맞추는지 보자)"
      ],
      "metadata": {
        "id": "2LRK2rlLWN24"
      }
    },
    {
      "cell_type": "code",
      "source": [
        "from sklearn.model_selection import train_test_split\n",
        "\n",
        "x = df[['bedrooms', 'bathrooms', 'size_sqft',\n",
        "       'min_to_subway', 'floor', 'building_age_yrs', 'no_fee', 'has_roofdeck',\n",
        "       'has_washer_dryer', 'has_doorman', 'has_elevator', 'has_dishwasher',\n",
        "       'has_patio', 'has_gym']] # 14가지 변수 고려\n",
        "y = df['rent'] # y가 찾고자하는 목표이며, label과 같다\n",
        "# y = df[['rent']] # 2차원으로 해도 됨(predict도 같은 2차원으로 나옴)\n",
        "\n",
        "print(x.shape)\n",
        "print(y.shape)\n",
        "\n",
        "x_train, x_test, y_train, y_test = train_test_split(x, y, train_size=0.8, test_size=0.2)\n",
        "# 데이터 세트 분리할때는 DataFrame으로 해도 되지만, 학습 및 예측시에는 values 사용해야 오류안남"
      ],
      "metadata": {
        "id": "IDKwcswJVqAl",
        "outputId": "6184033f-49a7-478d-9762-da903fc0a736",
        "colab": {
          "base_uri": "https://localhost:8080/"
        }
      },
      "execution_count": 59,
      "outputs": [
        {
          "output_type": "stream",
          "name": "stdout",
          "text": [
            "(3539, 14)\n",
            "(3539,)\n"
          ]
        }
      ]
    },
    {
      "cell_type": "markdown",
      "source": [
        "### 모델 생성(학습데이터를 사용)"
      ],
      "metadata": {
        "id": "y02z94B7Y2Od"
      }
    },
    {
      "cell_type": "code",
      "source": [
        "from sklearn.linear_model import LinearRegression\n",
        "\n",
        "mlr = LinearRegression() # 모델생성(선형회귀와 같다, 변수만 늘어날뿐)\n",
        "mlr.fit(x_train.values, y_train.values) # DataFrame 형태로 학습하면 오류남(values사용 해야함)"
      ],
      "metadata": {
        "id": "pGrdle2qW6RI",
        "outputId": "cefc2b8b-b093-497b-c7c9-2ea668d3c9f6",
        "colab": {
          "base_uri": "https://localhost:8080/"
        }
      },
      "execution_count": 65,
      "outputs": [
        {
          "output_type": "execute_result",
          "data": {
            "text/plain": [
              "LinearRegression()"
            ]
          },
          "metadata": {},
          "execution_count": 65
        }
      ]
    },
    {
      "cell_type": "code",
      "source": [
        "my_apartment = [[1, 1, 620, 16, 1, 98, 1, 0, 1, 0, 0, 1, 1, 0]] # 14개 항목값을 임의로 넣어주면 \n",
        "my_predict = mlr.predict(my_apartment) # 결과값을 예측해줌\n",
        "my_predict\n"
      ],
      "metadata": {
        "id": "djpnnuV7ZAue",
        "outputId": "ee14a598-c8bd-41e8-e32a-744df23de5a0",
        "colab": {
          "base_uri": "https://localhost:8080/"
        }
      },
      "execution_count": 68,
      "outputs": [
        {
          "output_type": "execute_result",
          "data": {
            "text/plain": [
              "array([2311.59914273])"
            ]
          },
          "metadata": {},
          "execution_count": 68
        }
      ]
    },
    {
      "cell_type": "code",
      "source": [
        "y_predict = mlr.predict(x_test.values)\n",
        "y_predict"
      ],
      "metadata": {
        "id": "UFDuj8mObawk",
        "outputId": "49b1e8ac-80d3-48e4-b04c-b6ad21a64f1a",
        "colab": {
          "base_uri": "https://localhost:8080/"
        }
      },
      "execution_count": 73,
      "outputs": [
        {
          "output_type": "execute_result",
          "data": {
            "text/plain": [
              "array([ 3516.92418733, 12665.35971325,  6575.74086575,  2820.91970291,\n",
              "        5278.56312845,  3217.1048757 ,  5938.72646212,  2968.20724521,\n",
              "        3813.62751803,  3662.57733883,  3441.00871947,  3503.16031332,\n",
              "        3226.35321439,  3914.51296097,  2896.54555375,  4960.17347941,\n",
              "       11186.89253561,  7325.38565629,  2570.53821785,  3253.34156481,\n",
              "        3636.47556376,  3791.82001698,  3281.85196741,  2539.29894356,\n",
              "        6915.93747643,  4229.26882471,  3808.28842756,  3645.44229767,\n",
              "       14592.68613912,  7058.1065674 ,  5191.2845868 ,  4753.09907415,\n",
              "        6403.15817371,  5862.45807864,  2799.16440245,  3154.4102654 ,\n",
              "        2865.71588539,  9211.77528752,  2753.94250292,  8203.74444238,\n",
              "        6163.21959289,  7945.62320749,  3409.68519766,  8152.2784134 ,\n",
              "        3772.23888965,  3243.57970867,  3875.45114589,  7981.79062419,\n",
              "       10156.47551094,  2991.8103679 , 11930.08106422,  3330.45254186,\n",
              "        2863.86814518,  3678.85775491,  8847.35508435,  2146.55644465,\n",
              "        7546.36756078,  9835.07023419,  3224.58082315,  3712.52225944,\n",
              "        3050.67932889,  4210.30090151,  9467.49605168,  8466.22056442,\n",
              "        7102.74197393,  2657.28369504,  4284.4971599 ,  2622.2117477 ,\n",
              "        4233.00814987,  4777.76250294,  3854.08861594,  3496.01740598,\n",
              "        1859.94133129,  4158.79269704,  3797.55201905,  7411.60294666,\n",
              "        4380.59505136,  5840.20515395,  3181.72275599,  3762.3545706 ,\n",
              "        3082.05139805,  4602.36274827,  9000.62342214,  4177.14460867,\n",
              "        4121.50072398,  2210.1254937 ,  4924.05161548,  2795.3931672 ,\n",
              "        4015.85535971,  3813.55870122,  4415.78695838,  3893.57516568,\n",
              "        6192.75458519,  5740.27690014,  5035.07869414,  3604.66285775,\n",
              "        5362.07139677,  3333.44130686,  3575.40438631,  4197.89272544,\n",
              "        3289.47112818,  2811.27648534,  3749.71542889,  3407.83065615,\n",
              "        3079.84252712,  3967.53445527,  5251.40101281,  3416.156992  ,\n",
              "        3833.1765564 ,  6137.42073894,  4483.50123546,  3337.87895313,\n",
              "        7907.78272176,  2807.59572151,  3311.30101965,  6976.1320855 ,\n",
              "        4054.37863125,  3359.34252872,  4487.77786027,  2700.30458306,\n",
              "        4404.42272375,  7584.46491928,  7701.23416431,  6710.11635173,\n",
              "        4726.92772981,  6135.03910706,  5432.63295614,  3780.86864707,\n",
              "        7234.63847032,  3648.01724601,  3999.63745473,  3478.89238067,\n",
              "        6543.6434835 ,  6291.43892846,  6013.3718108 ,  4607.81503538,\n",
              "        3694.32927716,  2422.58693203,  2936.50856887,  3191.78415498,\n",
              "        2417.61998004, 12327.65381313,  2581.65068575,  2456.26901957,\n",
              "        7526.77702532,  8535.0982956 ,  3747.15402573,  3283.92272112,\n",
              "        7554.21657856,  9792.20191397,  3468.05751093,  4316.00492711,\n",
              "        4091.84808783,  8449.05465205,  1882.82333482,  1725.75579443,\n",
              "        3154.50939627,  2581.464939  ,  8099.39340667,  3286.06819333,\n",
              "        2642.26242534,  2813.48139763,  4030.9450554 ,  2182.52000066,\n",
              "        7271.95534132,  5327.60209057,  3570.83265134,  4148.57612083,\n",
              "        3424.81350715,  3954.29278279,  6494.48286909,  2701.8657041 ,\n",
              "        3052.87052182, 11349.22144746,  3111.79214906,  2377.73105911,\n",
              "        6223.42935411,  3183.08733721,  3067.16819472,  2851.54744488,\n",
              "        2262.87508505,  3752.39571772,  1604.37338339,  6489.03044712,\n",
              "        2980.52880017,  9218.75772379,  3669.98383432,  4449.13987763,\n",
              "        2429.05495292,  4081.50333084,  2495.36042001,  3221.94819304,\n",
              "       10030.11403521,  5597.48668125,  4484.42908425,  2526.90116121,\n",
              "        5465.25193235,  2603.68928372,  6272.15266095,  4264.00324542,\n",
              "        3873.48331596,  3882.89779736, 10466.42789151,  4289.26360979,\n",
              "        3516.02227908,  4905.15345206,  3444.6134458 ,  5194.94450324,\n",
              "        4316.23381423,  2988.50952306,  5889.95957526,  4552.60719076,\n",
              "        2036.23399773,  3862.946713  ,  7912.325496  , 13178.59994071,\n",
              "        4839.14158601,  4772.98881352,  8797.5250045 ,  9346.40458295,\n",
              "        2567.41839545,  2846.8916005 , 11500.22389154,  8197.57560842,\n",
              "        6303.86005811,  9910.14656539,  4099.36952193,  4006.21270193,\n",
              "        3274.85790742,  2729.70916256,  5707.43929831,  2897.10657288,\n",
              "        4170.98114285,  4211.82294151,  4742.61038173,  3247.44362172,\n",
              "        3348.12750874,  4860.52306183,  2838.08598999,  2363.29462018,\n",
              "        3429.21050023,  4929.99717487,  4593.49172545,  3508.94635824,\n",
              "        3524.43190181,  4005.24212717,  3153.07601641,  8914.62008195,\n",
              "        3141.0647332 ,  5611.73001113,  3632.52784947,  3716.19026958,\n",
              "       17981.75635328,  3092.37280702,  2712.77725572,  7574.01645463,\n",
              "        4605.7062078 ,  4283.35021169,  6830.1692896 ,  3448.46069107,\n",
              "        3118.69584094,  4806.7729626 ,  1696.3757406 ,  3338.89940746,\n",
              "        3046.41862437,  9658.27286613,  6297.15306963, 16622.54711825,\n",
              "        7988.948585  ,  1924.74084729,  3126.85004893, 11692.05557092,\n",
              "        9062.58586892,  4391.97315372,  8693.98034322,  3272.59793899,\n",
              "        6971.43731715,  3638.00346613,  3575.22353792,  2739.60231254,\n",
              "        4242.68561379,  8503.92276387,  3571.01264855,  3563.92980375,\n",
              "        3600.6381058 ,  4101.26945506,  4900.98887455,  4340.35847729,\n",
              "        6303.06208549,  3724.59317132,  3910.99679661,  3574.54484551,\n",
              "        6352.19351493,  2392.82578425,  2755.53479782,  3666.45124021,\n",
              "        5136.55669077,  4051.78100146,  6769.66215874,  4728.52479343,\n",
              "        3303.43596271,  4800.12109382,  4161.16628744,  9318.98930902,\n",
              "        4155.71423815,  6477.40486531,  9471.89776382,  2578.10223512,\n",
              "        3362.46879175,  2021.87123131,  6052.64564669,  7300.72050484,\n",
              "        7461.93526163,  3326.05129716,  3711.93510111,  4258.96474609,\n",
              "        5068.91352808,  6752.85868108,  4083.64902915,  8246.50776981,\n",
              "        2925.49017985,  4385.65002761,  6753.61837264,  5743.84987507,\n",
              "        9784.51692665,  2384.29332855,  3345.03976085, 12158.0963095 ,\n",
              "        4759.30735769,  5657.33996615,  3787.74241093,  2753.67493339,\n",
              "        5008.29729202,  3306.60857242,  8882.6395236 ,  6112.26452062,\n",
              "        3444.23966639, 18465.07565206,  1417.69616838,  2289.92094515,\n",
              "        4066.0885737 ,  4156.73399127,  1894.54715536,  4222.46079029,\n",
              "       10507.97647947,  9418.15405033,  3552.81844266,  2674.16752802,\n",
              "        5397.69700653,  3707.36925879,  3526.27867399,  8293.20674567,\n",
              "        6829.483238  ,  7652.79303933,  1667.03936614,  7804.42274107,\n",
              "        3125.27966382,  6569.67951501,  2952.21091248,  7035.70957522,\n",
              "       10590.532128  ,  1862.29131944,  3026.67027446,  2826.08328908,\n",
              "        5390.75416365,  5159.62709413,  4573.34729375,  6720.14549817,\n",
              "        2835.11526494,  3181.83252661,  6265.63919522,  8640.73528165,\n",
              "        4026.18141992,  4213.70950841,  6304.86338122,  7580.47737331,\n",
              "        4625.2616005 ,  7782.88797833,  2605.23317296,  4649.93893199,\n",
              "        9908.40447002,  3872.93006256, 10415.57128646,  4528.65237456,\n",
              "        3751.68523261,  3318.70215278,  8388.95464769,  2717.15503294,\n",
              "        8356.55147036,  3117.60188369,  5124.9910325 ,  8454.57720947,\n",
              "        4917.88588961,  7640.16941333, 10850.28669759,  3086.00110672,\n",
              "        4297.26561116,  3963.34669297, 11831.78606831,  3842.88923795,\n",
              "        2813.23855085,  6612.61235021,  7231.47792672,  3344.77372359,\n",
              "        5286.92600732,  2551.67709093,  3176.74585941,  2279.39469972,\n",
              "        6827.38058454,  3990.72369549,  6741.35018931,  6561.61972123,\n",
              "        5108.57855321,  2600.73630926,  7464.18240904,  4460.64694717,\n",
              "        2477.33557535,  8325.96268333,  3981.88420308,  4055.72820963,\n",
              "        4942.60959668,  3869.69487883,  7782.09569608,  2342.18274388,\n",
              "        4019.51785227,  8068.73433895,  7068.85908767,  3439.20000493,\n",
              "       11670.5151066 , 15685.84890427,  2614.37497288,  1898.88095668,\n",
              "        6373.454017  ,  6632.88785035,  6447.30303414,  4153.57280232,\n",
              "        5547.92292666,  2757.83730987,  9133.94850859,  8237.0223055 ,\n",
              "        3219.31620469,  3630.39233865,  4617.88024825,  8765.22832047,\n",
              "        4575.88528189,  2607.23748867,  4011.83028237,  7035.30573037,\n",
              "        3301.60726523,  3206.67681828,  6130.94229233,  6718.0354779 ,\n",
              "        2711.49039645,  9284.21061553,  6697.73638435,  5578.64172763,\n",
              "        7819.09736623,  2570.78379765,  3999.68895574,  5581.98884211,\n",
              "        3456.94805244,  2206.97552249, 17405.31577096,  5151.3001881 ,\n",
              "        3030.65661325,  3602.81645354,  2868.04158813,  8242.01346448,\n",
              "        5450.13610153, 10936.32173738,  2494.67409732,  3165.11508067,\n",
              "        2308.15996756,  4791.43202958,  2250.84535644,  2002.20340171,\n",
              "        4289.79105201,  3658.53639885,  8998.02966614,  6312.75087764,\n",
              "        5358.98556866,  7291.3938382 ,  8802.9246505 ,  3637.94434541,\n",
              "        3524.96143712,  7413.82942933,  5755.17483381,  7128.43265111,\n",
              "        4092.35524576,  3023.77044029,  3652.92384383,  3682.3288222 ,\n",
              "        5991.69648057,  5993.28012014, 10834.53134842, 14803.66754551,\n",
              "        2461.81115969,  7517.86849925,  2203.02316883,  4409.56541666,\n",
              "        7474.3205253 ,  3826.29327469,  2950.5840317 ,  3318.6307047 ,\n",
              "        6191.78529508,  7602.03146106,  9846.10877486,  6530.84650442,\n",
              "       14294.77343197,  4480.16654478,  6604.22583815, 12491.17323674,\n",
              "       10664.77621108,  4914.81543866,  3763.27593701,  5127.72339385,\n",
              "        3481.80020132,  3352.45066111, 12032.61950274,  5275.66849602,\n",
              "        4928.87707722,  3391.01928074,  3349.75581385,  7764.37675851,\n",
              "        3494.88169048,  3079.63663206,  3984.88405584,  2732.77297496,\n",
              "        2429.79620395,  7949.84841135, 10352.05973964,  4882.18692335,\n",
              "        1609.03910475,  4979.05329908,  3598.00814752,  6538.30075118,\n",
              "        5799.03922073,  2201.97414693,  3705.7535083 ,  3607.47393191,\n",
              "        2165.03513437,  3851.24525459, 12812.57600969,  2304.43905139,\n",
              "        4231.10907176,  7669.33730934,  3602.7210701 , 18165.80391755,\n",
              "       10990.77822966,  4417.1353561 ,  4947.30570063,  3711.22240434,\n",
              "        3607.24767026,  7304.11518819,  6034.39143279,  8318.67149674,\n",
              "        2881.82228449,  5934.978336  , 12043.00487031,  3977.2872033 ,\n",
              "        4867.04151995,  3630.41506655,  1895.00644406,  4977.00180872,\n",
              "        4349.1770588 ,  2970.72894944,  7821.59113159,  3704.67942733,\n",
              "        3370.10447013,  3285.88406948,  6305.91382411,  4063.86135853,\n",
              "        3083.59377791,  4918.42030147,  3010.96432127,  4921.80787995,\n",
              "        3673.08932866,  2841.64489827,  3436.43210674,  4143.52562791,\n",
              "        2995.22428964,  3891.74115401,  3500.36165248,  3063.072605  ,\n",
              "        4232.97813462,  3528.78203069,  3947.40891324,  7310.6079406 ,\n",
              "        8154.5530732 ,  9746.47834028,  4086.48341765,  2885.38468884,\n",
              "        3046.13917013,  6088.94092169,  9110.86909501,  5559.16071775,\n",
              "        5194.59664065, 12313.91391521,  7334.79469687,  5416.08439475,\n",
              "        7137.90219444,  3852.62864051,  5768.74789496,  3293.22376832,\n",
              "        6365.217374  ,  2697.61004736,  4005.80822906,  4481.62289451,\n",
              "        5653.89707512,  2598.93896472,  7960.49338706,  5935.90883285,\n",
              "        3213.94775176,  1210.71439085,  6725.72538548,  2074.91885758,\n",
              "        3041.96620855,  2298.60860643,  3166.1974975 ,  2545.42651421,\n",
              "       10106.085316  , 10148.41946299,  4874.85633844,  3668.67544401,\n",
              "        2237.67139421,  3059.22039525, 13246.55195849,  3706.12074194,\n",
              "        3260.3086792 ,  3191.78415498,  2285.72737885,  3121.21687044,\n",
              "       11653.570823  ,  8239.74597186,  2954.05435921,  2467.69826965,\n",
              "        2493.4533608 ,  4508.43928985,  3239.01060609,  2869.74308494,\n",
              "        1575.12028666,  2141.29812608,  3106.75837265,  2394.72388687,\n",
              "        2522.71823936,  7904.98558728,  2801.00867754,  4422.00206766,\n",
              "        3275.59647924,  1962.52937274,  2807.50012783,  3729.02593229,\n",
              "        3244.67110997,  4269.33146009,  3505.18959556,  2791.6110015 ,\n",
              "        4468.07183213,  9475.00873309,  1796.26733779,  2695.98044463,\n",
              "        2014.09858925,  3953.1114399 ,  7989.38716753,  1671.57707419,\n",
              "        4056.93181352,  3573.73408126,  3529.52543814,  3492.27326547,\n",
              "       11417.73682395,  2398.98564737,  4182.36035465,  4899.01030944,\n",
              "        3395.88334023,  3192.95450954,  2494.83718257,  3060.66603023,\n",
              "        1990.90848145,  3460.95665178,  3716.81719768,  9956.17242375,\n",
              "        1805.22784175,  2660.03026813,  7191.17700071,  3444.24464738,\n",
              "        3735.04895295,  8007.95499234,  3086.05432671, 12154.44331061,\n",
              "        3534.09386978,  3056.68275755,  2635.50710768,  3304.27035611,\n",
              "        6216.04199338,  4748.7901983 ,  8349.54582635,  3284.16162984,\n",
              "        8356.17329099,  7473.20332021,  2354.14255385,  7234.2525678 ,\n",
              "        3405.54187392,  1919.86300458, 10269.6019129 ,  5159.63206767,\n",
              "        3511.1343891 ,  4310.43308593,  5749.7412804 , 11192.56809633])"
            ]
          },
          "metadata": {},
          "execution_count": 73
        }
      ]
    },
    {
      "cell_type": "markdown",
      "source": [
        "x축은 실제 임대로, y축은 예측한 임대료로 해서 정답을 맞춘다면 정확히 선으로 일치되어 나올것"
      ],
      "metadata": {
        "id": "qWwh9BP2cL6d"
      }
    },
    {
      "cell_type": "code",
      "source": [
        "import matplotlib.pyplot as plt\n",
        "\n",
        "plt.scatter(y_test, y_predict, alpha=0.4)\n",
        "plt.xlabel(\"Actual Rent\")\n",
        "plt.ylabel(\"Predicted Rent\")\n",
        "plt.title(\"Multiple Linear Regression\")\n",
        "plt.show()"
      ],
      "metadata": {
        "id": "xWXXyKZmcLwR",
        "outputId": "4bfa7455-da85-4342-9001-7dc5e9a5a6ab",
        "colab": {
          "base_uri": "https://localhost:8080/",
          "height": 295
        }
      },
      "execution_count": 75,
      "outputs": [
        {
          "output_type": "display_data",
          "data": {
            "image/png": "[encoded data removed]",
            "text/plain": [
              "<Figure size 432x288 with 1 Axes>"
            ]
          },
          "metadata": {
            "needs_background": "light"
          }
        }
      ]
    },
    {
      "cell_type": "markdown",
      "source": [
        "단순선형회귀는 1차방정식 y= mx + b로 설명되지만\n",
        "\n",
        "다중회귀는 y = b + m1x1 + m2x2 + ...\n",
        "\n",
        "다중회귀변수는 변수가 많고, 모든 변수 x마다 각각의 m이 존재\n",
        "\n",
        "이러한 각각의 m을 회귀계수라고 하며,\n",
        "\n",
        "b는 상수고 한다."
      ],
      "metadata": {
        "id": "MA1uVJM-c719"
      }
    },
    {
      "cell_type": "code",
      "source": [
        "print(mlr.coef_) # 각각의 회귀계수들 즉 m1, m2, ... 확인할 수 있다"
      ],
      "metadata": {
        "id": "yEKHrD--cLJy",
        "outputId": "998972b9-1e6b-4452-f1f3-072191a65e95",
        "colab": {
          "base_uri": "https://localhost:8080/"
        }
      },
      "execution_count": 76,
      "outputs": [
        {
          "output_type": "stream",
          "name": "stdout",
          "text": [
            "[-327.15743296 1170.28615703    4.90173178  -16.32492983   25.75951414\n",
            "   -7.04885734 -114.990299     51.82933105  161.14410865 -127.45806172\n",
            "   92.3883665   -97.97750564 -156.70833726  -35.75218468]\n"
          ]
        }
      ]
    },
    {
      "cell_type": "markdown",
      "source": [
        "### 14개의 변수중 어떤 변수가 중요할까?(=주택임대료에 큰 영향을 줄까?)"
      ],
      "metadata": {
        "id": "Lrq7XbYLdtnT"
      }
    },
    {
      "cell_type": "code",
      "source": [
        "# 주택 면적 'size_sqft'와 가격 'rent' 관계\n",
        "plt.scatter(df['size_sqft'], df['rent'], alpha=0.4)\n",
        "plt.show() # 선형적 관계로 보아 중요한 변수인듯"
      ],
      "metadata": {
        "id": "-3_8kdkeddwo",
        "outputId": "b2a8ba5b-2e60-4361-fbac-7f644f8ccbbe",
        "colab": {
          "base_uri": "https://localhost:8080/",
          "height": 265
        }
      },
      "execution_count": 77,
      "outputs": [
        {
          "output_type": "display_data",
          "data": {
            "image/png": "[encoded data removed]",
            "text/plain": [
              "<Figure size 432x288 with 1 Axes>"
            ]
          },
          "metadata": {
            "needs_background": "light"
          }
        }
      ]
    },
    {
      "cell_type": "code",
      "source": [
        "# 주택 연식 'building_age_yrs'와 가격 'rent' 관계\n",
        "plt.scatter(df['building_age_yrs'], df['rent'], alpha=0.4)\n",
        "plt.show() # 선형적이지 않아 상관관계 없어 보임"
      ],
      "metadata": {
        "id": "OGhLv3ubeYPS",
        "outputId": "ae0f3b87-f8bf-477f-f4b5-13b9c8ce8931",
        "colab": {
          "base_uri": "https://localhost:8080/",
          "height": 265
        }
      },
      "execution_count": 78,
      "outputs": [
        {
          "output_type": "display_data",
          "data": {
            "image/png": "[encoded data removed]",
            "text/plain": [
              "<Figure size 432x288 with 1 Axes>"
            ]
          },
          "metadata": {
            "needs_background": "light"
          }
        }
      ]
    },
    {
      "cell_type": "markdown",
      "source": [
        "### 모델의 정확도(Accuracy) 평가\n",
        ".scor() 메서드 사용하면 R^2라고하는 결정계수를 반환\n",
        "\n",
        "예를들어, 주택사이즈(\"size_sqft\")와 침실개수(\"bedrooms\")를 기준으로 임대료를 예측하는 모델의 R^2이 0.72인경우\n",
        "\n",
        "2개의 변수들이 함께 임대료 변동의 72%를 설명한다는 뜻\n",
        "\n",
        "최선의 R^2은 1이겠지만, 일반적으로 0.7 정도면 양호한 것으로 간주"
      ],
      "metadata": {
        "id": "cKVRDhvHjrBS"
      }
    },
    {
      "cell_type": "code",
      "source": [
        "print(mlr.score(x_train.values, y_train.values)) # 14개의 변수를 넣고 생성한 모델의 결정계수"
      ],
      "metadata": {
        "id": "oH84CpK3eo4D",
        "outputId": "03db4826-9ced-4a91-d397-13e924db92b1",
        "colab": {
          "base_uri": "https://localhost:8080/"
        }
      },
      "execution_count": 81,
      "outputs": [
        {
          "output_type": "stream",
          "name": "stdout",
          "text": [
            "0.7760027751170948\n"
          ]
        }
      ]
    },
    {
      "cell_type": "markdown",
      "source": [
        "주택 임대료의 77%를 위의 14개의 항목으로 설명할 수 있다는 의미"
      ],
      "metadata": {
        "id": "PuB9Grh3krfG"
      }
    },
    {
      "cell_type": "code",
      "source": [
        ""
      ],
      "metadata": {
        "id": "i8Q8fFfokhX4"
      },
      "execution_count": null,
      "outputs": []
    }
  ],
  "metadata": {
    "colab": {
      "collapsed_sections": [],
      "name": "Colaboratory에 오신 것을 환영합니다",
      "provenance": [],
      "include_colab_link": true
    },
    "kernelspec": {
      "display_name": "Python 3",
      "name": "python3"
    }
  },
  "nbformat": 4,
  "nbformat_minor": 0
}