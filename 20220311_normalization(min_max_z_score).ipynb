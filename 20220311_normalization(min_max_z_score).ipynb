{
  "cells": [
    {
      "cell_type": "markdown",
      "metadata": {
        "id": "view-in-github",
        "colab_type": "text"
      },
      "source": [
        "<a href=\"https://colab.research.google.com/github/kiyong21c/nadocoding/blob/master/20220311_normalization(min_max_z_score).ipynb\" target=\"_parent\"><img src=\"https://colab.research.google.com/assets/colab-badge.svg\" alt=\"Open In Colab\"/></a>"
      ]
    },
    {
      "cell_type": "markdown",
      "source": [
        "# 정규화(Normalization)\n",
        "https://hleecaster.com/ml-normalization-concept/\n",
        "\n",
        "데이터가 가진 feature의 스케일이 심하게 차이나는 경우 문제가됨\n",
        "\n",
        "예를 들어, feature로 방의 개수(개), 건축년수(년)가 있을때, 둘사이를 비교한다면,\n",
        "\n",
        " 더 큰 스케일을 가진 건축년수(년)에 의해 데이터가 좌지우지 될 것"
      ],
      "metadata": {
        "id": "ElEw8RD3m9sf"
      }
    },
    {
      "cell_type": "code",
      "source": [
        "import pandas as pd\n",
        "import matplotlib.pyplot as plt\n",
        "\n",
        "df = pd.read_csv('/content/drive/MyDrive/Colab Notebooks/manhattan.csv.txt')\n",
        "df.columns\n",
        "plt.scatter(df['building_age_yrs'], df['bedrooms'])\n",
        "plt.xticks([0, 50, 100, 150, 200])\n",
        "plt.yticks([0, 50, 100, 150, 200])\n",
        "plt.show()"
      ],
      "metadata": {
        "id": "GNZcfq5om8zF",
        "outputId": "7484ae5d-826e-4c20-8345-5701d297994f",
        "colab": {
          "base_uri": "https://localhost:8080/",
          "height": 269
        }
      },
      "execution_count": 104,
      "outputs": [
        {
          "output_type": "display_data",
          "data": {
            "image/png": "[encoded data removed]",
            "text/plain": [
              "<Figure size 432x288 with 1 Axes>"
            ]
          },
          "metadata": {
            "needs_background": "light"
          }
        }
      ]
    },
    {
      "cell_type": "markdown",
      "source": [
        "위와 같이 같은시기에 지어진 집의 방개수 차이를 인식하기 어려워 진다\n",
        "\n",
        "(중요하지 않은것으로 보이게 된다)\n",
        "\n",
        "따라서 모든 데이터 포인트가 동일한 정도의 스케일(중요도)로 반영되도록 해주는게 정규화(Normalization)의 목표"
      ],
      "metadata": {
        "id": "w623c3wrovgA"
      }
    },
    {
      "cell_type": "markdown",
      "source": [
        "### 데이터를 정규화 하는 두가지 방법\n",
        "> - 1. Min-Max Normalization(최소-최대 정규화)\n",
        "> - 2. Z-Score Normalization(Z-점수 정규화)"
      ],
      "metadata": {
        "id": "lrbPTgGUo_WO"
      }
    },
    {
      "cell_type": "markdown",
      "source": [
        "#### 1. Min-Max Normalization(최소-최대 정규화)\n",
        " - 모든 feature에 대해 0과 1사이 값으로 변환"
      ],
      "metadata": {
        "id": "VBijEfkwpeRr"
      }
    },
    {
      "cell_type": "code",
      "source": [
        "def min_max_normalization(lst):\n",
        "  normalized = []\n",
        "\n",
        "  for value in lst:\n",
        "    normalized_num = (value - min(lst)) / (max(lst) - min(lst))\n",
        "    normalized.append(normalized_num)\n",
        "\n",
        "  return normalized"
      ],
      "metadata": {
        "id": "m6BI2SLOn4Hr"
      },
      "execution_count": 100,
      "outputs": []
    },
    {
      "cell_type": "markdown",
      "source": [
        "최소-최대 정규화의 치명적 단점 : 이상치(outlier)에 큰 영향을 받는다"
      ],
      "metadata": {
        "id": "6ydSb_eiqKqX"
      }
    },
    {
      "cell_type": "code",
      "source": [
        "df = pd.read_csv('/content/drive/MyDrive/Colab Notebooks/manhattan_norm.csv')\n",
        "\n",
        "plt.figure(figsize=(7, 2))\n",
        "plt.scatter(df['building_age_yrs'], df['bedrooms'])\n",
        "plt.xticks([0, 200, 400, 600, 800, 1000])\n",
        "plt.yticks([0, 200, 400, 600, 800, 1000])\n",
        "plt.xlabel('Years old')\n",
        "plt.ylabel('Nuber of rooms')\n",
        "plt.title(\"Un-normalized Houses\")\n",
        "plt.show()"
      ],
      "metadata": {
        "id": "XwLbGlq4qfcp",
        "outputId": "f9ef266c-939a-4733-b8f8-a43758fe219d",
        "colab": {
          "base_uri": "https://localhost:8080/",
          "height": 187
        }
      },
      "execution_count": 109,
      "outputs": [
        {
          "output_type": "display_data",
          "data": {
            "image/png": "[encoded data removed]",
            "text/plain": [
              "<Figure size 504x144 with 1 Axes>"
            ]
          },
          "metadata": {
            "needs_background": "light"
          }
        }
      ]
    },
    {
      "cell_type": "code",
      "source": [
        "plt.figure(figsize=(7, 2))\n",
        "plt.scatter(min_max_normalization(df['building_age_yrs']), min_max_normalization(df['bedrooms']))\n",
        "plt.xticks([0, 0.2, 0.4, 0.6, 0.8, 1.0])\n",
        "plt.yticks([0, 0.5, 1])\n",
        "plt.xlabel('Years old(normalized)')\n",
        "plt.ylabel('Nuber of rooms(normalized)')\n",
        "plt.title(\"Normalized Houses using min-max normalization\")\n",
        "plt.show()"
      ],
      "metadata": {
        "id": "APuCYAXRquTp",
        "outputId": "b4d98c38-f1cb-40fa-d62b-bcd7a7f1f73c",
        "colab": {
          "base_uri": "https://localhost:8080/",
          "height": 187
        }
      },
      "execution_count": 106,
      "outputs": [
        {
          "output_type": "display_data",
          "data": {
            "image/png": "[encoded data removed]",
            "text/plain": [
              "<Figure size 504x144 with 1 Axes>"
            ]
          },
          "metadata": {
            "needs_background": "light"
          }
        }
      ]
    },
    {
      "cell_type": "markdown",
      "source": [
        "위와 같이 y축에서는 정규화가 효과적으로 적용되었으나, x축에서는 한쪽으로 쏠려있다.\n",
        "\n",
        "이상태로 데이터의 점들을 비교하면, y축의 영향이 지배적일 것\n",
        "\n",
        "→ 이러한 단점을 보완하려면 Z-점수 정규화를 고려"
      ],
      "metadata": {
        "id": "zoPH75zQr_1U"
      }
    },
    {
      "cell_type": "markdown",
      "source": [
        "#### Z-Score Normalization(Z-점수 정규화)\n",
        "이상치(outlier)문제를 피하는 데이터 정규화 전략"
      ],
      "metadata": {
        "id": "uOzPd1Z8sREe"
      }
    },
    {
      "cell_type": "code",
      "source": [
        "def z_score_normalize(lst):\n",
        "    normalized = []\n",
        "    for value in lst:\n",
        "        normalized_num = (value - np.mean(lst)) / np.std(lst)\n",
        "        normalized.append(normalized_num)\n",
        "    return normalized "
      ],
      "metadata": {
        "id": "t3oww3K3rgqa"
      },
      "execution_count": 107,
      "outputs": []
    },
    {
      "cell_type": "code",
      "source": [
        "plt.figure(figsize=(7, 2))\n",
        "plt.scatter(df['building_age_yrs'], df['bedrooms'])\n",
        "plt.xticks([0, 200, 400, 600, 800, 1000])\n",
        "plt.yticks([0, 200, 400, 600, 800, 1000])\n",
        "plt.xlabel('Years old')\n",
        "plt.ylabel('Nuber of rooms')\n",
        "plt.title(\"Un-normalized Houses\")\n",
        "plt.show()"
      ],
      "metadata": {
        "id": "9y30TUmcuGqc",
        "outputId": "84de6a52-254d-45f3-b428-0976a7e1f479",
        "colab": {
          "base_uri": "https://localhost:8080/",
          "height": 187
        }
      },
      "execution_count": 110,
      "outputs": [
        {
          "output_type": "display_data",
          "data": {
            "image/png": "[encoded data removed]",
            "text/plain": [
              "<Figure size 504x144 with 1 Axes>"
            ]
          },
          "metadata": {
            "needs_background": "light"
          }
        }
      ]
    },
    {
      "cell_type": "code",
      "source": [
        "plt.figure(figsize=(7, 2))\n",
        "plt.scatter(min_max_normalization(df['building_age_yrs']), min_max_normalization(df['bedrooms']))\n",
        "plt.xticks([-1, -0.5, 0, 0.5, 1])\n",
        "plt.yticks([-1, 0, 1])\n",
        "plt.xlabel('Years old(normalized)')\n",
        "plt.ylabel('Nuber of rooms(normalized)')\n",
        "plt.title(\"Normalized Houses using Z-score normalization\")\n",
        "plt.show()"
      ],
      "metadata": {
        "id": "QNXpU5DhuLlb",
        "outputId": "845d8331-eda8-4533-c73a-511e6adf63da",
        "colab": {
          "base_uri": "https://localhost:8080/",
          "height": 187
        }
      },
      "execution_count": 112,
      "outputs": [
        {
          "output_type": "display_data",
          "data": {
            "image/png": "[encoded data removed]",
            "text/plain": [
              "<Figure size 504x144 with 1 Axes>"
            ]
          },
          "metadata": {
            "needs_background": "light"
          }
        }
      ]
    },
    {
      "cell_type": "markdown",
      "source": [
        "데이터가 여전히 찌그러져 보이긴 하지만, 거의 모든 점들이 x축과 y축에서 0과 1사이에 있다.\n",
        "\n",
        "어느정도 비슷한 스케일로 나타낸 셈"
      ],
      "metadata": {
        "id": "AZs1KmKSvMp5"
      }
    }
  ],
  "metadata": {
    "colab": {
      "collapsed_sections": [],
      "name": "Colaboratory에 오신 것을 환영합니다",
      "provenance": [],
      "include_colab_link": true
    },
    "kernelspec": {
      "display_name": "Python 3",
      "name": "python3"
    }
  },
  "nbformat": 4,
  "nbformat_minor": 0
}