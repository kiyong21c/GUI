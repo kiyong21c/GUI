{
  "cells": [
    {
      "cell_type": "markdown",
      "metadata": {
        "id": "view-in-github",
        "colab_type": "text"
      },
      "source": [
        "<a href=\"https://colab.research.google.com/github/kiyong21c/nadocoding/blob/master/20220313_KNN_regressor.ipynb\" target=\"_parent\"><img src=\"https://colab.research.google.com/assets/colab-badge.svg\" alt=\"Open In Colab\"/></a>"
      ]
    },
    {
      "cell_type": "code",
      "source": [
        "from google.colab import drive\n",
        "drive.mount('/content/drive')"
      ],
      "metadata": {
        "id": "nY7DoYLCWK7K",
        "outputId": "de7ae270-e040-44e5-ee31-096c185a7a5d",
        "colab": {
          "base_uri": "https://localhost:8080/"
        }
      },
      "execution_count": 3,
      "outputs": [
        {
          "output_type": "stream",
          "name": "stdout",
          "text": [
            "Mounted at /content/drive\n"
          ]
        }
      ]
    },
    {
      "cell_type": "markdown",
      "source": [
        "# KNN을 활용한 회귀\n",
        " - KNN은 일반적으로 분류(Classification)에 사용되는 지도학습 알고리즘\n",
        "\n",
        " - 분류(Classification) : 연속되지 않은 레이블, 즉 '무엇'인지 예측\n",
        " - 회귀(Regression) : 연속된 수치, 즉 '얼마나'를 예측"
      ],
      "metadata": {
        "id": "qswLOqhkWt70"
      }
    },
    {
      "cell_type": "markdown",
      "source": [
        " - 등급을 모르는 새로운 영화 데이터가 들어오면 거리 공식을 통해 가장 가까운 k개의 이웃을 찾아 다수결로 결정\n",
        " - 회귀에서는 이웃들의 평균을 계산(가까운 이웃에는 가중치)"
      ],
      "metadata": {
        "id": "HxxgZGz6XdcY"
      }
    },
    {
      "cell_type": "markdown",
      "source": [
        "### KNeighborsRegressor(회귀)\n",
        "### KNeighborsClassifier(분류)"
      ],
      "metadata": {
        "id": "L5EuYcbOX2Og"
      }
    },
    {
      "cell_type": "code",
      "source": [
        "import pandas as pd\n",
        "import numpy as np\n",
        "from sklearn.neighbors import KNeighborsRegressor"
      ],
      "metadata": {
        "id": "SammzE8EXyld"
      },
      "execution_count": 11,
      "outputs": []
    },
    {
      "cell_type": "code",
      "source": [
        "regressor = KNeighborsRegressor(n_neighbors = 3, weights= \"distance\") # 가중치 설정을 해주지 않으면 거리를 고려하지 않은 단순평균을 계산"
      ],
      "metadata": {
        "id": "RV8enJxUWtR3"
      },
      "execution_count": 5,
      "outputs": []
    },
    {
      "cell_type": "code",
      "source": [
        "training_points = [\n",
        "  [0.5, 0.2, 0.1],\n",
        "  [0.9, 0.7, 0.3],\n",
        "  [0.4, 0.5, 0.7]\n",
        "]\n",
        "training_labels = [5.0, 6.8, 9.0]\n",
        "regressor.fit(training_points, training_labels)"
      ],
      "metadata": {
        "id": "w6_sAo0zY9CQ",
        "outputId": "7d9d2d04-050a-42ec-f9ba-bcc66ce670e9",
        "colab": {
          "base_uri": "https://localhost:8080/"
        }
      },
      "execution_count": 6,
      "outputs": [
        {
          "output_type": "execute_result",
          "data": {
            "text/plain": [
              "KNeighborsRegressor(n_neighbors=3, weights='distance')"
            ]
          },
          "metadata": {},
          "execution_count": 6
        }
      ]
    },
    {
      "cell_type": "code",
      "source": [
        "unknown_points = [\n",
        "  [0.2, 0.1, 0.7],\n",
        "  [0.4, 0.7, 0.6],\n",
        "  [0.5, 0.8, 0.1]\n",
        "]\n",
        "# quesses = regressor.predict(unknown_points) # 리스트를 인자로 사용 불가\n",
        "quesses = regressor.predict(np.array(unknown_points)) # 리스트 → 배열\n",
        "quesses"
      ],
      "metadata": {
        "id": "JHSLllPSZR26",
        "outputId": "e868cbee-5b96-4ddd-c35e-c910ad633f38",
        "colab": {
          "base_uri": "https://localhost:8080/"
        }
      },
      "execution_count": 13,
      "outputs": [
        {
          "output_type": "execute_result",
          "data": {
            "text/plain": [
              "array([7.28143288, 7.76451922, 6.8457845 ])"
            ]
          },
          "metadata": {},
          "execution_count": 13
        }
      ]
    }
  ],
  "metadata": {
    "colab": {
      "collapsed_sections": [],
      "name": "Colaboratory에 오신 것을 환영합니다",
      "provenance": [],
      "include_colab_link": true
    },
    "kernelspec": {
      "display_name": "Python 3",
      "name": "python3"
    }
  },
  "nbformat": 4,
  "nbformat_minor": 0
}