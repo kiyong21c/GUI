{
  "cells": [
    {
      "cell_type": "markdown",
      "metadata": {
        "id": "view-in-github",
        "colab_type": "text"
      },
      "source": [
        "<a href=\"https://colab.research.google.com/github/kiyong21c/nadocoding/blob/master/20220314_cv2_KMeans.ipynb\" target=\"_parent\"><img src=\"https://colab.research.google.com/assets/colab-badge.svg\" alt=\"Open In Colab\"/></a>"
      ]
    },
    {
      "cell_type": "code",
      "source": [
        "from google.colab import drive\n",
        "drive.mount('/content/drive')"
      ],
      "metadata": {
        "id": "ztyVufY9yXRD",
        "outputId": "2e5f7978-e220-4af7-ce85-bb87856d43f5",
        "colab": {
          "base_uri": "https://localhost:8080/"
        }
      },
      "execution_count": 1,
      "outputs": [
        {
          "output_type": "stream",
          "name": "stdout",
          "text": [
            "Mounted at /content/drive\n"
          ]
        }
      ]
    },
    {
      "cell_type": "markdown",
      "source": [
        "# KMeans를 활용한 16컬러 군집화"
      ],
      "metadata": {
        "id": "jVPN3eyKyuEJ"
      }
    },
    {
      "cell_type": "code",
      "source": [
        "import numpy as np\n",
        "import cv2\n",
        "\n",
        "K = 16 # 군집화 개수(16컬러)\n",
        "img = cv2.imread('/content/drive/MyDrive/Colab Notebooks/taekwonv1.jpg') # shape : (444, 400, 3)\n",
        "data = img.reshape(-1, 3).astype(np.float32) # 모든 픽셀을 [B, G, R]로 줄을 세움 → shape : (177600, 3), float32타입, N X 1 형태\n",
        "# 반복 중지 요건 : tuple형식 (type, max_iter, epsilon)\n",
        "criteria = (cv2.TERM_CRITERIA_EPS + cv2.TERM_CRITERIA_MAX_ITER, 10, 1.0)\n",
        "# 평균 클러스터링 적용\n",
        "ret, label, center = cv2.kmeans(data, K, None, criteria, 10, cv2.KMEANS_RANDOM_CENTERS)"
      ],
      "metadata": {
        "id": "KlijOl4yylEH"
      },
      "execution_count": 12,
      "outputs": []
    },
    {
      "cell_type": "code",
      "source": [
        "ret # 중앙점과 각 데이터의 거리의 합의 제곱 : 최소화 시켜야 하는 대상"
      ],
      "metadata": {
        "id": "PaqH94xb0Cxm",
        "outputId": "1a08fd42-0949-4c09-c7b1-8d79a26fd3b7",
        "colab": {
          "base_uri": "https://localhost:8080/"
        }
      },
      "execution_count": 13,
      "outputs": [
        {
          "output_type": "execute_result",
          "data": {
            "text/plain": [
              "49491713.6797529"
            ]
          },
          "metadata": {},
          "execution_count": 13
        }
      ]
    },
    {
      "cell_type": "code",
      "source": [
        "label # 클러스터링 된 결과 : 16군집 중 어디에 해당하는지 구분된 결과"
      ],
      "metadata": {
        "id": "X244yDch1HpV",
        "outputId": "68649cda-6f6c-4448-e1a8-e308040f9876",
        "colab": {
          "base_uri": "https://localhost:8080/"
        }
      },
      "execution_count": 14,
      "outputs": [
        {
          "output_type": "execute_result",
          "data": {
            "text/plain": [
              "array([[ 8],\n",
              "       [ 8],\n",
              "       [ 8],\n",
              "       ...,\n",
              "       [13],\n",
              "       [13],\n",
              "       [13]], dtype=int32)"
            ]
          },
          "metadata": {},
          "execution_count": 14
        }
      ]
    },
    {
      "cell_type": "code",
      "source": [
        "center # 16개 각 군집의 중심점, shape : (16, 3)"
      ],
      "metadata": {
        "id": "nJBflc_W1Vq3",
        "outputId": "3ae7ddb6-ae66-4281-ccce-ba1fb1093f1d",
        "colab": {
          "base_uri": "https://localhost:8080/"
        }
      },
      "execution_count": 15,
      "outputs": [
        {
          "output_type": "execute_result",
          "data": {
            "text/plain": [
              "array([[  9.799545, 139.05637 , 179.51091 ],\n",
              "       [ 10.60776 , 106.75416 , 134.86143 ],\n",
              "       [ 74.68266 ,  76.206665, 184.08533 ],\n",
              "       [126.934006,  71.9809  ,  29.340536],\n",
              "       [155.46149 , 152.4339  , 143.1333  ],\n",
              "       [171.79176 ,  99.87243 ,  27.09098 ],\n",
              "       [142.88437 , 118.70366 ,  75.54362 ],\n",
              "       [ 55.76773 ,  23.33957 ,   8.966485],\n",
              "       [189.4264  , 191.3948  , 190.3163  ],\n",
              "       [ 75.16848 ,  61.82918 ,  53.30817 ],\n",
              "       [204.66626 , 142.83733 ,  63.867405],\n",
              "       [ 19.68682 ,  17.45282 , 149.09967 ],\n",
              "       [ 99.6264  ,  48.96435 ,  17.980848],\n",
              "       [209.21863 , 212.2919  , 213.93188 ],\n",
              "       [ 90.04011 , 109.472824, 101.31715 ],\n",
              "       [ 42.51644 , 181.98082 , 200.2959  ]], dtype=float32)"
            ]
          },
          "metadata": {},
          "execution_count": 15
        }
      ]
    },
    {
      "cell_type": "code",
      "source": [
        "center = np.uint8(center) # 각 군집의 중심점을 정수형으로 변환 : 16가지의 색상 [B, G, R]\n",
        "center"
      ],
      "metadata": {
        "id": "cN8MnCUK1eGr",
        "outputId": "9539d516-650e-4063-fb7b-a23bc2c159ea",
        "colab": {
          "base_uri": "https://localhost:8080/"
        }
      },
      "execution_count": 16,
      "outputs": [
        {
          "output_type": "execute_result",
          "data": {
            "text/plain": [
              "array([[  9, 139, 179],\n",
              "       [ 10, 106, 134],\n",
              "       [ 74,  76, 184],\n",
              "       [126,  71,  29],\n",
              "       [155, 152, 143],\n",
              "       [171,  99,  27],\n",
              "       [142, 118,  75],\n",
              "       [ 55,  23,   8],\n",
              "       [189, 191, 190],\n",
              "       [ 75,  61,  53],\n",
              "       [204, 142,  63],\n",
              "       [ 19,  17, 149],\n",
              "       [ 99,  48,  17],\n",
              "       [209, 212, 213],\n",
              "       [ 90, 109, 101],\n",
              "       [ 42, 181, 200]], dtype=uint8)"
            ]
          },
          "metadata": {},
          "execution_count": 16
        }
      ]
    },
    {
      "cell_type": "code",
      "source": [
        "label.flatten() # (177600, 1) → (177600, ) : 차원을 줄여줌"
      ],
      "metadata": {
        "id": "MVD5hmNk2Dp1",
        "outputId": "d748a151-d521-4151-ca06-9cf6f1d7dedb",
        "colab": {
          "base_uri": "https://localhost:8080/"
        }
      },
      "execution_count": 18,
      "outputs": [
        {
          "output_type": "execute_result",
          "data": {
            "text/plain": [
              "(177600,)"
            ]
          },
          "metadata": {},
          "execution_count": 18
        }
      ]
    },
    {
      "cell_type": "code",
      "source": [
        "res = center[label.flatten()] # shape : (177600, 3)\n",
        "res"
      ],
      "metadata": {
        "id": "68HdDTTt2NmU",
        "outputId": "78117fcf-c779-4894-c73f-8192a57bce17",
        "colab": {
          "base_uri": "https://localhost:8080/"
        }
      },
      "execution_count": 23,
      "outputs": [
        {
          "output_type": "execute_result",
          "data": {
            "text/plain": [
              "array([[189, 191, 190],\n",
              "       [189, 191, 190],\n",
              "       [189, 191, 190],\n",
              "       ...,\n",
              "       [209, 212, 213],\n",
              "       [209, 212, 213],\n",
              "       [209, 212, 213]], dtype=uint8)"
            ]
          },
          "metadata": {},
          "execution_count": 23
        }
      ]
    },
    {
      "cell_type": "code",
      "source": [
        "dst = res.reshape(img.shape)\n",
        "import matplotlib.pyplot as plt\n",
        "\n",
        "plt.imshow(dst[:,:,::-1])\n"
      ],
      "metadata": {
        "id": "V0FmwQyG26bb",
        "outputId": "37847568-5aac-4766-c5a4-70097669fa2a",
        "colab": {
          "base_uri": "https://localhost:8080/",
          "height": 286
        }
      },
      "execution_count": 24,
      "outputs": [
        {
          "output_type": "execute_result",
          "data": {
            "text/plain": [
              "<matplotlib.image.AxesImage at 0x7f54f8062bd0>"
            ]
          },
          "metadata": {},
          "execution_count": 24
        },
        {
          "output_type": "display_data",
          "data": {
            "text/plain": [
              "<Figure size 432x288 with 1 Axes>"
            ],
            "image/png": "[encoded data removed]"
          },
          "metadata": {
            "needs_background": "light"
          }
        }
      ]
    },
    {
      "cell_type": "code",
      "source": [
        ""
      ],
      "metadata": {
        "id": "PRZP-C4P3-0S"
      },
      "execution_count": null,
      "outputs": []
    }
  ],
  "metadata": {
    "colab": {
      "collapsed_sections": [],
      "name": "Colaboratory에 오신 것을 환영합니다",
      "provenance": [],
      "include_colab_link": true
    },
    "kernelspec": {
      "display_name": "Python 3",
      "name": "python3"
    }
  },
  "nbformat": 4,
  "nbformat_minor": 0
}