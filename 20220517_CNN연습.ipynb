{
  "cells": [
    {
      "cell_type": "markdown",
      "metadata": {
        "id": "view-in-github",
        "colab_type": "text"
      },
      "source": [
        "<a href=\"https://colab.research.google.com/github/kiyong21c/nadocoding/blob/master/20220517_CNN%EC%97%B0%EC%8A%B5.ipynb\" target=\"_parent\"><img src=\"https://colab.research.google.com/assets/colab-badge.svg\" alt=\"Open In Colab\"/></a>"
      ]
    },
    {
      "cell_type": "code",
      "source": [
        "from tensorflow import keras\n",
        "from sklearn.model_selection import train_test_split"
      ],
      "metadata": {
        "id": "U8clkRhegkhK"
      },
      "execution_count": 2,
      "outputs": []
    },
    {
      "cell_type": "markdown",
      "source": [
        "# 1. fashin_mnist.load_data() : 데이터 다운로드(mnist_test.csv) → train/test 데이터셋(input/target) 분류 까지 한번에\n",
        " - train 데이터셋 : (60000, 28, 28)\n",
        " - test 데이터셋 : (10000, 28, 28)\n"
      ],
      "metadata": {
        "id": "p2CBW8n1hdXA"
      }
    },
    {
      "cell_type": "code",
      "source": [
        "(train_input, train_target), (test_input, test_target) = keras.datasets.fashion_mnist.load_data()"
      ],
      "metadata": {
        "id": "yjXCebnmgqXI",
        "outputId": "a1415731-21ed-4bac-e564-1d7a70fc0195",
        "colab": {
          "base_uri": "https://localhost:8080/"
        }
      },
      "execution_count": 3,
      "outputs": [
        {
          "output_type": "stream",
          "name": "stdout",
          "text": [
            "Downloading data from https://storage.googleapis.com/tensorflow/tf-keras-datasets/train-labels-idx1-ubyte.gz\n",
            "32768/29515 [=================================] - 0s 0us/step\n",
            "40960/29515 [=========================================] - 0s 0us/step\n",
            "Downloading data from https://storage.googleapis.com/tensorflow/tf-keras-datasets/train-images-idx3-ubyte.gz\n",
            "26427392/26421880 [==============================] - 0s 0us/step\n",
            "26435584/26421880 [==============================] - 0s 0us/step\n",
            "Downloading data from https://storage.googleapis.com/tensorflow/tf-keras-datasets/t10k-labels-idx1-ubyte.gz\n",
            "16384/5148 [===============================================================================================] - 0s 0us/step\n",
            "Downloading data from https://storage.googleapis.com/tensorflow/tf-keras-datasets/t10k-images-idx3-ubyte.gz\n",
            "4423680/4422102 [==============================] - 0s 0us/step\n",
            "4431872/4422102 [==============================] - 0s 0us/step\n"
          ]
        }
      ]
    },
    {
      "cell_type": "code",
      "source": [
        "train_input.shape"
      ],
      "metadata": {
        "id": "LXQzPSgxhIbF",
        "outputId": "57be6cf1-f7d5-4673-b562-157f10620696",
        "colab": {
          "base_uri": "https://localhost:8080/"
        }
      },
      "execution_count": 4,
      "outputs": [
        {
          "output_type": "execute_result",
          "data": {
            "text/plain": [
              "(60000, 28, 28)"
            ]
          },
          "metadata": {},
          "execution_count": 4
        }
      ]
    },
    {
      "cell_type": "code",
      "source": [
        "test_input.shape"
      ],
      "metadata": {
        "id": "gtXCA0QliDzk",
        "outputId": "271d7e30-379f-4f66-b9af-2351dec4a1e0",
        "colab": {
          "base_uri": "https://localhost:8080/"
        }
      },
      "execution_count": 5,
      "outputs": [
        {
          "output_type": "execute_result",
          "data": {
            "text/plain": [
              "(10000, 28, 28)"
            ]
          },
          "metadata": {},
          "execution_count": 5
        }
      ]
    },
    {
      "cell_type": "code",
      "source": [
        "train_scaled = train_input / 255.0"
      ],
      "metadata": {
        "id": "yXscH5xpg7Io"
      },
      "execution_count": 6,
      "outputs": []
    },
    {
      "cell_type": "markdown",
      "source": [
        "# 2. train 데이터셋 → train / val(검증) 데이터셋으로 다시 나눔\n",
        " - train 데이터셋 : (48000, 28, 28)\n",
        " - val 데이터셋 : (12000, 28, 28)"
      ],
      "metadata": {
        "id": "qukT7okThcnU"
      }
    },
    {
      "cell_type": "code",
      "source": [
        "train_scaled, val_scaled, train_target, val_target = train_test_split(train_scaled, train_target, test_size=0.2, random_state=42)"
      ],
      "metadata": {
        "id": "w9oGnj5uhNUt"
      },
      "execution_count": 7,
      "outputs": []
    },
    {
      "cell_type": "code",
      "source": [
        "train_scaled.shape"
      ],
      "metadata": {
        "id": "-Ck79Xv4jFHg",
        "outputId": "de21abc9-6007-4ad0-93a5-7f20371f373c",
        "colab": {
          "base_uri": "https://localhost:8080/"
        }
      },
      "execution_count": 8,
      "outputs": [
        {
          "output_type": "execute_result",
          "data": {
            "text/plain": [
              "(48000, 28, 28)"
            ]
          },
          "metadata": {},
          "execution_count": 8
        }
      ]
    },
    {
      "cell_type": "markdown",
      "source": [
        "# 3. 인공신경망 모델 만들기 : 함수 활용"
      ],
      "metadata": {
        "id": "nNVMyiezjldM"
      }
    },
    {
      "cell_type": "code",
      "source": [
        "def model_fn(a_layer=None):\n",
        "  model = keras.Sequential() # 1.모델 생성(입력/밀집/출력층 등 생성 전)\n",
        "  model.add(keras.layers.Flatten(input_shape=(28, 28))) # 2.Flatten층 추가\n",
        "  model.add(keras.layers.Dense(100, activation='relu')) # 3.밀집층 추가\n",
        "  if a_layer: # 함수 호출시 a_layer를 정의 했다면:\n",
        "    model.add(a_layer) # 밀집층 추가\n",
        "  model.add(keras.layers.Dense(10, activation='softmax')) # 4.출력층 추가\n",
        "  return model # 인스턴스 객체 반환(Sequential 클래스로 인스턴스 객체 생성)"
      ],
      "metadata": {
        "id": "FEDLijOwjGic"
      },
      "execution_count": 9,
      "outputs": []
    },
    {
      "cell_type": "code",
      "source": [
        "# model_fn().summary() # model.summary()와 같음\n",
        "\n",
        "# 반환되는 객체를 변수에 담아서 사용하는 방법\n",
        "model = model_fn()\n",
        "model.summary()"
      ],
      "metadata": {
        "id": "25rYl2Ifl2xy",
        "outputId": "16f5fb02-eafb-4d30-bc76-2c65c075ede7",
        "colab": {
          "base_uri": "https://localhost:8080/"
        }
      },
      "execution_count": 10,
      "outputs": [
        {
          "output_type": "stream",
          "name": "stdout",
          "text": [
            "Model: \"sequential\"\n",
            "_________________________________________________________________\n",
            " Layer (type)                Output Shape              Param #   \n",
            "=================================================================\n",
            " flatten (Flatten)           (None, 784)               0         \n",
            "                                                                 \n",
            " dense (Dense)               (None, 100)               78500     \n",
            "                                                                 \n",
            " dense_1 (Dense)             (None, 10)                1010      \n",
            "                                                                 \n",
            "=================================================================\n",
            "Total params: 79,510\n",
            "Trainable params: 79,510\n",
            "Non-trainable params: 0\n",
            "_________________________________________________________________\n"
          ]
        }
      ]
    },
    {
      "cell_type": "code",
      "source": [
        "model.compile(loss='sparse_categorical_crossentropy', metrics='accuracy') # 원-핫 인코딩 하지않은 타깃 사용시 sparse(희소) 손실함수 사용\n",
        "history = model.fit(train_scaled, train_target, epochs=5, verbose=1) # verbose=0 : 에포크마다 진행막대/손실 등의 지표 생략\n",
        "# fit() 의 실행결과 → History 클래스 객체를 반환 <tensorflow.python.keras.callbacks.History at 0x7fe38bfc080> "
      ],
      "metadata": {
        "id": "RpXSAmHU_2bI",
        "outputId": "56703c47-3745-408e-8bd1-bf84c02bf7f2",
        "colab": {
          "base_uri": "https://localhost:8080/"
        }
      },
      "execution_count": 11,
      "outputs": [
        {
          "output_type": "stream",
          "name": "stdout",
          "text": [
            "Epoch 1/5\n",
            "1500/1500 [==============================] - 7s 2ms/step - loss: 0.5280 - accuracy: 0.8140\n",
            "Epoch 2/5\n",
            "1500/1500 [==============================] - 3s 2ms/step - loss: 0.3931 - accuracy: 0.8585\n",
            "Epoch 3/5\n",
            "1500/1500 [==============================] - 3s 2ms/step - loss: 0.3539 - accuracy: 0.8720\n",
            "Epoch 4/5\n",
            "1500/1500 [==============================] - 3s 2ms/step - loss: 0.3345 - accuracy: 0.8814\n",
            "Epoch 5/5\n",
            "1500/1500 [==============================] - 3s 2ms/step - loss: 0.3187 - accuracy: 0.8865\n"
          ]
        }
      ]
    },
    {
      "cell_type": "markdown",
      "source": [
        "# History 클래스가 갖고 있는 변수와 함수/클래스를 확인해보자 : dir()"
      ],
      "metadata": {
        "id": "1RZhpbmWDydy"
      }
    },
    {
      "cell_type": "code",
      "source": [
        "dir(history.history) # keys 함수를 사용할 수 있네(= 딕셔너리 형태라는 뜻)\n",
        "# compile() 메서드의 metrics 매개변수에 'accuracy'를 추가했기 대문에 history 속성에 포함되어 있음"
      ],
      "metadata": {
        "id": "VfNU8qcpDElp",
        "outputId": "43c5d212-9be9-420d-f23e-218e38d16a3b",
        "colab": {
          "base_uri": "https://localhost:8080/"
        }
      },
      "execution_count": 12,
      "outputs": [
        {
          "output_type": "execute_result",
          "data": {
            "text/plain": [
              "['__class__',\n",
              " '__contains__',\n",
              " '__delattr__',\n",
              " '__delitem__',\n",
              " '__dir__',\n",
              " '__doc__',\n",
              " '__eq__',\n",
              " '__format__',\n",
              " '__ge__',\n",
              " '__getattribute__',\n",
              " '__getitem__',\n",
              " '__gt__',\n",
              " '__hash__',\n",
              " '__init__',\n",
              " '__init_subclass__',\n",
              " '__iter__',\n",
              " '__le__',\n",
              " '__len__',\n",
              " '__lt__',\n",
              " '__ne__',\n",
              " '__new__',\n",
              " '__reduce__',\n",
              " '__reduce_ex__',\n",
              " '__repr__',\n",
              " '__setattr__',\n",
              " '__setitem__',\n",
              " '__sizeof__',\n",
              " '__str__',\n",
              " '__subclasshook__',\n",
              " 'clear',\n",
              " 'copy',\n",
              " 'fromkeys',\n",
              " 'get',\n",
              " 'items',\n",
              " 'keys',\n",
              " 'pop',\n",
              " 'popitem',\n",
              " 'setdefault',\n",
              " 'update',\n",
              " 'values']"
            ]
          },
          "metadata": {},
          "execution_count": 12
        }
      ]
    },
    {
      "cell_type": "code",
      "source": [
        "type(history.history)"
      ],
      "metadata": {
        "id": "PisObMqwEQSB",
        "outputId": "a007c569-0725-4cbc-d55c-9e2875e5495a",
        "colab": {
          "base_uri": "https://localhost:8080/"
        }
      },
      "execution_count": 13,
      "outputs": [
        {
          "output_type": "execute_result",
          "data": {
            "text/plain": [
              "dict"
            ]
          },
          "metadata": {},
          "execution_count": 13
        }
      ]
    },
    {
      "cell_type": "code",
      "source": [
        "history.history.keys()"
      ],
      "metadata": {
        "id": "ksADa-KdDOkQ",
        "outputId": "9c51e5cb-718f-47ea-bca2-c3bffb54c4cd",
        "colab": {
          "base_uri": "https://localhost:8080/"
        }
      },
      "execution_count": 14,
      "outputs": [
        {
          "output_type": "execute_result",
          "data": {
            "text/plain": [
              "dict_keys(['loss', 'accuracy'])"
            ]
          },
          "metadata": {},
          "execution_count": 14
        }
      ]
    },
    {
      "cell_type": "code",
      "source": [
        "history.history['loss'] # 각 epoch마다의 손실값이 들어있음"
      ],
      "metadata": {
        "id": "eLN54pbhEyEv",
        "outputId": "8f27fdbf-3ea9-4101-8d2e-4c2549ac8965",
        "colab": {
          "base_uri": "https://localhost:8080/"
        }
      },
      "execution_count": 15,
      "outputs": [
        {
          "output_type": "execute_result",
          "data": {
            "text/plain": [
              "[0.5279532670974731,\n",
              " 0.3930896818637848,\n",
              " 0.3538559079170227,\n",
              " 0.3345435857772827,\n",
              " 0.318709135055542]"
            ]
          },
          "metadata": {},
          "execution_count": 15
        }
      ]
    },
    {
      "cell_type": "code",
      "source": [
        "import matplotlib.pyplot as plt\n",
        "plt.plot(history.history['loss']) # 리스트를 plot 할 때 인덱스가 x축 → 0부터 시작\n",
        "plt.xlabel('epoch')\n",
        "plt.ylabel('loss')\n",
        "plt.show()"
      ],
      "metadata": {
        "id": "sUYXmaIEE8X6",
        "outputId": "7dd27e52-72d3-4d10-8e02-68ad58eb2bef",
        "colab": {
          "base_uri": "https://localhost:8080/",
          "height": 279
        }
      },
      "execution_count": 16,
      "outputs": [
        {
          "output_type": "display_data",
          "data": {
            "text/plain": [
              "<Figure size 432x288 with 1 Axes>"
            ],
            "image/png": "[encoded data removed]"
          },
          "metadata": {
            "needs_background": "light"
          }
        }
      ]
    },
    {
      "cell_type": "code",
      "source": [
        "plt.plot(history.history['accuracy']) # 리스트를 plot 할 때 인덱스가 x축 → 0부터 시작\n",
        "plt.xlabel('epoch')\n",
        "plt.ylabel('loss')\n",
        "plt.show()"
      ],
      "metadata": {
        "id": "rUCpoQ5OFKO7",
        "outputId": "30b3960b-44bc-4a3b-877c-164c822d972f",
        "colab": {
          "base_uri": "https://localhost:8080/",
          "height": 283
        }
      },
      "execution_count": 17,
      "outputs": [
        {
          "output_type": "display_data",
          "data": {
            "text/plain": [
              "<Figure size 432x288 with 1 Axes>"
            ],
            "image/png": "[encoded data removed]"
          },
          "metadata": {
            "needs_background": "light"
          }
        }
      ]
    },
    {
      "cell_type": "code",
      "source": [
        "# epoch를 늘려서 훈련해보자(5 → 10회)\n",
        "model = model_fn()\n",
        "model.compile(loss='sparse_categorical_crossentropy', metrics='accuracy')\n",
        "history = model.fit(train_scaled, train_target, epochs=20, verbose=0)\n",
        "plt.plot(history.history['loss'])\n",
        "plt.xlabel('epoch')\n",
        "plt.ylabel('loss')\n",
        "plt.show()"
      ],
      "metadata": {
        "id": "Y7oYsQVRFsGm",
        "outputId": "796766df-3910-4127-b825-1a2f110f2b22",
        "colab": {
          "base_uri": "https://localhost:8080/",
          "height": 279
        }
      },
      "execution_count": 18,
      "outputs": [
        {
          "output_type": "display_data",
          "data": {
            "text/plain": [
              "<Figure size 432x288 with 1 Axes>"
            ],
            "image/png": "[encoded data removed]"
          },
          "metadata": {
            "needs_background": "light"
          }
        }
      ]
    },
    {
      "cell_type": "markdown",
      "source": [
        "# 에포크에 대한 과대/과소적합 파악 : 훈련세트의 손실과 검증세트 손실 비교\n",
        " - 인공 신경망 모델에서 최적화 하는 대상은 정확도가 아닌 \"손실 함수\"\n",
        " - 손실 감소에 비례하여 정확도가 높아지지 않는 경우도 있음"
      ],
      "metadata": {
        "id": "5bFxBauVG_eU"
      }
    },
    {
      "cell_type": "code",
      "source": [
        "# 에포크마다 훈련세트의 손실과 정확도를 확인 할 수 있었다.\n",
        "# 모델 훈련시 검증세트도 validation_data 매개변수에 넣어 활용 할 수 있다.\n",
        "\n",
        "model = model_fn()\n",
        "model.compile(loss='sparse_categorical_crossentropy', metrics='accuracy')\n",
        "history = model.fit(train_scaled, train_target, epochs=20, verbose=0,\n",
        "                    validation_data=(val_scaled, val_target))"
      ],
      "metadata": {
        "id": "QHs6FXtDGTr0"
      },
      "execution_count": 19,
      "outputs": []
    },
    {
      "cell_type": "code",
      "source": [
        "history.history.keys() # 모델 훈련시 검증세트도 매개변수에 넣어 전달했더니 : 'val_loss', 'val_accuracy' 추가 됨"
      ],
      "metadata": {
        "id": "N30FVGxKIpUe",
        "outputId": "8e5ba3ef-24e6-498d-cb48-2ef8fb92ea57",
        "colab": {
          "base_uri": "https://localhost:8080/"
        }
      },
      "execution_count": 20,
      "outputs": [
        {
          "output_type": "execute_result",
          "data": {
            "text/plain": [
              "dict_keys(['loss', 'accuracy', 'val_loss', 'val_accuracy'])"
            ]
          },
          "metadata": {},
          "execution_count": 20
        }
      ]
    },
    {
      "cell_type": "code",
      "source": [
        "plt.plot(history.history['loss'])\n",
        "plt.plot(history.history['val_loss'])\n",
        "plt.xlabel('epoch')\n",
        "plt.ylabel('loss')\n",
        "plt.legend(['train','val'])\n",
        "plt.show()"
      ],
      "metadata": {
        "id": "qFzYFy2lJ-DW",
        "outputId": "e144d2cf-d8aa-40fb-febf-37274495687c",
        "colab": {
          "base_uri": "https://localhost:8080/",
          "height": 279
        }
      },
      "execution_count": 21,
      "outputs": [
        {
          "output_type": "display_data",
          "data": {
            "text/plain": [
              "<Figure size 432x288 with 1 Axes>"
            ],
            "image/png": "[encoded data removed]"
          },
          "metadata": {
            "needs_background": "light"
          }
        }
      ]
    },
    {
      "cell_type": "markdown",
      "source": [
        "훈련 손실은 꾸준히 감소 → 전형적인 과대적합 모델이 만들어짐\n",
        "\n",
        "검증 손실이 상승하는 시점을 가능한 뒤로 늦추면 → 검증세트에 대한 손실이 감소 + 검증세트에 대한 정확도 증가"
      ],
      "metadata": {
        "id": "5z6Y6xVxKiLx"
      }
    },
    {
      "cell_type": "markdown",
      "source": [
        "# 과대 적합을 막기 위한 신경망에 특화된 규제 방법\n",
        " - 하이퍼파라미터 중 **옵티마이저를 변경**하여 과대적합 완화 : RMSprop(defalut) → Adam(대중적)\n",
        " - **+ 옵티마이저 학습률 조절**\n",
        " - 드롭아웃 : 훈련과정에서 일부 뉴런을 꺼서(출력을 0으로 만들어) 특정 뉴런에 과대하게 의존하는 것을 줄여 안정적인 예측가능\n",
        " - **+ 드롭아웃할 뉴런 개수 조절**"
      ],
      "metadata": {
        "id": "j4c6rsI9MJ1S"
      }
    },
    {
      "cell_type": "markdown",
      "source": [
        "## Dropout() 클래스\n",
        "- 층처럼 사용되지만 훈련되는 파라미터는 없음\n",
        "- 드롭아웃은 모델 만들때 층으로 넣는다.\n",
        "- 훈련시에만 적용되고, 평가/예측시 적용되지 않는다 : 케라스가 자동으로 해줌"
      ],
      "metadata": {
        "id": "P9NGaIQhOWXX"
      }
    },
    {
      "cell_type": "code",
      "source": [
        "# Dropout 클래스로 드롭아웃 층 추가\n",
        "# 층처럼 사용되지만 훈련되는 파라미터는 없음\n",
        "\n",
        "model = model_fn(keras.layers.Dropout(0.3)) # 앞의 층의 출력을 30%만 랜덤하게 0으로 만듬\n",
        "model.summary()"
      ],
      "metadata": {
        "id": "kqk2lWUjLCJG",
        "outputId": "a11ca47d-aabc-46d5-e42c-3b5e08a03236",
        "colab": {
          "base_uri": "https://localhost:8080/"
        }
      },
      "execution_count": 28,
      "outputs": [
        {
          "output_type": "stream",
          "name": "stdout",
          "text": [
            "Model: \"sequential_3\"\n",
            "_________________________________________________________________\n",
            " Layer (type)                Output Shape              Param #   \n",
            "=================================================================\n",
            " flatten_3 (Flatten)         (None, 784)               0         \n",
            "                                                                 \n",
            " dense_6 (Dense)             (None, 100)               78500     \n",
            "                                                                 \n",
            " dropout (Dropout)           (None, 100)               0         \n",
            "                                                                 \n",
            " dense_7 (Dense)             (None, 10)                1010      \n",
            "                                                                 \n",
            "=================================================================\n",
            "Total params: 79,510\n",
            "Trainable params: 79,510\n",
            "Non-trainable params: 0\n",
            "_________________________________________________________________\n"
          ]
        }
      ]
    },
    {
      "cell_type": "code",
      "source": [
        "# 모델에 드롭아웃 층을 추가 → 학습\n",
        "model.compile(optimizer='adam', loss='sparse_categorical_crossentropy', metrics='accuracy')\n",
        "history = model.fit(train_scaled, train_target, epochs=20, verbose=0,\n",
        "                    validation_data=(val_scaled, val_target))\n",
        "plt.plot(history.history['loss'])\n",
        "plt.plot(history.history['val_loss'])\n",
        "plt.xlabel('epoch')\n",
        "plt.ylabel('loss')\n",
        "plt.legend(['train','val'])\n",
        "plt.show()"
      ],
      "metadata": {
        "id": "zrLF0AP4OTDN",
        "outputId": "6a1a1b5e-ae27-418e-ad19-ee6fb9933815",
        "colab": {
          "base_uri": "https://localhost:8080/",
          "height": 279
        }
      },
      "execution_count": 29,
      "outputs": [
        {
          "output_type": "display_data",
          "data": {
            "text/plain": [
              "<Figure size 432x288 with 1 Axes>"
            ],
            "image/png": "[encoded data removed]"
          },
          "metadata": {
            "needs_background": "light"
          }
        }
      ]
    },
    {
      "cell_type": "markdown",
      "source": [
        "검증세트의 손실이 작고 에포크 증가에도 큰 증가 없음"
      ],
      "metadata": {
        "id": "sSv74u3oQSEf"
      }
    },
    {
      "cell_type": "markdown",
      "source": [
        "# 모델 저장과 복원\n",
        " - 파라미터 저장 : save_weights() 메서드\n",
        " - 모델구조+파라미터 저장 : save() 메서드\n",
        " - 저장시 확장자가 '.h5'"
      ],
      "metadata": {
        "id": "Hfie7Ky8QozL"
      }
    },
    {
      "cell_type": "code",
      "source": [
        ""
      ],
      "metadata": {
        "id": "h-YGMLNZN_I_"
      },
      "execution_count": null,
      "outputs": []
    }
  ],
  "metadata": {
    "colab": {
      "collapsed_sections": [],
      "name": "Colaboratory에 오신 것을 환영합니다",
      "provenance": [],
      "include_colab_link": true
    },
    "kernelspec": {
      "display_name": "Python 3",
      "name": "python3"
    },
    "accelerator": "GPU"
  },
  "nbformat": 4,
  "nbformat_minor": 0
}