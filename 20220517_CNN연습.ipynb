{
  "cells": [
    {
      "cell_type": "markdown",
      "metadata": {
        "id": "view-in-github",
        "colab_type": "text"
      },
      "source": [
        "<a href=\"https://colab.research.google.com/github/kiyong21c/nadocoding/blob/master/20220517_CNN%EC%97%B0%EC%8A%B5.ipynb\" target=\"_parent\"><img src=\"https://colab.research.google.com/assets/colab-badge.svg\" alt=\"Open In Colab\"/></a>"
      ]
    },
    {
      "cell_type": "code",
      "source": [
        "from tensorflow import keras\n",
        "from sklearn.model_selection import train_test_split"
      ],
      "metadata": {
        "id": "U8clkRhegkhK"
      },
      "execution_count": 1,
      "outputs": []
    },
    {
      "cell_type": "markdown",
      "source": [
        "# 1. fashin_mnist.load_data() : 데이터 다운로드(mnist_test.csv) → train/test 데이터셋(input/target) 분류 까지 한번에\n",
        " - train 데이터셋 : (60000, 28, 28)\n",
        " - test 데이터셋 : (10000, 28, 28)\n"
      ],
      "metadata": {
        "id": "p2CBW8n1hdXA"
      }
    },
    {
      "cell_type": "code",
      "source": [
        "(train_input, train_target), (test_input, test_target) = keras.datasets.fashion_mnist.load_data()"
      ],
      "metadata": {
        "id": "yjXCebnmgqXI",
        "outputId": "84cdbb2f-95ab-40c6-a4b7-a7b56eda08db",
        "colab": {
          "base_uri": "https://localhost:8080/"
        }
      },
      "execution_count": 2,
      "outputs": [
        {
          "output_type": "stream",
          "name": "stdout",
          "text": [
            "Downloading data from https://storage.googleapis.com/tensorflow/tf-keras-datasets/train-labels-idx1-ubyte.gz\n",
            "32768/29515 [=================================] - 0s 0us/step\n",
            "40960/29515 [=========================================] - 0s 0us/step\n",
            "Downloading data from https://storage.googleapis.com/tensorflow/tf-keras-datasets/train-images-idx3-ubyte.gz\n",
            "26427392/26421880 [==============================] - 0s 0us/step\n",
            "26435584/26421880 [==============================] - 0s 0us/step\n",
            "Downloading data from https://storage.googleapis.com/tensorflow/tf-keras-datasets/t10k-labels-idx1-ubyte.gz\n",
            "16384/5148 [===============================================================================================] - 0s 0us/step\n",
            "Downloading data from https://storage.googleapis.com/tensorflow/tf-keras-datasets/t10k-images-idx3-ubyte.gz\n",
            "4423680/4422102 [==============================] - 0s 0us/step\n",
            "4431872/4422102 [==============================] - 0s 0us/step\n"
          ]
        }
      ]
    },
    {
      "cell_type": "code",
      "source": [
        "train_input.shape"
      ],
      "metadata": {
        "id": "LXQzPSgxhIbF",
        "outputId": "7dc4ca4a-3eb9-4165-ad87-d4b0fcabebc7",
        "colab": {
          "base_uri": "https://localhost:8080/"
        }
      },
      "execution_count": 3,
      "outputs": [
        {
          "output_type": "execute_result",
          "data": {
            "text/plain": [
              "(60000, 28, 28)"
            ]
          },
          "metadata": {},
          "execution_count": 3
        }
      ]
    },
    {
      "cell_type": "code",
      "source": [
        "test_input.shape"
      ],
      "metadata": {
        "id": "gtXCA0QliDzk",
        "outputId": "51c90125-5dd6-45a5-9f01-e3b08a657d35",
        "colab": {
          "base_uri": "https://localhost:8080/"
        }
      },
      "execution_count": 4,
      "outputs": [
        {
          "output_type": "execute_result",
          "data": {
            "text/plain": [
              "(10000, 28, 28)"
            ]
          },
          "metadata": {},
          "execution_count": 4
        }
      ]
    },
    {
      "cell_type": "code",
      "source": [
        "train_scaled = train_input / 255.0"
      ],
      "metadata": {
        "id": "yXscH5xpg7Io"
      },
      "execution_count": 5,
      "outputs": []
    },
    {
      "cell_type": "markdown",
      "source": [
        "# 2. train 데이터셋 → train / val(검증) 데이터셋으로 다시 나눔\n",
        " - train 데이터셋 : (48000, 28, 28)\n",
        " - val 데이터셋 : (12000, 28, 28)"
      ],
      "metadata": {
        "id": "qukT7okThcnU"
      }
    },
    {
      "cell_type": "code",
      "source": [
        "train_scaled, val_scaled, train_target, val_target = train_test_split(train_scaled, train_target, test_size=0.2, random_state=42)"
      ],
      "metadata": {
        "id": "w9oGnj5uhNUt"
      },
      "execution_count": 6,
      "outputs": []
    },
    {
      "cell_type": "code",
      "source": [
        "train_scaled.shape"
      ],
      "metadata": {
        "id": "-Ck79Xv4jFHg",
        "outputId": "8b2e0977-5ade-4c9d-9162-4ccdd7156d5f",
        "colab": {
          "base_uri": "https://localhost:8080/"
        }
      },
      "execution_count": 7,
      "outputs": [
        {
          "output_type": "execute_result",
          "data": {
            "text/plain": [
              "(48000, 28, 28)"
            ]
          },
          "metadata": {},
          "execution_count": 7
        }
      ]
    },
    {
      "cell_type": "markdown",
      "source": [
        "# 3. 인공신경망 모델 만들기 : 함수 활용"
      ],
      "metadata": {
        "id": "nNVMyiezjldM"
      }
    },
    {
      "cell_type": "code",
      "source": [
        "def model_fn(a_layer=None):\n",
        "  model = keras.Sequential() # 1.모델 생성(입력/밀집/출력층 등 생성 전)\n",
        "  model.add(keras.layers.Flatten(input_shape=(28, 28))) # 2.Flatten층 추가\n",
        "  model.add(keras.layers.Dense(100, activation='relu')) # 3.밀집층 추가\n",
        "  if a_layer: # 함수 호출시 a_layer를 정의 했다면:\n",
        "    model.add(a_layer) # 밀집층 추가\n",
        "  model.add(keras.layers.Dense(10, activation='softmax')) # 4.출력층 추가\n",
        "  return model # 인스턴스 객체 반환(Sequential 클래스로 인스턴스 객체 생성)"
      ],
      "metadata": {
        "id": "FEDLijOwjGic"
      },
      "execution_count": 14,
      "outputs": []
    },
    {
      "cell_type": "code",
      "source": [
        "# model_fn().summary() # model.summary()와 같음\n",
        "\n",
        "# 반환되는 객체를 변수에 담아서 사용하는 방법\n",
        "model = model_fn()\n",
        "model.summary()"
      ],
      "metadata": {
        "id": "25rYl2Ifl2xy",
        "outputId": "7e0c74e4-564f-428c-e391-f26f4d0a5235",
        "colab": {
          "base_uri": "https://localhost:8080/"
        }
      },
      "execution_count": 16,
      "outputs": [
        {
          "output_type": "stream",
          "name": "stdout",
          "text": [
            "Model: \"sequential_4\"\n",
            "_________________________________________________________________\n",
            " Layer (type)                Output Shape              Param #   \n",
            "=================================================================\n",
            " flatten_4 (Flatten)         (None, 784)               0         \n",
            "                                                                 \n",
            " dense_8 (Dense)             (None, 100)               78500     \n",
            "                                                                 \n",
            " dense_9 (Dense)             (None, 10)                1010      \n",
            "                                                                 \n",
            "=================================================================\n",
            "Total params: 79,510\n",
            "Trainable params: 79,510\n",
            "Non-trainable params: 0\n",
            "_________________________________________________________________\n"
          ]
        }
      ]
    },
    {
      "cell_type": "code",
      "source": [
        "model.compile(loss='sparse_categorical_crossentropy', metrics='accuracy') # 원-핫 인코딩 하지않은 타깃 사용시 sparse(희소) 손실함수 사용\n",
        "history = model.fit(train_scaled, train_target, epochs=5, verbose=1) # verbose=0 : 에포크마다 진행막대/손실 등의 지표 생략\n",
        "# fit() 의 실행결과 → History 클래스 객체를 반환 <tensorflow.python.keras.callbacks.History at 0x7fe38bfc080> "
      ],
      "metadata": {
        "id": "RpXSAmHU_2bI",
        "outputId": "1373f417-ff84-4f75-e980-27e071d64188",
        "colab": {
          "base_uri": "https://localhost:8080/"
        }
      },
      "execution_count": 17,
      "outputs": [
        {
          "output_type": "stream",
          "name": "stdout",
          "text": [
            "Epoch 1/5\n",
            "1500/1500 [==============================] - 4s 2ms/step - loss: 0.5255 - accuracy: 0.8161\n",
            "Epoch 2/5\n",
            "1500/1500 [==============================] - 3s 2ms/step - loss: 0.3921 - accuracy: 0.8583\n",
            "Epoch 3/5\n",
            "1500/1500 [==============================] - 3s 2ms/step - loss: 0.3523 - accuracy: 0.8733\n",
            "Epoch 4/5\n",
            "1500/1500 [==============================] - 3s 2ms/step - loss: 0.3289 - accuracy: 0.8830\n",
            "Epoch 5/5\n",
            "1500/1500 [==============================] - 3s 2ms/step - loss: 0.3151 - accuracy: 0.8870\n"
          ]
        }
      ]
    },
    {
      "cell_type": "markdown",
      "source": [
        "# History 클래스가 갖고 있는 변수와 함수/클래스를 확인해보자 : dir()"
      ],
      "metadata": {
        "id": "1RZhpbmWDydy"
      }
    },
    {
      "cell_type": "code",
      "source": [
        "dir(history.history) # keys 함수를 사용할 수 있네(= 딕셔너리 형태라는 뜻)\n",
        "# compile() 메서드의 metrics 매개변수에 'accuracy'를 추가했기 대문에 history 속성에 포함되어 있음"
      ],
      "metadata": {
        "id": "VfNU8qcpDElp",
        "outputId": "397ea654-56a0-4464-b5fa-2740e9bed11e",
        "colab": {
          "base_uri": "https://localhost:8080/"
        }
      },
      "execution_count": 21,
      "outputs": [
        {
          "output_type": "execute_result",
          "data": {
            "text/plain": [
              "['__class__',\n",
              " '__contains__',\n",
              " '__delattr__',\n",
              " '__delitem__',\n",
              " '__dir__',\n",
              " '__doc__',\n",
              " '__eq__',\n",
              " '__format__',\n",
              " '__ge__',\n",
              " '__getattribute__',\n",
              " '__getitem__',\n",
              " '__gt__',\n",
              " '__hash__',\n",
              " '__init__',\n",
              " '__init_subclass__',\n",
              " '__iter__',\n",
              " '__le__',\n",
              " '__len__',\n",
              " '__lt__',\n",
              " '__ne__',\n",
              " '__new__',\n",
              " '__reduce__',\n",
              " '__reduce_ex__',\n",
              " '__repr__',\n",
              " '__setattr__',\n",
              " '__setitem__',\n",
              " '__sizeof__',\n",
              " '__str__',\n",
              " '__subclasshook__',\n",
              " 'clear',\n",
              " 'copy',\n",
              " 'fromkeys',\n",
              " 'get',\n",
              " 'items',\n",
              " 'keys',\n",
              " 'pop',\n",
              " 'popitem',\n",
              " 'setdefault',\n",
              " 'update',\n",
              " 'values']"
            ]
          },
          "metadata": {},
          "execution_count": 21
        }
      ]
    },
    {
      "cell_type": "code",
      "source": [
        "type(history.history)"
      ],
      "metadata": {
        "id": "PisObMqwEQSB",
        "outputId": "a5b6050a-0bc6-45cc-a466-b8d3861d6119",
        "colab": {
          "base_uri": "https://localhost:8080/"
        }
      },
      "execution_count": 23,
      "outputs": [
        {
          "output_type": "execute_result",
          "data": {
            "text/plain": [
              "dict"
            ]
          },
          "metadata": {},
          "execution_count": 23
        }
      ]
    },
    {
      "cell_type": "code",
      "source": [
        "history.history.keys()"
      ],
      "metadata": {
        "id": "ksADa-KdDOkQ",
        "outputId": "6a1e04c0-2b16-4fd7-d05c-df052c9aff76",
        "colab": {
          "base_uri": "https://localhost:8080/"
        }
      },
      "execution_count": 22,
      "outputs": [
        {
          "output_type": "execute_result",
          "data": {
            "text/plain": [
              "dict_keys(['loss', 'accuracy'])"
            ]
          },
          "metadata": {},
          "execution_count": 22
        }
      ]
    },
    {
      "cell_type": "code",
      "source": [
        "history.history['loss'] # 각 epoch마다의 손실값이 들어있음"
      ],
      "metadata": {
        "id": "eLN54pbhEyEv",
        "outputId": "1edf83de-b6a8-47af-dee6-22c797183629",
        "colab": {
          "base_uri": "https://localhost:8080/"
        }
      },
      "execution_count": 24,
      "outputs": [
        {
          "output_type": "execute_result",
          "data": {
            "text/plain": [
              "[0.5255278944969177,\n",
              " 0.39208313822746277,\n",
              " 0.3523120582103729,\n",
              " 0.3288803994655609,\n",
              " 0.31508028507232666]"
            ]
          },
          "metadata": {},
          "execution_count": 24
        }
      ]
    },
    {
      "cell_type": "code",
      "source": [
        "import matplotlib.pyplot as plt\n",
        "plt.plot(history.history['loss']) # 리스트를 plot 할 때 인덱스가 x축 → 0부터 시작\n",
        "plt.xlabel('epoch')\n",
        "plt.ylabel('loss')\n",
        "plt.show()"
      ],
      "metadata": {
        "id": "sUYXmaIEE8X6",
        "outputId": "ec66a9c8-9720-4a48-cf81-0d26f61f92c7",
        "colab": {
          "base_uri": "https://localhost:8080/",
          "height": 279
        }
      },
      "execution_count": 25,
      "outputs": [
        {
          "output_type": "display_data",
          "data": {
            "text/plain": [
              "<Figure size 432x288 with 1 Axes>"
            ],
            "image/png": "[encoded data removed]"
          },
          "metadata": {
            "needs_background": "light"
          }
        }
      ]
    },
    {
      "cell_type": "code",
      "source": [
        "plt.plot(history.history['accuracy']) # 리스트를 plot 할 때 인덱스가 x축 → 0부터 시작\n",
        "plt.xlabel('epoch')\n",
        "plt.ylabel('loss')\n",
        "plt.show()"
      ],
      "metadata": {
        "id": "rUCpoQ5OFKO7",
        "outputId": "2eb293c0-e77e-440a-ccb7-aa3007971acb",
        "colab": {
          "base_uri": "https://localhost:8080/",
          "height": 282
        }
      },
      "execution_count": 26,
      "outputs": [
        {
          "output_type": "display_data",
          "data": {
            "text/plain": [
              "<Figure size 432x288 with 1 Axes>"
            ],
            "image/png": "[encoded data removed]"
          },
          "metadata": {
            "needs_background": "light"
          }
        }
      ]
    },
    {
      "cell_type": "code",
      "source": [
        ""
      ],
      "metadata": {
        "id": "EoeNruX_FiTZ"
      },
      "execution_count": null,
      "outputs": []
    }
  ],
  "metadata": {
    "colab": {
      "collapsed_sections": [],
      "name": "Colaboratory에 오신 것을 환영합니다",
      "provenance": [],
      "include_colab_link": true
    },
    "kernelspec": {
      "display_name": "Python 3",
      "name": "python3"
    }
  },
  "nbformat": 4,
  "nbformat_minor": 0
}