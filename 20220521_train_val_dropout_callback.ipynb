{
  "cells": [
    {
      "cell_type": "markdown",
      "metadata": {
        "id": "view-in-github",
        "colab_type": "text"
      },
      "source": [
        "<a href=\"https://colab.research.google.com/github/kiyong21c/nadocoding/blob/master/20220521_train_val_dropout_callback.ipynb\" target=\"_parent\"><img src=\"https://colab.research.google.com/assets/colab-badge.svg\" alt=\"Open In Colab\"/></a>"
      ]
    },
    {
      "cell_type": "code",
      "source": [
        "from tensorflow import keras\n",
        "from sklearn.model_selection import train_test_split"
      ],
      "metadata": {
        "id": "U8clkRhegkhK"
      },
      "execution_count": 12,
      "outputs": []
    },
    {
      "cell_type": "markdown",
      "source": [
        "# 1. fashin_mnist.load_data() : 데이터 다운로드(mnist_test.csv) → train/test 데이터셋(input/target) 분류 까지 한번에\n",
        " - train 데이터셋 : (60000, 28, 28)\n",
        " - test 데이터셋 : (10000, 28, 28)\n"
      ],
      "metadata": {
        "id": "p2CBW8n1hdXA"
      }
    },
    {
      "cell_type": "code",
      "source": [
        "(train_input, train_target), (test_input, test_target) = keras.datasets.fashion_mnist.load_data()"
      ],
      "metadata": {
        "id": "yjXCebnmgqXI"
      },
      "execution_count": 13,
      "outputs": []
    },
    {
      "cell_type": "code",
      "source": [
        "train_input.shape"
      ],
      "metadata": {
        "id": "LXQzPSgxhIbF",
        "outputId": "92871353-a45a-4118-ef14-251ef1fe096d",
        "colab": {
          "base_uri": "https://localhost:8080/"
        }
      },
      "execution_count": 14,
      "outputs": [
        {
          "output_type": "execute_result",
          "data": {
            "text/plain": [
              "(60000, 28, 28)"
            ]
          },
          "metadata": {},
          "execution_count": 14
        }
      ]
    },
    {
      "cell_type": "code",
      "source": [
        "test_input.shape"
      ],
      "metadata": {
        "id": "gtXCA0QliDzk",
        "outputId": "2f80831c-56ed-471c-830d-e13fc5c16d9c",
        "colab": {
          "base_uri": "https://localhost:8080/"
        }
      },
      "execution_count": 15,
      "outputs": [
        {
          "output_type": "execute_result",
          "data": {
            "text/plain": [
              "(10000, 28, 28)"
            ]
          },
          "metadata": {},
          "execution_count": 15
        }
      ]
    },
    {
      "cell_type": "code",
      "source": [
        "train_scaled = train_input / 255.0"
      ],
      "metadata": {
        "id": "yXscH5xpg7Io"
      },
      "execution_count": 16,
      "outputs": []
    },
    {
      "cell_type": "markdown",
      "source": [
        "# 2. train 데이터셋 → train / val(검증) 데이터셋으로 다시 나눔\n",
        " - train 데이터셋 : (48000, 28, 28)\n",
        " - val 데이터셋 : (12000, 28, 28)"
      ],
      "metadata": {
        "id": "qukT7okThcnU"
      }
    },
    {
      "cell_type": "code",
      "source": [
        "train_scaled, val_scaled, train_target, val_target = train_test_split(train_scaled, train_target, test_size=0.2, random_state=42)"
      ],
      "metadata": {
        "id": "w9oGnj5uhNUt"
      },
      "execution_count": 17,
      "outputs": []
    },
    {
      "cell_type": "code",
      "source": [
        "train_scaled.shape"
      ],
      "metadata": {
        "id": "-Ck79Xv4jFHg",
        "outputId": "d60ebe64-3d27-4c4a-b9d6-d5a8bd8b921c",
        "colab": {
          "base_uri": "https://localhost:8080/"
        }
      },
      "execution_count": 18,
      "outputs": [
        {
          "output_type": "execute_result",
          "data": {
            "text/plain": [
              "(48000, 28, 28)"
            ]
          },
          "metadata": {},
          "execution_count": 18
        }
      ]
    },
    {
      "cell_type": "markdown",
      "source": [
        "# 3. 인공신경망 모델 만들기 : 함수 활용"
      ],
      "metadata": {
        "id": "nNVMyiezjldM"
      }
    },
    {
      "cell_type": "code",
      "source": [
        "def model_fn(a_layer=None):\n",
        "  model = keras.Sequential() # 1.모델 생성(입력/밀집/출력층 등 생성 전)\n",
        "  model.add(keras.layers.Flatten(input_shape=(28, 28))) # 2.Flatten층 추가\n",
        "  model.add(keras.layers.Dense(100, activation='relu')) # 3.밀집층 추가\n",
        "  if a_layer: # 함수 호출시 a_layer를 정의 했다면:\n",
        "    model.add(a_layer) # 밀집층 추가\n",
        "  model.add(keras.layers.Dense(10, activation='softmax')) # 4.출력층 추가\n",
        "  return model # 인스턴스 객체 반환(Sequential 클래스로 인스턴스 객체 생성)"
      ],
      "metadata": {
        "id": "FEDLijOwjGic"
      },
      "execution_count": 19,
      "outputs": []
    },
    {
      "cell_type": "code",
      "source": [
        "# model_fn().summary() # model.summary()와 같음\n",
        "\n",
        "# 반환되는 객체를 변수에 담아서 사용하는 방법\n",
        "model = model_fn()\n",
        "model.summary()"
      ],
      "metadata": {
        "id": "25rYl2Ifl2xy",
        "outputId": "6f371544-ada2-40d5-df9d-4e9e7ede3c30",
        "colab": {
          "base_uri": "https://localhost:8080/"
        }
      },
      "execution_count": 20,
      "outputs": [
        {
          "output_type": "stream",
          "name": "stdout",
          "text": [
            "Model: \"sequential_1\"\n",
            "_________________________________________________________________\n",
            " Layer (type)                Output Shape              Param #   \n",
            "=================================================================\n",
            " flatten_1 (Flatten)         (None, 784)               0         \n",
            "                                                                 \n",
            " dense_2 (Dense)             (None, 100)               78500     \n",
            "                                                                 \n",
            " dense_3 (Dense)             (None, 10)                1010      \n",
            "                                                                 \n",
            "=================================================================\n",
            "Total params: 79,510\n",
            "Trainable params: 79,510\n",
            "Non-trainable params: 0\n",
            "_________________________________________________________________\n"
          ]
        }
      ]
    },
    {
      "cell_type": "code",
      "source": [
        "model.compile(loss='sparse_categorical_crossentropy', metrics='accuracy') # 원-핫 인코딩 하지않은 타깃 사용시 sparse(희소) 손실함수 사용\n",
        "history = model.fit(train_scaled, train_target, epochs=5, verbose=1) # verbose=0 : 에포크마다 진행막대/손실 등의 지표 생략\n",
        "# fit() 의 실행결과 → History 클래스 객체를 반환 <tensorflow.python.keras.callbacks.History at 0x7fe38bfc080> "
      ],
      "metadata": {
        "id": "RpXSAmHU_2bI",
        "outputId": "abf432bf-b548-43de-9370-bde8f1d58118",
        "colab": {
          "base_uri": "https://localhost:8080/"
        }
      },
      "execution_count": 21,
      "outputs": [
        {
          "output_type": "stream",
          "name": "stdout",
          "text": [
            "Epoch 1/5\n",
            "1500/1500 [==============================] - 6s 4ms/step - loss: 0.5363 - accuracy: 0.8116\n",
            "Epoch 2/5\n",
            "1500/1500 [==============================] - 5s 3ms/step - loss: 0.3962 - accuracy: 0.8568\n",
            "Epoch 3/5\n",
            "1500/1500 [==============================] - 5s 3ms/step - loss: 0.3577 - accuracy: 0.8702\n",
            "Epoch 4/5\n",
            "1500/1500 [==============================] - 5s 3ms/step - loss: 0.3363 - accuracy: 0.8793\n",
            "Epoch 5/5\n",
            "1500/1500 [==============================] - 5s 3ms/step - loss: 0.3221 - accuracy: 0.8841\n"
          ]
        }
      ]
    },
    {
      "cell_type": "markdown",
      "source": [
        "# History 클래스가 갖고 있는 변수와 함수/클래스를 확인해보자 : dir()"
      ],
      "metadata": {
        "id": "1RZhpbmWDydy"
      }
    },
    {
      "cell_type": "code",
      "source": [
        "dir(history.history) # keys 함수를 사용할 수 있네(= 딕셔너리 형태라는 뜻)\n",
        "# compile() 메서드의 metrics 매개변수에 'accuracy'를 추가했기 대문에 history 속성에 포함되어 있음"
      ],
      "metadata": {
        "id": "VfNU8qcpDElp",
        "outputId": "27b3ae27-fbf3-4ae3-d918-ae82d7a96978",
        "colab": {
          "base_uri": "https://localhost:8080/"
        }
      },
      "execution_count": 22,
      "outputs": [
        {
          "output_type": "execute_result",
          "data": {
            "text/plain": [
              "['__class__',\n",
              " '__contains__',\n",
              " '__delattr__',\n",
              " '__delitem__',\n",
              " '__dir__',\n",
              " '__doc__',\n",
              " '__eq__',\n",
              " '__format__',\n",
              " '__ge__',\n",
              " '__getattribute__',\n",
              " '__getitem__',\n",
              " '__gt__',\n",
              " '__hash__',\n",
              " '__init__',\n",
              " '__init_subclass__',\n",
              " '__iter__',\n",
              " '__le__',\n",
              " '__len__',\n",
              " '__lt__',\n",
              " '__ne__',\n",
              " '__new__',\n",
              " '__reduce__',\n",
              " '__reduce_ex__',\n",
              " '__repr__',\n",
              " '__setattr__',\n",
              " '__setitem__',\n",
              " '__sizeof__',\n",
              " '__str__',\n",
              " '__subclasshook__',\n",
              " 'clear',\n",
              " 'copy',\n",
              " 'fromkeys',\n",
              " 'get',\n",
              " 'items',\n",
              " 'keys',\n",
              " 'pop',\n",
              " 'popitem',\n",
              " 'setdefault',\n",
              " 'update',\n",
              " 'values']"
            ]
          },
          "metadata": {},
          "execution_count": 22
        }
      ]
    },
    {
      "cell_type": "code",
      "source": [
        "type(history.history)"
      ],
      "metadata": {
        "id": "PisObMqwEQSB",
        "outputId": "7745ad95-5657-4762-ae79-15bb85870821",
        "colab": {
          "base_uri": "https://localhost:8080/"
        }
      },
      "execution_count": 23,
      "outputs": [
        {
          "output_type": "execute_result",
          "data": {
            "text/plain": [
              "dict"
            ]
          },
          "metadata": {},
          "execution_count": 23
        }
      ]
    },
    {
      "cell_type": "code",
      "source": [
        "history.history.keys()"
      ],
      "metadata": {
        "id": "ksADa-KdDOkQ",
        "outputId": "e8a8cb52-cb90-4ca5-c9dd-28f91e0e50e7",
        "colab": {
          "base_uri": "https://localhost:8080/"
        }
      },
      "execution_count": 24,
      "outputs": [
        {
          "output_type": "execute_result",
          "data": {
            "text/plain": [
              "dict_keys(['loss', 'accuracy'])"
            ]
          },
          "metadata": {},
          "execution_count": 24
        }
      ]
    },
    {
      "cell_type": "code",
      "source": [
        "history.history['loss'] # 각 epoch마다의 손실값이 들어있음"
      ],
      "metadata": {
        "id": "eLN54pbhEyEv",
        "outputId": "bf493e76-acdd-4f0f-cbbd-20dadd2383c6",
        "colab": {
          "base_uri": "https://localhost:8080/"
        }
      },
      "execution_count": 25,
      "outputs": [
        {
          "output_type": "execute_result",
          "data": {
            "text/plain": [
              "[0.5363357663154602,\n",
              " 0.3961579501628876,\n",
              " 0.3577246069908142,\n",
              " 0.3363279104232788,\n",
              " 0.32210850715637207]"
            ]
          },
          "metadata": {},
          "execution_count": 25
        }
      ]
    },
    {
      "cell_type": "code",
      "source": [
        "import matplotlib.pyplot as plt\n",
        "plt.plot(history.history['loss']) # 리스트를 plot 할 때 인덱스가 x축 → 0부터 시작\n",
        "plt.xlabel('epoch')\n",
        "plt.ylabel('loss')\n",
        "plt.show()"
      ],
      "metadata": {
        "id": "sUYXmaIEE8X6",
        "outputId": "41044c4f-3fca-4992-85bd-a32593037423",
        "colab": {
          "base_uri": "https://localhost:8080/",
          "height": 279
        }
      },
      "execution_count": 26,
      "outputs": [
        {
          "output_type": "display_data",
          "data": {
            "text/plain": [
              "<Figure size 432x288 with 1 Axes>"
            ],
            "image/png": "[encoded data removed]"
          },
          "metadata": {
            "needs_background": "light"
          }
        }
      ]
    },
    {
      "cell_type": "code",
      "source": [
        "plt.plot(history.history['accuracy']) # 리스트를 plot 할 때 인덱스가 x축 → 0부터 시작\n",
        "plt.xlabel('epoch')\n",
        "plt.ylabel('loss')\n",
        "plt.show()"
      ],
      "metadata": {
        "id": "rUCpoQ5OFKO7",
        "outputId": "8a5ba30f-5896-4fb5-ce5c-1ba5db6d19b7",
        "colab": {
          "base_uri": "https://localhost:8080/",
          "height": 279
        }
      },
      "execution_count": 27,
      "outputs": [
        {
          "output_type": "display_data",
          "data": {
            "text/plain": [
              "<Figure size 432x288 with 1 Axes>"
            ],
            "image/png": "[encoded data removed]"
          },
          "metadata": {
            "needs_background": "light"
          }
        }
      ]
    },
    {
      "cell_type": "code",
      "source": [
        "# epoch를 늘려서 훈련해보자(5 → 10회)\n",
        "model = model_fn()\n",
        "model.compile(loss='sparse_categorical_crossentropy', metrics='accuracy')\n",
        "history = model.fit(train_scaled, train_target, epochs=20, verbose=0)\n",
        "plt.plot(history.history['loss'])\n",
        "plt.xlabel('epoch')\n",
        "plt.ylabel('loss')\n",
        "plt.show()"
      ],
      "metadata": {
        "id": "Y7oYsQVRFsGm",
        "outputId": "979318fd-d88c-40fd-877f-5e2f99e1e597",
        "colab": {
          "base_uri": "https://localhost:8080/",
          "height": 279
        }
      },
      "execution_count": 28,
      "outputs": [
        {
          "output_type": "display_data",
          "data": {
            "text/plain": [
              "<Figure size 432x288 with 1 Axes>"
            ],
            "image/png": "[encoded data removed]"
          },
          "metadata": {
            "needs_background": "light"
          }
        }
      ]
    },
    {
      "cell_type": "markdown",
      "source": [
        "# 에포크에 대한 과대/과소적합 파악 : 훈련세트의 손실과 검증세트 손실 비교\n",
        " - 인공 신경망 모델에서 최적화 하는 대상은 정확도가 아닌 \"손실 함수\"\n",
        " - 손실 감소에 비례하여 정확도가 높아지지 않는 경우도 있음"
      ],
      "metadata": {
        "id": "5bFxBauVG_eU"
      }
    },
    {
      "cell_type": "code",
      "source": [
        "# 에포크마다 훈련세트의 손실과 정확도를 확인 할 수 있었다.\n",
        "# 모델 훈련시 검증세트도 validation_data 매개변수에 넣어 활용 할 수 있다.\n",
        "\n",
        "model = model_fn()\n",
        "model.compile(loss='sparse_categorical_crossentropy', metrics='accuracy')\n",
        "history = model.fit(train_scaled, train_target, epochs=20, verbose=0,\n",
        "                    validation_data=(val_scaled, val_target))"
      ],
      "metadata": {
        "id": "QHs6FXtDGTr0"
      },
      "execution_count": 29,
      "outputs": []
    },
    {
      "cell_type": "code",
      "source": [
        "history.history.keys() # 모델 훈련시 검증세트도 매개변수에 넣어 전달했더니 : 'val_loss', 'val_accuracy' 추가 됨"
      ],
      "metadata": {
        "id": "N30FVGxKIpUe",
        "outputId": "946e2c6e-cff8-4977-8abb-1a7373e11193",
        "colab": {
          "base_uri": "https://localhost:8080/"
        }
      },
      "execution_count": 30,
      "outputs": [
        {
          "output_type": "execute_result",
          "data": {
            "text/plain": [
              "dict_keys(['loss', 'accuracy', 'val_loss', 'val_accuracy'])"
            ]
          },
          "metadata": {},
          "execution_count": 30
        }
      ]
    },
    {
      "cell_type": "code",
      "source": [
        "plt.plot(history.history['loss'])\n",
        "plt.plot(history.history['val_loss'])\n",
        "plt.xlabel('epoch')\n",
        "plt.ylabel('loss')\n",
        "plt.legend(['train','val'])\n",
        "plt.show()"
      ],
      "metadata": {
        "id": "qFzYFy2lJ-DW",
        "outputId": "36eb6e4c-2793-4d39-958c-ab5d717a1b00",
        "colab": {
          "base_uri": "https://localhost:8080/",
          "height": 279
        }
      },
      "execution_count": 31,
      "outputs": [
        {
          "output_type": "display_data",
          "data": {
            "text/plain": [
              "<Figure size 432x288 with 1 Axes>"
            ],
            "image/png": "[encoded data removed]"
          },
          "metadata": {
            "needs_background": "light"
          }
        }
      ]
    },
    {
      "cell_type": "markdown",
      "source": [
        "훈련 손실은 꾸준히 감소 → 전형적인 과대적합 모델이 만들어짐\n",
        "\n",
        "검증 손실이 상승하는 시점을 가능한 뒤로 늦추면 → 검증세트에 대한 손실이 감소 + 검증세트에 대한 정확도 증가"
      ],
      "metadata": {
        "id": "5z6Y6xVxKiLx"
      }
    },
    {
      "cell_type": "markdown",
      "source": [
        "# 과대 적합을 막기 위한 신경망에 특화된 규제 방법\n",
        " - 하이퍼파라미터 중 **옵티마이저를 변경**하여 과대적합 완화 : RMSprop(defalut) → Adam(대중적)\n",
        " - **+ 옵티마이저 학습률 조절**\n",
        " - 드롭아웃 : 훈련과정에서 일부 뉴런을 꺼서(출력을 0으로 만들어) 특정 뉴런에 과대하게 의존하는 것을 줄여 안정적인 예측가능\n",
        " - **+ 드롭아웃할 뉴런 개수 조절**"
      ],
      "metadata": {
        "id": "j4c6rsI9MJ1S"
      }
    },
    {
      "cell_type": "markdown",
      "source": [
        "## Dropout() 클래스\n",
        "- 층처럼 사용되지만 훈련되는 파라미터는 없음\n",
        "- 드롭아웃은 모델 만들때 층으로 넣는다.\n",
        "- 훈련시에만 적용되고, 평가/예측시 적용되지 않는다 : 케라스가 자동으로 해줌"
      ],
      "metadata": {
        "id": "P9NGaIQhOWXX"
      }
    },
    {
      "cell_type": "code",
      "source": [
        "# Dropout 클래스로 드롭아웃 층 추가\n",
        "# 층처럼 사용되지만 훈련되는 파라미터는 없음\n",
        "\n",
        "model = model_fn(keras.layers.Dropout(0.3)) # 앞의 층의 출력을 30%만 랜덤하게 0으로 만듬\n",
        "model.summary()"
      ],
      "metadata": {
        "id": "kqk2lWUjLCJG",
        "outputId": "43be4355-f37f-4528-bf37-1490435e70c8",
        "colab": {
          "base_uri": "https://localhost:8080/"
        }
      },
      "execution_count": 32,
      "outputs": [
        {
          "output_type": "stream",
          "name": "stdout",
          "text": [
            "Model: \"sequential_4\"\n",
            "_________________________________________________________________\n",
            " Layer (type)                Output Shape              Param #   \n",
            "=================================================================\n",
            " flatten_4 (Flatten)         (None, 784)               0         \n",
            "                                                                 \n",
            " dense_8 (Dense)             (None, 100)               78500     \n",
            "                                                                 \n",
            " dropout_1 (Dropout)         (None, 100)               0         \n",
            "                                                                 \n",
            " dense_9 (Dense)             (None, 10)                1010      \n",
            "                                                                 \n",
            "=================================================================\n",
            "Total params: 79,510\n",
            "Trainable params: 79,510\n",
            "Non-trainable params: 0\n",
            "_________________________________________________________________\n"
          ]
        }
      ]
    },
    {
      "cell_type": "code",
      "source": [
        "# 모델에 드롭아웃 층을 추가 → 학습\n",
        "model.compile(optimizer='adam', loss='sparse_categorical_crossentropy', metrics='accuracy')\n",
        "history = model.fit(train_scaled, train_target, epochs=10, verbose=0,\n",
        "                    validation_data=(val_scaled, val_target))\n",
        "plt.plot(history.history['loss'])\n",
        "plt.plot(history.history['val_loss'])\n",
        "plt.xlabel('epoch')\n",
        "plt.ylabel('loss')\n",
        "plt.legend(['train','val'])\n",
        "plt.show()"
      ],
      "metadata": {
        "id": "zrLF0AP4OTDN",
        "outputId": "62d0893e-8877-4ba0-8f80-78cc389a2d89",
        "colab": {
          "base_uri": "https://localhost:8080/",
          "height": 279
        }
      },
      "execution_count": 33,
      "outputs": [
        {
          "output_type": "display_data",
          "data": {
            "text/plain": [
              "<Figure size 432x288 with 1 Axes>"
            ],
            "image/png": "[encoded data removed]"
          },
          "metadata": {
            "needs_background": "light"
          }
        }
      ]
    },
    {
      "cell_type": "markdown",
      "source": [
        "검증세트의 손실이 작고 에포크 증가에도 큰 증가 없음\n",
        "\n",
        "**epochs를 늘려서 검증세트의 손실이 올라간 상황에서 모델/파라미터를 저장했더니 정확도가 낮게 나옴 → epochs를 조절하여 최적의 상태로 저장해야함**"
      ],
      "metadata": {
        "id": "sSv74u3oQSEf"
      }
    },
    {
      "cell_type": "markdown",
      "source": [
        "# 모델 저장과 복원\n",
        " - 파라미터 저장 : save_weights() 메서드\n",
        " - 모델구조+파라미터 저장 : save() 메서드\n",
        " - 저장시 확장자가 '.h5'\n",
        "\n",
        "\n",
        " - 파라미터 복원 : load_wights() 메서드\n",
        " - 파라미터를 복원하여 사용하기 위해서는 모델구조가 동일해야 함"
      ],
      "metadata": {
        "id": "Hfie7Ky8QozL"
      }
    },
    {
      "cell_type": "code",
      "source": [
        "# 파라미터 저장\n",
        "model.save_weights('model-weights.h5')\n",
        "# 모델 구조 + 파라미터 저장\n",
        "model.save('model-whole.h5')"
      ],
      "metadata": {
        "id": "h-YGMLNZN_I_"
      },
      "execution_count": 34,
      "outputs": []
    },
    {
      "cell_type": "markdown",
      "source": [
        "## 복원하여 검증\n",
        " - 1. 모델생성(훈련X) + 저장된 파라미터 불러오기\n",
        " -  → 검증 : predict() \n",
        " \n",
        " - 2. 저장된 모델구조(훈련O) 불러오기\n",
        " -  → 검증 : evaluate(), 이미 \bfit()/compile() 되었기 때문에 사용 가능"
      ],
      "metadata": {
        "id": "Yoam2Hi7Il_P"
      }
    },
    {
      "cell_type": "code",
      "source": [
        "# 1. 훈련하지 않은 새로운 모델 + 저장된 파라미터를 복원\n",
        "model = model_fn(keras.layers.Dropout(0.3))\n",
        "model.load_weights('model-weights.h5') # 생성된 모델에 파라미터를 붙이는방식"
      ],
      "metadata": {
        "id": "_UbYT7HLCcZD"
      },
      "execution_count": 35,
      "outputs": []
    },
    {
      "cell_type": "code",
      "source": [
        "# 2. 모델의 검증 정확도 확인 : predict()\n",
        "## evaluate()를 하려면 predict() → compile()을 진행한 후 → evaluate() 해야함\n",
        "# 사이킷런과 달리 샘플마다 10개의 클래스에 대한 확률 반환(다중 분류이기 때문)\n",
        "import numpy as np\n",
        "model.predict(val_scaled).shape # (12000, 10)\n",
        "val_labels = np.argmax(model.predict(val_scaled), axis=1) # armax(array, axis=1) : 배열의 특정 축을 기준으로 가장 큰값을 갖는 인덱스를 찾는 메서드\n",
        "val_labels # array([1, 8, 8, ..., 8, 1, 8])\n",
        "np.mean(val_labels == val_target)"
      ],
      "metadata": {
        "id": "VisWCWjGDvVQ",
        "outputId": "1ff7bbf4-088d-4027-a660-d8e242dd97fd",
        "colab": {
          "base_uri": "https://localhost:8080/"
        }
      },
      "execution_count": 36,
      "outputs": [
        {
          "output_type": "execute_result",
          "data": {
            "text/plain": [
              "0.8795"
            ]
          },
          "metadata": {},
          "execution_count": 36
        }
      ]
    },
    {
      "cell_type": "code",
      "source": [
        "# 3. 모델 전체를 파일에서 읽은 다음 검증세트의 정확도 확인 : evaluate()\n",
        "model = keras.models.load_model('model-whole.h5') # keras에서 모델전체를 읽어오는 방식\n",
        "model.evaluate(val_scaled, val_target)"
      ],
      "metadata": {
        "id": "A11YR-tFFGuu",
        "outputId": "b9d09ad4-0e77-417c-8e3c-1e477cd74b3a",
        "colab": {
          "base_uri": "https://localhost:8080/"
        }
      },
      "execution_count": 37,
      "outputs": [
        {
          "output_type": "stream",
          "name": "stdout",
          "text": [
            "375/375 [==============================] - 1s 3ms/step - loss: 0.3277 - accuracy: 0.8795\n"
          ]
        },
        {
          "output_type": "execute_result",
          "data": {
            "text/plain": [
              "[0.32770252227783203, 0.8794999718666077]"
            ]
          },
          "metadata": {},
          "execution_count": 37
        }
      ]
    },
    {
      "cell_type": "markdown",
      "source": [
        "# 콜백\n",
        "\n",
        "사용 이유\n",
        "\n",
        "1. 20번의 에포크 동안 모델을 훈련하며 검증세트의 손실함수가 감소→증가하는 지점을 확인함\n",
        "2. 손실함수가 증가하거나/모델이 과대적합 되지 않는 에포크만큼 낮추어 다시 훈련해야 했음\n",
        "3. 이처럼 모델을 두번씩 훈련하지 않고 한번에 끝낼 수 있음\n",
        "\n",
        "특징\n",
        "\n",
        " - 훈련 과정 중간에 특정 작업을 수행할 수 있게 하는 객체\n",
        " - keras.callbacks 패키지 아래에 있는 클래스들\n",
        " - fit() 메서드의 callbacks 매개변수에 리스트로 전달\n",
        " - ModelCheckpoint() 콜백 클래스는 에포크마다 모델을 저장\n",
        " "
      ],
      "metadata": {
        "id": "YTYGapdVKFhx"
      }
    },
    {
      "cell_type": "code",
      "source": [
        "model = model_fn(keras.layers.Dropout(0.3))\n",
        "model.compile(optimizer='adam', loss='sparse_categorical_crossentropy',\n",
        "              metrics='accuracy')\n",
        "checkpoint_cb = keras.callbacks.ModelCheckpoint('best-model.h5',\n",
        "                                                save_best_only=True)\n",
        "model.fit(train_scaled, train_target, epochs=20, verbose=0,\n",
        "          validation_data=(val_scaled, val_target),\n",
        "          callbacks=[checkpoint_cb])"
      ],
      "metadata": {
        "id": "4rMAmB5hIei4",
        "outputId": "dd891dfe-7a13-4e4f-950b-9e301d1d2f29",
        "colab": {
          "base_uri": "https://localhost:8080/"
        }
      },
      "execution_count": 38,
      "outputs": [
        {
          "output_type": "execute_result",
          "data": {
            "text/plain": [
              "<keras.callbacks.History at 0x7f4c4d1307d0>"
            ]
          },
          "metadata": {},
          "execution_count": 38
        }
      ]
    },
    {
      "cell_type": "code",
      "source": [
        "model = keras.models.load_model('best-model.h5')\n",
        "model.evaluate(val_scaled, val_target)"
      ],
      "metadata": {
        "id": "NgpFP_cEL-FN",
        "outputId": "845ed8ab-47ef-4172-89dc-df9988104571",
        "colab": {
          "base_uri": "https://localhost:8080/"
        }
      },
      "execution_count": 39,
      "outputs": [
        {
          "output_type": "stream",
          "name": "stdout",
          "text": [
            "375/375 [==============================] - 1s 3ms/step - loss: 0.3175 - accuracy: 0.8865\n"
          ]
        },
        {
          "output_type": "execute_result",
          "data": {
            "text/plain": [
              "[0.3175104558467865, 0.8865000009536743]"
            ]
          },
          "metadata": {},
          "execution_count": 39
        }
      ]
    },
    {
      "cell_type": "markdown",
      "source": [
        "## ModelCheckpoint 콜백이 가장 낮은 점수의 모델을 자동으로 저장해줌\n",
        "\n",
        "문제점\n",
        " - 검증세트의 손실함수가 상승하기 시작하면 그 이후에는 과대적합이 더 커짐\n",
        " - 더이상 훈련을 계속할 필요가 없으나 정해진 에포크 만큼 훈련이 계속됨\n",
        " - 컴퓨터 자원과 시간의 낭비\n",
        "\n",
        "대책\n",
        " - 조기종료 : 에포크 횟수를 제한(=과대적합을 방지)\n",
        " - 조기종료를 위한 콜백 : **EarlyStopping 콜백**"
      ],
      "metadata": {
        "id": "NTplRsPdNC-N"
      }
    },
    {
      "cell_type": "markdown",
      "source": [
        "## EarlyStopping 콜백\n",
        " - patience 매개변수 : 검증세트의 손실이 커지지 않더라도 참을 에포크 횟수\n",
        " - restore_best_weights 매개변수 : True로 지정하면 가장 낮은 검증 손실을 낸 모델 파라미터로 되돌림\n",
        " - EarlyStopping + ModelCheckpoint 콜백을 함께사용\n",
        " >가장 낮은 검증 손실 모델을 저장(ModelCheckpoint콜백의 기능)\n",
        "\n",
        " >검증 손실이 다시 상승할때 훈련 중지(EarlyStopping 콜백의 기능)\n",
        "\n",
        " >훈련 중지 후 현재 모델의 파라미터를 최상의 파라미터로 갱신(EarlyStopping 콜백의 기능)"
      ],
      "metadata": {
        "id": "t63GIPeEO3e_"
      }
    },
    {
      "cell_type": "code",
      "source": [
        "model = model_fn(keras.layers.Dropout(0.3))\n",
        "model.compile(optimizer='adam', loss='sparse_categorical_crossentropy',\n",
        "              metrics='accuracy')\n",
        "# 가장 낮은 검증 손실의 모델을 파일에 저장\n",
        "checkpoint_cb = keras.callbacks.ModelCheckpoint('best-model.h5',\n",
        "                                                save_best_only=True)\n",
        "# 검증 손실이 다시 상승할떄(2번 연속 상승시 까지 참고) 중지, 가장 낮은 검증 손실시의 파라미터로 갱신\n",
        "early_stopping_cb = keras.callbacks.EarlyStopping(patience=2,\n",
        "                                                  restore_best_weights=True)\n",
        "model.fit(train_scaled, train_target, epochs=20, verbose=0,\n",
        "          validation_data=(val_scaled, val_target),\n",
        "          callbacks=[checkpoint_cb, early_stopping_cb])"
      ],
      "metadata": {
        "id": "59qmELNbMzA8",
        "outputId": "0f0ad24d-abf3-4469-a78f-7f49c6715aed",
        "colab": {
          "base_uri": "https://localhost:8080/"
        }
      },
      "execution_count": 40,
      "outputs": [
        {
          "output_type": "execute_result",
          "data": {
            "text/plain": [
              "<keras.callbacks.History at 0x7f4c4cd30190>"
            ]
          },
          "metadata": {},
          "execution_count": 40
        }
      ]
    },
    {
      "cell_type": "code",
      "source": [
        "# 몇 번째 에포크에서 훈련이 중지 되었나\n",
        "early_stopping_cb.stopped_epoch # stopped_epoch 속성\n",
        "# 에포크 횟수는 0부터 시작하므로 6은 7번째 에포크에서 훈련이 중지되었음을 의미\n",
        "# patiencs를 2로 지정했으므로 최상의 모델은 5번째 에포크일 것"
      ],
      "metadata": {
        "id": "0461r6DbQ9PH",
        "outputId": "99a2ba57-05b3-485c-886d-028a800b38d5",
        "colab": {
          "base_uri": "https://localhost:8080/"
        }
      },
      "execution_count": 44,
      "outputs": [
        {
          "output_type": "execute_result",
          "data": {
            "text/plain": [
              "6"
            ]
          },
          "metadata": {},
          "execution_count": 44
        }
      ]
    },
    {
      "cell_type": "code",
      "source": [
        "import matplotlib.pyplot as plt\n",
        "plt.plot(history.history['loss'])\n",
        "plt.plot(history.history['val_loss'])\n",
        "plt.xlabel('epoch')\n",
        "plt.ylabel('loss')\n",
        "plt.legend(['train','val'])\n",
        "plt.show()"
      ],
      "metadata": {
        "id": "zzgFK__rSLue",
        "outputId": "1ac056a1-80a4-4eb1-a966-1f774d5d9e26",
        "colab": {
          "base_uri": "https://localhost:8080/",
          "height": 279
        }
      },
      "execution_count": 43,
      "outputs": [
        {
          "output_type": "display_data",
          "data": {
            "text/plain": [
              "<Figure size 432x288 with 1 Axes>"
            ],
            "image/png": "[encoded data removed]"
          },
          "metadata": {
            "needs_background": "light"
          }
        }
      ]
    },
    {
      "cell_type": "code",
      "source": [
        "# 조기 종료로 얻은 모델을 사용해 검증 세트에 대한 성능 확인\n",
        "model.evaluate(val_scaled, val_target)"
      ],
      "metadata": {
        "id": "9Od8uZtOVH9f",
        "outputId": "87b96434-f3bd-4150-c568-c03193d4f288",
        "colab": {
          "base_uri": "https://localhost:8080/"
        }
      },
      "execution_count": 46,
      "outputs": [
        {
          "output_type": "stream",
          "name": "stdout",
          "text": [
            "375/375 [==============================] - 1s 4ms/step - loss: 0.3427 - accuracy: 0.8747\n"
          ]
        },
        {
          "output_type": "execute_result",
          "data": {
            "text/plain": [
              "[0.34268712997436523, 0.874666690826416]"
            ]
          },
          "metadata": {},
          "execution_count": 46
        }
      ]
    }
  ],
  "metadata": {
    "colab": {
      "collapsed_sections": [],
      "name": "Colaboratory에 오신 것을 환영합니다",
      "provenance": [],
      "include_colab_link": true
    },
    "kernelspec": {
      "display_name": "Python 3",
      "name": "python3"
    },
    "accelerator": "GPU"
  },
  "nbformat": 4,
  "nbformat_minor": 0
}