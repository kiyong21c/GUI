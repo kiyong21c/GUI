{
  "cells": [
    {
      "cell_type": "markdown",
      "metadata": {
        "id": "view-in-github",
        "colab_type": "text"
      },
      "source": [
        "<a href=\"https://colab.research.google.com/github/kiyong21c/nadocoding/blob/master/20220523_CNN.ipynb\" target=\"_parent\"><img src=\"https://colab.research.google.com/assets/colab-badge.svg\" alt=\"Open In Colab\"/></a>"
      ]
    },
    {
      "cell_type": "markdown",
      "source": [
        "# 합성곱 신경망\n",
        " - 합성곱 신경망 필터는 이미지의 특징을 찾는다\n",
        " - 처음에는 기본적 특징(직선, 곡선) → 층이 깊어질수록 다양하고 구체적인 특징 감지\n",
        " - 어떤 특징이 이미지의 어느 위치에 놓이더라도 쉽게 감지 할 수 있도록 너비, 높이 차원을 줄여나간다"
      ],
      "metadata": {
        "id": "JZHKlNADvQni"
      }
    },
    {
      "cell_type": "markdown",
      "source": [
        "## 풀링\n",
        "풀링 사용이유\n",
        "\n",
        " - 합성곱에서 스트라이드를 크게하여 특성맵을 줄이는것보다\n",
        " - 풀링층에서 크기를 줄이는 것이 경험적으로 나은 성능을 냄\n",
        "\n",
        "\n",
        "풀링의 특징\n",
        " \n",
        " - 가중치가 없다\n",
        " - 패딩이 없다\n",
        " - 특성 맵의 개수는 변하지 않고 그대로 : (4,4,3) → (2,2,3)\n",
        " - 풀링크기(2,2)와 스트라이드(가로세로 2칸씩)가 같다\n",
        " - 매개변수 2가지(대부분 기본값 사용) : strides=2, padding='valid'\n",
        "\n",
        " keras.layers.Maxpooling2D(2, strides=2, padding='valid')"
      ],
      "metadata": {
        "id": "kiuEXBLii10-"
      }
    },
    {
      "cell_type": "markdown",
      "source": [
        "## 컬러 이미지를 사용한 합성곱\n",
        " - 컬러이미지는 너비, 높이 차원 외에 깊이 차원(또는 채널 차원)이 있음\n",
        " - 필터의(=커널) 배열의 깊이는 항상 입력의 깊이와 같다\n",
        " - **케라스의 합성곱 층은 항상 깊이(채널) 차원 입력을 기대한다.**\n",
        " - 즉, **흑백이미지일 경우 깊이 차원이 1인 3차원 배열로 변환하여 전달**"
      ],
      "metadata": {
        "id": "l_rZLkAjt2v8"
      }
    },
    {
      "cell_type": "code",
      "source": [
        "# 흑백이미지는 2차원 배열 이지만 Conv2D 층을 사용하기 위해 마지막엥 채널 차원을 추가\n",
        "from tensorflow import keras\n",
        "from sklearn.model_selection import train_test_split\n",
        "(train_input, train_target), (test_input, test_target) = keras.datasets.fashion_mnist.load_data()\n",
        "# (60,000, 28, 28) → (60,000, 28, 28, 1)\n",
        "train_scaled = train_input.reshape(-1,28,28,1) / 255.0\n",
        "train_scaled, val_scaled, train_target, val_target = train_test_split(train_scaled, train_target, test_size=0.2, random_state=42)\n"
      ],
      "metadata": {
        "id": "A413Pdmws4Ks",
        "outputId": "077fe286-cadf-44db-a896-e011cb2363c5",
        "colab": {
          "base_uri": "https://localhost:8080/"
        }
      },
      "execution_count": 1,
      "outputs": [
        {
          "output_type": "stream",
          "name": "stdout",
          "text": [
            "Downloading data from https://storage.googleapis.com/tensorflow/tf-keras-datasets/train-labels-idx1-ubyte.gz\n",
            "32768/29515 [=================================] - 0s 0us/step\n",
            "40960/29515 [=========================================] - 0s 0us/step\n",
            "Downloading data from https://storage.googleapis.com/tensorflow/tf-keras-datasets/train-images-idx3-ubyte.gz\n",
            "26427392/26421880 [==============================] - 0s 0us/step\n",
            "26435584/26421880 [==============================] - 0s 0us/step\n",
            "Downloading data from https://storage.googleapis.com/tensorflow/tf-keras-datasets/t10k-labels-idx1-ubyte.gz\n",
            "16384/5148 [===============================================================================================] - 0s 0us/step\n",
            "Downloading data from https://storage.googleapis.com/tensorflow/tf-keras-datasets/t10k-images-idx3-ubyte.gz\n",
            "4423680/4422102 [==============================] - 0s 0us/step\n",
            "4431872/4422102 [==============================] - 0s 0us/step\n"
          ]
        }
      ]
    },
    {
      "cell_type": "code",
      "source": [
        "train_input.shape"
      ],
      "metadata": {
        "id": "QqfCK5z37Gq4",
        "outputId": "759f7498-b2bd-4701-aee2-d639f4384950",
        "colab": {
          "base_uri": "https://localhost:8080/"
        }
      },
      "execution_count": 2,
      "outputs": [
        {
          "output_type": "execute_result",
          "data": {
            "text/plain": [
              "(60000, 28, 28)"
            ]
          },
          "metadata": {},
          "execution_count": 2
        }
      ]
    },
    {
      "cell_type": "code",
      "source": [
        "train_scaled.shape"
      ],
      "metadata": {
        "id": "UzvzHiU87KUE",
        "outputId": "9d79d847-e359-496e-a3eb-fa5b4a1d1385",
        "colab": {
          "base_uri": "https://localhost:8080/"
        }
      },
      "execution_count": 3,
      "outputs": [
        {
          "output_type": "execute_result",
          "data": {
            "text/plain": [
              "(48000, 28, 28, 1)"
            ]
          },
          "metadata": {},
          "execution_count": 3
        }
      ]
    },
    {
      "cell_type": "markdown",
      "source": [
        "# 합성곱 신경망 만들기"
      ],
      "metadata": {
        "id": "W2IfuA-C7lFa"
      }
    },
    {
      "cell_type": "code",
      "source": [
        "model = keras.Sequential() # 모델 생성(인스턴스)\n",
        "model.add(keras.layers.Conv2D(32, kernel_size=3, activation='relu', padding='same', input_shape=(28,28,1)))\n",
        "# 32개의 필터 사용, 커널의 크기 (3, 3), 렐루 활성화 함수, 세임 패딩, 입력 차원 지정\n",
        "# → 특성맵의 크기 (28,28,32)"
      ],
      "metadata": {
        "id": "MnZP8rpR7NNC"
      },
      "execution_count": 7,
      "outputs": []
    },
    {
      "cell_type": "code",
      "source": [
        "model.add(keras.layers.MaxPooling2D(2))\n",
        "# 일반적인 풀링크기인 (2,2) 형태 : 가로세로 크기가 같으면 정수 하나로 지정\n",
        "# → 특성맵의 크기 (14,14,32)"
      ],
      "metadata": {
        "id": "uqTCE6cU8QiW"
      },
      "execution_count": 8,
      "outputs": []
    },
    {
      "cell_type": "code",
      "source": [
        "# 합성곱-풀링 층 추가\n",
        "model.add(keras.layers.Conv2D(64, kernel_size=3, activation='relu', padding='same'))\n",
        "model.add(keras.layers.MaxPooling2D(2))\n",
        "# → 특성맵의 크기 (7,7,64)"
      ],
      "metadata": {
        "id": "r4yseuNa8cQt"
      },
      "execution_count": 9,
      "outputs": []
    },
    {
      "cell_type": "code",
      "source": [
        "# 일렬로 펼치기(Flatten층) → 은닉층(Dense층) 추가 → 드롭아웃 → 출력층(Dense층)\n",
        "model.add(keras.layers.Flatten())\n",
        "model.add(keras.layers.Dense(100, activation='relu'))\n",
        "model.add(keras.layers.Dropout(0.4))\n",
        "model.add(keras.layers.Dense(10, activation='softmax'))\n",
        "# 패션MNIST 데이터셋은 클래스10개를 분류하는 다중분류 문제이므로 : 마지막 층의 활성화 함수는 softmax"
      ],
      "metadata": {
        "id": "d0cN04jM9mtC"
      },
      "execution_count": 10,
      "outputs": []
    },
    {
      "cell_type": "code",
      "source": [
        "model.summary()"
      ],
      "metadata": {
        "id": "pALbWL_V-mv-",
        "outputId": "b13479c3-e8ae-4f7e-9ce1-392a29ecc85a",
        "colab": {
          "base_uri": "https://localhost:8080/"
        }
      },
      "execution_count": 11,
      "outputs": [
        {
          "output_type": "stream",
          "name": "stdout",
          "text": [
            "Model: \"sequential_1\"\n",
            "_________________________________________________________________\n",
            " Layer (type)                Output Shape              Param #   \n",
            "=================================================================\n",
            " conv2d_1 (Conv2D)           (None, 28, 28, 32)        320       \n",
            "                                                                 \n",
            " max_pooling2d_1 (MaxPooling  (None, 14, 14, 32)       0         \n",
            " 2D)                                                             \n",
            "                                                                 \n",
            " conv2d_2 (Conv2D)           (None, 14, 14, 64)        18496     \n",
            "                                                                 \n",
            " max_pooling2d_2 (MaxPooling  (None, 7, 7, 64)         0         \n",
            " 2D)                                                             \n",
            "                                                                 \n",
            " flatten_1 (Flatten)         (None, 3136)              0         \n",
            "                                                                 \n",
            " dense_2 (Dense)             (None, 100)               313700    \n",
            "                                                                 \n",
            " dropout_1 (Dropout)         (None, 100)               0         \n",
            "                                                                 \n",
            " dense_3 (Dense)             (None, 10)                1010      \n",
            "                                                                 \n",
            "=================================================================\n",
            "Total params: 333,526\n",
            "Trainable params: 333,526\n",
            "Non-trainable params: 0\n",
            "_________________________________________________________________\n"
          ]
        }
      ]
    },
    {
      "cell_type": "markdown",
      "source": [
        "모델 파라미터 개수 확인\n",
        " - 첫번째 합성곱 층 : 32개의 필터, 커널의크기(3,3), 깊이 1, 필터 마다 하나의 절편\n",
        " - 즉, 3 X 3 X 1 X 32 + 32 = 320개 파라미터\n",
        "\n",
        "\n",
        " - 두번째 합성곱 층 : 64개의 필터, 커널의 크기(3,3), 깊이 32, 필터 마다 하나의 절편\n",
        " - 즉, 3 X 3 X 32 X 64 + 64 = 18,496개의 파라미터\n",
        "\n",
        "\n",
        " - 은닉층 : (7,7,64) 크기의 특성맵을 1차원 배열로 펼친후 100개의 뉴런과 완전연결\n",
        " - 즉, 3136 X 100 + 100 = 313,700개의 파라미터\n"
      ],
      "metadata": {
        "id": "_55Pij6L_as9"
      }
    },
    {
      "cell_type": "code",
      "source": [
        "# keras.utils 패키지의 plot_model() 함수\n",
        "keras.utils.plot_model(model) # summary() 메서드 외에 층의 구성을 그림으로 표현"
      ],
      "metadata": {
        "id": "QbfplGvd-qY0",
        "outputId": "0776048b-3b19-474b-b466-90a99cfff684",
        "colab": {
          "base_uri": "https://localhost:8080/",
          "height": 856
        }
      },
      "execution_count": 12,
      "outputs": [
        {
          "output_type": "execute_result",
          "data": {
            "text/plain": [
              "<IPython.core.display.Image object>"
            ],
            "image/png": "[encoded data removed]"
          },
          "metadata": {},
          "execution_count": 12
        }
      ]
    },
    {
      "cell_type": "code",
      "source": [
        ""
      ],
      "metadata": {
        "id": "eyOi3S-7D6-k"
      },
      "execution_count": null,
      "outputs": []
    }
  ],
  "metadata": {
    "colab": {
      "collapsed_sections": [],
      "name": "Colaboratory에 오신 것을 환영합니다",
      "provenance": [],
      "include_colab_link": true
    },
    "kernelspec": {
      "display_name": "Python 3",
      "name": "python3"
    }
  },
  "nbformat": 4,
  "nbformat_minor": 0
}