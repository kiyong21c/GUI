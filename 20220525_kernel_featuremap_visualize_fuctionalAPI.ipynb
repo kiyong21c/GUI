{
  "nbformat": 4,
  "nbformat_minor": 0,
  "metadata": {
    "colab": {
      "name": "Untitled2.ipynb",
      "provenance": [],
      "authorship_tag": "ABX9TyOUeZYDuR6fkxsHlvaDkXsJ",
      "include_colab_link": true
    },
    "kernelspec": {
      "name": "python3",
      "display_name": "Python 3"
    },
    "language_info": {
      "name": "python"
    },
    "accelerator": "GPU"
  },
  "cells": [
    {
      "cell_type": "markdown",
      "metadata": {
        "id": "view-in-github",
        "colab_type": "text"
      },
      "source": [
        "<a href=\"https://colab.research.google.com/github/kiyong21c/nadocoding/blob/master/20220525_kernel_featuremap_visualize_fuctionalAPI.ipynb\" target=\"_parent\"><img src=\"https://colab.research.google.com/assets/colab-badge.svg\" alt=\"Open In Colab\"/></a>"
      ]
    },
    {
      "cell_type": "markdown",
      "source": [
        "# 합성곱 신경망의 시각화\n",
        " - 합성곱 신경망은 이미지의 특징을 찾아서 압축하는데 효과적"
      ],
      "metadata": {
        "id": "a-etDpBiyvj2"
      }
    },
    {
      "cell_type": "markdown",
      "source": [
        "## 가중치 시각화\n",
        " - 일반적으로 절편은 시각적으로 의미가 있지 않음\n",
        " - 가중치는 입력 이미지의 어떤 특징을 두드러지게 표현하는 역할"
      ],
      "metadata": {
        "id": "PDGc8P0qzL-2"
      }
    },
    {
      "cell_type": "code",
      "execution_count": 2,
      "metadata": {
        "id": "rsXHj3Tuys5Z"
      },
      "outputs": [],
      "source": [
        "from tensorflow import keras\n",
        "model = keras.models.load_model('best-cnn-model.h5')\n",
        "# /content 폴더에 저장되고, /content 폴더에 저장되어 있어야 불러올수 있다"
      ]
    },
    {
      "cell_type": "code",
      "source": [
        "model.layers # layers 속성에 저장된 [층, 층, 층...]"
      ],
      "metadata": {
        "colab": {
          "base_uri": "https://localhost:8080/"
        },
        "id": "v_uQRHthzoOZ",
        "outputId": "ffbb0772-dd72-4a67-f80e-10111c50dac7"
      },
      "execution_count": 3,
      "outputs": [
        {
          "output_type": "execute_result",
          "data": {
            "text/plain": [
              "[<keras.layers.convolutional.Conv2D at 0x7f81bdcedf50>,\n",
              " <keras.layers.pooling.MaxPooling2D at 0x7f81bf08b750>,\n",
              " <keras.layers.convolutional.Conv2D at 0x7f81b020f750>,\n",
              " <keras.layers.pooling.MaxPooling2D at 0x7f81b018be50>,\n",
              " <keras.layers.core.flatten.Flatten at 0x7f81b0190510>,\n",
              " <keras.layers.core.dense.Dense at 0x7f81b0190d10>,\n",
              " <keras.layers.core.dropout.Dropout at 0x7f81b0190e90>,\n",
              " <keras.layers.core.dense.Dense at 0x7f81b020fb90>]"
            ]
          },
          "metadata": {},
          "execution_count": 3
        }
      ]
    },
    {
      "cell_type": "code",
      "source": [
        "conv = model.layers[0] # 합성곱 층\n",
        "print(conv.weights[0].shape, conv.weights[1].shape) # weights 속성에 저장된 [가중치, 절편] "
      ],
      "metadata": {
        "colab": {
          "base_uri": "https://localhost:8080/"
        },
        "id": "9VaWHJV12twK",
        "outputId": "49309efc-f9a0-4fe7-d131-eca23d28206a"
      },
      "execution_count": 4,
      "outputs": [
        {
          "output_type": "stream",
          "name": "stdout",
          "text": [
            "(3, 3, 1, 32) (32,)\n"
          ]
        }
      ]
    },
    {
      "cell_type": "markdown",
      "source": [
        "- 커널 크기를 (3,3) 지정, keras 합성곱 층에 전달되는 입력은 깊이(1)를 가지므로 실제 커널 크기는 (3,3,1) 또 필터 개수가 32개 이므로 가중치 크기는 (3,3,1,32)\n",
        "- 필터마다 1개의 절편이 있으므로 (32,)\n",
        "- wights속성은 텐서플로의 다차원 배열인 Tensor 클래스의 객체"
      ],
      "metadata": {
        "id": "vhH4ZLSf30H2"
      }
    },
    {
      "cell_type": "code",
      "source": [
        "conv_weights = conv.weights[0].numpy() # 다루기 쉽도록 배열 변경 : Tensor → array\n",
        "print(conv_weights.mean(), conv_weights.std())"
      ],
      "metadata": {
        "colab": {
          "base_uri": "https://localhost:8080/"
        },
        "id": "5b6498kI3NKE",
        "outputId": "baf5cf90-d5a6-4a10-bfe1-f0bf5b40a1fc"
      },
      "execution_count": 5,
      "outputs": [
        {
          "output_type": "stream",
          "name": "stdout",
          "text": [
            "-0.020665165 0.22895478\n"
          ]
        }
      ]
    },
    {
      "cell_type": "markdown",
      "source": [
        "- 가중치의 평균값과 표준편차를 구하여 어떤 분포를 가졌는지 확인(히스토그램)"
      ],
      "metadata": {
        "id": "zuy0Hb8K4wgQ"
      }
    },
    {
      "cell_type": "code",
      "source": [
        "import matplotlib.pyplot as plt\n",
        "plt.hist(conv_weights.reshape(-1,1)) # hist()함수는 1차원 배열이 필요함 → 1개의 열이 있는 배열로 변환\n",
        "plt.xlabel('weight')\n",
        "plt.ylabel('count')\n",
        "plt.show()"
      ],
      "metadata": {
        "colab": {
          "base_uri": "https://localhost:8080/",
          "height": 279
        },
        "id": "q9KrlDui4rf2",
        "outputId": "d10694ec-8150-475b-fd1a-fe0cffc1df46"
      },
      "execution_count": 6,
      "outputs": [
        {
          "output_type": "display_data",
          "data": {
            "text/plain": [
              "<Figure size 432x288 with 1 Axes>"
            ],
            "image/png": "[encoded data removed]"
          },
          "metadata": {
            "needs_background": "light"
          }
        }
      ]
    },
    {
      "cell_type": "markdown",
      "source": [
        " - 0을 중심으로 종 모양 분포"
      ],
      "metadata": {
        "id": "e5RHn84J5giz"
      }
    },
    {
      "cell_type": "code",
      "source": [
        "# 32개의 커널을 16개씩 두줄에 출력\n",
        "fig, axs = plt.subplots(2, 16, figsize=(15,2)) \n",
        "for i in range(2): # 행 : 1행에 16열 → 2행 16열 순서이므로\n",
        "    for j in range(16): # 열\n",
        "        axs[i, j].imshow(conv_weights[:,:,0,i*16+j], vmin=-0.5, vmax=0.5)\n",
        "        # conv_weights는 커널이며 (3,3,1,32)\n",
        "        axs[i, j].axis('off')\n",
        "plt.show()"
      ],
      "metadata": {
        "colab": {
          "base_uri": "https://localhost:8080/",
          "height": 134
        },
        "id": "lOKGvOxj5UWi",
        "outputId": "27d5439b-8bde-4314-d6c0-811d64b562e4"
      },
      "execution_count": 7,
      "outputs": [
        {
          "output_type": "display_data",
          "data": {
            "text/plain": [
              "<Figure size 1080x144 with 32 Axes>"
            ],
            "image/png": "[encoded data removed]"
          },
          "metadata": {
            "needs_background": "light"
          }
        }
      ]
    },
    {
      "cell_type": "markdown",
      "source": [
        "- 밝은 부분의 픽셀이 값이 높다"
      ],
      "metadata": {
        "id": "1NmU7cZ076Ek"
      }
    },
    {
      "cell_type": "markdown",
      "source": [
        "훈련전/후의 가중치가 어떻게 다른지 확인해 보자"
      ],
      "metadata": {
        "id": "iuwbO2fu8PuR"
      }
    },
    {
      "cell_type": "code",
      "source": [
        "no_training_model = keras.Sequential()\n",
        "no_training_model.add(keras.layers.Conv2D(32, kernel_size=3, activation=\\\n",
        "                                          'relu', padding='same', input_shape=(28,28,1)))"
      ],
      "metadata": {
        "id": "g9SdN9w26pw9"
      },
      "execution_count": 8,
      "outputs": []
    },
    {
      "cell_type": "code",
      "source": [
        "no_training_conv = no_training_model.layers[0] # 합성곱 층\n",
        "no_training_weights = no_training_conv.weights[0].numpy() # 합성곱 층의 가중치를 array로\n",
        "print(no_training_weights.mean(), no_training_weights.std())"
      ],
      "metadata": {
        "colab": {
          "base_uri": "https://localhost:8080/"
        },
        "id": "nUC4zWrD8mn6",
        "outputId": "98d1066c-7ebf-46e9-a9b6-3bf3ad368f4a"
      },
      "execution_count": 9,
      "outputs": [
        {
          "output_type": "stream",
          "name": "stdout",
          "text": [
            "-0.003479021 0.08425633\n"
          ]
        }
      ]
    },
    {
      "cell_type": "markdown",
      "source": [
        "- 평균은 훈련후와 비슷하게 0에 가깝지만 표준편차는 매우 작다"
      ],
      "metadata": {
        "id": "C_9EENT09ZVE"
      }
    },
    {
      "cell_type": "code",
      "source": [
        "plt.hist(no_training_weights.reshape(-1,1))\n",
        "plt.xlabel('weight')\n",
        "plt.ylabel('count')\n",
        "plt.show()"
      ],
      "metadata": {
        "colab": {
          "base_uri": "https://localhost:8080/",
          "height": 279
        },
        "id": "G9PEFYpu9QsS",
        "outputId": "44c45b89-1b5d-4794-82fb-ec086826f321"
      },
      "execution_count": 10,
      "outputs": [
        {
          "output_type": "display_data",
          "data": {
            "text/plain": [
              "<Figure size 432x288 with 1 Axes>"
            ],
            "image/png": "[encoded data removed]"
          },
          "metadata": {
            "needs_background": "light"
          }
        }
      ]
    },
    {
      "cell_type": "markdown",
      "source": [
        "- 대부분 가중치가 -0.15 ~ 0.15 사이에 고르게 분포\n",
        "- **텐서플로가 신경망의 가중치를 처음 초기화할 때 균등 분포에서 랜덤하게 값을 선택함**"
      ],
      "metadata": {
        "id": "eGMdttSI9vwP"
      }
    },
    {
      "cell_type": "code",
      "source": [
        "# 32개의 커널을 16개씩 두줄에 출력\n",
        "fig, axs = plt.subplots(2, 16, figsize=(15,2)) \n",
        "for i in range(2): # 행 : 1행에 16열 → 2행 16열 순서이므로\n",
        "    for j in range(16): # 열\n",
        "        axs[i, j].imshow(no_training_weights[:,:,0,i*16+j], vmin=-0.5, vmax=0.5)\n",
        "        # no_training_weights는 커널이며 (3,3,1,32)\n",
        "        axs[i, j].axis('off')\n",
        "plt.show()"
      ],
      "metadata": {
        "colab": {
          "base_uri": "https://localhost:8080/",
          "height": 134
        },
        "id": "vzmw68Iu9nRv",
        "outputId": "6c3662ff-302d-4b83-95c7-0cf06f43e53d"
      },
      "execution_count": 11,
      "outputs": [
        {
          "output_type": "display_data",
          "data": {
            "text/plain": [
              "<Figure size 1080x144 with 32 Axes>"
            ],
            "image/png": "[encoded data removed]"
          },
          "metadata": {
            "needs_background": "light"
          }
        }
      ]
    },
    {
      "cell_type": "markdown",
      "source": [
        "- 가중치가 밋밋하게 초기화 되어 있음\n",
        "- **합성곱 신경망이 데이터셋의 분류 정확도를 높이기 위해 유용한 패턴을 학습한 것을 확인할 수 있음**"
      ],
      "metadata": {
        "id": "UoqVMRab-ceS"
      }
    },
    {
      "cell_type": "markdown",
      "source": [
        "## 함수형 API\n",
        " - 이전까지는 신경망 모델 만들 때 케라스 Sequential 클래스 사용(층을 차례로 쌓은 모델)\n",
        " - 복잡한 모델에 사용(예 : 입/출력이 2개 등)\n",
        " - **케라스의 Model 클래스 사용**"
      ],
      "metadata": {
        "id": "0P5qd_C4_Ntd"
      }
    },
    {
      "cell_type": "markdown",
      "source": [
        "> dense1 = keras.layers.Dense(100, activation='sigmoid')\n",
        "\n",
        ">dense2 = keras.layers.Dense(10, activation='softmax')\n",
        "\n",
        "Dense층 객체를 Sequential 클래스 객체의 add()메서드에 전달할 수 있고, 함수처럼 호출할 수 있다"
      ],
      "metadata": {
        "id": "xzbXPxcyAxif"
      }
    },
    {
      "cell_type": "markdown",
      "source": [
        "*dense1층 호출*\n",
        ">hidden = dense1(inputs)\n",
        "\n",
        "- 케라스의 층은 객체를 함수처럼 호출했을때 적절히 동작할 수 있도록 미리 준비되어 있다\n",
        "- 입력값 inputs를 dense1층에 통과시킨 후의 출력값 hidden을 만들어 줌"
      ],
      "metadata": {
        "id": "m581eEKWCQPN"
      }
    },
    {
      "cell_type": "markdown",
      "source": [
        "*dense2층 호출*\n",
        ">outputs = dense(hidden)\n",
        "\n",
        "- 첫번째 층의 출력값인 hidden을 입력값으로 사용\n"
      ],
      "metadata": {
        "id": "IYnSLg3FCq1i"
      }
    },
    {
      "cell_type": "markdown",
      "source": [
        "*inputs와 outputs을 Model 클래스로 연결*\n",
        ">model = keras.Model(inputs, outputs)"
      ],
      "metadata": {
        "id": "lsEGNNExDCqS"
      }
    },
    {
      "cell_type": "markdown",
      "source": [
        "### 함수형 API를 위한 Model 클래스 사용시 inputs은 무엇인가?\n",
        " - 케라스 모델은 layers 속성외에 _layers 리스트 속성을 따로 가지고 있음\n",
        " - _layers 리스트 속성의 첫번째 항목이 InputLayer 클래스 객체\n",
        " - InputLayer 클래스는 신경망의 입력층 역할\n",
        " - 즉, 모델의 입력을 첫번째 은닉층에 전달하는 역할"
      ],
      "metadata": {
        "id": "SXRc-M9gDYw5"
      }
    },
    {
      "cell_type": "markdown",
      "source": [
        "- Sequential 클래스는 InputLayer클래스를 자동으로 추가/호출해 줌\n",
        "- Model 클래스는 수동으로 만들어서 호출해야 함\n",
        ">inputs = keras.Input(shape=(784,))"
      ],
      "metadata": {
        "id": "LAAJXk3nGEbY"
      }
    },
    {
      "cell_type": "markdown",
      "source": [
        "### 특성 맵 시각화를 만드는데 왜 함수형 API가 필요한가?\n",
        " - Model클래스를 사용하여 만든 모델 객체는 중간의 층을 연결하여 새로운 모델을 얻을 수 있다\n",
        " - model 객체의 입력과 Conv2D의 출력을 연결하여 새로운 모델 생성가능\n",
        " >conv_acti = keras.Model(model.input, layers[0].output)\n",
        " "
      ],
      "metadata": {
        "id": "kPBMShUT2gWZ"
      }
    },
    {
      "cell_type": "code",
      "source": [
        "model.input"
      ],
      "metadata": {
        "colab": {
          "base_uri": "https://localhost:8080/"
        },
        "id": "ag2ibToj-Sov",
        "outputId": "40aaf85d-a3ab-4706-8d74-f67e1aa7303f"
      },
      "execution_count": 12,
      "outputs": [
        {
          "output_type": "execute_result",
          "data": {
            "text/plain": [
              "<KerasTensor: shape=(None, 28, 28, 1) dtype=float32 (created by layer 'conv2d_input')>"
            ]
          },
          "metadata": {},
          "execution_count": 12
        }
      ]
    },
    {
      "cell_type": "code",
      "source": [
        "conv_acti = keras.Model(model.input, model.layers[0].output)"
      ],
      "metadata": {
        "id": "X8VysoLG3vxl"
      },
      "execution_count": 13,
      "outputs": []
    },
    {
      "cell_type": "markdown",
      "source": [
        "predict()\n",
        "- model 객체의 predict() 메서드를 호출하면 최종 출력층의 확률을 반환\n",
        "- conv_acti 객체의 predict() 메서드를 호출하면 첫번째 Conv2D의 출력을 반환\n",
        "\n",
        "- Conv2D의 출력은 각 커널을 지난 특성 맵\n",
        "\n",
        "주의사항\n",
        " - predict() 메서드에 들어갈 입력의 첫번째 차원은 **배치차원** 이어야함\n",
        " - (28, 28)이 아닌 순서가 있는, 즉, 슬라이싱 할수 있는 (1, 28, 28) 형태여야 함\n",
        " - **전체가 하나의 덩어리(tensor) 임을 나타내기위함**"
      ],
      "metadata": {
        "id": "8meqaDNi4v0q"
      }
    },
    {
      "cell_type": "markdown",
      "source": [
        "### 특성 맵 시각화"
      ],
      "metadata": {
        "id": "Vw-58W135GF9"
      }
    },
    {
      "cell_type": "code",
      "source": [
        "(train_input, train_target), (test_input, test_target) =\\\n",
        "keras.datasets.fashion_mnist.load_data()\n",
        "plt.imshow(train_input[0], cmap='gray_r')\n",
        "plt.show()"
      ],
      "metadata": {
        "id": "zJkVHNdm4vWL",
        "outputId": "6b862d4a-e174-4473-edde-d496333aa87d",
        "colab": {
          "base_uri": "https://localhost:8080/",
          "height": 265
        }
      },
      "execution_count": 17,
      "outputs": [
        {
          "output_type": "display_data",
          "data": {
            "text/plain": [
              "<Figure size 432x288 with 1 Axes>"
            ],
            "image/png": "[encoded data removed]"
          },
          "metadata": {
            "needs_background": "light"
          }
        }
      ]
    },
    {
      "cell_type": "markdown",
      "source": [
        "- 위 샘플을 conv_acti 모델에 주입하여 Conv2D층이 만드는 특성 맵을 출력해보자"
      ],
      "metadata": {
        "id": "1u6cYc995wwX"
      }
    },
    {
      "cell_type": "code",
      "source": [
        "# predict(inputs) : predict의 입력값 inputs의 첫번째 차원이 배치데이터 이어야함\n",
        "inputs = train_input[0:1].reshape(-1, 28, 28, 1) / 255.0\n",
        "feature_maps = conv_acti.predict(inputs)"
      ],
      "metadata": {
        "id": "6_nNneco5guE"
      },
      "execution_count": 23,
      "outputs": []
    },
    {
      "cell_type": "code",
      "source": [
        "feature_maps.shape # 32개의 필터를 사용했으므로 마지막 차원은 32"
      ],
      "metadata": {
        "id": "auK1EAT-9KlI",
        "outputId": "30752b29-dc63-4c9a-9859-523b2536c927",
        "colab": {
          "base_uri": "https://localhost:8080/"
        }
      },
      "execution_count": 24,
      "outputs": [
        {
          "output_type": "execute_result",
          "data": {
            "text/plain": [
              "(1, 28, 28, 32)"
            ]
          },
          "metadata": {},
          "execution_count": 24
        }
      ]
    },
    {
      "cell_type": "markdown",
      "source": [
        "- 세임패딩, 32개 필터 사용한 합성곱 층 : (28, 28, 32)\n",
        "- 첫번째 차원은 배치차원 : 샘플을 하나 입력했으므로 1\n"
      ],
      "metadata": {
        "id": "UKihvnR-9hHk"
      }
    },
    {
      "cell_type": "code",
      "source": [
        "train_input[0].shape # (28, 28)\n",
        "train_input[0:1].shape # (1, 28, 28)"
      ],
      "metadata": {
        "id": "X-FwOVhT5lwu",
        "outputId": "0cf2b688-1cf8-4e5e-c5f8-7632468af834",
        "colab": {
          "base_uri": "https://localhost:8080/"
        }
      },
      "execution_count": 19,
      "outputs": [
        {
          "output_type": "execute_result",
          "data": {
            "text/plain": [
              "(1, 28, 28)"
            ]
          },
          "metadata": {},
          "execution_count": 19
        }
      ]
    },
    {
      "cell_type": "code",
      "source": [
        "train_input[0:1].reshape(-1,28,28,1).shape"
      ],
      "metadata": {
        "id": "21mqJse57Hdn",
        "outputId": "276f616c-f559-4a2c-9bae-52c6003de535",
        "colab": {
          "base_uri": "https://localhost:8080/"
        }
      },
      "execution_count": 20,
      "outputs": [
        {
          "output_type": "execute_result",
          "data": {
            "text/plain": [
              "(1, 28, 28, 1)"
            ]
          },
          "metadata": {},
          "execution_count": 20
        }
      ]
    },
    {
      "cell_type": "code",
      "source": [
        "# 특성맵 출력(합성곱 층의 출력 : 32개의 각 커널을 지난 특성맵 32개)\n",
        "fig, axs = plt.subplots(4, 8, figsize=(15, 8))\n",
        "for i in range(4):\n",
        "    for j in range(8):\n",
        "        axs[i, j].imshow(feature_maps[0,:,:,i*8+j])\n",
        "        axs[i, j].axis('off')\n",
        "plt.show()"
      ],
      "metadata": {
        "id": "pPRf745R88AH",
        "outputId": "6d94162e-f1bc-4569-aa3a-21f306980d35",
        "colab": {
          "base_uri": "https://localhost:8080/",
          "height": 460
        }
      },
      "execution_count": 25,
      "outputs": [
        {
          "output_type": "display_data",
          "data": {
            "text/plain": [
              "<Figure size 1080x576 with 32 Axes>"
            ],
            "image/png": "[encoded data removed]"
          },
          "metadata": {
            "needs_background": "light"
          }
        }
      ]
    },
    {
      "cell_type": "markdown",
      "source": [
        "- 두번째 합성곱 층이 만든 특성 맵을 확인해보자\n"
      ],
      "metadata": {
        "id": "wvuPNhsO_1ud"
      }
    },
    {
      "cell_type": "code",
      "source": [
        "conv2_acti = keras.Model(model.input, model.layers[2].output)"
      ],
      "metadata": {
        "id": "WUMrvDFi_QnV"
      },
      "execution_count": 26,
      "outputs": []
    },
    {
      "cell_type": "code",
      "source": [
        "inputs = train_input[0:1].reshape(-1, 28, 28, 1) / 255.0\n",
        "feature_maps = conv2_acti.predict(inputs)"
      ],
      "metadata": {
        "id": "TPa5TeYEALCf"
      },
      "execution_count": 27,
      "outputs": []
    },
    {
      "cell_type": "code",
      "source": [
        "feature_maps.shape"
      ],
      "metadata": {
        "id": "vjYPOVpTBwbD",
        "outputId": "58984074-dba7-462e-dcb2-567282e4b015",
        "colab": {
          "base_uri": "https://localhost:8080/"
        }
      },
      "execution_count": 28,
      "outputs": [
        {
          "output_type": "execute_result",
          "data": {
            "text/plain": [
              "(1, 14, 14, 64)"
            ]
          },
          "metadata": {},
          "execution_count": 28
        }
      ]
    },
    {
      "cell_type": "markdown",
      "source": [
        "- 두번째 합성곱 층에서는 풀링을 거치면서 가로/세로 크기가 절반으로 줄었고, 필터 개수는 64개\n",
        "- feature_maps의 크기는 배치 차원을 제외하면 (14, 14, 64)\n",
        "\n",
        "배치차원\n",
        " - 슬라이싱 할 수 있는 차원\n",
        " - **전체가 하나의 덩어리(tensor) 임을 나타내기위함**"
      ],
      "metadata": {
        "id": "Zpd9jqS8Bz-n"
      }
    },
    {
      "cell_type": "code",
      "source": [
        "fig, axs = plt.subplots(8,8, figsize=(12,12))\n",
        "for i in range(8):\n",
        "    for j in range(8):\n",
        "        axs[i, j].imshow(feature_maps[0,:,:,i*8+j])\n",
        "        axs[i, j].axis('off')\n",
        "plt.show()"
      ],
      "metadata": {
        "id": "ItRSgSPNBy_r",
        "outputId": "33669cab-c509-43f9-b166-3120d41fd2c2",
        "colab": {
          "base_uri": "https://localhost:8080/",
          "height": 683
        }
      },
      "execution_count": 29,
      "outputs": [
        {
          "output_type": "display_data",
          "data": {
            "text/plain": [
              "<Figure size 864x864 with 64 Axes>"
            ],
            "image/png": "[encoded data removed]"
          },
          "metadata": {
            "needs_background": "light"
          }
        }
      ]
    },
    {
      "cell_type": "markdown",
      "source": [
        "- 두번째 합성곱 층의 필터 크기는 (3,3,32)\n",
        "- 두번째 합성곱 층의 첫번째 필터(64개중)가 앞서 출력한 32개의 특성 맵과 곱해져 두번째 합성곱층의 첫번째 특성 맵이 된다 "
      ],
      "metadata": {
        "id": "DcS5G-U7EQa6"
      }
    }
  ]
}