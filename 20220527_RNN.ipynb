{
  "nbformat": 4,
  "nbformat_minor": 0,
  "metadata": {
    "colab": {
      "name": "Untitled3.ipynb",
      "provenance": [],
      "authorship_tag": "ABX9TyO3UIf1npHiETmlX6oXLAMW",
      "include_colab_link": true
    },
    "kernelspec": {
      "name": "python3",
      "display_name": "Python 3"
    },
    "language_info": {
      "name": "python"
    },
    "accelerator": "GPU"
  },
  "cells": [
    {
      "cell_type": "markdown",
      "metadata": {
        "id": "view-in-github",
        "colab_type": "text"
      },
      "source": [
        "<a href=\"https://colab.research.google.com/github/kiyong21c/nadocoding/blob/master/20220527_RNN.ipynb\" target=\"_parent\"><img src=\"https://colab.research.google.com/assets/colab-badge.svg\" alt=\"Open In Colab\"/></a>"
      ]
    },
    {
      "cell_type": "markdown",
      "source": [
        "# 순차 데이터\n",
        " - 텍스트, 시계열데이터와 같이 순서에 의미가 있는 데이터\n",
        " - 데이터를 신경망 모델에 전달할 때 일반적인 경우(피드포워드 신경망)와 달리 순서가 중요\n",
        " - 이전에 입력한 데이터를 기억해야 한다"
      ],
      "metadata": {
        "id": "xBOTK7wasugl"
      }
    },
    {
      "cell_type": "markdown",
      "source": [
        "## 순환 신경망(RNN)\n",
        "- 완전연결 신경망 + 이전데이터의 처리 흐름을 순환하는 고리\n",
        "- 뉴런의 출력이 다시 자기 자신으로 전달(바로 이전에 사용했던 데이터를 재사용하는 셈)\n",
        "- 순환신경망의 뉴런은 가중치가 하나 더 있다\n",
        "- 이전 타임스탭의 은닉 상태에 곱해지는 가중치\n",
        "\n",
        "용어정리\n",
        "\n",
        "- **타임스탭** : 이전 샘플에 대한 기억을 가지고 처리하는 한 단계\n",
        "- 타임스탭이 오래될수록 순환되는 정보는 희미해짐\n",
        "- 순환신경망에서는 층을 **\"셀\"**로 부른다\n",
        "- 완전연결 신경망과 달리 뉴런을 모두 표시하지 않고 하나의 셀로 층을 표현\n",
        "- 셀의 출력을 **\"은닉상태\"**로 부른다\n",
        "- 마지막 타임스텝의 은닉상태만 출력으로 내보냄"
      ],
      "metadata": {
        "id": "SUw0yJSstmue"
      }
    },
    {
      "cell_type": "markdown",
      "source": [
        "순환층의 입/출력\n",
        " - 샘플(시퀀스)마다 2개의 차원 \n",
        " - 시퀀스안에는 여러개의 아이템\n",
        " - 시퀀스의 길이가 타임스텝의 길이가 됨\n",
        " - 마지막 셀의 출력이 1차원이기 때문에 Flatten클래스로 펼칠 필요 없음 \n",
        " - 즉, 셀의 출력 그대로 밀집층에 사용\n",
        " >I am a boy → (1, 4, 3)\n",
        "  - 샘플 1개\n",
        "  - 타임스텝의 크기 4\n",
        "  - 각 단어를 3개의 어떤 숫자로 표현\n",
        "  - 순환층을 통과하면 두번째, 세번째 차원이 사라지고,\n",
        "  - 순환층의 뉴런 개수만큼 출력됨"
      ],
      "metadata": {
        "id": "pWQVduK2yF2J"
      }
    },
    {
      "cell_type": "markdown",
      "source": [
        "# IMDB 리뷰 데이터셋\n",
        " - imdb.com에서 수집한 리뷰를 긍정/부정으로 분류한 데이터셋\n",
        " - 총 50,000개 샘플 = 훈련 데이터 25,000개 + 테스트 데이터 25,000개"
      ],
      "metadata": {
        "id": "_tK8RkrY1gIh"
      }
    },
    {
      "cell_type": "markdown",
      "source": [
        "## 자연어 처리\n",
        " - 합성곱 신경망에서 이미지를 다룰 떄는 특별한 변환없음 : 이미지가 정수 픽셀값이기 때문\n",
        " - 텍스트 데이터는 단어마다 고유한 정수를 부여한다\n",
        "   - 0:패딩, 1:문장시작, 2:어휘사전에 없음\n",
        " - 영어 문장은 모두 소문자로 바꾸고, 구둣점 삭제, 공백을 기준으로 분리 : **토큰**\n",
        " - 하나의 샘플은 여러개의 토큰으로 이루어짐\n",
        " - 1개의 토큰이 하나의 타임스텝에 해당\n",
        "\n",
        " - *한글은 조사가 발달되어, 공백으로 나누는것만으로는 부족하다. 형태소 분석이 필요함(고난도)*"
      ],
      "metadata": {
        "id": "dOzeM2UK1_Zy"
      }
    },
    {
      "cell_type": "code",
      "execution_count": null,
      "metadata": {
        "colab": {
          "base_uri": "https://localhost:8080/"
        },
        "id": "Kx8jMH7Uscgd",
        "outputId": "a7896331-4cb2-486c-a869-1df45e3eb715"
      },
      "outputs": [
        {
          "output_type": "stream",
          "name": "stdout",
          "text": [
            "Downloading data from https://storage.googleapis.com/tensorflow/tf-keras-datasets/imdb.npz\n",
            "17465344/17464789 [==============================] - 0s 0us/step\n",
            "17473536/17464789 [==============================] - 0s 0us/step\n"
          ]
        }
      ],
      "source": [
        "from tensorflow.keras.datasets import imdb\n",
        "(train_input, train_target), (test_input, test_target) = imdb.load_data(num_words=500)\n",
        "# num_words=500 : 전체 데이터 셋에서 가장 자주 등장하는 단어 500개만 사용"
      ]
    },
    {
      "cell_type": "code",
      "source": [
        "print(train_input.shape, test_input.shape)"
      ],
      "metadata": {
        "colab": {
          "base_uri": "https://localhost:8080/"
        },
        "id": "POrTF0xM3wQa",
        "outputId": "dd9d51c0-5161-4bda-c359-790a1b78a09b"
      },
      "execution_count": null,
      "outputs": [
        {
          "output_type": "stream",
          "name": "stdout",
          "text": [
            "(25000,) (25000,)\n"
          ]
        }
      ]
    },
    {
      "cell_type": "markdown",
      "source": [
        "훈련/테스트 세트의 배열이 1차원인 이유\n",
        " - IMDB 리뷰 텍스트는 길이가 제각각\n",
        " - 따라서 고정 크기의 2차원 배열 보다는 리뷰마다 파이썬 리스트로 담아야 메모리 효율적 사용가능\n",
        " >train_input : [리뷰1, 리뷰2, 리뷰3,...] 1차원 배열\n",
        "\n",
        " > 리뷰1 : 파이썬 리스트\n"
      ],
      "metadata": {
        "id": "xgNnAbUS39Y8"
      }
    },
    {
      "cell_type": "code",
      "source": [
        "len(train_input[0]) # 첫번째 리뷰의 길이 : 218개의 토큰"
      ],
      "metadata": {
        "colab": {
          "base_uri": "https://localhost:8080/"
        },
        "id": "AmGHIoLqI1jR",
        "outputId": "9ac03de6-e3b6-45bc-c24d-cab7781ae6d4"
      },
      "execution_count": null,
      "outputs": [
        {
          "output_type": "execute_result",
          "data": {
            "text/plain": [
              "218"
            ]
          },
          "metadata": {},
          "execution_count": 3
        }
      ]
    },
    {
      "cell_type": "code",
      "source": [
        "len(train_input[1]) # 두번째 리뷰의 길이 : 189개의 토큰"
      ],
      "metadata": {
        "colab": {
          "base_uri": "https://localhost:8080/"
        },
        "id": "zFuM8Qc4I-SC",
        "outputId": "39e5114f-9462-4e1b-fb55-6d8f01b7fb11"
      },
      "execution_count": null,
      "outputs": [
        {
          "output_type": "execute_result",
          "data": {
            "text/plain": [
              "189"
            ]
          },
          "metadata": {},
          "execution_count": 4
        }
      ]
    },
    {
      "cell_type": "code",
      "source": [
        "train_input[0]"
      ],
      "metadata": {
        "colab": {
          "base_uri": "https://localhost:8080/"
        },
        "id": "L0Du9U17JID3",
        "outputId": "49406f4b-93b8-4922-aa76-0f8b95842dd8"
      },
      "execution_count": null,
      "outputs": [
        {
          "output_type": "execute_result",
          "data": {
            "text/plain": [
              "[1,\n",
              " 14,\n",
              " 22,\n",
              " 16,\n",
              " 43,\n",
              " 2,\n",
              " 2,\n",
              " 2,\n",
              " 2,\n",
              " 65,\n",
              " 458,\n",
              " 2,\n",
              " 66,\n",
              " 2,\n",
              " 4,\n",
              " 173,\n",
              " 36,\n",
              " 256,\n",
              " 5,\n",
              " 25,\n",
              " 100,\n",
              " 43,\n",
              " 2,\n",
              " 112,\n",
              " 50,\n",
              " 2,\n",
              " 2,\n",
              " 9,\n",
              " 35,\n",
              " 480,\n",
              " 284,\n",
              " 5,\n",
              " 150,\n",
              " 4,\n",
              " 172,\n",
              " 112,\n",
              " 167,\n",
              " 2,\n",
              " 336,\n",
              " 385,\n",
              " 39,\n",
              " 4,\n",
              " 172,\n",
              " 2,\n",
              " 2,\n",
              " 17,\n",
              " 2,\n",
              " 38,\n",
              " 13,\n",
              " 447,\n",
              " 4,\n",
              " 192,\n",
              " 50,\n",
              " 16,\n",
              " 6,\n",
              " 147,\n",
              " 2,\n",
              " 19,\n",
              " 14,\n",
              " 22,\n",
              " 4,\n",
              " 2,\n",
              " 2,\n",
              " 469,\n",
              " 4,\n",
              " 22,\n",
              " 71,\n",
              " 87,\n",
              " 12,\n",
              " 16,\n",
              " 43,\n",
              " 2,\n",
              " 38,\n",
              " 76,\n",
              " 15,\n",
              " 13,\n",
              " 2,\n",
              " 4,\n",
              " 22,\n",
              " 17,\n",
              " 2,\n",
              " 17,\n",
              " 12,\n",
              " 16,\n",
              " 2,\n",
              " 18,\n",
              " 2,\n",
              " 5,\n",
              " 62,\n",
              " 386,\n",
              " 12,\n",
              " 8,\n",
              " 316,\n",
              " 8,\n",
              " 106,\n",
              " 5,\n",
              " 4,\n",
              " 2,\n",
              " 2,\n",
              " 16,\n",
              " 480,\n",
              " 66,\n",
              " 2,\n",
              " 33,\n",
              " 4,\n",
              " 130,\n",
              " 12,\n",
              " 16,\n",
              " 38,\n",
              " 2,\n",
              " 5,\n",
              " 25,\n",
              " 124,\n",
              " 51,\n",
              " 36,\n",
              " 135,\n",
              " 48,\n",
              " 25,\n",
              " 2,\n",
              " 33,\n",
              " 6,\n",
              " 22,\n",
              " 12,\n",
              " 215,\n",
              " 28,\n",
              " 77,\n",
              " 52,\n",
              " 5,\n",
              " 14,\n",
              " 407,\n",
              " 16,\n",
              " 82,\n",
              " 2,\n",
              " 8,\n",
              " 4,\n",
              " 107,\n",
              " 117,\n",
              " 2,\n",
              " 15,\n",
              " 256,\n",
              " 4,\n",
              " 2,\n",
              " 7,\n",
              " 2,\n",
              " 5,\n",
              " 2,\n",
              " 36,\n",
              " 71,\n",
              " 43,\n",
              " 2,\n",
              " 476,\n",
              " 26,\n",
              " 400,\n",
              " 317,\n",
              " 46,\n",
              " 7,\n",
              " 4,\n",
              " 2,\n",
              " 2,\n",
              " 13,\n",
              " 104,\n",
              " 88,\n",
              " 4,\n",
              " 381,\n",
              " 15,\n",
              " 297,\n",
              " 98,\n",
              " 32,\n",
              " 2,\n",
              " 56,\n",
              " 26,\n",
              " 141,\n",
              " 6,\n",
              " 194,\n",
              " 2,\n",
              " 18,\n",
              " 4,\n",
              " 226,\n",
              " 22,\n",
              " 21,\n",
              " 134,\n",
              " 476,\n",
              " 26,\n",
              " 480,\n",
              " 5,\n",
              " 144,\n",
              " 30,\n",
              " 2,\n",
              " 18,\n",
              " 51,\n",
              " 36,\n",
              " 28,\n",
              " 224,\n",
              " 92,\n",
              " 25,\n",
              " 104,\n",
              " 4,\n",
              " 226,\n",
              " 65,\n",
              " 16,\n",
              " 38,\n",
              " 2,\n",
              " 88,\n",
              " 12,\n",
              " 16,\n",
              " 283,\n",
              " 5,\n",
              " 16,\n",
              " 2,\n",
              " 113,\n",
              " 103,\n",
              " 32,\n",
              " 15,\n",
              " 16,\n",
              " 2,\n",
              " 19,\n",
              " 178,\n",
              " 32]"
            ]
          },
          "metadata": {},
          "execution_count": 5
        }
      ]
    },
    {
      "cell_type": "markdown",
      "source": [
        " - IMDB 리뷰 데이터는 이미 정수로 변환되어있음\n",
        " - 앞서 num_words=500으로 지정(빈도순)했기 때문에 어휘사전에는 500개의 단어만 들어있음\n",
        " - 어휘사전에 없는 단어는 모두 2로 표시됨"
      ],
      "metadata": {
        "id": "9E12rEIOJco9"
      }
    },
    {
      "cell_type": "code",
      "source": [
        "train_target[:20] # 총 25000개의 타깃 중 앞 20개출력"
      ],
      "metadata": {
        "colab": {
          "base_uri": "https://localhost:8080/"
        },
        "id": "yZuRoH2wJ54m",
        "outputId": "792f4c58-dc43-4bb6-b436-6f1172e1a838"
      },
      "execution_count": null,
      "outputs": [
        {
          "output_type": "execute_result",
          "data": {
            "text/plain": [
              "array([1, 0, 0, 1, 0, 0, 1, 0, 1, 0, 1, 0, 0, 0, 0, 0, 1, 1, 0, 1])"
            ]
          },
          "metadata": {},
          "execution_count": 6
        }
      ]
    },
    {
      "cell_type": "markdown",
      "source": [
        " - 이진분류 : 타깃값 0(부정), 1(긍정)"
      ],
      "metadata": {
        "id": "UhrADmf_Jr8V"
      }
    },
    {
      "cell_type": "markdown",
      "source": [
        "훈련세트(25,000개)에서 검증세트(20%) 분리"
      ],
      "metadata": {
        "id": "kseVugHeKQDz"
      }
    },
    {
      "cell_type": "code",
      "source": [
        "from sklearn.model_selection import train_test_split\n",
        "train_input, val_input, train_target, val_target = train_test_split(\n",
        "    train_input, train_target, test_size=0.2, random_state=42)"
      ],
      "metadata": {
        "id": "a3qknphtJOXt"
      },
      "execution_count": null,
      "outputs": []
    },
    {
      "cell_type": "markdown",
      "source": [
        "각 리뷰의 길이를 계산해 넘파이 배열로\n",
        " - 평균적인 리뷰의 길이, 가장짧은/긴 리뷰 길이 확인"
      ],
      "metadata": {
        "id": "KdXFPSlbKz_O"
      }
    },
    {
      "cell_type": "code",
      "source": [
        "import numpy as np\n",
        "lengths = np.array([len(x) for x in train_input]) # 리스트의 각 리뷰를 순회하면서 길이를 배열로 담는다"
      ],
      "metadata": {
        "id": "gDrBjnBCKqHA"
      },
      "execution_count": null,
      "outputs": []
    },
    {
      "cell_type": "code",
      "source": [
        "print(np.mean(lengths), np.median(lengths))"
      ],
      "metadata": {
        "colab": {
          "base_uri": "https://localhost:8080/"
        },
        "id": "IWmJQix2LY7q",
        "outputId": "9bb4010f-15ec-44f5-ea66-633dd6dc4f50"
      },
      "execution_count": null,
      "outputs": [
        {
          "output_type": "stream",
          "name": "stdout",
          "text": [
            "239.00925 178.0\n"
          ]
        }
      ]
    },
    {
      "cell_type": "markdown",
      "source": [
        " - 평균 단어 개수 239, 중간값 178\n",
        " - 평균이 중간값 보다 큰 이유 : 아주 큰 데이터가 적은 개수로 있다"
      ],
      "metadata": {
        "id": "61c6138kLy-7"
      }
    },
    {
      "cell_type": "code",
      "source": [
        "import matplotlib.pyplot as plt\n",
        "plt.hist(lengths)\n",
        "plt.xlabel('lengths')\n",
        "plt.ylabel('frequency')\n",
        "plt.show()"
      ],
      "metadata": {
        "colab": {
          "base_uri": "https://localhost:8080/",
          "height": 279
        },
        "id": "jCaD56PZLe5L",
        "outputId": "7ce0084a-6e01-4b2a-9c53-690b54f428d5"
      },
      "execution_count": null,
      "outputs": [
        {
          "output_type": "display_data",
          "data": {
            "text/plain": [
              "<Figure size 432x288 with 1 Axes>"
            ],
            "image/png": "[encoded data removed]"
          },
          "metadata": {
            "needs_background": "light"
          }
        }
      ]
    },
    {
      "cell_type": "markdown",
      "source": [
        " - 리뷰길이가 주로 짧은 모습 : 대부분 300미만\n",
        " - train_input의 각 리뷰의 길이를 100개의 단어로 맞춘다(단어종류는 어휘사전에 따라 500개)\n",
        " - 길이가 짧으면 패딩(패딩을 나타내는 토큰 : 0)\n",
        " - 길이가 길면 잘라낸다(주로 앞을 자름)"
      ],
      "metadata": {
        "id": "c3FNZHhQMSMy"
      }
    },
    {
      "cell_type": "markdown",
      "source": [
        "케라스는 시퀀스 데이터의 길이를 맞추는 pad_sequences() 함수 제공"
      ],
      "metadata": {
        "id": "4pCrqH4KOHBx"
      }
    },
    {
      "cell_type": "code",
      "source": [
        "from tensorflow.keras.preprocessing.sequence import pad_sequences\n",
        "train_seq = pad_sequences(train_input, maxlen=100)"
      ],
      "metadata": {
        "id": "gsCiXNYBMRUj"
      },
      "execution_count": null,
      "outputs": []
    },
    {
      "cell_type": "code",
      "source": [
        "train_input.shape # 파이썬 리스트의 1차원 배열"
      ],
      "metadata": {
        "colab": {
          "base_uri": "https://localhost:8080/"
        },
        "id": "qlzpRVNhOi7s",
        "outputId": "4dbb3336-0353-4ffb-d214-f9c57fd91f47"
      },
      "execution_count": null,
      "outputs": [
        {
          "output_type": "execute_result",
          "data": {
            "text/plain": [
              "(20000,)"
            ]
          },
          "metadata": {},
          "execution_count": 12
        }
      ]
    },
    {
      "cell_type": "code",
      "source": [
        "train_seq.shape # 2차원 배열"
      ],
      "metadata": {
        "colab": {
          "base_uri": "https://localhost:8080/"
        },
        "id": "ZU9mSjppOmKu",
        "outputId": "dc4056e9-cfcd-4f5e-ce71-fb343b16858a"
      },
      "execution_count": null,
      "outputs": [
        {
          "output_type": "execute_result",
          "data": {
            "text/plain": [
              "(20000, 100)"
            ]
          },
          "metadata": {},
          "execution_count": 13
        }
      ]
    },
    {
      "cell_type": "code",
      "source": [
        "train_seq[0] # 첫번째 샘플의 배열을 확인"
      ],
      "metadata": {
        "colab": {
          "base_uri": "https://localhost:8080/"
        },
        "id": "7-BX7XAXO5BM",
        "outputId": "c95881ba-5ddc-471a-c555-a21e2bf76c0e"
      },
      "execution_count": null,
      "outputs": [
        {
          "output_type": "execute_result",
          "data": {
            "text/plain": [
              "array([ 10,   4,  20,   9,   2, 364, 352,   5,  45,   6,   2,   2,  33,\n",
              "       269,   8,   2, 142,   2,   5,   2,  17,  73,  17, 204,   5,   2,\n",
              "        19,  55,   2,   2,  92,  66, 104,  14,  20,  93,  76,   2, 151,\n",
              "        33,   4,  58,  12, 188,   2, 151,  12, 215,  69, 224, 142,  73,\n",
              "       237,   6,   2,   7,   2,   2, 188,   2, 103,  14,  31,  10,  10,\n",
              "       451,   7,   2,   5,   2,  80,  91,   2,  30,   2,  34,  14,  20,\n",
              "       151,  50,  26, 131,  49,   2,  84,  46,  50,  37,  80,  79,   6,\n",
              "         2,  46,   7,  14,  20,  10,  10, 470, 158], dtype=int32)"
            ]
          },
          "metadata": {},
          "execution_count": 14
        }
      ]
    },
    {
      "cell_type": "markdown",
      "source": [
        " - 앞뒤에 패딩값 0이 없으니, 원래 100보다 길었을 것\n",
        " - 앞?뒤? 어디가 잘렸을까?"
      ],
      "metadata": {
        "id": "PcC52BSgPSql"
      }
    },
    {
      "cell_type": "code",
      "source": [
        "train_input[0][-10:] # 원본 첫번째 샘플의 뒷부분 배열을 확인"
      ],
      "metadata": {
        "colab": {
          "base_uri": "https://localhost:8080/"
        },
        "id": "xdE7uMy3PH0J",
        "outputId": "1b866d88-c463-4b8a-91ce-56b9b7e3b2e8"
      },
      "execution_count": null,
      "outputs": [
        {
          "output_type": "execute_result",
          "data": {
            "text/plain": [
              "[6, 2, 46, 7, 14, 20, 10, 10, 470, 158]"
            ]
          },
          "metadata": {},
          "execution_count": 15
        }
      ]
    },
    {
      "cell_type": "markdown",
      "source": [
        " - 뒤가 일치하니 앞부분이 잘린것을 추측가능\n",
        " - pad_sequence()함수는 기본적으로 maxlen보다 긴 시퀀스의 앞부분을 자름\n",
        "\n",
        " 이유\n",
        "   - 영화 리뷰는 보통 뒷부분의 정보(결정적 소감)가 유용하리라 기대됨\n",
        "   - truncating 매개변수를 'post'로 바꾸면 뒷부분을 잘라냄"
      ],
      "metadata": {
        "id": "AALWALL-PrhV"
      }
    },
    {
      "cell_type": "code",
      "source": [
        "train_seq[5] # 여섯번째 샘플"
      ],
      "metadata": {
        "colab": {
          "base_uri": "https://localhost:8080/"
        },
        "id": "AcEffqUgPO0x",
        "outputId": "436e22c6-af08-4474-e525-83e0a12c5332"
      },
      "execution_count": null,
      "outputs": [
        {
          "output_type": "execute_result",
          "data": {
            "text/plain": [
              "array([  0,   0,   0,   0,   1,   2, 195,  19,  49,   2,   2, 190,   4,\n",
              "         2, 352,   2, 183,  10,  10,  13,  82,  79,   4,   2,  36,  71,\n",
              "       269,   8,   2,  25,  19,  49,   7,   4,   2,   2,   2,   2,   2,\n",
              "        10,  10,  48,  25,  40,   2,  11,   2,   2,  40,   2,   2,   5,\n",
              "         4,   2,   2,  95,  14, 238,  56, 129,   2,  10,  10,  21,   2,\n",
              "        94, 364, 352,   2,   2,  11, 190,  24, 484,   2,   7,  94, 205,\n",
              "       405,  10,  10,  87,   2,  34,  49,   2,   7,   2,   2,   2,   2,\n",
              "         2, 290,   2,  46,  48,  64,  18,   4,   2], dtype=int32)"
            ]
          },
          "metadata": {},
          "execution_count": 16
        }
      ]
    },
    {
      "cell_type": "markdown",
      "source": [
        " - 앞부분이 0이 있는 것으로 보아 샘플의 길이가 100이 안됨\n",
        " - 패딩 토큰 0은 시퀀스의 앞부분에 추가됨\n",
        " \n",
        " 이유\n",
        "  - 시퀀스의 마지막에 있는 단어가 셀의 은닉 상태에 가장 큰 영향을 미침\n",
        "  - padding 매개변수를 'post'로 바꾸면 뒷부분에 패딩추가"
      ],
      "metadata": {
        "id": "FQ0gsywTQUf_"
      }
    },
    {
      "cell_type": "code",
      "source": [
        "val_seq = pad_sequences(val_input, maxlen=100) # 검증세트의 길이도 100으로 맞춤"
      ],
      "metadata": {
        "id": "vAr7RP9DQRCX"
      },
      "execution_count": null,
      "outputs": []
    },
    {
      "cell_type": "markdown",
      "source": [
        "### 순환 신경망 만들기\n",
        " - 가장 간단한 SimpleRNN 클래스\n"
      ],
      "metadata": {
        "id": "uxcemtBBT9Wp"
      }
    },
    {
      "cell_type": "code",
      "source": [
        "from tensorflow import keras\n",
        "model = keras.Sequential() # 모델 생성\n",
        "model.add(keras.layers.SimpleRNN(8, input_shape=(100, 500)))\n",
        "model.add(keras.layers.Dense(1, activation='sigmoid'))"
      ],
      "metadata": {
        "id": "vDtjgHSCQ_2G"
      },
      "execution_count": null,
      "outputs": []
    },
    {
      "cell_type": "markdown",
      "source": [
        " - 첫번째 매개변수 8 : 순환층의 뉴런개수\n",
        " - input_shape에 입력차원으로 (100,500) : 샘플의 길이 X 원-핫인코딩\n",
        " - 순환층의 활성화 함수 : 기본값인 tanh 하이퍼볼릭 탄젠트"
      ],
      "metadata": {
        "id": "fCdTX4FhUnjb"
      }
    },
    {
      "cell_type": "markdown",
      "source": [
        "원-핫 인코딩 사용이유\n",
        " - 토큰을 정수(0~499)로 변환한 이 데이터를 신경망에 주입하면 큰 정수가 큰 활성화 출력을 만든다\n",
        " - 정수 사이에는 어떠한 관련이 없다(20번 토큰이 10번 토큰 보다 더 중요한 것이 아님)\n",
        " - **정숫값에 있는 크기 속성을 없애고 각 정수를 고유 하게 표현하는 방법 → 원-핫인코딩**\n",
        " - 토큰마다 어휘사전의 크기(0~499)만큼의 배열이 필요"
      ],
      "metadata": {
        "id": "stnNxzfvVdTK"
      }
    },
    {
      "cell_type": "code",
      "source": [
        "train_oh = keras.utils.to_categorical(train_seq) # keras가 제공하는 원-핫 인코딩 유틸리티"
      ],
      "metadata": {
        "id": "BZL3wULlUm1o"
      },
      "execution_count": null,
      "outputs": []
    },
    {
      "cell_type": "code",
      "source": [
        "print(train_seq.shape, train_oh.shape) # 100개의 토큰 각각이 500크기의 배열로 늘어남"
      ],
      "metadata": {
        "colab": {
          "base_uri": "https://localhost:8080/"
        },
        "id": "CESgdi-_XM6S",
        "outputId": "ca398021-be97-48ca-950d-247757c107c1"
      },
      "execution_count": null,
      "outputs": [
        {
          "output_type": "stream",
          "name": "stdout",
          "text": [
            "(20000, 100) (20000, 100, 500)\n"
          ]
        }
      ]
    },
    {
      "cell_type": "code",
      "source": [
        "train_oh[0][0][:12] # 첫번째 샘플의 첫번째 토큰의 원-핫인코딩된 배열을(12개만) 보자"
      ],
      "metadata": {
        "colab": {
          "base_uri": "https://localhost:8080/"
        },
        "id": "Dn3kQu0tXZeE",
        "outputId": "21ed8720-0a82-4629-b8d6-052bc74c9ce8"
      },
      "execution_count": null,
      "outputs": [
        {
          "output_type": "execute_result",
          "data": {
            "text/plain": [
              "array([0., 0., 0., 0., 0., 0., 0., 0., 0., 0., 1., 0.], dtype=float32)"
            ]
          },
          "metadata": {},
          "execution_count": 21
        }
      ]
    },
    {
      "cell_type": "code",
      "source": [
        "val_oh = keras.utils.to_categorical(val_seq) # 검증데이터도 같은방식으로 원-핫인코딩"
      ],
      "metadata": {
        "id": "h-Wfuu1aX2LI"
      },
      "execution_count": null,
      "outputs": []
    },
    {
      "cell_type": "code",
      "source": [
        "model.summary()"
      ],
      "metadata": {
        "colab": {
          "base_uri": "https://localhost:8080/"
        },
        "id": "dFf-AH0CYfar",
        "outputId": "51d9f5ba-055a-4569-e298-cd782c56234b"
      },
      "execution_count": null,
      "outputs": [
        {
          "output_type": "stream",
          "name": "stdout",
          "text": [
            "Model: \"sequential\"\n",
            "_________________________________________________________________\n",
            " Layer (type)                Output Shape              Param #   \n",
            "=================================================================\n",
            " simple_rnn (SimpleRNN)      (None, 8)                 4072      \n",
            "                                                                 \n",
            " dense (Dense)               (None, 1)                 9         \n",
            "                                                                 \n",
            "=================================================================\n",
            "Total params: 4,081\n",
            "Trainable params: 4,081\n",
            "Non-trainable params: 0\n",
            "_________________________________________________________________\n"
          ]
        }
      ]
    },
    {
      "cell_type": "markdown",
      "source": [
        " - 입력은 하나의 샘플에서 모든 토큰을 순서대로(타임스텝) 입력하며\n",
        " - **각 토큰은 500개의 입력값으로 순환층의 8개 뉴런과 완전연결됨** : 500 X 8 = 4,000개\n",
        " - 순환층의 은닉 상태는 다시 다음 타임스텝에서 사용되기 위해 Wh가중치와 곱해지는데, 하나의 뉴런에서 모든 타입스텝에 사용되는 가중치는 동일하다\n",
        " - **순환층의 은닉 상태는 각 타임스텝에서 본인을 포함한 다른 뉴런들과 완전연결됨** : 8 X 8 = 64개\n",
        " - W11~W18(순환층의 1번뉴런의 은닉값 - 8개의 뉴런 각 연결망에 곱해지는 가중치)\n",
        "\n",
        " - 뉴런마다의 절편 : 8개"
      ],
      "metadata": {
        "id": "TGI2gR1DxJCL"
      }
    },
    {
      "cell_type": "markdown",
      "source": [
        "### 순환 신경망 훈련"
      ],
      "metadata": {
        "id": "GYWNOV2tnSYU"
      }
    },
    {
      "cell_type": "code",
      "source": [
        "# 기본 RMSprop의 학습률 0.001을 사용하지 않기 위해 별도의 RMSprop 객체생성 후 매개변수로 전달\n",
        "rmsprop = keras.optimizers.RMSprop(learning_rate=1e-4)\n",
        "model.compile(optimizer=rmsprop, # 객체로 전달할때와 '명칭'으로 전달할때 표기법 유의\n",
        "              loss='binary_crossentropy',\n",
        "              metrics=['accuracy']) # 매개변수가 여러가지 전달 될수 있는경우 리스트에 넣어서 전달\n",
        "# 가장 낮은 손실함수 값을 갖을때의 모델을 저장하기 위한 콜백\n",
        "checkpoint_cb = keras.callbacks.ModelCheckpoint('best-simplernn-model.h5',\n",
        "                                                save_best_only=True)\n",
        "# 손실함수가 증가할때 모델 학습을 조기종료(시간절약, 메모리효율적사용)를 위한 콜백\n",
        "early_stopping_cb = keras.callbacks.EarlyStopping(patience=3,\n",
        "                                                  restore_best_weights=True)\n",
        "history = model.fit(train_oh, train_target, epochs=100, batch_size=64,\n",
        "                    validation_data=(val_oh, val_target), # 검증데이터셋의 학습결과도 history 속성에 저장되도록함\n",
        "                    callbacks=[checkpoint_cb, early_stopping_cb])"
      ],
      "metadata": {
        "colab": {
          "base_uri": "https://localhost:8080/"
        },
        "id": "bBYstFnAYg8X",
        "outputId": "11b93b99-11a8-48c1-a346-cf8ffaf2b229"
      },
      "execution_count": null,
      "outputs": [
        {
          "output_type": "stream",
          "name": "stdout",
          "text": [
            "Epoch 1/100\n",
            "313/313 [==============================] - 33s 90ms/step - loss: 0.6974 - accuracy: 0.5096 - val_loss: 0.6938 - val_accuracy: 0.5232\n",
            "Epoch 2/100\n",
            "313/313 [==============================] - 30s 97ms/step - loss: 0.6779 - accuracy: 0.5653 - val_loss: 0.6637 - val_accuracy: 0.5988\n",
            "Epoch 3/100\n",
            "313/313 [==============================] - 26s 83ms/step - loss: 0.6447 - accuracy: 0.6366 - val_loss: 0.6370 - val_accuracy: 0.6516\n",
            "Epoch 4/100\n",
            "313/313 [==============================] - 26s 82ms/step - loss: 0.6179 - accuracy: 0.6776 - val_loss: 0.6146 - val_accuracy: 0.6820\n",
            "Epoch 5/100\n",
            "313/313 [==============================] - 26s 85ms/step - loss: 0.5937 - accuracy: 0.7084 - val_loss: 0.5930 - val_accuracy: 0.7050\n",
            "Epoch 6/100\n",
            "313/313 [==============================] - 25s 81ms/step - loss: 0.5732 - accuracy: 0.7280 - val_loss: 0.5762 - val_accuracy: 0.7182\n",
            "Epoch 7/100\n",
            "313/313 [==============================] - 26s 82ms/step - loss: 0.5554 - accuracy: 0.7447 - val_loss: 0.5599 - val_accuracy: 0.7312\n",
            "Epoch 8/100\n",
            "313/313 [==============================] - 25s 81ms/step - loss: 0.5392 - accuracy: 0.7576 - val_loss: 0.5469 - val_accuracy: 0.7428\n",
            "Epoch 9/100\n",
            "313/313 [==============================] - 26s 82ms/step - loss: 0.5261 - accuracy: 0.7662 - val_loss: 0.5364 - val_accuracy: 0.7474\n",
            "Epoch 10/100\n",
            "313/313 [==============================] - 26s 82ms/step - loss: 0.5133 - accuracy: 0.7761 - val_loss: 0.5275 - val_accuracy: 0.7534\n",
            "Epoch 11/100\n",
            "313/313 [==============================] - 25s 81ms/step - loss: 0.5030 - accuracy: 0.7797 - val_loss: 0.5166 - val_accuracy: 0.7598\n",
            "Epoch 12/100\n",
            "313/313 [==============================] - 26s 83ms/step - loss: 0.4934 - accuracy: 0.7841 - val_loss: 0.5165 - val_accuracy: 0.7552\n",
            "Epoch 13/100\n",
            "313/313 [==============================] - 25s 81ms/step - loss: 0.4849 - accuracy: 0.7877 - val_loss: 0.5009 - val_accuracy: 0.7706\n",
            "Epoch 14/100\n",
            "313/313 [==============================] - 25s 81ms/step - loss: 0.4768 - accuracy: 0.7915 - val_loss: 0.4964 - val_accuracy: 0.7672\n",
            "Epoch 15/100\n",
            "313/313 [==============================] - 25s 81ms/step - loss: 0.4698 - accuracy: 0.7951 - val_loss: 0.4959 - val_accuracy: 0.7674\n",
            "Epoch 16/100\n",
            "313/313 [==============================] - 25s 81ms/step - loss: 0.4637 - accuracy: 0.7992 - val_loss: 0.4856 - val_accuracy: 0.7750\n",
            "Epoch 17/100\n",
            "313/313 [==============================] - 25s 81ms/step - loss: 0.4577 - accuracy: 0.8010 - val_loss: 0.4814 - val_accuracy: 0.7798\n",
            "Epoch 18/100\n",
            "313/313 [==============================] - 25s 80ms/step - loss: 0.4529 - accuracy: 0.8026 - val_loss: 0.4778 - val_accuracy: 0.7812\n",
            "Epoch 19/100\n",
            "313/313 [==============================] - 25s 81ms/step - loss: 0.4478 - accuracy: 0.8040 - val_loss: 0.4754 - val_accuracy: 0.7780\n",
            "Epoch 20/100\n",
            "313/313 [==============================] - 25s 80ms/step - loss: 0.4435 - accuracy: 0.8052 - val_loss: 0.4711 - val_accuracy: 0.7876\n",
            "Epoch 21/100\n",
            "313/313 [==============================] - 25s 81ms/step - loss: 0.4393 - accuracy: 0.8085 - val_loss: 0.4693 - val_accuracy: 0.7836\n",
            "Epoch 22/100\n",
            "313/313 [==============================] - 25s 81ms/step - loss: 0.4361 - accuracy: 0.8083 - val_loss: 0.4667 - val_accuracy: 0.7888\n",
            "Epoch 23/100\n",
            "313/313 [==============================] - 25s 81ms/step - loss: 0.4326 - accuracy: 0.8110 - val_loss: 0.4656 - val_accuracy: 0.7892\n",
            "Epoch 24/100\n",
            "313/313 [==============================] - 25s 80ms/step - loss: 0.4293 - accuracy: 0.8119 - val_loss: 0.4644 - val_accuracy: 0.7852\n",
            "Epoch 25/100\n",
            "313/313 [==============================] - 25s 81ms/step - loss: 0.4268 - accuracy: 0.8133 - val_loss: 0.4660 - val_accuracy: 0.7856\n",
            "Epoch 26/100\n",
            "313/313 [==============================] - 26s 82ms/step - loss: 0.4246 - accuracy: 0.8138 - val_loss: 0.4607 - val_accuracy: 0.7930\n",
            "Epoch 27/100\n",
            "313/313 [==============================] - 25s 81ms/step - loss: 0.4219 - accuracy: 0.8150 - val_loss: 0.4604 - val_accuracy: 0.7908\n",
            "Epoch 28/100\n",
            "313/313 [==============================] - 25s 81ms/step - loss: 0.4195 - accuracy: 0.8166 - val_loss: 0.4625 - val_accuracy: 0.7892\n",
            "Epoch 29/100\n",
            "313/313 [==============================] - 26s 81ms/step - loss: 0.4178 - accuracy: 0.8153 - val_loss: 0.4617 - val_accuracy: 0.7906\n",
            "Epoch 30/100\n",
            "313/313 [==============================] - 25s 81ms/step - loss: 0.4161 - accuracy: 0.8166 - val_loss: 0.4569 - val_accuracy: 0.7946\n",
            "Epoch 31/100\n",
            "313/313 [==============================] - 25s 81ms/step - loss: 0.4144 - accuracy: 0.8188 - val_loss: 0.4578 - val_accuracy: 0.7916\n",
            "Epoch 32/100\n",
            "313/313 [==============================] - 26s 82ms/step - loss: 0.4125 - accuracy: 0.8194 - val_loss: 0.4573 - val_accuracy: 0.7910\n",
            "Epoch 33/100\n",
            "313/313 [==============================] - 25s 81ms/step - loss: 0.4109 - accuracy: 0.8184 - val_loss: 0.4552 - val_accuracy: 0.7966\n",
            "Epoch 34/100\n",
            "313/313 [==============================] - 25s 81ms/step - loss: 0.4091 - accuracy: 0.8197 - val_loss: 0.4550 - val_accuracy: 0.7968\n",
            "Epoch 35/100\n",
            "313/313 [==============================] - 26s 82ms/step - loss: 0.4075 - accuracy: 0.8215 - val_loss: 0.4643 - val_accuracy: 0.7914\n",
            "Epoch 36/100\n",
            "313/313 [==============================] - 25s 81ms/step - loss: 0.4065 - accuracy: 0.8208 - val_loss: 0.4585 - val_accuracy: 0.7918\n",
            "Epoch 37/100\n",
            "313/313 [==============================] - 26s 82ms/step - loss: 0.4051 - accuracy: 0.8209 - val_loss: 0.4564 - val_accuracy: 0.7940\n"
          ]
        }
      ]
    },
    {
      "cell_type": "markdown",
      "source": [
        " - 37 번째 에포크에서 조기 종료\n",
        " - 34 번째 에포크 부터 검증데이터 손실함수 증가(3번참고 37번째에서 종료)\n",
        " - 검증 세트에 대한 정확도 79.4%"
      ],
      "metadata": {
        "id": "HLRCZ-urpBSZ"
      }
    },
    {
      "cell_type": "code",
      "source": [
        "plt.plot(history.history['loss'])\n",
        "plt.plot(history.history['val_loss'])\n",
        "plt.xlabel('epoch')\n",
        "plt.ylabel('loss')\n",
        "plt.legend(['train', 'val'])\n",
        "plt.show()"
      ],
      "metadata": {
        "colab": {
          "base_uri": "https://localhost:8080/",
          "height": 279
        },
        "id": "mo8JKTUNutvm",
        "outputId": "1768fe1c-720f-4d80-97a4-bcdf4c3e9b27"
      },
      "execution_count": null,
      "outputs": [
        {
          "output_type": "display_data",
          "data": {
            "text/plain": [
              "<Figure size 432x288 with 1 Axes>"
            ],
            "image/png": "[encoded data removed]"
          },
          "metadata": {
            "needs_background": "light"
          }
        }
      ]
    },
    {
      "cell_type": "markdown",
      "source": [
        " - 학습에 굉장히 오랜시간 소요\n",
        " - 원-핫 인코딩으로 변환된 입력데이터의 크기가 너무 크다\n",
        " - 토큰 1개를 500차원 으로 늘렸기 때문에 데이터의 크기가 500배 차이"
      ],
      "metadata": {
        "id": "aBWJIT5Yv-D8"
      }
    },
    {
      "cell_type": "code",
      "source": [
        "print(train_seq.nbytes, train_oh.nbytes) # 증가된 차원의 크기만큼 커짐(500배)"
      ],
      "metadata": {
        "colab": {
          "base_uri": "https://localhost:8080/"
        },
        "id": "284Mp24rvNKl",
        "outputId": "c1be21e0-ab6b-4a0e-afe0-322caa4eceea"
      },
      "execution_count": null,
      "outputs": [
        {
          "output_type": "stream",
          "name": "stdout",
          "text": [
            "8000000 4000000000\n"
          ]
        }
      ]
    },
    {
      "cell_type": "markdown",
      "source": [
        "### 단어 임베딩\n",
        " - 원-핫 인코딩의 데이터 크기 증가되는 단점을 해결\n",
        "  >원-핫 인코딩 : (100,) → (100,500)\n",
        "  \n",
        "  >단어 임베딩 : (100,) → (100,16) \n",
        " - 의미있는 값으로 채워지므로 더 좋은 성능 \n",
        " - 입력으로 정수데이터를 받음 : train_oh배열이 아니라 train_seq 사용 가능"
      ],
      "metadata": {
        "id": "1vc0xmnuwh9k"
      }
    },
    {
      "cell_type": "markdown",
      "source": [
        "Embedding 클래스를 SimpleRNN 층 앞에 추가"
      ],
      "metadata": {
        "id": "y4d4XOn_xnNS"
      }
    },
    {
      "cell_type": "code",
      "source": [
        "model2 = keras.Sequential()\n",
        "model2.add(keras.layers.Embedding(500, 16, input_length=100))\n",
        "# 어휘사전의크기 : 500, 임베딩 벡터의 크기 : 16, 입력 시퀀스의 길이 : 100\n",
        "model2.add(keras.layers.SimpleRNN(8)) # RNN 순환층의 뉴런 : 8개\n",
        "model2.add(keras.layers.Dense(1, activation='sigmoid')) # 출력층의 뉴런 : 1개 → 이진분류"
      ],
      "metadata": {
        "id": "EkEWbmG2wPA4"
      },
      "execution_count": null,
      "outputs": []
    },
    {
      "cell_type": "code",
      "source": [
        "model2.summary()"
      ],
      "metadata": {
        "colab": {
          "base_uri": "https://localhost:8080/"
        },
        "id": "S7s4mhyhypqX",
        "outputId": "760ec639-005e-40e2-acf7-9b8b367d47bf"
      },
      "execution_count": null,
      "outputs": [
        {
          "output_type": "stream",
          "name": "stdout",
          "text": [
            "Model: \"sequential_1\"\n",
            "_________________________________________________________________\n",
            " Layer (type)                Output Shape              Param #   \n",
            "=================================================================\n",
            " embedding (Embedding)       (None, 100, 16)           8000      \n",
            "                                                                 \n",
            " simple_rnn_1 (SimpleRNN)    (None, 8)                 200       \n",
            "                                                                 \n",
            " dense_1 (Dense)             (None, 1)                 9         \n",
            "                                                                 \n",
            "=================================================================\n",
            "Total params: 8,209\n",
            "Trainable params: 8,209\n",
            "Non-trainable params: 0\n",
            "_________________________________________________________________\n"
          ]
        }
      ]
    },
    {
      "cell_type": "markdown",
      "source": [
        " - Embedding 클래스는 500개의 각 토큰을 크기가 16인 벡터로 변경 : 500 X 16 = 8,000개 파라미터\n",
        " - 임베딩 벡터의 크기 16의 각 요소가 8개의 뉴런과 완전연결 : 16 X 8 = 128개 파라미터\n",
        " - 은닉층의 출력이 본인뉴런을 포함한 8개의 뉴런에 전달(완전연결) : 8 X 8 = 64개 파라미터\n",
        " - 뉴런마다 각 절편 : 8개 파라미터\n",
        "\n",
        "\n",
        " - 8개의 뉴런이 출력층의 1개의 뉴런과 연결 : 가중치8개 + 절편1개 파라미터"
      ],
      "metadata": {
        "id": "whz2imYgzKxE"
      }
    }
  ]
}