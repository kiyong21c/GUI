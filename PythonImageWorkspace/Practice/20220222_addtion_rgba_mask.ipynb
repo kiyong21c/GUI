{
 "cells": [
  {
   "cell_type": "code",
   "execution_count": 2,
   "metadata": {},
   "outputs": [
    {
     "name": "stdout",
     "output_type": "stream",
     "text": [
      "(120, 98)\n",
      "(120, 98, 3)\n"
     ]
    },
    {
     "data": {
      "text/plain": [
       "-1"
      ]
     },
     "execution_count": 2,
     "metadata": {},
     "output_type": "execute_result"
    }
   ],
   "source": [
    "import matplotlib.pyplot as plt\n",
    "import numpy as np\n",
    "import cv2\n",
    "\n",
    "img_fg = cv2.imread('opencv_logo.png', cv2.IMREAD_UNCHANGED)\n",
    "img_bg = cv2.imread('girl.jpeg')\n",
    "\n",
    "_, mask = cv2.threshold(img_fg[:,:,3], 1, 255, cv2.THRESH_BINARY) # alpha channel만 가져와서 255로 하면 투명\n",
    "print(mask.shape) # mask의 shape (120, 98) : img_fg의 alpha channel만 가져왔기때문 \n",
    "mask_inv = cv2.bitwise_not(mask) # bitwise_not(mask) : 역마스크 생성\n",
    "\n",
    "# 채널 중 알파채널의 일부 영역을 가져와서(마스크), 마스크에 해당하는 \"영역\"을 활용(채널구분 없이)\n",
    "\n",
    "img_fg = cv2.cvtColor(img_fg, cv2.COLOR_BGRA2BGR)\n",
    "print(img_fg.shape)\n",
    "h, w = img_fg.shape[:2]\n",
    "roi = img_bg[10:10+h, 10:10+w]\n",
    "\n",
    "masked_fg = cv2.bitwise_and(img_fg, img_fg, mask=mask)\n",
    "# mask가 0이 아닌 픽셀(검정)만 연산\n",
    "masked_bg = cv2.bitwise_and(roi, roi, mask=mask_inv)\n",
    "\n",
    "added = masked_bg + masked_fg\n",
    "img_bg[10:10+h, 10:10+w] = added\n",
    "\n",
    "cv2.imshow('masked_fg', masked_fg)\n",
    "cv2.imshow('masked_bg', masked_bg)\n",
    "cv2.imshow('added', added)\n",
    "cv2.imshow('result', img_bg)\n",
    "\n",
    "\n",
    "cv2.waitKey()\n",
    "cv2.destroyAllWindows()\n",
    "cv2.waitKey(1)"
   ]
  },
  {
   "cell_type": "code",
   "execution_count": null,
   "metadata": {},
   "outputs": [],
   "source": []
  },
  {
   "cell_type": "code",
   "execution_count": null,
   "metadata": {},
   "outputs": [],
   "source": []
  }
 ],
 "metadata": {
  "interpreter": {
   "hash": "6224576eb4b07c6fb668a88e5677f21c1db5ddf16e647e45ab982a06a1785348"
  },
  "kernelspec": {
   "display_name": "Python 3.8.8 ('base')",
   "language": "python",
   "name": "python3"
  },
  "language_info": {
   "codemirror_mode": {
    "name": "ipython",
    "version": 3
   },
   "file_extension": ".py",
   "mimetype": "text/x-python",
   "name": "python",
   "nbconvert_exporter": "python",
   "pygments_lexer": "ipython3",
   "version": "3.8.8"
  },
  "orig_nbformat": 4
 },
 "nbformat": 4,
 "nbformat_minor": 2
}
