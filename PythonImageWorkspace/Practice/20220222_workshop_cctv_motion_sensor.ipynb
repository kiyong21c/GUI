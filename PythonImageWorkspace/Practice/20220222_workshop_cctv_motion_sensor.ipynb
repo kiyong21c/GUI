{
 "cells": [
  {
   "cell_type": "code",
   "execution_count": 2,
   "metadata": {},
   "outputs": [
    {
     "data": {
      "text/plain": [
       "-1"
      ]
     },
     "execution_count": 2,
     "metadata": {},
     "output_type": "execute_result"
    }
   ],
   "source": [
    "import matplotlib.pyplot as plt\n",
    "import numpy as np\n",
    "import cv2\n",
    "\n",
    "thresh = 25\n",
    "max_diff = 50\n",
    "\n",
    "a, b, c = None, None, None\n",
    "cap = cv2.VideoCapture(0)\n",
    "cap.set(cv2.CAP_PROP_FRAME_WIDTH, 480)\n",
    "cap.set(cv2.CAP_PROP_FRAME_HEIGHT, 320)\n",
    "\n",
    "if cap.isOpened():\n",
    "    ret, a = cap.read()\n",
    "    ret, b = cap.read()\n",
    "    while ret:\n",
    "        ret, c = cap.read()\n",
    "        draw = c.copy() # 출력 영상에 사용할 복제본\n",
    "        if not ret:\n",
    "            break\n",
    "        \n",
    "        a_gray = cv2.cvtColor(a, cv2.COLOR_BGR2GRAY)\n",
    "        b_gray = cv2.cvtColor(b, cv2.COLOR_BGR2GRAY)\n",
    "        c_gray = cv2.cvtColor(c, cv2.COLOR_BGR2GRAY)\n",
    "        \n",
    "        # absdiff(a,b) : a - b 하여 최소 0로 만든다 -> 동일하면 검정색, 다르면 흰색\n",
    "        diff1 = cv2.absdiff(a_gray, b_gray) # 겹치는것은 0 즉 검정색으로 : 안겹친다(=움직인다) -> 255 -> 흰색\n",
    "        diff2 = cv2.absdiff(b_gray, c_gray)\n",
    "        \n",
    "        _, diff1_t = cv2.threshold(diff1, thresh, 255, cv2.THRESH_BINARY) # 스레시홀드로 기준치 초과하면 흰색으로\n",
    "        _, diff2_t = cv2.threshold(diff2, thresh, 255, cv2.THRESH_BINARY) # 0~24 -> 0 , 24까지는 겹치는 것으로 \n",
    "        \n",
    "        # bitwise_and(a,b) : a, b 공통으로 겹치는부분 출력 = a, b 둘다 0이면 0으로(검정색) = a, b 둘중 하나라도 0이아니면 연산 안함(255)\n",
    "        diff = cv2.bitwise_and(diff1_t, diff2_t) # diff1_t, diff2_t 둘다 0인것만 0으로 : 프레임 3개를 보고 움직임 확인\n",
    "        \n",
    "        # 열림 연산으로 noise제거하기 : 생략가능\n",
    "        k = cv2. getStructuringElement(cv2.MORPH_CROSS, (3,3))\n",
    "        diff = cv2.morphologyEx(diff, cv2.MORPH_OPEN, k)\n",
    "        \n",
    "        diff_cnt = cv2.countNonZero(diff) # 차이가 발생한(255) 픽셀 개수\n",
    "        if diff_cnt > max_diff:\n",
    "            nzero = np.nonzero(diff) # diff 2차원 배열에서 차이가 발생한 픽셀의 인덱스(좌표) 얻기\n",
    "            cv2.rectangle(draw, (min(nzero[1]), min(nzero[0])), (max(nzero[1]), max(nzero[0])), (0,255,0), 2)\n",
    "            cv2.putText(draw, \"Motion Detected\", (10, 30), cv2.FONT_HERSHEY_DUPLEX, 0.5, (0,0,255))\n",
    "        \n",
    "        stacked = np.hstack((draw, cv2.cvtColor(diff, cv2.COLOR_GRAY2BGR))) # hstack을 위한 차원 맞추기\n",
    "        cv2.imshow('motion sensor', stacked)\n",
    "        \n",
    "        # 한프레임 넘어감\n",
    "        a = b\n",
    "        b = c\n",
    "        # 이후 c는 while문 처음으로 돌아가서 다시 한프레임 읽어온 새로운 c로 배정\n",
    "        \n",
    "        if cv2.waitKey(1) & 0XFF ==27:\n",
    "            break\n",
    "        cv2.waitKey(1)\n",
    "    cv2.waitKey(1)\n",
    "cv2.waitKey(1)\n"
   ]
  },
  {
   "cell_type": "code",
   "execution_count": null,
   "metadata": {},
   "outputs": [],
   "source": []
  }
 ],
 "metadata": {
  "interpreter": {
   "hash": "6224576eb4b07c6fb668a88e5677f21c1db5ddf16e647e45ab982a06a1785348"
  },
  "kernelspec": {
   "display_name": "Python 3.8.8 ('base')",
   "language": "python",
   "name": "python3"
  },
  "language_info": {
   "codemirror_mode": {
    "name": "ipython",
    "version": 3
   },
   "file_extension": ".py",
   "mimetype": "text/x-python",
   "name": "python",
   "nbconvert_exporter": "python",
   "pygments_lexer": "ipython3",
   "version": "3.8.8"
  },
  "orig_nbformat": 4
 },
 "nbformat": 4,
 "nbformat_minor": 2
}
