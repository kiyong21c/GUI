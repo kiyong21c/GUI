{
 "cells": [
  {
   "cell_type": "code",
   "execution_count": 4,
   "metadata": {},
   "outputs": [
    {
     "name": "stdout",
     "output_type": "stream",
     "text": [
      "(293, 406, 3)\n",
      "(293, 406, 3)\n"
     ]
    },
    {
     "data": {
      "text/plain": [
       "-1"
      ]
     },
     "execution_count": 4,
     "metadata": {},
     "output_type": "execute_result"
    }
   ],
   "source": [
    "import matplotlib.pyplot as plt\n",
    "import numpy as np\n",
    "import cv2\n",
    "\n",
    "img = cv2.imread('girl.jpeg')\n",
    "\n",
    "\n",
    "canvas = np.full_like(img, 255) # img 크기로 전체영역 (255,255,255)로 생성 : 흰색\n",
    "print(canvas.shape) # (293, 406, 3)\n",
    "\n",
    "canvas0 = np.zeros_like(img) # img 크기의 전체영역 (0,0,0)로 생성 : 검정색\n",
    "print(canvas0.shape) # (293, 406, 3)\n",
    "\n",
    "cv2.imshow('canvas', canvas)\n",
    "cv2.imshow('canvas0', canvas0)\n",
    "\n",
    "cv2.waitKey()\n",
    "cv2.destroyAllWindows()\n",
    "cv2.waitKey(1)"
   ]
  },
  {
   "cell_type": "code",
   "execution_count": null,
   "metadata": {},
   "outputs": [],
   "source": []
  }
 ],
 "metadata": {
  "interpreter": {
   "hash": "6224576eb4b07c6fb668a88e5677f21c1db5ddf16e647e45ab982a06a1785348"
  },
  "kernelspec": {
   "display_name": "Python 3.8.8 ('base')",
   "language": "python",
   "name": "python3"
  },
  "language_info": {
   "codemirror_mode": {
    "name": "ipython",
    "version": 3
   },
   "file_extension": ".py",
   "mimetype": "text/x-python",
   "name": "python",
   "nbconvert_exporter": "python",
   "pygments_lexer": "ipython3",
   "version": "3.8.8"
  },
  "orig_nbformat": 4
 },
 "nbformat": 4,
 "nbformat_minor": 2
}
