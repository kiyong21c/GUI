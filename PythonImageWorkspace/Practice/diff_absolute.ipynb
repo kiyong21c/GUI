{
 "cells": [
  {
   "cell_type": "code",
   "execution_count": 3,
   "metadata": {},
   "outputs": [
    {
     "name": "stdout",
     "output_type": "stream",
     "text": [
      "(320, 480, 3)\n",
      "(320, 480)\n",
      "(320, 480, 3)\n"
     ]
    },
    {
     "data": {
      "text/plain": [
       "-1"
      ]
     },
     "execution_count": 3,
     "metadata": {},
     "output_type": "execute_result"
    }
   ],
   "source": [
    "import matplotlib.pyplot as plt\n",
    "import numpy as np\n",
    "import cv2\n",
    "\n",
    "img1 = cv2.imread('robot_arm1.jpeg')\n",
    "img2 = cv2.imread('robot_arm2.jpeg')\n",
    "\n",
    "img1_gray = cv2.cvtColor(img1, cv2.COLOR_BGR2GRAY)\n",
    "img2_gray = cv2.cvtColor(img2, cv2.COLOR_BGR2GRAY)\n",
    "\n",
    "print(img2.shape)\n",
    "diff = cv2.absdiff(img1_gray, img2_gray) # 차이의 절대값\n",
    "\n",
    "# 차 이미지의 극대화를 위해 스레시 홀드\n",
    "_, diff = cv2.threshold(diff, 1, 255, cv2.THRESH_BINARY)\n",
    "print(diff.shape) # 흑백이미지 shape(320, 480)\n",
    "\n",
    "# 차 이미지 컬러화\n",
    "diff_red = cv2.cvtColor(diff, cv2.COLOR_GRAY2BGR)\n",
    "print(diff_red.shape) # BGR 이미지 shape(320, 480, 3)\n",
    "\n",
    "# 아래의 diff_red 넘파이 배열을 변경하면 원본 넘파이 배열도 수정됨\n",
    "diff_red[:,:,2] = 0 # channel [BGR] 인덱스 2는 \"R\"\n",
    "spot = cv2.bitwise_xor(img2, diff_red) # bitwise_xor(a, b) : a이미지에, a,b 다른 값을 가지면 255, 같은 값 가지면 0, a/b는 동일한 shape\n",
    "# diff_red의 channel 인덱스 2를 0으로 : (255,255,0)\n",
    "# img2 이미지 배경흰색 channel : (255,255,255)\n",
    "# 따라서 bitwise_xor에 따라 : (0, 0, 255) 즉, Red가 됨\n",
    "# Red를 img2에 나타냄\n",
    "\n",
    "\n",
    "cv2.imshow('diff', diff)\n",
    "cv2.imshow('diff_red', diff_red)\n",
    "cv2.imshow('spot', spot)\n",
    "cv2.waitKey()\n",
    "cv2.destroyAllWindows()\n",
    "cv2.waitKey(1)\n",
    "\n",
    "# img = {\"img1\":img1, \"img2\":img2, \"diff\":diff, \"diff_red\":diff_red, \"spot\":spot}\n",
    "# for i, (k,v) in enumerate(img.items()):\n",
    "#     plt.subplot(1, len(img), i+1)\n",
    "#     plt.title(k)\n",
    "#     plt.imshow(v, cmap='gray')\n",
    "#     plt.xticks([]); plt.yticks([])"
   ]
  },
  {
   "cell_type": "code",
   "execution_count": null,
   "metadata": {},
   "outputs": [],
   "source": []
  }
 ],
 "metadata": {
  "interpreter": {
   "hash": "6224576eb4b07c6fb668a88e5677f21c1db5ddf16e647e45ab982a06a1785348"
  },
  "kernelspec": {
   "display_name": "Python 3",
   "language": "python",
   "name": "python3"
  },
  "language_info": {
   "codemirror_mode": {
    "name": "ipython",
    "version": 3
   },
   "file_extension": ".py",
   "mimetype": "text/x-python",
   "name": "python",
   "nbconvert_exporter": "python",
   "pygments_lexer": "ipython3",
   "version": "3.8.8"
  }
 },
 "nbformat": 4,
 "nbformat_minor": 2
}
