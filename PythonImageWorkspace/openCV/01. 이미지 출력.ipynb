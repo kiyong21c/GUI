{
 "cells": [
  {
   "cell_type": "markdown",
   "id": "f893779e",
   "metadata": {},
   "source": [
    "# 환경 설정\n",
    "Anaconda Prompt 에서 다음 명령 수행\n",
    "> pip install opencv-python"
   ]
  },
  {
   "cell_type": "markdown",
   "id": "89ab68fa",
   "metadata": {},
   "source": [
    "위의 세로바가 있는 마크다운은 \">\" 기호를 앞에 사용"
   ]
  },
  {
   "cell_type": "code",
   "execution_count": 1,
   "id": "a32d7533",
   "metadata": {},
   "outputs": [
    {
     "data": {
      "text/plain": [
       "'4.5.5'"
      ]
     },
     "execution_count": 1,
     "metadata": {},
     "output_type": "execute_result"
    }
   ],
   "source": [
    "import cv2\n",
    "cv2.__version__"
   ]
  },
  {
   "cell_type": "markdown",
   "id": "c26338f4",
   "metadata": {},
   "source": [
    "# OpenCV(Computer Vision)\n",
    "다양한 영상(이미지) / 동영상 처리에 사용되는 오픈소스 라이브러리"
   ]
  },
  {
   "cell_type": "markdown",
   "id": "2d16d3b3",
   "metadata": {},
   "source": [
    "# 1. 이미지 출력"
   ]
  },
  {
   "cell_type": "code",
   "execution_count": 3,
   "id": "a1cbdbe7",
   "metadata": {},
   "outputs": [
    {
     "name": "stdout",
     "output_type": "stream",
     "text": [
      "-1\n"
     ]
    }
   ],
   "source": [
    "import cv2\n",
    "img = cv2.imread('img.jpg') # 해당경로의 파일 읽어오기\n",
    "cv2.imshow('img', img, ) # img라는 이름의 창에 img를 표시\n",
    "cv2.waitKey(5000) # 지정된 시간(ms)동안 사용자 키 입력 대기(0은 무한정대기)\n",
    "cv2.destroyAllWindows() # 모든 창 닫기"
   ]
  },
  {
   "cell_type": "markdown",
   "id": "c37cdca2",
   "metadata": {},
   "source": [
    "## 읽기 옵션\n",
    "1. cv2.IMREAD_COLOR : 컬러 이미지, 투명 영역은 무시(기본값)\n",
    "1. cv2.IMREAD_GRAYSCALE : 흑백 이미지\n",
    "1. cv2.IMREAD_UNCHANGED : 투명 영역까지 포함"
   ]
  },
  {
   "cell_type": "code",
   "execution_count": 1,
   "id": "2e0fa4ca",
   "metadata": {},
   "outputs": [],
   "source": [
    "import cv2\n",
    "img_color = cv2.imread('img.jpg', cv2.IMREAD_COLOR)\n",
    "img_gray = cv2.imread('img.jpg', cv2.IMREAD_GRAYSCALE)\n",
    "img_unchanged = cv2.imread('img.jpg', cv2.IMREAD_UNCHANGED)\n",
    "\n",
    "cv2.imshow('img_color', img_color)\n",
    "cv2.imshow('img_gray', img_gray)\n",
    "cv2.imshow('img_unchanged', img_unchanged)\n",
    "\n",
    "cv2.waitKey(0)\n",
    "cv2.destroyAllWindows()"
   ]
  },
  {
   "cell_type": "markdown",
   "id": "6d218919",
   "metadata": {},
   "source": [
    "## Shape\n",
    "이미지의 height, width, channel 정보"
   ]
  },
  {
   "cell_type": "code",
   "execution_count": 2,
   "id": "858c1614",
   "metadata": {},
   "outputs": [
    {
     "data": {
      "text/plain": [
       "(390, 640, 3)"
      ]
     },
     "execution_count": 2,
     "metadata": {},
     "output_type": "execute_result"
    }
   ],
   "source": [
    "import cv2\n",
    "img = cv2.imread('img.jpg')\n",
    "img.shape # 세로, 가로, channel\n",
    "# channel값이 3이라면 : R, G, B 세가지를 갖는다는 의미"
   ]
  }
 ],
 "metadata": {
  "kernelspec": {
   "display_name": "Python 3",
   "language": "python",
   "name": "python3"
  },
  "language_info": {
   "codemirror_mode": {
    "name": "ipython",
    "version": 3
   },
   "file_extension": ".py",
   "mimetype": "text/x-python",
   "name": "python",
   "nbconvert_exporter": "python",
   "pygments_lexer": "ipython3",
   "version": "3.8.8"
  }
 },
 "nbformat": 4,
 "nbformat_minor": 5
}
