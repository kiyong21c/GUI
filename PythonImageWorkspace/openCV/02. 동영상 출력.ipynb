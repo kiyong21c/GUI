{
 "cells": [
  {
   "cell_type": "markdown",
   "id": "663563fc",
   "metadata": {},
   "source": [
    "# 2. 동영상 출력\n"
   ]
  },
  {
   "cell_type": "markdown",
   "id": "fc4a1480",
   "metadata": {},
   "source": [
    "## 동영상 파일 출력"
   ]
  },
  {
   "cell_type": "code",
   "execution_count": 2,
   "id": "5fb355d8",
   "metadata": {},
   "outputs": [
    {
     "name": "stdout",
     "output_type": "stream",
     "text": [
      "사용자입력에 의해 종료합니다\n"
     ]
    }
   ],
   "source": [
    "import cv2\n",
    "cap = cv2.VideoCapture('video.mp4')\n",
    "\n",
    "while cap.isOpened(): # 동영상 파일이 올바로 열렸는지?\n",
    "    ret, frame = cap.read() # ret : 성공여부, frame : 받아온 이미지(프레임)\n",
    "    if not ret: # ret가 False가 아니라면 : 더이상 받아올것이 없으면(실패) ret는 False\n",
    "        print('더이상 가져올 프레임이 없습니다.')\n",
    "        break # 반복문 탈출\n",
    "        \n",
    "    cv2.imshow('video', frame)\n",
    "    \n",
    "    if cv2.waitKey(25) == ord('q'): # waitKey(25) : 25ms단위로 키입력 대기(프레임을 보여주는 속도가됨), ord('q') : q의 아스키값\n",
    "        print('사용자입력에 의해 종료합니다')\n",
    "        break\n",
    "\n",
    "        \n",
    "cap.release() # 자원 해제\n",
    "cv2.destroyAllWindows() # 모든창 닫기"
   ]
  },
  {
   "cell_type": "markdown",
   "id": "6d4a72f0",
   "metadata": {},
   "source": [
    "## 카메라 출력"
   ]
  },
  {
   "cell_type": "code",
   "execution_count": 1,
   "id": "a591775b",
   "metadata": {},
   "outputs": [],
   "source": [
    "import cv2\n",
    "cap = cv2.VideoCapture(0) # 0번째 카메라 장치(Device ID) : 1개밖에 없다면 0번째가 유일\n",
    "\n",
    "if not cap.isOpened(): # 카메라 열기에 실패했다면\n",
    "    exit() # 프로그램 종료\n",
    "\n",
    "while True: # 무한반복\n",
    "    ret, frame = cap.read()\n",
    "    if not ret:\n",
    "        break\n",
    "    cv2.imshow('camera', frame)\n",
    "    if cv2.waitKey(1) == ord('q'): # 사용자가 q를 입력하면\n",
    "        break\n",
    "    \n",
    "cap.release()\n",
    "cv2.destroyAllWindows()"
   ]
  }
 ],
 "metadata": {
  "kernelspec": {
   "display_name": "Python 3",
   "language": "python",
   "name": "python3"
  },
  "language_info": {
   "codemirror_mode": {
    "name": "ipython",
    "version": 3
   },
   "file_extension": ".py",
   "mimetype": "text/x-python",
   "name": "python",
   "nbconvert_exporter": "python",
   "pygments_lexer": "ipython3",
   "version": "3.8.8"
  }
 },
 "nbformat": 4,
 "nbformat_minor": 5
}
