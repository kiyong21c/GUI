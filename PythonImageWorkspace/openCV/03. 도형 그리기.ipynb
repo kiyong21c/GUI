{
 "cells": [
  {
   "cell_type": "markdown",
   "id": "220cdc97",
   "metadata": {},
   "source": [
    "# 3. 도형 그리기\n",
    "> 얼굴에 사각형, 눈에 동그라미, 사물 위치표시 등에 활용"
   ]
  },
  {
   "cell_type": "markdown",
   "id": "a741e492",
   "metadata": {},
   "source": [
    "## 빈 스케치북 만들기"
   ]
  },
  {
   "cell_type": "code",
   "execution_count": 4,
   "id": "a851f3b2",
   "metadata": {},
   "outputs": [
    {
     "data": {
      "text/plain": [
       "-1"
      ]
     },
     "execution_count": 4,
     "metadata": {},
     "output_type": "execute_result"
    }
   ],
   "source": [
    "import cv2\n",
    "import numpy as np\n",
    "\n",
    "# 세로 480 x 가로 640, 3Channel(RGB) 에 해당하는 스케치북 만들기\n",
    "img = np.zeros((480, 640, 3), dtype=np.uint8) # RGB (0,0,0) : 검정색\n",
    "# img[:] = (255,255,255) # 전체 공간을 흰색으로 채우기\n",
    "# print(img)\n",
    "cv2.imshow('img', img)\n",
    "cv2.waitKey(0)\n",
    "cv2.destroyAllWindows()\n",
    "cv2.waitKey(1) # Mac에서 cv2.destroyAllWindows() 작동하지 않을떄 꿀팁, 이후에 cv2.waitKey(1) 추가"
   ]
  },
  {
   "cell_type": "markdown",
   "id": "a46db5cc",
   "metadata": {},
   "source": [
    "## 일부 영역 색칠"
   ]
  },
  {
   "cell_type": "code",
   "execution_count": 6,
   "id": "36179612",
   "metadata": {},
   "outputs": [
    {
     "data": {
      "text/plain": [
       "-1"
      ]
     },
     "execution_count": 6,
     "metadata": {},
     "output_type": "execute_result"
    }
   ],
   "source": [
    "import cv2\n",
    "import numpy as np\n",
    "\n",
    "\n",
    "img = np.zeros((480, 640, 3), dtype=np.uint8)\n",
    "img[100:200, 200:300] = (255, 255, 255)\n",
    "# 세로영역, 가로영역\n",
    "\n",
    "cv2.imshow('img', img)\n",
    "cv2.waitKey(0)\n",
    "cv2.destroyAllWindows()\n",
    "cv2.waitKey(1) # Mac에서 cv2.destroyAllWindows() 작동하지 않을떄 꿀팁, 이후에 cv2.waitKey(1) 추가"
   ]
  },
  {
   "cell_type": "markdown",
   "id": "6bb1a399",
   "metadata": {},
   "source": [
    "## 직선\n",
    "직선의 종류 (line type)\n",
    "\n",
    "1. cv2.LINE_4 : 상하좌우 4방향으로 연결된 선\n",
    "2. cv2.LINE_8 : 대각선을 포함한 8방향으로 연결된 선(기본값)\n",
    "3. cv2.LINE_AA : 부드러운 선(anti-aliasing)"
   ]
  },
  {
   "cell_type": "code",
   "execution_count": 9,
   "id": "06c91a65",
   "metadata": {},
   "outputs": [
    {
     "data": {
      "text/plain": [
       "-1"
      ]
     },
     "execution_count": 9,
     "metadata": {},
     "output_type": "execute_result"
    }
   ],
   "source": [
    "import cv2\n",
    "import numpy as np\n",
    "\n",
    "\n",
    "img = np.zeros((480, 640, 3), dtype=np.uint8)\n",
    "\n",
    "COLOR = (0, 255, 255) # BGR : Yellow\n",
    "THICKNESS = 3 # 두께\n",
    "\n",
    "cv2.line(img, (50,100), (400, 50), COLOR, THICKNESS, cv2.LINE_8)\n",
    "# 그릴위치, 시작점, 끝점, 색깔, 두께, 선종류\n",
    "cv2.line(img, (50,200), (400, 150), COLOR, THICKNESS, cv2.LINE_4)\n",
    "cv2.line(img, (50,300), (400, 250), COLOR, THICKNESS, cv2.LINE_AA)\n",
    "\n",
    "cv2.imshow('img', img)\n",
    "cv2.waitKey(0)\n",
    "cv2.destroyAllWindows()\n",
    "cv2.waitKey(1) # Mac에서 cv2.destroyAllWindows() 작동하지 않을떄 꿀팁, 이후에 cv2.waitKey(1) 추가"
   ]
  },
  {
   "cell_type": "markdown",
   "id": "d76013e6",
   "metadata": {},
   "source": [
    "## 원"
   ]
  },
  {
   "cell_type": "code",
   "execution_count": 11,
   "id": "f0b7c9b4",
   "metadata": {},
   "outputs": [
    {
     "data": {
      "text/plain": [
       "-1"
      ]
     },
     "execution_count": 11,
     "metadata": {},
     "output_type": "execute_result"
    }
   ],
   "source": [
    "import cv2\n",
    "import numpy as np\n",
    "\n",
    "\n",
    "img = np.zeros((480, 640, 3), dtype=np.uint8)\n",
    "\n",
    "COLOR = (255, 255, 0) # BGR : Yellow\n",
    "RADIUS = 50 # 반지름\n",
    "THICKNESS = 10 # 두께\n",
    "\n",
    "cv2.circle(img, (200,100), RADIUS, COLOR, THICKNESS, cv2.LINE_AA) # 속이 빈 원\n",
    "# 그릴위치, 원의 중심점, 반지름, 색, 두께, 선종류\n",
    "cv2.circle(img, (400,100), RADIUS, COLOR, cv2.FILLED, cv2.LINE_AA) # 꽉 찬 원(cv2.FILLED == -1)\n",
    "\n",
    "cv2.imshow('img', img)\n",
    "cv2.waitKey(0)\n",
    "cv2.destroyAllWindows()\n",
    "cv2.waitKey(1) # Mac에서 cv2.destroyAllWindows() 작동하지 않을떄 꿀팁, 이후에 cv2.waitKey(1) 추가"
   ]
  },
  {
   "cell_type": "markdown",
   "id": "a726f31e",
   "metadata": {},
   "source": [
    "## 사각형"
   ]
  },
  {
   "cell_type": "code",
   "execution_count": 13,
   "id": "ead884cc",
   "metadata": {},
   "outputs": [
    {
     "data": {
      "text/plain": [
       "-1"
      ]
     },
     "execution_count": 13,
     "metadata": {},
     "output_type": "execute_result"
    }
   ],
   "source": [
    "import cv2\n",
    "import numpy as np\n",
    "\n",
    "\n",
    "img = np.zeros((480, 640, 3), dtype=np.uint8)\n",
    "\n",
    "COLOR = (0, 255, 0) # BGR : Green\n",
    "THICKNESS = 3 # 두께\n",
    "\n",
    "cv2.rectangle(img, (100,100), (200,200), COLOR, THICKNESS) # 속이 빈 사각형\n",
    "# 그릴위치, 왼쪽 위 좌표, 오른쪽 아래 좌표, 색, 두께\n",
    "cv2.rectangle(img, (300,100), (400,300), COLOR, cv2.FILLED) # 꽉 찬 사각형\n",
    "\n",
    "cv2.imshow('img', img)\n",
    "cv2.waitKey(0)\n",
    "cv2.destroyAllWindows()\n",
    "cv2.waitKey(1) # Mac에서 cv2.destroyAllWindows() 작동하지 않을떄 꿀팁, 이후에 cv2.waitKey(1) 추가"
   ]
  },
  {
   "cell_type": "markdown",
   "id": "f92ce42c",
   "metadata": {},
   "source": [
    "## 다각형"
   ]
  },
  {
   "cell_type": "code",
   "execution_count": 19,
   "id": "55bb8bc4",
   "metadata": {},
   "outputs": [
    {
     "data": {
      "text/plain": [
       "-1"
      ]
     },
     "execution_count": 19,
     "metadata": {},
     "output_type": "execute_result"
    }
   ],
   "source": [
    "import cv2\n",
    "import numpy as np\n",
    "\n",
    "\n",
    "img = np.zeros((480, 640, 3), dtype=np.uint8)\n",
    "\n",
    "COLOR = (0, 0, 255) # BGR : Red\n",
    "THICKNESS = 3 # 두께\n",
    "\n",
    "pts1 = np.array([[100,100], [200,100], [100,200]]) # 세 지점을 리스트로 감싼것\n",
    "pts2 = np.array([[200,100], [300,100], [300,200]]) # 세 지점을 리스트로 감싼것\n",
    "\n",
    "# cv2.polylines(img, [pts1], True, COLOR, THICKNESS, cv2.LINE_AA)\n",
    "# cv2.polylines(img, [pts2], True, COLOR, THICKNESS, cv2.LINE_AA)\n",
    "\n",
    "cv2.polylines(img, [pts1, pts2], True, COLOR, THICKNESS, cv2.LINE_AA) # 속이 빈 다각형\n",
    "# 그릴위치, 그릴 좌표들, 닫힘여부, 색, 두께, 선종류\n",
    "\n",
    "pts3 = np.array([[[100,300], [200,300], [100,400]], [[200,300], [300,300], [300,400]]])\n",
    "cv2.fillPoly(img, pts3, COLOR, cv2.LINE_AA) # 꽉 찬 다각형\n",
    "# 그릴 위치, 그릴 좌표들, 색, 선종류\n",
    "\n",
    "cv2.imshow('img', img)\n",
    "cv2.waitKey(0)\n",
    "cv2.destroyAllWindows()\n",
    "cv2.waitKey(1) # Mac에서 cv2.destroyAllWindows() 작동하지 않을떄 꿀팁, 이후에 cv2.waitKey(1) 추가"
   ]
  }
 ],
 "metadata": {
  "kernelspec": {
   "display_name": "Python 3",
   "language": "python",
   "name": "python3"
  },
  "language_info": {
   "codemirror_mode": {
    "name": "ipython",
    "version": 3
   },
   "file_extension": ".py",
   "mimetype": "text/x-python",
   "name": "python",
   "nbconvert_exporter": "python",
   "pygments_lexer": "ipython3",
   "version": "3.8.8"
  }
 },
 "nbformat": 4,
 "nbformat_minor": 5
}
