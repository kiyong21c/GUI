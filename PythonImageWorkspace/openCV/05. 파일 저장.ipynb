{
 "cells": [
  {
   "cell_type": "markdown",
   "id": "795458e6",
   "metadata": {},
   "source": [
    "# 5. 파일 저장"
   ]
  },
  {
   "cell_type": "markdown",
   "id": "c1e9e7e4",
   "metadata": {},
   "source": [
    "## 이미지 저장"
   ]
  },
  {
   "cell_type": "code",
   "execution_count": 1,
   "id": "720b8717",
   "metadata": {},
   "outputs": [
    {
     "name": "stdout",
     "output_type": "stream",
     "text": [
      "True\n"
     ]
    }
   ],
   "source": [
    "import cv2\n",
    "img = cv2.imread('img.jpg', cv2.IMREAD_GRAYSCALE) # 흑백으로 이미지 불러오기\n",
    "cv2.imshow('img', img)\n",
    "cv2.waitKey(0)\n",
    "cv2.destroyAllWindows()\n",
    "cv2.waitKey(1)\n",
    "\n",
    "result = cv2.imwrite('img_save.jpg', img) # 이미지가 저장되면 result 변수가 True가됨\n",
    "print(result)"
   ]
  },
  {
   "cell_type": "markdown",
   "id": "8b6e703f",
   "metadata": {},
   "source": [
    "## 저장 포맷(jpg, png)"
   ]
  },
  {
   "cell_type": "code",
   "execution_count": 2,
   "id": "01f86b95",
   "metadata": {},
   "outputs": [
    {
     "name": "stdout",
     "output_type": "stream",
     "text": [
      "True\n"
     ]
    }
   ],
   "source": [
    "import cv2\n",
    "img = cv2.imread('img.jpg', cv2.IMREAD_GRAYSCALE) # 흑백으로 이미지 불러오기\n",
    "\n",
    "### 굳이 안보여주고 저장해도 된다면 아래 줄들은 필요 없음\n",
    "# cv2.imshow('img', img)\n",
    "# cv2.waitKey(0)\n",
    "# cv2.destroyAllWindows()\n",
    "# cv2.waitKey(1)\n",
    "\n",
    "result = cv2.imwrite('img_save.png', img) # 이미지가 저장되면 result 변수가 True가됨\n",
    "# print(result)"
   ]
  },
  {
   "cell_type": "markdown",
   "id": "0bb1cea9",
   "metadata": {},
   "source": [
    "## 동영상 저장"
   ]
  },
  {
   "cell_type": "code",
   "execution_count": 13,
   "id": "889c2e4d",
   "metadata": {},
   "outputs": [
    {
     "data": {
      "text/plain": [
       "-1"
      ]
     },
     "execution_count": 13,
     "metadata": {},
     "output_type": "execute_result"
    }
   ],
   "source": [
    "import cv2\n",
    "cap = cv2.VideoCapture('video.mp4')\n",
    "\n",
    "# 코덱 정의\n",
    "fourcc = cv2.VideoWriter_fourcc(*'DIVX')\n",
    "\n",
    "# 프레임의 크기, FPS\n",
    "width = round(cap.get(cv2.CAP_PROP_FRAME_WIDTH)) # 정수값으로 사용하기위해 round()함수로 반올림하여 정수화\n",
    "height = round(cap.get(cv2.CAP_PROP_FRAME_HEIGHT))\n",
    "fps = cap.get(cv2.CAP_PROP_FPS) * 2 # 영상재생속도 2배가 됨\n",
    "\n",
    "out = cv2.VideoWriter('output_fast.avi', fourcc, fps, (width, height))\n",
    "# 저장 파일명, 코덱, FPS, 크기(너비, 높이)\n",
    "\n",
    "while cap.isOpened():\n",
    "    ret, frame = cap.read() # read() 불러오기 성공하면 return값은 True(ret은 return의 약어)\n",
    "    \n",
    "    if not ret:\n",
    "        break # 반복문 탈출\n",
    "        \n",
    "    out.write(frame) # 영상 데이터만 저장(소리X)    \n",
    "    cv2.imshow('video', frame)\n",
    "    if cv2.waitKey(1) == ord('q'): # waitKey(1) : 1ms단위로 다음 프레임 기다림(빠르게 재생됨)\n",
    "        break\n",
    "\n",
    "out.release() # 자원해제? : out객체의 경우 반복문안에서 사용되고 나면 필요가 없으므로 자원해제 필요\n",
    "cap.release() # 자원해제\n",
    "cv2.destroyAllWindows()\n",
    "cv2.waitKey(1)"
   ]
  },
  {
   "cell_type": "code",
   "execution_count": 8,
   "id": "4b737a7b",
   "metadata": {},
   "outputs": [
    {
     "name": "stdout",
     "output_type": "stream",
     "text": [
      "DIVX\n",
      "D I V X\n",
      "['D', 'I', 'V', 'X']\n"
     ]
    }
   ],
   "source": [
    "## *'문자열' 사용방법\n",
    "codec = 'DIVX'\n",
    "print(codec)\n",
    "print(*codec) # '문자열' 앞에 * 붙이면 하나씩 떨어뜨려서 반환됨\n",
    "print([*codec])"
   ]
  }
 ],
 "metadata": {
  "kernelspec": {
   "display_name": "Python 3",
   "language": "python",
   "name": "python3"
  },
  "language_info": {
   "codemirror_mode": {
    "name": "ipython",
    "version": 3
   },
   "file_extension": ".py",
   "mimetype": "text/x-python",
   "name": "python",
   "nbconvert_exporter": "python",
   "pygments_lexer": "ipython3",
   "version": "3.8.8"
  }
 },
 "nbformat": 4,
 "nbformat_minor": 5
}
