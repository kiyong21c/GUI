{
 "cells": [
  {
   "cell_type": "markdown",
   "id": "21545813",
   "metadata": {},
   "source": [
    "# 9. 이미지 회전"
   ]
  },
  {
   "cell_type": "markdown",
   "id": "408f9b99",
   "metadata": {},
   "source": [
    "## 시계 방향 90도 회전"
   ]
  },
  {
   "cell_type": "code",
   "execution_count": 1,
   "id": "387aeee0",
   "metadata": {
    "scrolled": true
   },
   "outputs": [
    {
     "data": {
      "text/plain": [
       "-1"
      ]
     },
     "execution_count": 1,
     "metadata": {},
     "output_type": "execute_result"
    }
   ],
   "source": [
    "import cv2\n",
    "img = cv2.imread('img.jpg')\n",
    "\n",
    "rotate_90 = cv2.rotate(img, cv2.ROTATE_90_CLOCKWISE) # 시계방향 90도 회전\n",
    "\n",
    "cv2.imshow('img', img)\n",
    "cv2.imshow('rotate_90', rotate_90)\n",
    "\n",
    "cv2.waitKey(0)\n",
    "cv2.destroyAllWindows()\n",
    "cv2.waitKey(1)"
   ]
  },
  {
   "cell_type": "markdown",
   "id": "d4668856",
   "metadata": {},
   "source": [
    "## 180도 회전"
   ]
  },
  {
   "cell_type": "code",
   "execution_count": 4,
   "id": "269d3be4",
   "metadata": {},
   "outputs": [
    {
     "data": {
      "text/plain": [
       "-1"
      ]
     },
     "execution_count": 4,
     "metadata": {},
     "output_type": "execute_result"
    }
   ],
   "source": [
    "import cv2\n",
    "img = cv2.imread('img.jpg')\n",
    "\n",
    "rotate_180 = cv2.rotate(img, cv2.ROTATE_180) # 180도 회전\n",
    "\n",
    "cv2.imshow('img', img)\n",
    "cv2.imshow('rotate_180', rotate_180)\n",
    "\n",
    "cv2.waitKey(0)\n",
    "cv2.destroyAllWindows()\n",
    "cv2.waitKey(1)"
   ]
  },
  {
   "cell_type": "markdown",
   "id": "20d013b6",
   "metadata": {},
   "source": [
    "## 시계반대 방향 90도 회전(시계방향 270도 회전)"
   ]
  },
  {
   "cell_type": "code",
   "execution_count": 5,
   "id": "83472089",
   "metadata": {},
   "outputs": [
    {
     "data": {
      "text/plain": [
       "-1"
      ]
     },
     "execution_count": 5,
     "metadata": {},
     "output_type": "execute_result"
    }
   ],
   "source": [
    "import cv2\n",
    "img = cv2.imread('img.jpg')\n",
    "\n",
    "rotate_270 = cv2.rotate(img, cv2.ROTATE_90_COUNTERCLOCKWISE) # 시계반대방향 90도 회전\n",
    "\n",
    "cv2.imshow('img', img)\n",
    "cv2.imshow('rotate_270', rotate_270)\n",
    "\n",
    "cv2.waitKey(0)\n",
    "cv2.destroyAllWindows()\n",
    "cv2.waitKey(1)"
   ]
  }
 ],
 "metadata": {
  "kernelspec": {
   "display_name": "Python 3",
   "language": "python",
   "name": "python3"
  },
  "language_info": {
   "codemirror_mode": {
    "name": "ipython",
    "version": 3
   },
   "file_extension": ".py",
   "mimetype": "text/x-python",
   "name": "python",
   "nbconvert_exporter": "python",
   "pygments_lexer": "ipython3",
   "version": "3.8.8"
  }
 },
 "nbformat": 4,
 "nbformat_minor": 5
}
