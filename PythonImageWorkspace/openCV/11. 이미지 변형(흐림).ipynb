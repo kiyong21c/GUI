{
 "cells": [
  {
   "cell_type": "markdown",
   "id": "3b2d04a8",
   "metadata": {},
   "source": [
    "# 11. 이미지 변형(흐림)"
   ]
  },
  {
   "cell_type": "markdown",
   "id": "b3e75fc9",
   "metadata": {},
   "source": [
    "## 가우시안 블러(노이즈도 제거됨)"
   ]
  },
  {
   "cell_type": "markdown",
   "id": "3031efea",
   "metadata": {},
   "source": [
    "커널 사이즈 변화에 따른 흐림 "
   ]
  },
  {
   "cell_type": "code",
   "execution_count": 2,
   "id": "a2a5af09",
   "metadata": {},
   "outputs": [
    {
     "data": {
      "text/plain": [
       "-1"
      ]
     },
     "execution_count": 2,
     "metadata": {},
     "output_type": "execute_result"
    }
   ],
   "source": [
    "import cv2\n",
    "img = cv2.imread('img.jpg') \n",
    "\n",
    "# (3, 3), (5, 5), (7, 7) : 커널 사이즈\n",
    "kernel_3 = cv2.GaussianBlur(img, (3, 3), 0) # 표준편차 자동선택 : 0\n",
    "kernel_5 = cv2.GaussianBlur(img, (5, 5), 0) # 표준편차 자동선택 : 0\n",
    "kernel_7 = cv2.GaussianBlur(img, (7, 7), 0) # 표준편차 자동선택 : 0\n",
    "\n",
    "cv2.imshow('img', img)\n",
    "cv2.imshow('kernel_3', kernel_3)\n",
    "cv2.imshow('kernel_5', kernel_5)\n",
    "cv2.imshow('kernel_7', kernel_7) # 커널사이즈가 커질수록 흐림효과 크다\n",
    "\n",
    "cv2.waitKey(0)\n",
    "cv2.destroyAllWindows()\n",
    "cv2.waitKey(1)"
   ]
  },
  {
   "cell_type": "markdown",
   "id": "b8e21cfd",
   "metadata": {},
   "source": [
    "표준 편차 변화에 따른 흐림"
   ]
  },
  {
   "cell_type": "code",
   "execution_count": 3,
   "id": "5273b860",
   "metadata": {},
   "outputs": [
    {
     "data": {
      "text/plain": [
       "-1"
      ]
     },
     "execution_count": 3,
     "metadata": {},
     "output_type": "execute_result"
    }
   ],
   "source": [
    "import cv2\n",
    "img = cv2.imread('img.jpg') \n",
    "\n",
    "sigma_1 = cv2.GaussianBlur(img, (0, 0), 1) # sigmaX - 가우시안 커널의 x방향의 표준 편차\n",
    "sigma_2 = cv2.GaussianBlur(img, (0, 0), 2) \n",
    "sigma_3 = cv2.GaussianBlur(img, (0, 0), 3) \n",
    "\n",
    "cv2.imshow('img', img)\n",
    "cv2.imshow('sigma_1', kernel_3)\n",
    "cv2.imshow('sigma_2', kernel_5)\n",
    "cv2.imshow('sigma_3', kernel_7) # 커널사이즈가 커질수록 흐림효과 크다\n",
    "\n",
    "cv2.waitKey(0)\n",
    "cv2.destroyAllWindows()\n",
    "cv2.waitKey(1)"
   ]
  }
 ],
 "metadata": {
  "kernelspec": {
   "display_name": "Python 3",
   "language": "python",
   "name": "python3"
  },
  "language_info": {
   "codemirror_mode": {
    "name": "ipython",
    "version": 3
   },
   "file_extension": ".py",
   "mimetype": "text/x-python",
   "name": "python",
   "nbconvert_exporter": "python",
   "pygments_lexer": "ipython3",
   "version": "3.8.8"
  }
 },
 "nbformat": 4,
 "nbformat_minor": 5
}
