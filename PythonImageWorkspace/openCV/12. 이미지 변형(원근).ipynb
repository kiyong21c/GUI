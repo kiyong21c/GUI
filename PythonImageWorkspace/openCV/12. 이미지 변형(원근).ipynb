{
 "cells": [
  {
   "cell_type": "markdown",
   "id": "802b730f",
   "metadata": {},
   "source": [
    "# 12. 이미지 변형(원근)"
   ]
  },
  {
   "cell_type": "markdown",
   "id": "3b0fc6c4",
   "metadata": {},
   "source": [
    "## 사다리꼴 이미지 펼치기"
   ]
  },
  {
   "cell_type": "code",
   "execution_count": 4,
   "id": "3d153017",
   "metadata": {},
   "outputs": [
    {
     "data": {
      "text/plain": [
       "-1"
      ]
     },
     "execution_count": 4,
     "metadata": {},
     "output_type": "execute_result"
    }
   ],
   "source": [
    "import cv2\n",
    "import numpy as np\n",
    "\n",
    "img = cv2.imread('newspaper.jpg')\n",
    "\n",
    "width, height = 640, 240 # 가로 크기 640, 세로 크기 240 으로 결과물 출력\n",
    "\n",
    "# 네개의 점을 어레이로(그림판에서 각 귀퉁이 좌표 확인)\n",
    "src = np.array([[511, 352], [1008, 345], [1122, 584], [455, 594]], dtype=np.float32) # input 4개 지점\n",
    "dst = np.array([[0, 0], [width, 0], [width, height], [0, height]], dtype=np.float32) # output 4개 지점\n",
    "# 좌상, 우상, 우하, 좌하 (시계 방향으로 4지점)\n",
    "\n",
    "\n",
    "matrix = cv2.getPerspectiveTransform(src, dst) # 변환에 적용될 행렬(Matrix) 얻어옴\n",
    "result = cv2.warpPerspective(img, matrix, (width, height)) # 행렬(Matrix) 대로 변환을 함\n",
    "\n",
    "cv2.imshow('img', img)\n",
    "cv2.imshow('result', result)\n",
    "\n",
    "cv2.waitKey(0)\n",
    "cv2.destroyAllWindows()\n",
    "cv2.waitKey(1)"
   ]
  },
  {
   "cell_type": "markdown",
   "id": "769d4d44",
   "metadata": {},
   "source": [
    "## 회전된 이미지 올바로 세우기"
   ]
  },
  {
   "cell_type": "code",
   "execution_count": 6,
   "id": "53f5dfd7",
   "metadata": {},
   "outputs": [
    {
     "data": {
      "text/plain": [
       "-1"
      ]
     },
     "execution_count": 6,
     "metadata": {},
     "output_type": "execute_result"
    }
   ],
   "source": [
    "import cv2\n",
    "import numpy as np\n",
    "\n",
    "img = cv2.imread('poker.jpg')\n",
    "\n",
    "width, height = 530, 710 # 가로 크기 530, 세로 크기 710 으로 결과물 출력\n",
    "\n",
    "# 네개의 점을 어레이로(그림판에서 각 귀퉁이 좌표 확인)\n",
    "src = np.array([[702, 143], [1133, 414], [726, 1007], [276, 700]], dtype=np.float32) # input 4개 지점\n",
    "dst = np.array([[0, 0], [width, 0], [width, height], [0, height]], dtype=np.float32) # output 4개 지점\n",
    "# 좌상, 우상, 우하, 좌하 (시계 방향으로 4지점)\n",
    "\n",
    "\n",
    "matrix = cv2.getPerspectiveTransform(src, dst) # 변환에 적용될 행렬(Matrix) 얻어옴\n",
    "result = cv2.warpPerspective(img, matrix, (width, height)) # 행렬(Matrix) 대로 변환을 함\n",
    "\n",
    "cv2.imshow('img', img)\n",
    "cv2.imshow('result', result)\n",
    "\n",
    "cv2.waitKey(0)\n",
    "cv2.destroyAllWindows()\n",
    "cv2.waitKey(1)"
   ]
  },
  {
   "cell_type": "markdown",
   "id": "6b88bd7b",
   "metadata": {},
   "source": [
    "## 미니 프로젝트 : 반자동 문서 스캐너"
   ]
  },
  {
   "cell_type": "markdown",
   "id": "4a6b08e8",
   "metadata": {},
   "source": [
    "이미지 상에서 마우스 클릭만으로 실시간 찾아지는 영역으로 사각형으로 만드는 작업"
   ]
  },
  {
   "cell_type": "markdown",
   "id": "829f9c69",
   "metadata": {},
   "source": [
    "### 마우스 이벤트 등록"
   ]
  },
  {
   "cell_type": "code",
   "execution_count": 13,
   "id": "90863e51",
   "metadata": {},
   "outputs": [
    {
     "name": "stdout",
     "output_type": "stream",
     "text": [
      "왼쪽버튼 다운\n",
      "705 157\n",
      "왼쪽버튼 업\n",
      "705 157\n",
      "왼쪽버튼 다운\n",
      "1128 422\n",
      "왼쪽버튼 업\n",
      "1128 422\n",
      "왼쪽버튼 다운\n",
      "270 692\n",
      "왼쪽버튼 업\n",
      "275 692\n",
      "왼쪽버튼 다운\n",
      "722 1013\n",
      "왼쪽버튼 업\n",
      "722 1013\n",
      "왼쪽버튼 다운\n",
      "722 1006\n",
      "왼쪽버튼 업\n",
      "722 1006\n"
     ]
    },
    {
     "data": {
      "text/plain": [
       "-1"
      ]
     },
     "execution_count": 13,
     "metadata": {},
     "output_type": "execute_result"
    }
   ],
   "source": [
    "import cv2\n",
    "\n",
    "def mouse_handler(event, x, y, flags, param):\n",
    "    if event == cv2.EVENT_LBUTTONDOWN: # 마우스 왼쪽 버튼 다운\n",
    "        print('왼쪽버튼 다운')\n",
    "        print(x, y)\n",
    "    elif event == cv2.EVENT_LBUTTONUP: # 마우스 왼쪽 버튼 업\n",
    "        print('왼쪽버튼 업')\n",
    "        print(x, y)\n",
    "#     elif event == cv2.EVENT_LBUTTONDBLCLK:\n",
    "#         print('왼쪽버튼 더블클릭')\n",
    "#     elif event == cv2.EVENT_MOUSEMOVE:\n",
    "#         print('마우스 이동')\n",
    "\n",
    "img = cv2.imread('poker.jpg')\n",
    "cv2.namedWindow('img') # img라는 이름의 윈도우를 먼저 만들어 두는 것, 여기에 마우스 이벤트를 처리하기 위한 핸들러 적용\n",
    "cv2.setMouseCallback('img', mouse_handler)\n",
    "cv2.imshow('img', img)\n",
    "\n",
    "cv2.waitKey(0)\n",
    "cv2.destroyAllWindows()\n",
    "cv2.waitKey(1)"
   ]
  },
  {
   "cell_type": "markdown",
   "id": "40d9d3e3",
   "metadata": {},
   "source": [
    "### 프로젝트"
   ]
  },
  {
   "cell_type": "code",
   "execution_count": 21,
   "id": "d9fa6dc5",
   "metadata": {},
   "outputs": [
    {
     "name": "stdout",
     "output_type": "stream",
     "text": [
      "왼쪽버튼 다운\n",
      "699 140\n",
      "왼쪽버튼 다운\n",
      "1136 419\n",
      "왼쪽버튼 다운\n",
      "721 1003\n",
      "왼쪽버튼 다운\n",
      "276 696\n"
     ]
    },
    {
     "data": {
      "text/plain": [
       "-1"
      ]
     },
     "execution_count": 21,
     "metadata": {},
     "output_type": "execute_result"
    }
   ],
   "source": [
    "import cv2\n",
    "import numpy as np\n",
    "\n",
    "src_img = cv2.imread('poker.jpg')\n",
    "\n",
    "COLOR = (255, 0, 255)\n",
    "THICKNESS = 3\n",
    "drawing = False # 선을 그릴지 여부(처음에는 False → 클릭후 부터 True)\n",
    "\n",
    "point_list = []\n",
    "def mouse_handler(event, x, y, flags, param):\n",
    "    global drawing\n",
    "    dst_img = src_img.copy() # 핸들러안에서 하는 모든 작업을 dst_img라는 이미지에서 작업하는것으로 설정\n",
    "    \n",
    "    if event == cv2.EVENT_LBUTTONDOWN: # 마우스 왼쪽 버튼 다운\n",
    "        print('왼쪽버튼 다운')\n",
    "        print(x, y)\n",
    "        drawing = True # 선을 그리기 시작\n",
    "        point_list.append((x, y))\n",
    "        \n",
    "    if drawing:\n",
    "        prev_point = None # 직선의 시작점\n",
    "        for point in point_list:\n",
    "            cv2.circle(dst_img, point, 15, COLOR, cv2.FILLED)\n",
    "            if prev_point: # 직전의 점이 있다면\n",
    "                cv2.line(dst_img, prev_point, point, COLOR, THICKNESS, cv2.LINE_AA)\n",
    "            prev_point = point # 직전의 점을 업데이트\n",
    "            \n",
    "        next_point = (x, y) # 핸들러에서 받아온 x, y (계속 갱신되고 있음)\n",
    "        if len(point_list) == 4:\n",
    "            show_result() # 결과 출력하는 함수(4번째 점선택하면 선을 긋기전에 결과를 보여주게 됨)\n",
    "            next_point = point_list[0] # 첫번째 클릭한 점으로\n",
    "        cv2.line(dst_img, prev_point, next_point, COLOR, THICKNESS, cv2.LINE_AA)\n",
    "    \n",
    "    cv2.imshow('img', dst_img)\n",
    "\n",
    "def show_result():\n",
    "    width, height = 530, 710 # 가로 크기 530, 세로 크기 710 으로 결과물 출력\n",
    "    # 네개의 점을 어레이로(그림판에서 각 귀퉁이 좌표 확인)\n",
    "    src = np.float32(point_list) # input 4개 지점\n",
    "    dst = np.array([[0, 0], [width, 0], [width, height], [0, height]], dtype=np.float32) # output 4개 지점\n",
    "    # 좌상, 우상, 우하, 좌하 (시계 방향으로 4지점)\n",
    "\n",
    "    matrix = cv2.getPerspectiveTransform(src, dst) # 변환에 적용될 행렬(Matrix) 얻어옴\n",
    "    result = cv2.warpPerspective(src_img, matrix, (width, height)) # 행렬(Matrix) 대로 변환을 함\n",
    "    cv2.imshow('result', result)\n",
    "    \n",
    "cv2.namedWindow('img') # img라는 이름의 윈도우를 먼저 만들어 두는 것, 여기에 마우스 이벤트를 처리하기 위한 핸들러 적용, img명칭은 자유롭게가능\n",
    "cv2.setMouseCallback('img', mouse_handler) # 상기의 윈도우 이름을 그대로 사용\n",
    "\n",
    "cv2.imshow('img', src_img)\n",
    "\n",
    "cv2.waitKey(0)\n",
    "cv2.destroyAllWindows()\n",
    "cv2.waitKey(1)"
   ]
  }
 ],
 "metadata": {
  "kernelspec": {
   "display_name": "Python 3",
   "language": "python",
   "name": "python3"
  },
  "language_info": {
   "codemirror_mode": {
    "name": "ipython",
    "version": 3
   },
   "file_extension": ".py",
   "mimetype": "text/x-python",
   "name": "python",
   "nbconvert_exporter": "python",
   "pygments_lexer": "ipython3",
   "version": "3.8.8"
  }
 },
 "nbformat": 4,
 "nbformat_minor": 5
}
