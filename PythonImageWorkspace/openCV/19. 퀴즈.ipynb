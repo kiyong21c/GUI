{
 "cells": [
  {
   "cell_type": "markdown",
   "id": "d310c1f0",
   "metadata": {},
   "source": [
    "# 퀴즈"
   ]
  },
  {
   "cell_type": "markdown",
   "id": "cddc73e6",
   "metadata": {},
   "source": [
    "## OpenCV를 이용하여 가로로 촬영된 영상을 세로로 회전하는 프로그램을 작성하시오"
   ]
  },
  {
   "cell_type": "markdown",
   "id": "8db09b18",
   "metadata": {},
   "source": [
    "### 조건\n",
    "1. 회전 : 시계 반대방향으로 90도\n",
    "2. 재생속도 (FPS) : 원본 X 4배\n",
    "3. 출력 파일명 : city_output.avi(코덱 : DIVX)\n",
    "\n",
    "- 원본 파일명 : city.mp4"
   ]
  },
  {
   "cell_type": "code",
   "execution_count": 5,
   "id": "1aa999b7",
   "metadata": {},
   "outputs": [
    {
     "data": {
      "text/plain": [
       "-1"
      ]
     },
     "execution_count": 5,
     "metadata": {},
     "output_type": "execute_result"
    }
   ],
   "source": [
    "import cv2\n",
    "cap = cv2.VideoCapture('city.mp4')\n",
    "fourcc = cv2.VideoWriter_fourcc(*'DIVX')\n",
    "\n",
    "width = round(cap.get(cv2.CAP_PROP_FRAME_WIDTH)) # 원본비디오의 가로사이즈 받아오기(정수로)\n",
    "height = round(cap.get(cv2.CAP_PROP_FRAME_HEIGHT))\n",
    "fps = cap.get(cv2.CAP_PROP_FPS)\n",
    "\n",
    "out = cv2.VideoWriter('city_output.avi', fourcc, fps * 4, (height, width))\n",
    "\n",
    "while cap.isOpened():\n",
    "    ret, frame = cap.read()\n",
    "    if not ret:\n",
    "        break\n",
    "    \n",
    "    rotate_frame = cv2.rotate(frame, cv2.ROTATE_90_COUNTERCLOCKWISE) # 시계반대방향으로 90도 회전\n",
    "    out.write(rotate_frame)\n",
    "    cv2.imshow('video', frame)\n",
    "    \n",
    "    if cv2.waitKey(1) == ord('q'):\n",
    "        break\n",
    "        \n",
    "out.release()\n",
    "cap.release()\n",
    "cv2.destroyAllWindows()\n",
    "cv2.waitKey(1)"
   ]
  }
 ],
 "metadata": {
  "kernelspec": {
   "display_name": "Python 3",
   "language": "python",
   "name": "python3"
  },
  "language_info": {
   "codemirror_mode": {
    "name": "ipython",
    "version": 3
   },
   "file_extension": ".py",
   "mimetype": "text/x-python",
   "name": "python",
   "nbconvert_exporter": "python",
   "pygments_lexer": "ipython3",
   "version": "3.8.8"
  }
 },
 "nbformat": 4,
 "nbformat_minor": 5
}
