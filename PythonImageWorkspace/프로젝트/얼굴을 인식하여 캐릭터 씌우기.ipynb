{
 "cells": [
  {
   "cell_type": "markdown",
   "id": "d85ef040",
   "metadata": {},
   "source": [
    "# 프로젝트 : 얼굴을 인식하여 캐릭터 씌우기"
   ]
  },
  {
   "cell_type": "markdown",
   "id": "136c9cfc",
   "metadata": {},
   "source": [
    "## Face Detection(얼굴인지) vs Face Recognition(누구인지)"
   ]
  },
  {
   "cell_type": "markdown",
   "id": "ad47a681",
   "metadata": {},
   "source": [
    "패키지 설치 : pip install mediapipe → 맥의경우 그냥 터미널에서 입력\n",
    "- 패키지 설치 오류나는 경우 : pip install --user mediapipe"
   ]
  },
  {
   "cell_type": "markdown",
   "id": "910306f2",
   "metadata": {},
   "source": [
    "### 얼굴찾아서 각 부분에 동그라미"
   ]
  },
  {
   "cell_type": "code",
   "execution_count": 8,
   "id": "2862251f",
   "metadata": {},
   "outputs": [
    {
     "data": {
      "text/plain": [
       "-1"
      ]
     },
     "execution_count": 8,
     "metadata": {},
     "output_type": "execute_result"
    }
   ],
   "source": [
    "import cv2\n",
    "import mediapipe as mp\n",
    "\n",
    "# 얼굴을 찾고, 찾은 얼굴에 표시를 해주기 위한 변수 정의\n",
    "mp_face_detection = mp.solutions.face_detection # 얼굴 검출을 위한 face_detection 모듈을 사용\n",
    "mp_drawing = mp.solutions.drawing_utils # 얼굴의 특징을 그리기 위한 drawing_utils 모듈을 사용\n",
    "\n",
    "# 동영상 파일 열기\n",
    "cap = cv2.VideoCapture('face_video.mp4')\n",
    "\n",
    "# with문은 별도로 close 해줄 필요 없음\n",
    "with mp_face_detection.FaceDetection(model_selection=0, min_detection_confidence=0.7) as face_detection:\n",
    "    # model_selection : 0(2m이내 근거리에 적합) or 1 (5m이내 중거리에 적합)\n",
    "    # min_detection_confidence : 어느정도면 얼굴로 인식할지(신뢰도), threshold개념\n",
    "    while cap.isOpened():\n",
    "        success, image = cap.read()\n",
    "        if not success: # 가져올 프레임이 없는경우\n",
    "            break # 반복문 끝내자\n",
    "\n",
    "        # To improve performance, optionally mark the image as not writeable to\n",
    "        # pass by reference.\n",
    "        image.flags.writeable = False\n",
    "        image = cv2.cvtColor(image, cv2.COLOR_BGR2RGB) # mediapipe는 RGB를 기준으로 하는듯\n",
    "        results = face_detection.process(image)\n",
    "\n",
    "        # Draw the face detection annotations on the image.\n",
    "        image.flags.writeable = True\n",
    "        image = cv2.cvtColor(image, cv2.COLOR_RGB2BGR)\n",
    "        \n",
    "        if results.detections: # 검출된 얼굴이 있으면\n",
    "            # 6개 특징(relative_keypoints) : 오른눈, 왼눈, 코끝, 입중심, 오른귀, 왼귀(귀구슬점)의 상대좌표(1을 기준으로 0.x)\n",
    "            for detection in results.detections:\n",
    "                mp_drawing.draw_detection(image, detection) # 검출된 얼굴에 사각형, 6개지점(빨간점) 그리기\n",
    "            \n",
    "                # print(detection) # dection정보가 궁금하다면 print()로 찍어보자\n",
    "                \n",
    "                # 특정 위치 가져오기\n",
    "                keypoints = detection.location_data.relative_keypoints # detection 클래스안의 클래스, 함수 호출 방법\n",
    "                right_eye = keypoints[0] # 오른쪽 눈(의 상대좌표)\n",
    "                left_eye = keypoints[1] # 왼쪽 눈(의 상대좌표)\n",
    "                nose_tip = keypoints[2] # 코 끝\n",
    "                 \n",
    "                h, w, _ = image.shape # height, width, channel(안쓰겠다 → _) : 이미지로부터 세로, 가로크기 가져옴\n",
    "                right_eye = (int(right_eye.x * w), int(right_eye.y * h)) # 이미지내 절대좌표를 튜플형태로\n",
    "                left_eye = (int(left_eye.x * w), int(left_eye.y * h))\n",
    "                nose_tip = (int(nose_tip.x * w), int(nose_tip.y * h))\n",
    "                \n",
    "                # 양눈에 동그라미 그리기\n",
    "                cv2.circle(image, right_eye, 50, (255,0,0), 10, cv2.LINE_AA) # 파란색 동그라미\n",
    "                cv2.circle(image, left_eye, 50, (0,255,0), 10, cv2.LINE_AA) # 초록색 동그라미\n",
    "                # 코에 동그라미 그리기\n",
    "                cv2.circle(image, nose_tip, 75, (0, 255, 255), 10, cv2.LINE_AA) # 노란색 동그라미\n",
    "            \n",
    "                \n",
    "                \n",
    "        # Flip the image horizontally for a selfie-view display.\n",
    "        cv2.imshow('MediaPipe Face Detection', cv2.resize(image, None, fx=0.5, fy=0.5))\n",
    "        \n",
    "        if cv2.waitKey(1) == ord('q'):\n",
    "            break\n",
    "            \n",
    "cap.release()\n",
    "cv2.destroyAllWindows()\n",
    "cv2.waitKey(1)"
   ]
  },
  {
   "cell_type": "markdown",
   "id": "5d8e97a9",
   "metadata": {},
   "source": [
    "### 얼굴 찾아서 각 부분에 그림판 이미지 올리기"
   ]
  },
  {
   "cell_type": "code",
   "execution_count": 10,
   "id": "5a912814",
   "metadata": {},
   "outputs": [
    {
     "data": {
      "text/plain": [
       "-1"
      ]
     },
     "execution_count": 10,
     "metadata": {},
     "output_type": "execute_result"
    }
   ],
   "source": [
    "import cv2\n",
    "import mediapipe as mp\n",
    "\n",
    "# 얼굴을 찾고, 찾은 얼굴에 표시를 해주기 위한 변수 정의\n",
    "mp_face_detection = mp.solutions.face_detection # 얼굴 검출을 위한 face_detection 모듈을 사용\n",
    "mp_drawing = mp.solutions.drawing_utils # 얼굴의 특징을 그리기 위한 drawing_utils 모듈을 사용\n",
    "\n",
    "# 동영상 파일 열기\n",
    "cap = cv2.VideoCapture('face_video.mp4')\n",
    "\n",
    "# 이미지 불러오기\n",
    "image_right_eye = cv2.imread('right_eye.png') # 100 X 100 : 가로 X 세로\n",
    "image_left_eye = cv2.imread('left_eye.png') # 100 X 100\n",
    "image_nose = cv2.imread('nose.png') # 300 X 100\n",
    "\n",
    "# with문은 별도로 close 해줄 필요 없음\n",
    "with mp_face_detection.FaceDetection(model_selection=0, min_detection_confidence=0.7) as face_detection:\n",
    "    # model_selection : 0(2m이내 근거리에 적합) or 1 (5m이내 중거리에 적합)\n",
    "    # min_detection_confidence : 어느정도면 얼굴로 인식할지(신뢰도), threshold개념\n",
    "    while cap.isOpened():\n",
    "        success, image = cap.read()\n",
    "        if not success: # 가져올 프레임이 없는경우\n",
    "            break # 반복문 끝내자\n",
    "\n",
    "        # To improve performance, optionally mark the image as not writeable to\n",
    "        # pass by reference.\n",
    "        image.flags.writeable = False\n",
    "        image = cv2.cvtColor(image, cv2.COLOR_BGR2RGB) # mediapipe는 RGB를 기준으로 하는듯\n",
    "        results = face_detection.process(image)\n",
    "\n",
    "        # Draw the face detection annotations on the image.\n",
    "        image.flags.writeable = True\n",
    "        image = cv2.cvtColor(image, cv2.COLOR_RGB2BGR)\n",
    "        \n",
    "        if results.detections: # 검출된 얼굴이 있으면\n",
    "            # 6개 특징(relative_keypoints) : 오른눈, 왼눈, 코끝, 입중심, 오른귀, 왼귀(귀구슬점)의 상대좌표(1을 기준으로 0.x)\n",
    "            for detection in results.detections:\n",
    "                mp_drawing.draw_detection(image, detection) # 검출된 얼굴에 사각형, 6개지점(빨간점) 그리기\n",
    "            \n",
    "                # print(detection) # dection정보가 궁금하다면 print()로 찍어보자\n",
    "                # 특정 위치 가져오기\n",
    "                keypoints = detection.location_data.relative_keypoints\n",
    "                right_eye = keypoints[0] # 오른쪽 눈(의 상대좌표)\n",
    "                left_eye = keypoints[1] # 왼쪽 눈(의 상대좌표)\n",
    "                nose_tip = keypoints[2] # 코 끝\n",
    "                 \n",
    "                h, w, _ = image.shape # height, width, channel(안쓰겠다 → _) : 이미지로부터 세로, 가로크기 가져옴\n",
    "                right_eye = (int(right_eye.x * w), int(right_eye.y * h)) # 이미지내 절대좌표를 튜플형태로\n",
    "                left_eye = (int(left_eye.x * w), int(left_eye.y * h))\n",
    "                nose_tip = (int(nose_tip.x * w), int(nose_tip.y * h))\n",
    "                \n",
    "                # 양눈에 동그라미 그리기\n",
    "                # cv2.circle(image, right_eye, 50, (255,0,0), 10, cv2.LINE_AA) # 파란색 동그라미\n",
    "                # cv2.circle(image, left_eye, 50, (0,255,0), 10, cv2.LINE_AA) # 초록색 동그라미\n",
    "                # 코에 동그라미 그리기\n",
    "                # cv2.circle(image, nose_tip, 75, (0, 255, 255), 10, cv2.LINE_AA) # 노란색 동그라미\n",
    "            \n",
    "                # 각 특징에다가 이미지 그리기\n",
    "                image[right_eye[1]-50:right_eye[1]+50, right_eye[0]-50:right_eye[0]+50] = image_right_eye\n",
    "                image[left_eye[1]-50:left_eye[1]+50, left_eye[0]-50:left_eye[0]+50] = image_left_eye\n",
    "                image[nose_tip[1]-50:nose_tip[1]+50, nose_tip[0]-150:nose_tip[0]+150] = image_nose\n",
    "                \n",
    "                \n",
    "        # Flip the image horizontally for a selfie-view display.\n",
    "        cv2.imshow('MediaPipe Face Detection', cv2.resize(image, None, fx=0.5, fy=0.5))\n",
    "        \n",
    "        if cv2.waitKey(1) == ord('q'):\n",
    "            break\n",
    "            \n",
    "cap.release()\n",
    "cv2.destroyAllWindows()\n",
    "cv2.waitKey(1)\n",
    "# BGR(3Channel) 이미지는 투명값이 없다\n",
    "# BGRA(4Channel) 이미지는 투명값(A)을 가질수 있다"
   ]
  },
  {
   "cell_type": "code",
   "execution_count": 11,
   "id": "947c8073",
   "metadata": {},
   "outputs": [
    {
     "data": {
      "text/plain": [
       "(100, 100, 3)"
      ]
     },
     "execution_count": 11,
     "metadata": {},
     "output_type": "execute_result"
    }
   ],
   "source": [
    "image_right_eye = cv2.imread('right_eye.png')\n",
    "image_right_eye.shape\n",
    "# 그냥 읽어오면 4채널 이미지더라도 3채널 까지만 읽어옴"
   ]
  },
  {
   "cell_type": "code",
   "execution_count": null,
   "id": "f5536351",
   "metadata": {},
   "outputs": [],
   "source": [
    "image_right_eye = cv2.imread('right_eye.png', cv2.IMREAD_UNCHANGED)\n",
    "image_right_eye.shape\n",
    "# 4채널 이미지를 4채널 까지 읽어옴"
   ]
  },
  {
   "cell_type": "markdown",
   "id": "2a70ce4e",
   "metadata": {},
   "source": [
    "### 투명영역이 있는 4채널 이미지를 3채널 이미지에 오버레이"
   ]
  },
  {
   "cell_type": "code",
   "execution_count": null,
   "id": "3c907323",
   "metadata": {},
   "outputs": [],
   "source": [
    "import cv2\n",
    "import mediapipe as mp\n",
    "\n",
    "# 투명영역이 있는 4채널 이미지를 3채널 이미지에 오버레이 하기 위한 함수\n",
    "def overlay(image, x, y, w, h, overlay_image):\n",
    "    alpha = overlay_image[:, :, 3] # 전체가로크기, 전체세로크기, BGRA중 3번 인덱스인 'A' 만 가져옴\n",
    "    mask_image = alpha / 255 # 0~255를 255로 나누면 0~1 사이의 값 (1: 불투명, 0: 완전투명)\n",
    "\n",
    "    \n",
    "    \n",
    "    for c in range(0, 3): # Channel BGR\n",
    "        image[y-h:y+h, x-w:x+w, c] = (overlay_image[:, :, c] * mask_image) + (image[y-h:y+h, x-w:x+w, c] * (1 - mask_image))\n",
    "\n",
    "# 얼굴을 찾고, 찾은 얼굴에 표시를 해주기 위한 변수 정의\n",
    "mp_face_detection = mp.solutions.face_detection # 얼굴 검출을 위한 face_detection 모듈을 사용\n",
    "mp_drawing = mp.solutions.drawing_utils # 얼굴의 특징을 그리기 위한 drawing_utils 모듈을 사용\n",
    "\n",
    "# 동영상 파일 열기\n",
    "cap = cv2.VideoCapture('face_video.mp4')\n",
    "\n",
    "# 이미지 불러오기\n",
    "image_right_eye = cv2.imread('right_eye.png') # 100 X 100 : 가로 X 세로\n",
    "image_left_eye = cv2.imread('left_eye.png') # 100 X 100\n",
    "image_nose = cv2.imread('nose.png') # 300 X 100\n",
    "\n",
    "# with문은 별도로 close 해줄 필요 없음\n",
    "with mp_face_detection.FaceDetection(model_selection=0, min_detection_confidence=0.7) as face_detection:\n",
    "    # model_selection : 0(2m이내 근거리에 적합) or 1 (5m이내 중거리에 적합)\n",
    "    # min_detection_confidence : 어느정도면 얼굴로 인식할지(신뢰도), threshold개념\n",
    "    while cap.isOpened():\n",
    "        success, image = cap.read()\n",
    "        if not success: # 가져올 프레임이 없는경우\n",
    "            break # 반복문 끝내자\n",
    "\n",
    "        # To improve performance, optionally mark the image as not writeable to\n",
    "        # pass by reference.\n",
    "        image.flags.writeable = False\n",
    "        image = cv2.cvtColor(image, cv2.COLOR_BGR2RGB) # mediapipe는 RGB를 기준으로 하는듯\n",
    "        results = face_detection.process(image)\n",
    "\n",
    "        # Draw the face detection annotations on the image.\n",
    "        image.flags.writeable = True\n",
    "        image = cv2.cvtColor(image, cv2.COLOR_RGB2BGR)\n",
    "        \n",
    "        if results.detections: # 검출된 얼굴이 있으면\n",
    "            # 6개 특징(relative_keypoints) : 오른눈, 왼눈, 코끝, 입중심, 오른귀, 왼귀(귀구슬점)의 상대좌표(1을 기준으로 0.x)\n",
    "            for detection in results.detections:\n",
    "                mp_drawing.draw_detection(image, detection) # 검출된 얼굴에 사각형, 6개지점(빨간점) 그리기\n",
    "            \n",
    "                # print(detection) # dection정보가 궁금하다면 print()로 찍어보자\n",
    "                # 특정 위치 가져오기\n",
    "                keypoints = detection.location_data.relative_keypoints\n",
    "                right_eye = keypoints[0] # 오른쪽 눈(의 상대좌표)\n",
    "                left_eye = keypoints[1] # 왼쪽 눈(의 상대좌표)\n",
    "                nose_tip = keypoints[2] # 코 끝\n",
    "                 \n",
    "                h, w, _ = image.shape # height, width, channel(안쓰겠다 → _) : 이미지로부터 세로, 가로크기 가져옴\n",
    "                right_eye = (int(right_eye.x * w), int(right_eye.y * h)) # 이미지내 절대좌표를 튜플형태로\n",
    "                left_eye = (int(left_eye.x * w), int(left_eye.y * h))\n",
    "                nose_tip = (int(nose_tip.x * w), int(nose_tip.y * h))\n",
    "                \n",
    "                # 양눈에 동그라미 그리기\n",
    "                # cv2.circle(image, right_eye, 50, (255,0,0), 10, cv2.LINE_AA) # 파란색 동그라미\n",
    "                # cv2.circle(image, left_eye, 50, (0,255,0), 10, cv2.LINE_AA) # 초록색 동그라미\n",
    "                # 코에 동그라미 그리기\n",
    "                # cv2.circle(image, nose_tip, 75, (0, 255, 255), 10, cv2.LINE_AA) # 노란색 동그라미\n",
    "            \n",
    "                # 각 특징에다가 이미지 그리기\n",
    "                image[right_eye[1]-50:right_eye[1]+50, right_eye[0]-50:right_eye[0]+50] = image_right_eye\n",
    "                image[left_eye[1]-50:left_eye[1]+50, left_eye[0]-50:left_eye[0]+50] = image_left_eye\n",
    "                image[nose_tip[1]-50:nose_tip[1]+50, nose_tip[0]-150:nose_tip[0]+150] = image_nose\n",
    "                \n",
    "                \n",
    "        # Flip the image horizontally for a selfie-view display.\n",
    "        cv2.imshow('MediaPipe Face Detection', cv2.resize(image, None, fx=0.5, fy=0.5))\n",
    "        \n",
    "        if cv2.waitKey(1) == ord('q'):\n",
    "            break\n",
    "            \n",
    "cap.release()\n",
    "cv2.destroyAllWindows()\n",
    "cv2.waitKey(1)\n",
    "# BGR(3Channel) 이미지는 투명값이 없다\n",
    "# BGRA(4Channel) 이미지는 투명값(A)을 가질수 있다"
   ]
  }
 ],
 "metadata": {
  "kernelspec": {
   "display_name": "Python 3",
   "language": "python",
   "name": "python3"
  },
  "language_info": {
   "codemirror_mode": {
    "name": "ipython",
    "version": 3
   },
   "file_extension": ".py",
   "mimetype": "text/x-python",
   "name": "python",
   "nbconvert_exporter": "python",
   "pygments_lexer": "ipython3",
   "version": "3.8.8"
  }
 },
 "nbformat": 4,
 "nbformat_minor": 5
}
